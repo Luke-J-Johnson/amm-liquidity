{
 "cells": [
  {
   "cell_type": "code",
   "execution_count": 1,
   "metadata": {},
   "outputs": [],
   "source": [
    "import math\n",
    "from typing import List"
   ]
  },
  {
   "cell_type": "markdown",
   "metadata": {},
   "source": [
    "https://github.com/officialnico/balancerv2cad/blob/main/src/balancerv2cad/WeightedMath.py\n",
    "\n",
    "https://docs.balancer.fi/reference/math/weighted-math.html#overview\n"
   ]
  },
  {
   "cell_type": "code",
   "execution_count": null,
   "metadata": {},
   "outputs": [],
   "source": [
    "class WeightedPool():\n",
    "    \"\"\"\n",
    "    Basic WeightedPool implementation in Python.\n",
    "    \"\"\"\n",
    "\n",
    "    __slots__ = (\n",
    "        \"balances\",\n",
    "        \"weights\",\n",
    "        \"pool_token_supply\",\n",
    "        \"fee\",\n",
    "        \"factory_fee\",\n",
    "    )\n",
    "\n",
    "    def __init__(  # pylint: disable=too-many-arguments\n",
    "        self,\n",
    "        balances,\n",
    "        weights,\n",
    "        fee = 0.0003,\n",
    "        factory_fee = 0,\n",
    "    ):\n",
    "        \"\"\"\n",
    "        Parameters\n",
    "        ----------\n",
    "        balances: list of float\n",
    "            balances of the token in the pool\n",
    "        weights: list of float\n",
    "            weights of the token in the pool\n",
    "        fee: int, optional\n",
    "            full swap fee;\n",
    "                default is 0.3%\n",
    "        factory_fee: int, optional\n",
    "            percentage of `fee` that goes to the factory and not LPs\n",
    "        \"\"\"\n",
    "    \n",
    "        if math.fsum(weights) != 1:\n",
    "            raise ValueError(\"weights must sum to 1\")\n",
    "        \n",
    "        self.weights = weights\n",
    "        self.balances = balances\n",
    "        self.fee = fee\n",
    "        self.factory_fee = factory_fee\n",
    "\n",
    "    def _calculate_invariant(self, weights: List[float], balances: List[float]):\n",
    "\n",
    "        # /**********************************************************************************************\n",
    "        # // invariant               _____                                                             //\n",
    "        # // wi = weight index i      | |      wi                                                      //\n",
    "        # // bi = balance index i     | |  bi ^   = i                                                  //\n",
    "        # // i = invariant                                                                             //\n",
    "        # **********************************************************************************************/\n",
    "\n",
    "        invariant = 1\n",
    "        for i in range(len(weights)):\n",
    "            invariant = invariant, (balances[i]**weights[i])\n",
    "        return invariant\n",
    "    \n",
    "    \n",
    "    \n",
    "\n",
    "    \n",
    "\n",
    "\n",
    "\n",
    "\n",
    "        \n",
    "    \n",
    "\n",
    "\n",
    "\n",
    "\n",
    "\n",
    "\n"
   ]
  },
  {
   "cell_type": "code",
   "execution_count": 5,
   "metadata": {},
   "outputs": [],
   "source": [
    "weights = [0.1, 0.4, 0.6]"
   ]
  },
  {
   "cell_type": "code",
   "execution_count": 6,
   "metadata": {},
   "outputs": [
    {
     "ename": "ValueError",
     "evalue": "weights must sum to 1",
     "output_type": "error",
     "traceback": [
      "\u001b[0;31m---------------------------------------------------------------------------\u001b[0m",
      "\u001b[0;31mValueError\u001b[0m                                Traceback (most recent call last)",
      "\u001b[1;32m/Users/lukejohnson/Desktop/AMM Liquidity Analysis/amm-liquidity/pools/cmwp/cmwp_usage.ipynb Cell 4\u001b[0m line \u001b[0;36m2\n\u001b[1;32m      <a href='vscode-notebook-cell:/Users/lukejohnson/Desktop/AMM%20Liquidity%20Analysis/amm-liquidity/pools/cmwp/cmwp_usage.ipynb#W3sZmlsZQ%3D%3D?line=0'>1</a>\u001b[0m \u001b[39mif\u001b[39;00m math\u001b[39m.\u001b[39mfsum(weights) \u001b[39m!=\u001b[39m \u001b[39m1\u001b[39m:\n\u001b[0;32m----> <a href='vscode-notebook-cell:/Users/lukejohnson/Desktop/AMM%20Liquidity%20Analysis/amm-liquidity/pools/cmwp/cmwp_usage.ipynb#W3sZmlsZQ%3D%3D?line=1'>2</a>\u001b[0m     \u001b[39mraise\u001b[39;00m \u001b[39mValueError\u001b[39;00m(\u001b[39m\"\u001b[39m\u001b[39mweights must sum to 1\u001b[39m\u001b[39m\"\u001b[39m)\n",
      "\u001b[0;31mValueError\u001b[0m: weights must sum to 1"
     ]
    }
   ],
   "source": [
    "if math.fsum(weights) != 1:\n",
    "    raise ValueError(\"weights must sum to 1\")"
   ]
  },
  {
   "cell_type": "code",
   "execution_count": null,
   "metadata": {},
   "outputs": [],
   "source": []
  }
 ],
 "metadata": {
  "kernelspec": {
   "display_name": ".venv",
   "language": "python",
   "name": "python3"
  },
  "language_info": {
   "codemirror_mode": {
    "name": "ipython",
    "version": 3
   },
   "file_extension": ".py",
   "mimetype": "text/x-python",
   "name": "python",
   "nbconvert_exporter": "python",
   "pygments_lexer": "ipython3",
   "version": "3.11.4"
  },
  "orig_nbformat": 4
 },
 "nbformat": 4,
 "nbformat_minor": 2
}
