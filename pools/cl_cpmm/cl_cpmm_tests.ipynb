{
 "cells": [
  {
   "cell_type": "code",
   "execution_count": 1,
   "metadata": {},
   "outputs": [],
   "source": [
    "import math\n",
    "import pandas as pd\n",
    "\n",
    "pd.set_option('display.max_columns', None)\n",
    "pd.set_option('display.max_colwidth', None)"
   ]
  },
  {
   "cell_type": "markdown",
   "metadata": {},
   "source": [
    "Create a pool class that can replay transactions\n",
    "\n",
    "- Initalize\n",
    "- Mint\n",
    "- Burn\n",
    "- Collect\n",
    "- Swap\n",
    "\n",
    "functions to read current state\n",
    "loop through df of events and get state update with df for LP positions ect\n",
    "\n",
    "\n"
   ]
  },
  {
   "cell_type": "code",
   "execution_count": 2,
   "metadata": {},
   "outputs": [],
   "source": [
    "#setup to pull from ccdata\n",
    "#give will temp key to sort the LP address issue"
   ]
  },
  {
   "cell_type": "code",
   "execution_count": 3,
   "metadata": {},
   "outputs": [],
   "source": [
    "pn = '0x4e68ccd3e89f51c3074ca5072bbac773960dfa36'"
   ]
  },
  {
   "cell_type": "code",
   "execution_count": 4,
   "metadata": {},
   "outputs": [
    {
     "data": {
      "text/html": [
       "<div>\n",
       "<style scoped>\n",
       "    .dataframe tbody tr th:only-of-type {\n",
       "        vertical-align: middle;\n",
       "    }\n",
       "\n",
       "    .dataframe tbody tr th {\n",
       "        vertical-align: top;\n",
       "    }\n",
       "\n",
       "    .dataframe thead th {\n",
       "        text-align: right;\n",
       "    }\n",
       "</style>\n",
       "<table border=\"1\" class=\"dataframe\">\n",
       "  <thead>\n",
       "    <tr style=\"text-align: right;\">\n",
       "      <th></th>\n",
       "      <th>event</th>\n",
       "      <th>logIndex</th>\n",
       "      <th>transactionIndex</th>\n",
       "      <th>transactionHash</th>\n",
       "      <th>address</th>\n",
       "      <th>blockHash</th>\n",
       "      <th>blockNumber</th>\n",
       "      <th>args.sender</th>\n",
       "      <th>args.recipient</th>\n",
       "      <th>args.amount0</th>\n",
       "      <th>args.amount1</th>\n",
       "      <th>args.sqrtPriceX96</th>\n",
       "      <th>args.liquidity</th>\n",
       "      <th>args.tick</th>\n",
       "      <th>args.owner</th>\n",
       "      <th>args.tickLower</th>\n",
       "      <th>args.tickUpper</th>\n",
       "      <th>args.amount</th>\n",
       "      <th>args.observationCardinalityNextOld</th>\n",
       "      <th>args.observationCardinalityNextNew</th>\n",
       "      <th>args.paid0</th>\n",
       "      <th>args.paid1</th>\n",
       "    </tr>\n",
       "  </thead>\n",
       "  <tbody>\n",
       "    <tr>\n",
       "      <th>0</th>\n",
       "      <td>Mint</td>\n",
       "      <td>31</td>\n",
       "      <td>11</td>\n",
       "      <td>0x2e07c690f149223e4f290986277304ea6a05c6ee47ba303732166bc1b15cbafb</td>\n",
       "      <td>0x4e68Ccd3E89f51C3074ca5072bbAC773960dFa36</td>\n",
       "      <td>0x7ba9aaae07e50875f15d2ef395d3ffe858bfb7516f408a61af303deeb83e18f1</td>\n",
       "      <td>12375326</td>\n",
       "      <td>0xC36442b4a4522E871399CD717aBDD847Ab11FE88</td>\n",
       "      <td>None</td>\n",
       "      <td>1.242324e+19</td>\n",
       "      <td>5.050028e+10</td>\n",
       "      <td>NaN</td>\n",
       "      <td>NaN</td>\n",
       "      <td>NaN</td>\n",
       "      <td>0xC36442b4a4522E871399CD717aBDD847Ab11FE88</td>\n",
       "      <td>-197400.0</td>\n",
       "      <td>-193320.0</td>\n",
       "      <td>8.210905e+15</td>\n",
       "      <td>NaN</td>\n",
       "      <td>NaN</td>\n",
       "      <td>NaN</td>\n",
       "      <td>NaN</td>\n",
       "    </tr>\n",
       "    <tr>\n",
       "      <th>1</th>\n",
       "      <td>Initialize</td>\n",
       "      <td>27</td>\n",
       "      <td>11</td>\n",
       "      <td>0x2e07c690f149223e4f290986277304ea6a05c6ee47ba303732166bc1b15cbafb</td>\n",
       "      <td>0x4e68Ccd3E89f51C3074ca5072bbAC773960dFa36</td>\n",
       "      <td>0x7ba9aaae07e50875f15d2ef395d3ffe858bfb7516f408a61af303deeb83e18f1</td>\n",
       "      <td>12375326</td>\n",
       "      <td>None</td>\n",
       "      <td>None</td>\n",
       "      <td>NaN</td>\n",
       "      <td>NaN</td>\n",
       "      <td>4.585618e+24</td>\n",
       "      <td>NaN</td>\n",
       "      <td>-195153.0</td>\n",
       "      <td>None</td>\n",
       "      <td>NaN</td>\n",
       "      <td>NaN</td>\n",
       "      <td>NaN</td>\n",
       "      <td>NaN</td>\n",
       "      <td>NaN</td>\n",
       "      <td>NaN</td>\n",
       "      <td>NaN</td>\n",
       "    </tr>\n",
       "    <tr>\n",
       "      <th>2</th>\n",
       "      <td>Mint</td>\n",
       "      <td>307</td>\n",
       "      <td>212</td>\n",
       "      <td>0x85a3f0ed4fc14085609e95e7366364566b89d7569e62e4a828d1ef1e5dc81e58</td>\n",
       "      <td>0x4e68Ccd3E89f51C3074ca5072bbAC773960dFa36</td>\n",
       "      <td>0xf88bd25d065be98356225e94bbc932874168c8e0d4cd1b4e86932d5147b9c795</td>\n",
       "      <td>12375529</td>\n",
       "      <td>0xC36442b4a4522E871399CD717aBDD847Ab11FE88</td>\n",
       "      <td>None</td>\n",
       "      <td>1.000000e+15</td>\n",
       "      <td>0.000000e+00</td>\n",
       "      <td>NaN</td>\n",
       "      <td>NaN</td>\n",
       "      <td>NaN</td>\n",
       "      <td>0xC36442b4a4522E871399CD717aBDD847Ab11FE88</td>\n",
       "      <td>-195120.0</td>\n",
       "      <td>-195060.0</td>\n",
       "      <td>1.935471e+13</td>\n",
       "      <td>NaN</td>\n",
       "      <td>NaN</td>\n",
       "      <td>NaN</td>\n",
       "      <td>NaN</td>\n",
       "    </tr>\n",
       "    <tr>\n",
       "      <th>3</th>\n",
       "      <td>Mint</td>\n",
       "      <td>148</td>\n",
       "      <td>104</td>\n",
       "      <td>0x0fde2929c1fa5dd5dc9a0fcfbf8adccdeefbc398aa36ff019aa2b15eded23552</td>\n",
       "      <td>0x4e68Ccd3E89f51C3074ca5072bbAC773960dFa36</td>\n",
       "      <td>0x72c9b1ac035b3ba5b4aafa034d2236069397c62c810d49bb8b4d3a0db09d7c1f</td>\n",
       "      <td>12375553</td>\n",
       "      <td>0xC36442b4a4522E871399CD717aBDD847Ab11FE88</td>\n",
       "      <td>None</td>\n",
       "      <td>9.995372e+10</td>\n",
       "      <td>2.740000e+02</td>\n",
       "      <td>NaN</td>\n",
       "      <td>NaN</td>\n",
       "      <td>NaN</td>\n",
       "      <td>0xC36442b4a4522E871399CD717aBDD847Ab11FE88</td>\n",
       "      <td>-195180.0</td>\n",
       "      <td>-195120.0</td>\n",
       "      <td>3.509242e+09</td>\n",
       "      <td>NaN</td>\n",
       "      <td>NaN</td>\n",
       "      <td>NaN</td>\n",
       "      <td>NaN</td>\n",
       "    </tr>\n",
       "    <tr>\n",
       "      <th>4</th>\n",
       "      <td>Mint</td>\n",
       "      <td>105</td>\n",
       "      <td>45</td>\n",
       "      <td>0x9ece74425a9b5b937b51e14d4fbb9eb7aa6f6ae415d51a460b6f56335d31b9f7</td>\n",
       "      <td>0x4e68Ccd3E89f51C3074ca5072bbAC773960dFa36</td>\n",
       "      <td>0xf58014d8c69be2d526202b3435808161fbd15d6e3002d1ec184077e936e1ca06</td>\n",
       "      <td>12375566</td>\n",
       "      <td>0xC36442b4a4522E871399CD717aBDD847Ab11FE88</td>\n",
       "      <td>None</td>\n",
       "      <td>9.999750e+12</td>\n",
       "      <td>2.741200e+04</td>\n",
       "      <td>NaN</td>\n",
       "      <td>NaN</td>\n",
       "      <td>NaN</td>\n",
       "      <td>0xC36442b4a4522E871399CD717aBDD847Ab11FE88</td>\n",
       "      <td>-195180.0</td>\n",
       "      <td>-195120.0</td>\n",
       "      <td>3.510779e+11</td>\n",
       "      <td>NaN</td>\n",
       "      <td>NaN</td>\n",
       "      <td>NaN</td>\n",
       "      <td>NaN</td>\n",
       "    </tr>\n",
       "    <tr>\n",
       "      <th>...</th>\n",
       "      <td>...</td>\n",
       "      <td>...</td>\n",
       "      <td>...</td>\n",
       "      <td>...</td>\n",
       "      <td>...</td>\n",
       "      <td>...</td>\n",
       "      <td>...</td>\n",
       "      <td>...</td>\n",
       "      <td>...</td>\n",
       "      <td>...</td>\n",
       "      <td>...</td>\n",
       "      <td>...</td>\n",
       "      <td>...</td>\n",
       "      <td>...</td>\n",
       "      <td>...</td>\n",
       "      <td>...</td>\n",
       "      <td>...</td>\n",
       "      <td>...</td>\n",
       "      <td>...</td>\n",
       "      <td>...</td>\n",
       "      <td>...</td>\n",
       "      <td>...</td>\n",
       "    </tr>\n",
       "    <tr>\n",
       "      <th>116131</th>\n",
       "      <td>Swap</td>\n",
       "      <td>17</td>\n",
       "      <td>5</td>\n",
       "      <td>0x4bc014eda3414a0acdc460472b4922d36137cc28d4f95d6f18246331867c22ec</td>\n",
       "      <td>0x4e68Ccd3E89f51C3074ca5072bbAC773960dFa36</td>\n",
       "      <td>0x31e3784a0a2215213d91d31d8b38654fef6fae5f7408bac4fd739100d71cec8f</td>\n",
       "      <td>12999867</td>\n",
       "      <td>0xE592427A0AEce92De3Edee1F18E0157C05861564</td>\n",
       "      <td>0x56178a0d5F301bAf6CF3e1Cd53d9863437345Bf9</td>\n",
       "      <td>-1.309952e+20</td>\n",
       "      <td>4.169304e+11</td>\n",
       "      <td>4.464409e+24</td>\n",
       "      <td>1.206692e+19</td>\n",
       "      <td>-195689.0</td>\n",
       "      <td>None</td>\n",
       "      <td>NaN</td>\n",
       "      <td>NaN</td>\n",
       "      <td>NaN</td>\n",
       "      <td>NaN</td>\n",
       "      <td>NaN</td>\n",
       "      <td>NaN</td>\n",
       "      <td>NaN</td>\n",
       "    </tr>\n",
       "    <tr>\n",
       "      <th>116132</th>\n",
       "      <td>Swap</td>\n",
       "      <td>58</td>\n",
       "      <td>52</td>\n",
       "      <td>0xe8fb7604f70bc1929af37e5490f1acb16bdd94a55aa2049a94b9fdcc94243e84</td>\n",
       "      <td>0x4e68Ccd3E89f51C3074ca5072bbAC773960dFa36</td>\n",
       "      <td>0x62ef6549899d9139334c1a9dbc89e612af2a1d9345453d162070e86899f585d0</td>\n",
       "      <td>12999868</td>\n",
       "      <td>0xE592427A0AEce92De3Edee1F18E0157C05861564</td>\n",
       "      <td>0x56178a0d5F301bAf6CF3e1Cd53d9863437345Bf9</td>\n",
       "      <td>-1.453121e+20</td>\n",
       "      <td>4.630952e+11</td>\n",
       "      <td>4.467441e+24</td>\n",
       "      <td>1.206692e+19</td>\n",
       "      <td>-195676.0</td>\n",
       "      <td>None</td>\n",
       "      <td>NaN</td>\n",
       "      <td>NaN</td>\n",
       "      <td>NaN</td>\n",
       "      <td>NaN</td>\n",
       "      <td>NaN</td>\n",
       "      <td>NaN</td>\n",
       "      <td>NaN</td>\n",
       "    </tr>\n",
       "    <tr>\n",
       "      <th>116133</th>\n",
       "      <td>Swap</td>\n",
       "      <td>14</td>\n",
       "      <td>23</td>\n",
       "      <td>0xab4ce993489886deb90277344c5c6eb222b2f778a45eb779a35efc76b84294bc</td>\n",
       "      <td>0x4e68Ccd3E89f51C3074ca5072bbAC773960dFa36</td>\n",
       "      <td>0x8ab66e948204774ed84f548cb4669e25b20084acc32eb3eb8e91a8647e0f3036</td>\n",
       "      <td>12999882</td>\n",
       "      <td>0xE592427A0AEce92De3Edee1F18E0157C05861564</td>\n",
       "      <td>0x56178a0d5F301bAf6CF3e1Cd53d9863437345Bf9</td>\n",
       "      <td>1.144828e+20</td>\n",
       "      <td>-3.627121e+11</td>\n",
       "      <td>4.465059e+24</td>\n",
       "      <td>1.206692e+19</td>\n",
       "      <td>-195686.0</td>\n",
       "      <td>None</td>\n",
       "      <td>NaN</td>\n",
       "      <td>NaN</td>\n",
       "      <td>NaN</td>\n",
       "      <td>NaN</td>\n",
       "      <td>NaN</td>\n",
       "      <td>NaN</td>\n",
       "      <td>NaN</td>\n",
       "    </tr>\n",
       "    <tr>\n",
       "      <th>116134</th>\n",
       "      <td>Swap</td>\n",
       "      <td>33</td>\n",
       "      <td>14</td>\n",
       "      <td>0x2d6ca9132fe2f1e0bf1fa600af6ad0d37348d155dd54e22dce1a5969a6b2a9df</td>\n",
       "      <td>0x4e68Ccd3E89f51C3074ca5072bbAC773960dFa36</td>\n",
       "      <td>0x1875edf8ab897a4da7e210ef89b5e9f509d579f71c48bd3fde1c3068eb7733dd</td>\n",
       "      <td>12999887</td>\n",
       "      <td>0xE592427A0AEce92De3Edee1F18E0157C05861564</td>\n",
       "      <td>0x56178a0d5F301bAf6CF3e1Cd53d9863437345Bf9</td>\n",
       "      <td>2.460449e+20</td>\n",
       "      <td>-7.782293e+11</td>\n",
       "      <td>4.459950e+24</td>\n",
       "      <td>1.206692e+19</td>\n",
       "      <td>-195709.0</td>\n",
       "      <td>None</td>\n",
       "      <td>NaN</td>\n",
       "      <td>NaN</td>\n",
       "      <td>NaN</td>\n",
       "      <td>NaN</td>\n",
       "      <td>NaN</td>\n",
       "      <td>NaN</td>\n",
       "      <td>NaN</td>\n",
       "    </tr>\n",
       "    <tr>\n",
       "      <th>116135</th>\n",
       "      <td>Swap</td>\n",
       "      <td>104</td>\n",
       "      <td>43</td>\n",
       "      <td>0x6a84f86269c0b043d23bf1eb9181604d731c0ee1bd528536f93fd3e3eb474558</td>\n",
       "      <td>0x4e68Ccd3E89f51C3074ca5072bbAC773960dFa36</td>\n",
       "      <td>0x705f60bbd6aff13f036faa9a296ebdcaf289c2be4b7bd248512acf40eba4da6f</td>\n",
       "      <td>12999909</td>\n",
       "      <td>0xE592427A0AEce92De3Edee1F18E0157C05861564</td>\n",
       "      <td>0x56178a0d5F301bAf6CF3e1Cd53d9863437345Bf9</td>\n",
       "      <td>-2.336614e+20</td>\n",
       "      <td>7.434747e+11</td>\n",
       "      <td>4.464816e+24</td>\n",
       "      <td>1.206692e+19</td>\n",
       "      <td>-195687.0</td>\n",
       "      <td>None</td>\n",
       "      <td>NaN</td>\n",
       "      <td>NaN</td>\n",
       "      <td>NaN</td>\n",
       "      <td>NaN</td>\n",
       "      <td>NaN</td>\n",
       "      <td>NaN</td>\n",
       "      <td>NaN</td>\n",
       "    </tr>\n",
       "  </tbody>\n",
       "</table>\n",
       "<p>116136 rows × 22 columns</p>\n",
       "</div>"
      ],
      "text/plain": [
       "             event  logIndex  transactionIndex  \\\n",
       "0             Mint        31                11   \n",
       "1       Initialize        27                11   \n",
       "2             Mint       307               212   \n",
       "3             Mint       148               104   \n",
       "4             Mint       105                45   \n",
       "...            ...       ...               ...   \n",
       "116131        Swap        17                 5   \n",
       "116132        Swap        58                52   \n",
       "116133        Swap        14                23   \n",
       "116134        Swap        33                14   \n",
       "116135        Swap       104                43   \n",
       "\n",
       "                                                           transactionHash  \\\n",
       "0       0x2e07c690f149223e4f290986277304ea6a05c6ee47ba303732166bc1b15cbafb   \n",
       "1       0x2e07c690f149223e4f290986277304ea6a05c6ee47ba303732166bc1b15cbafb   \n",
       "2       0x85a3f0ed4fc14085609e95e7366364566b89d7569e62e4a828d1ef1e5dc81e58   \n",
       "3       0x0fde2929c1fa5dd5dc9a0fcfbf8adccdeefbc398aa36ff019aa2b15eded23552   \n",
       "4       0x9ece74425a9b5b937b51e14d4fbb9eb7aa6f6ae415d51a460b6f56335d31b9f7   \n",
       "...                                                                    ...   \n",
       "116131  0x4bc014eda3414a0acdc460472b4922d36137cc28d4f95d6f18246331867c22ec   \n",
       "116132  0xe8fb7604f70bc1929af37e5490f1acb16bdd94a55aa2049a94b9fdcc94243e84   \n",
       "116133  0xab4ce993489886deb90277344c5c6eb222b2f778a45eb779a35efc76b84294bc   \n",
       "116134  0x2d6ca9132fe2f1e0bf1fa600af6ad0d37348d155dd54e22dce1a5969a6b2a9df   \n",
       "116135  0x6a84f86269c0b043d23bf1eb9181604d731c0ee1bd528536f93fd3e3eb474558   \n",
       "\n",
       "                                           address  \\\n",
       "0       0x4e68Ccd3E89f51C3074ca5072bbAC773960dFa36   \n",
       "1       0x4e68Ccd3E89f51C3074ca5072bbAC773960dFa36   \n",
       "2       0x4e68Ccd3E89f51C3074ca5072bbAC773960dFa36   \n",
       "3       0x4e68Ccd3E89f51C3074ca5072bbAC773960dFa36   \n",
       "4       0x4e68Ccd3E89f51C3074ca5072bbAC773960dFa36   \n",
       "...                                            ...   \n",
       "116131  0x4e68Ccd3E89f51C3074ca5072bbAC773960dFa36   \n",
       "116132  0x4e68Ccd3E89f51C3074ca5072bbAC773960dFa36   \n",
       "116133  0x4e68Ccd3E89f51C3074ca5072bbAC773960dFa36   \n",
       "116134  0x4e68Ccd3E89f51C3074ca5072bbAC773960dFa36   \n",
       "116135  0x4e68Ccd3E89f51C3074ca5072bbAC773960dFa36   \n",
       "\n",
       "                                                                 blockHash  \\\n",
       "0       0x7ba9aaae07e50875f15d2ef395d3ffe858bfb7516f408a61af303deeb83e18f1   \n",
       "1       0x7ba9aaae07e50875f15d2ef395d3ffe858bfb7516f408a61af303deeb83e18f1   \n",
       "2       0xf88bd25d065be98356225e94bbc932874168c8e0d4cd1b4e86932d5147b9c795   \n",
       "3       0x72c9b1ac035b3ba5b4aafa034d2236069397c62c810d49bb8b4d3a0db09d7c1f   \n",
       "4       0xf58014d8c69be2d526202b3435808161fbd15d6e3002d1ec184077e936e1ca06   \n",
       "...                                                                    ...   \n",
       "116131  0x31e3784a0a2215213d91d31d8b38654fef6fae5f7408bac4fd739100d71cec8f   \n",
       "116132  0x62ef6549899d9139334c1a9dbc89e612af2a1d9345453d162070e86899f585d0   \n",
       "116133  0x8ab66e948204774ed84f548cb4669e25b20084acc32eb3eb8e91a8647e0f3036   \n",
       "116134  0x1875edf8ab897a4da7e210ef89b5e9f509d579f71c48bd3fde1c3068eb7733dd   \n",
       "116135  0x705f60bbd6aff13f036faa9a296ebdcaf289c2be4b7bd248512acf40eba4da6f   \n",
       "\n",
       "        blockNumber                                 args.sender  \\\n",
       "0          12375326  0xC36442b4a4522E871399CD717aBDD847Ab11FE88   \n",
       "1          12375326                                        None   \n",
       "2          12375529  0xC36442b4a4522E871399CD717aBDD847Ab11FE88   \n",
       "3          12375553  0xC36442b4a4522E871399CD717aBDD847Ab11FE88   \n",
       "4          12375566  0xC36442b4a4522E871399CD717aBDD847Ab11FE88   \n",
       "...             ...                                         ...   \n",
       "116131     12999867  0xE592427A0AEce92De3Edee1F18E0157C05861564   \n",
       "116132     12999868  0xE592427A0AEce92De3Edee1F18E0157C05861564   \n",
       "116133     12999882  0xE592427A0AEce92De3Edee1F18E0157C05861564   \n",
       "116134     12999887  0xE592427A0AEce92De3Edee1F18E0157C05861564   \n",
       "116135     12999909  0xE592427A0AEce92De3Edee1F18E0157C05861564   \n",
       "\n",
       "                                    args.recipient  args.amount0  \\\n",
       "0                                             None  1.242324e+19   \n",
       "1                                             None           NaN   \n",
       "2                                             None  1.000000e+15   \n",
       "3                                             None  9.995372e+10   \n",
       "4                                             None  9.999750e+12   \n",
       "...                                            ...           ...   \n",
       "116131  0x56178a0d5F301bAf6CF3e1Cd53d9863437345Bf9 -1.309952e+20   \n",
       "116132  0x56178a0d5F301bAf6CF3e1Cd53d9863437345Bf9 -1.453121e+20   \n",
       "116133  0x56178a0d5F301bAf6CF3e1Cd53d9863437345Bf9  1.144828e+20   \n",
       "116134  0x56178a0d5F301bAf6CF3e1Cd53d9863437345Bf9  2.460449e+20   \n",
       "116135  0x56178a0d5F301bAf6CF3e1Cd53d9863437345Bf9 -2.336614e+20   \n",
       "\n",
       "        args.amount1  args.sqrtPriceX96  args.liquidity  args.tick  \\\n",
       "0       5.050028e+10                NaN             NaN        NaN   \n",
       "1                NaN       4.585618e+24             NaN  -195153.0   \n",
       "2       0.000000e+00                NaN             NaN        NaN   \n",
       "3       2.740000e+02                NaN             NaN        NaN   \n",
       "4       2.741200e+04                NaN             NaN        NaN   \n",
       "...              ...                ...             ...        ...   \n",
       "116131  4.169304e+11       4.464409e+24    1.206692e+19  -195689.0   \n",
       "116132  4.630952e+11       4.467441e+24    1.206692e+19  -195676.0   \n",
       "116133 -3.627121e+11       4.465059e+24    1.206692e+19  -195686.0   \n",
       "116134 -7.782293e+11       4.459950e+24    1.206692e+19  -195709.0   \n",
       "116135  7.434747e+11       4.464816e+24    1.206692e+19  -195687.0   \n",
       "\n",
       "                                        args.owner  args.tickLower  \\\n",
       "0       0xC36442b4a4522E871399CD717aBDD847Ab11FE88       -197400.0   \n",
       "1                                             None             NaN   \n",
       "2       0xC36442b4a4522E871399CD717aBDD847Ab11FE88       -195120.0   \n",
       "3       0xC36442b4a4522E871399CD717aBDD847Ab11FE88       -195180.0   \n",
       "4       0xC36442b4a4522E871399CD717aBDD847Ab11FE88       -195180.0   \n",
       "...                                            ...             ...   \n",
       "116131                                        None             NaN   \n",
       "116132                                        None             NaN   \n",
       "116133                                        None             NaN   \n",
       "116134                                        None             NaN   \n",
       "116135                                        None             NaN   \n",
       "\n",
       "        args.tickUpper   args.amount  args.observationCardinalityNextOld  \\\n",
       "0            -193320.0  8.210905e+15                                 NaN   \n",
       "1                  NaN           NaN                                 NaN   \n",
       "2            -195060.0  1.935471e+13                                 NaN   \n",
       "3            -195120.0  3.509242e+09                                 NaN   \n",
       "4            -195120.0  3.510779e+11                                 NaN   \n",
       "...                ...           ...                                 ...   \n",
       "116131             NaN           NaN                                 NaN   \n",
       "116132             NaN           NaN                                 NaN   \n",
       "116133             NaN           NaN                                 NaN   \n",
       "116134             NaN           NaN                                 NaN   \n",
       "116135             NaN           NaN                                 NaN   \n",
       "\n",
       "        args.observationCardinalityNextNew  args.paid0  args.paid1  \n",
       "0                                      NaN         NaN         NaN  \n",
       "1                                      NaN         NaN         NaN  \n",
       "2                                      NaN         NaN         NaN  \n",
       "3                                      NaN         NaN         NaN  \n",
       "4                                      NaN         NaN         NaN  \n",
       "...                                    ...         ...         ...  \n",
       "116131                                 NaN         NaN         NaN  \n",
       "116132                                 NaN         NaN         NaN  \n",
       "116133                                 NaN         NaN         NaN  \n",
       "116134                                 NaN         NaN         NaN  \n",
       "116135                                 NaN         NaN         NaN  \n",
       "\n",
       "[116136 rows x 22 columns]"
      ]
     },
     "execution_count": 4,
     "metadata": {},
     "output_type": "execute_result"
    }
   ],
   "source": [
    "df = pd.read_parquet(f\"/Volumes/luke-uni/data/uniswap-v3/raw/{pn}/{pn}_12000000_13000000.parquet\")\n",
    "df"
   ]
  },
  {
   "cell_type": "code",
   "execution_count": 26,
   "metadata": {},
   "outputs": [],
   "source": [
    "df.sort_values(by = ['blockNumber', 'logIndex'], inplace=True)"
   ]
  },
  {
   "cell_type": "code",
   "execution_count": null,
   "metadata": {},
   "outputs": [],
   "source": []
  },
  {
   "cell_type": "code",
   "execution_count": 27,
   "metadata": {},
   "outputs": [],
   "source": [
    "#error classes\n",
    "class TickPriceAllignmentError(Exception):\n",
    "    \"\"\"Raise when tick and sqrtPrice do not allign\"\"\"\n",
    "\n",
    "class IncorrectInput(Exception):\n",
    "    \"\"\"Raise when input is incorrect\"\"\"\n",
    "\n",
    "class SwapAllignmentError(Exception):\n",
    "    \"\"\"Raise when swap data is misalligned\"\"\"\n",
    "\n",
    "class BurnMintMatchError(Exception):\n",
    "    \"\"\"Raise when a burn event cant be matched with a previous mint\"\"\"\n",
    "\n",
    "class CollectMatchError(Exception):\n",
    "    \"\"\"Raise when a Collect event cant be matched with a active position\"\"\"\n",
    "\n",
    "class SwapAmountError(Exception):\n",
    "    \"\"\"Raise when swap has two positive amounts\"\"\"\n",
    "\n",
    "class FeeMismatch(Exception):\n",
    "    \"\"\"Raise when swap fee collected and distributed do not match\"\"\"\n",
    "\n"
   ]
  },
  {
   "cell_type": "code",
   "execution_count": 28,
   "metadata": {},
   "outputs": [],
   "source": [
    "\n",
    "#TODO Fix fringe cases for matching the burns and collects\n",
    "#TODO Get view/quote for swap amountin return end price trade price and amount\n",
    "#TODO Blog on uniswap math functions with figures\n",
    "#TODO Add protocol fee "
   ]
  },
  {
   "cell_type": "code",
   "execution_count": 114,
   "metadata": {},
   "outputs": [],
   "source": [
    "class ConcentratedLiquidity():\n",
    "    \"\"\"\n",
    "    ConcentratedLiquidity implementation in Python to replay transactions and track LP profit.\n",
    "    This class does not take into consideration the variable prescision as in the solidity implimentations\n",
    "    \"\"\"\n",
    "\n",
    "    def __init__(self,\n",
    "        token0,\n",
    "        token1,\n",
    "        poolAddress,\n",
    "        fee,\n",
    "        tickSpacing,\n",
    "        protocol_fee = 0,\n",
    "        ):\n",
    "        \"\"\"\n",
    "        Parameters\n",
    "        ----------\n",
    "\n",
    "        token0  :   str\n",
    "            Token address name for token0 in the pool\n",
    "        token1  :   str\n",
    "            Token address name for token0 in the pool\n",
    "        poolAddress :   str\n",
    "            Token address for the pool\n",
    "        fee :   int\n",
    "            Fee as in logs Initalise\n",
    "        protocol_fee    :   float\n",
    "            percentage of fee that goes to the protocol\n",
    "        tickSpacing :   int\n",
    "            tickspacing in the pool\n",
    "        \"\"\"\n",
    "        \n",
    "        self.token0 = token0\n",
    "        self.token1 = token1\n",
    "        self.poolAddress = poolAddress\n",
    "        self.fee = fee*10**-6 #fee adjustment to get to a percentage fee\n",
    "        self.tickSpacing = tickSpacing\n",
    "        self.protocol_fee = protocol_fee*10**-6 #fee adjustment to get to a percentage fee\n",
    "        self.positions = pd.DataFrame()\n",
    "        self.mints = pd.DataFrame()\n",
    "        self.burns = pd.DataFrame()\n",
    "        self.collects = pd.DataFrame()\n",
    "        self.swaps = pd.DataFrame()\n",
    "        self.total_fee0 = 0\n",
    "        self.total_fee1 = 0\n",
    "        self.liquidity = 0\n",
    "        self.Q96 = 2**96\n",
    "        self.sqrtPrice = None \n",
    "        self.sqrtPriceX96 = None\n",
    "\n",
    "    \n",
    "    def Initialize(self, \n",
    "                   sqrtPrice = None, \n",
    "                   sqrtPriceX96 = None, \n",
    "                   price = None, \n",
    "                   tick = None,\n",
    "                   ):\n",
    "        \"\"\"\n",
    "        Parameters\n",
    "        ----------\n",
    "\n",
    "        sqrtPrice  :   float\n",
    "            Initialized sqrtPrice for the pool this input takes precident over sqrtPriceX96 and price\n",
    "        sqrtPriceX96 :   str\n",
    "            Initialized sqrtPrice for the pool this input takes precident over price\n",
    "        price :   int\n",
    "            Initialized price for the pool\n",
    "        tick  :   int\n",
    "            Initialized tick for the pool\n",
    "        \"\"\"\n",
    "                \n",
    "\n",
    "        if not any([sqrtPrice, sqrtPriceX96, price]):\n",
    "            raise IncorrectInput(\"Initialize: need to add a sqrtPrice, price or sqrtPriceX96\")\n",
    "\n",
    "        if price is not None:\n",
    "            self.sqrtPrice = price**0.5\n",
    "            self.sqrtPriceX96 = sqrtPrice*self.Q96\n",
    "        elif sqrtPriceX96 is not None:\n",
    "            self.sqrtPriceX96 = sqrtPriceX96\n",
    "            self.sqrtPrice = float(self.sqrtPriceX96_to_sqrtPrice(sqrtPriceX96))\n",
    "        elif sqrtPrice is not None:\n",
    "            self.sqrtPrice = float(sqrtPrice)\n",
    "            self.sqrtPriceX96 = sqrtPrice*self.Q96\n",
    "        \n",
    "        #check if tick is supplied, otherwise use the self calc. remove keep data, can not supply tick if dont want check\n",
    "        if tick is not None:\n",
    "            if self.sqrtPrice_to_tick(self.sqrtPrice) != tick:\n",
    "                raise TickPriceAllignmentError(f\"Initialize: The price and tick supplied do not match\\n\\n\\t{tick}, {self.sqrtPrice_to_tick(self.sqrtPrice)}\")\n",
    "            else:\n",
    "                self.tick = tick\n",
    "        else:\n",
    "            self.tick = self.sqrtPrice_to_tick(self.sqrtPrice)\n",
    "\n",
    "\n",
    "    def Mint(self, tickLower, tickUpper, amount, amount0, amount1, sender, blockNumber, transactionIndex, logIndex, transactionHash):\n",
    "        \"\"\"\n",
    "        Parameters\n",
    "        ----------\n",
    "        #TODO params\n",
    "        sqrtPrice  :   float\n",
    "            Initialized sqrtPrice for the pool this input takes precident over sqrtPriceX96 and price\n",
    "        \"\"\"\n",
    "\n",
    "        \n",
    "        mint_df = pd.DataFrame([['Mint', logIndex, blockNumber, transactionIndex, transactionHash, sender, amount, tickLower, tickUpper, amount0, amount1]], \n",
    "                       columns=['event', 'logIndex', 'blockNumber', 'transactionIndex', 'transactionHash', 'sender', 'amount', 'tickLower', 'tickUpper', 'amount0', 'amount1'])\n",
    "        \n",
    "        self.mints = pd.concat([self.mints, mint_df])\n",
    "\n",
    "        #TODO Add calc of portfolio amounts from current L and price, check if amounts are correct\n",
    "        #Precision errors with bit math leave alot to be desired        \n",
    "\n",
    "        add_active_df = pd.DataFrame([[float(amount), float(amount), tickLower, tickUpper, sender,\n",
    "                               float(amount0), float(amount1), float(amount0), float(amount1),\n",
    "                               float(0),float(0),float(0),float(0),\n",
    "                               logIndex, blockNumber, transactionIndex, transactionHash,\n",
    "                               logIndex, blockNumber, transactionIndex, transactionHash, True]],\n",
    "                               columns = ['last_L', 'start_L', 'tickLower', 'tickUpper', 'owner', 'start_token0_holdings', 'start_token1_holdings',\n",
    "                                            'last_token0_holdings', 'last_token1_holdings',\n",
    "                                            'token0_fees_accrued', 'token1_fees_accrued',\n",
    "                                            'token0_collected', 'token1_collected',\n",
    "                                            'start_logIndex', 'start_blockNumber', 'start_transactionIndex', 'start_transactionHash', \n",
    "                                            'last_logIndex', 'last_blockNumber', 'last_transactionIndex', 'last_transactionHash', 'active'])\n",
    "\n",
    "        \n",
    "        self.positions = pd.concat([self.positions, add_active_df]).reset_index(drop=True)\n",
    "\n",
    "        #save intick liquidity\n",
    "        pos = self.positions\n",
    "        current_tick = self.sqrtPrice_to_tick(self.sqrtPrice)\n",
    "        self.liquidity = pos['last_L'].loc[(pos['tickLower'] <= current_tick)&(pos['tickUpper'] > current_tick)].sum()\n",
    "\n",
    "        \n",
    "    def Burn(self, tickLower, tickUpper , amount, amount0, amount1, owner, blockNumber, transactionIndex, logIndex, transactionHash):\n",
    "        \"\"\"\n",
    "        Parameters\n",
    "        ----------\n",
    "        #TODO params\n",
    "        sqrtPrice  :   float\n",
    "            Initialized sqrtPrice for the pool this input takes precident over sqrtPriceX96 and price\n",
    "        \"\"\"\n",
    "\n",
    "        burn_df = pd.DataFrame([['Burn', logIndex, blockNumber, transactionIndex, transactionHash, owner, amount, tickLower, tickUpper, amount0, amount1]], \n",
    "                       columns=['event', 'logIndex', 'blockNumber', 'transactionIndex', 'transactionHash', 'sender', 'amount', 'tickLower', 'tickUpper', 'amount0', 'amount1'])\n",
    "        \n",
    "        self.burns = pd.concat([self.burns, burn_df])\n",
    "        \n",
    "        pos = self.positions\n",
    "        #check if len >1, otherwise burn liquidity in pool\n",
    "        bpos = pos.loc[(pos['tickLower'] == tickLower) & (pos['tickUpper'] == tickUpper)]\n",
    "        if len(bpos) > 1:\n",
    "            #TODO handle cases when bounds do not match\n",
    "            blpos = bpos.loc[bpos['last_L'] == amount]\n",
    "            if len(blpos) == 1:\n",
    "                i = blpos.index[0]\n",
    "\n",
    "            elif len(blpos) == 0:\n",
    "                raise BurnMintMatchError(\"Cannot match mints and burns because there is no L with same tick range\")\n",
    "            \n",
    "            else:\n",
    "                raise BurnMintMatchError(\"Cannot match mints and burns more the one position with same L\")\n",
    "            \n",
    "        elif len(bpos) == 0:\n",
    "                raise BurnMintMatchError(\"Cannot match mints and burns because there is no L with same tick range\")\n",
    "\n",
    "        else:\n",
    "            i = bpos.index[0]\n",
    "        \n",
    "        L_delta = bpos['last_L'].at[i]\n",
    "\n",
    "        pos['last_L'].iat[i] -= L_delta #Burn only removes liquidity, if not collected the amount wont change \n",
    "        pos['last_token0_holdings'].iat[i]  = amount0\n",
    "        pos['last_token1_holdings'].iat[i]  = amount1\n",
    "\n",
    "    \n",
    "        pos = self.position_last_update_state(pos, blockNumber, transactionIndex, logIndex, transactionHash)\n",
    "        self.positions = pos.copy()\n",
    "        return \n",
    "    \n",
    "    \n",
    "    def Collect(self, tickLower, tickUpper, amount0, amount1, recipient, blockNumber, transactionIndex, logIndex, transactionHash):\n",
    "        \"\"\"\n",
    "        Parameters\n",
    "        ----------\n",
    "        #TODO params\n",
    "        sqrtPrice  :   float\n",
    "            Initialized sqrtPrice for the pool this input takes precident over sqrtPriceX96 and price\n",
    "        \"\"\"\n",
    "\n",
    "        collect_df = pd.DataFrame([['Collect', logIndex, blockNumber, transactionIndex, transactionHash, recipient, tickLower, tickUpper, amount0, amount1]], \n",
    "                       columns=['event', 'logIndex', 'blockNumber', 'transactionIndex', 'transactionHash', 'sender', 'tickLower', 'tickUpper', 'amount0', 'amount1'])\n",
    "        self.collects = pd.concat([self.collects, collect_df])\n",
    "\n",
    "        pos = self.positions\n",
    "        cpos = pos.loc[(pos['tickLower'] == tickLower) & (pos['tickUpper'] == tickUpper)]\n",
    "\n",
    "        if len(cpos) > 1:\n",
    "            #TODO handle cases when bounds do not match\n",
    "            clpos = cpos.loc[(cpos['last_L'] == 0)&((cpos['last_token0_holdings'] > 0)|(cpos['last_token1_holdings'] > 0))] \n",
    "            if len(clpos) == 1:\n",
    "                i = clpos.index[0]\n",
    "\n",
    "            elif len(clpos) == 0:\n",
    "                raise CollectMatchError(\"Cannot match mints and burns because there is no null L in same tick range\")\n",
    "\n",
    "            else:\n",
    "                raise CollectMatchError(\"Cannot match mints and burns more the one position with same L\")\n",
    "        else:\n",
    "            i = cpos.index[0]\n",
    "\n",
    "        pos['token0_collected'].iat[i] += amount0\n",
    "        pos['token1_collected'].iat[i] += amount1\n",
    "\n",
    "        token0_diff = (pos['last_token0_holdings'].iloc[i] + pos['token0_fees_accrued'].iloc[i]  - pos['token0_collected'].iloc[i])\n",
    "        token1_diff = (pos['last_token1_holdings'].iloc[i] + pos['token1_fees_accrued'].iloc[i]  - pos['token1_collected'].iloc[i])\n",
    "        if (token0_diff <= 0) & (token1_diff <= 0): #Should really be ==\n",
    "            pos['active'].iat[i] = False\n",
    "        \n",
    "        pos[['last_token0_holdings', 'last_token1_holdings']] = pos.apply(lambda x: self.get_amounts(self.sqrtPrice, self.tick_to_sqrtPrice(x.tickLower), self.tick_to_sqrtPrice(x.tickUpper), x.last_L), axis = 1, result_type='expand')\n",
    "        pos = self.position_last_update_state(pos, blockNumber, transactionIndex, logIndex, transactionHash)\n",
    "        self.positions = pos.copy()\n",
    "        \n",
    "        return\n",
    "    \n",
    "    def Swap(self, amount0, amount1,  sender, recipient, logIndex, blockNumber, transactionIndex, transactionHash, tick = None, liquidity = None):\n",
    "        \"\"\"\n",
    "        Parameters\n",
    "        ----------\n",
    "        #TODO params\n",
    "        sqrtPrice  :   float\n",
    "            Initialized sqrtPrice for the pool this input takes precident over sqrtPriceX96 and price\n",
    "        \"\"\"\n",
    "\n",
    "        swap_df = pd.DataFrame([['Swap', logIndex, blockNumber, transactionIndex, transactionHash, sender, recipient, amount0, amount1, tick, liquidity]], \n",
    "                       columns=['event', 'logIndex', 'blockNumber', 'transactionIndex', 'transactionHash', 'sender', 'recipient', 'amount0', 'amount1', 'tick', 'liquidity'])\n",
    "        \n",
    "        self.swaps = pd.concat([self.swaps, swap_df])\n",
    "\n",
    "        #Fees for pool \n",
    "        zeroForOne = None\n",
    "        if amount0 > 0:\n",
    "            total_fee0 = amount0*self.fee\n",
    "            amount0_nf = amount0 - total_fee0\n",
    "            zeroForOne = True\n",
    "        else:\n",
    "            total_fee0 = 0\n",
    "            amount0_nf = amount0\n",
    "\n",
    "        if amount1 > 0:\n",
    "            total_fee1= amount1*self.fee\n",
    "            amount1_nf = amount1 - total_fee1\n",
    "            zeroForOne = False\n",
    "        else:\n",
    "            total_fee1 = 0\n",
    "            amount1_nf = amount1\n",
    "\n",
    "        if zeroForOne == None:\n",
    "            raise SwapAmountError(f\"Swap amounts are incorrect:\\n\\n\\t{(amount0,amount1)}\")\n",
    "\n",
    "        self.total_fee0 += total_fee0\n",
    "        self.total_fee1 += total_fee1\n",
    "\n",
    "        pos = self.positions\n",
    "        current_tick, current_tick_lower, current_tick_upper = self.get_tick_range(self.tick)\n",
    "\n",
    "        if zeroForOne:\n",
    "            sqrtPrice = self.sqrtPrice \n",
    "            sqrtPriceA = self.tick_to_sqrtPrice(current_tick_lower) #based on lower tick not lower price\n",
    "\n",
    "            amount0_a = amount0_nf\n",
    "            amount1_a = amount1_nf\n",
    "\n",
    "            fee0_collected = 0\n",
    "            while amount0_a > 0:\n",
    "                active_pos = pos.loc[(pos['tickLower'] < current_tick)&(pos['tickUpper'] >= current_tick)]\n",
    "                L = int(active_pos['last_L'].astype(float).sum())\n",
    "\n",
    "                #check if there is enough reserves in the tick\n",
    "                if self.get_amount0(sqrtPrice, sqrtPriceA, L) > amount0_a:\n",
    "                    sqrtPrice_next = self.get_next_sqrtPrice_from_inputs(sqrtPrice, L, amount0_a, zeroForOne=zeroForOne)\n",
    "                    tick_next = self.sqrtPrice_to_tick(sqrtPrice_next)\n",
    "\n",
    "                    fee0_in_range = round((amount0_a/(1-self.fee)) - amount0_a)\n",
    "                    fee0_collected += fee0_in_range\n",
    "                    fee0_per_L = fee0_in_range/L\n",
    "\n",
    "                    pos['token0_fees_accrued'] = pos['token0_fees_accrued'].mask(pos.index.isin(active_pos.index), pos['token0_fees_accrued'] + pos['last_L'] * fee0_per_L)\n",
    "                    break\n",
    "\n",
    "\n",
    "                else:\n",
    "                    amount0_diff = self.get_amount0(sqrtPrice, sqrtPriceA, L) \n",
    "                    amount1_diff = self.get_amount1(sqrtPrice, sqrtPriceA, L) \n",
    "\n",
    "                    fee0_in_range = round((amount0_diff/(1-self.fee)) - amount0_diff)\n",
    "                    fee0_collected += fee0_in_range\n",
    "                    fee0_per_L = fee0_in_range/L\n",
    "                    pos['token0_fees_accrued'] = pos['token0_fees_accrued'].mask(pos.index.isin(active_pos.index), pos['token0_fees_accrued'] + pos['last_L'] * fee0_per_L)\n",
    "\n",
    "                    amount0_a -= amount0_diff\n",
    "                    amount1_a -= amount1_diff\n",
    "                    current_tick = current_tick_lower\n",
    "                    current_tick_lower = current_tick - self.tickSpacing\n",
    "                    sqrtPrice = self.tick_to_sqrtPrice(current_tick)\n",
    "                    sqrtPriceA = self.tick_to_sqrtPrice(current_tick_lower)\n",
    "\n",
    "        else:\n",
    "            sqrtPrice = self.sqrtPrice\n",
    "            sqrtPriceB = self.tick_to_sqrtPrice(current_tick_upper) #based on upper tick not upper price\n",
    "\n",
    "            amount0_a = amount0_nf\n",
    "            amount1_a = amount1_nf\n",
    "\n",
    "            fee1_collected = 0\n",
    "            while amount1_a > 0:\n",
    "                active_pos = pos.loc[(pos['tickLower'] <= current_tick)&(pos['tickUpper'] > current_tick)]\n",
    "                L = int(active_pos['last_L'].astype(float).sum())\n",
    "\n",
    "                #check if there is enough reserves in the tick\n",
    "                if self.get_amount1(sqrtPrice, sqrtPriceB, L) > amount1_a:\n",
    "                    sqrtPrice_next = self.get_next_sqrtPrice_from_inputs(sqrtPrice, L, amount1_a, zeroForOne=zeroForOne)\n",
    "                    tick_next = self.sqrtPrice_to_tick(sqrtPrice_next)\n",
    "\n",
    "                    fee1_in_range = round((amount1_a/(1-self.fee)) - amount1_a)\n",
    "                    fee1_collected += fee1_in_range\n",
    "                    fee1_per_L = fee1_in_range/L\n",
    "\n",
    "                    pos['token1_fees_accrued'] = pos['token1_fees_accrued'].mask(pos.index.isin(active_pos.index), pos['token1_fees_accrued'] + pos['last_L'] * fee1_per_L)\n",
    "                    break\n",
    "\n",
    "                else:\n",
    "                    amount0_diff = self.get_amount0(sqrtPrice, sqrtPriceB, L) \n",
    "                    amount1_diff = self.get_amount1(sqrtPrice, sqrtPriceB, L) \n",
    "\n",
    "                    fee1_in_range = round((amount1_diff/(1-self.fee)) - amount1_diff)\n",
    "                    fee1_collected += fee1_in_range\n",
    "                    fee1_per_L = fee1_in_range/L\n",
    "                    pos['token1_fees_accrued'] = pos['token1_fees_accrued'].mask(pos.index.isin(active_pos.index), pos['token1_fees_accrued'] + pos['last_L'] * fee1_per_L)\n",
    "\n",
    "                    amount0_a -= amount0_diff\n",
    "                    amount1_a -= amount1_diff\n",
    "\n",
    "                    current_tick = current_tick_upper\n",
    "                    current_tick_upper = current_tick + self.tickSpacing\n",
    "                    sqrtPrice = self.tick_to_sqrtPrice(current_tick)\n",
    "                    sqrtPriceB = self.tick_to_sqrtPrice(current_tick_upper)\n",
    "\n",
    "\n",
    "        if not any([liquidity, tick]): #save if check not given\n",
    "            self.sqrtPrice = sqrtPrice_next\n",
    "            self.tick = tick_next\n",
    "            self.liquidity = L\n",
    "\n",
    "        else:\n",
    "            if (int(L) != liquidity) or (int(tick) != int(tick_next)):\n",
    "                raise SwapAllignmentError(f\"Swap: tick or liquidity provided does not match calculations\\n\\n\\tliquidity: {int(L)}, {liquidity}\\n\\ttick: {int(tick)}, {int(tick_next)}\")\n",
    "            else:\n",
    "                self.sqrtPrice = sqrtPrice_next\n",
    "                self.tick = tick_next\n",
    "                self.liquidity = L    \n",
    "\n",
    "        #update positions for estimate portfolio holdings\n",
    "        #It is an estimate due to precision errors\n",
    "        pos[['last_token0_holdings', 'last_token1_holdings']] = pos.apply(lambda x: self.get_amounts(self.sqrtPrice, self.tick_to_sqrtPrice(x.tickLower), self.tick_to_sqrtPrice(x.tickUpper), x.last_L), axis = 1, result_type='expand')\n",
    "        pos = self.position_last_update_state(pos, blockNumber, transactionIndex, logIndex, transactionHash)\n",
    "        self.positions = pos.copy()\n",
    "        return\n",
    "    \n",
    "    def get_active_LP_positions(self):\n",
    "        positions = self.positions\n",
    "        return positions.loc[(positions['active'])&(positions['last_L'] > 0)]\n",
    "    \n",
    "    def view_all_pool_events(self):\n",
    "        pool_events = pd.concat([self.mints, self.burns, self.collects, self.swaps])\n",
    "        if pool_events.empty:\n",
    "            return  pool_events\n",
    "        else:\n",
    "            return pool_events.sort_values(['blockNumber', 'logIndex']).reset_index(drop=True)\n",
    "\n",
    "    def sqrtPriceX96_to_sqrtPrice(self, sqrtPriceX96):\n",
    "        return float(sqrtPriceX96 / self.Q96)\n",
    "\n",
    "    def sqrtPrice_to_sqrtPriceX96(self, sqrtPrice):\n",
    "        return float(sqrtPrice * self.Q96)\n",
    "    \n",
    "    def sqrtPrice_to_tick(self, sqrtPrice):\n",
    "        return math.floor(round(math.log(sqrtPrice, math.sqrt(1.0001)), 6)) #control for precision issues and tick int size with the rounding\n",
    "    \n",
    "    def tick_to_sqrtPrice(self, tick):\n",
    "        return float(1.0001 ** (tick / 2))\n",
    "    \n",
    "    def price(self):\n",
    "        return self.sqrtPrice**2\n",
    "\n",
    "    def get_tick_range(self, tick):\n",
    "        return tick, (tick//self.tickSpacing * self.tickSpacing), tick//self.tickSpacing * self.tickSpacing + self.tickSpacing\n",
    "    \n",
    "    def position_last_update_state(self, position, blockNumber, transactionIndex, logIndex, transactionHash):\n",
    "        position['last_blockNumber'] = blockNumber\n",
    "        position['last_transactionIndex'] = transactionIndex\n",
    "        position['last_logIndex'] = logIndex\n",
    "        position['last_transactionHash'] = transactionHash\n",
    "        return position\n",
    "    \n",
    "    def get_amount0(self, sqrtPriceA, sqrtPriceB, L):\n",
    "        if sqrtPriceA > sqrtPriceB:\n",
    "            sqrtPriceA, sqrtPriceB = sqrtPriceB, sqrtPriceA\n",
    "        \n",
    "        return L * ((1/sqrtPriceA) - (1/sqrtPriceB))\n",
    "\n",
    "    def get_amount1(self, sqrtPriceA, sqrtPriceB, L):\n",
    "        if sqrtPriceA > sqrtPriceB:\n",
    "            sqrtPriceA, sqrtPriceB = sqrtPriceB, sqrtPriceA\n",
    "        \n",
    "        return (L * (sqrtPriceB - sqrtPriceA))\n",
    "\n",
    "    def get_amounts(self, sqrtPrice, sqrtPriceA, sqrtPriceB, L):\n",
    "        amount0 = 0\n",
    "        amount1 = 0\n",
    "\n",
    "        if sqrtPriceA > sqrtPriceB:\n",
    "            sqrtPriceA, sqrtPriceB = sqrtPriceB, sqrtPriceA\n",
    "        \n",
    "        if sqrtPrice <= sqrtPriceA:\n",
    "            amount0 = self.get_amount0(sqrtPriceA, sqrtPriceB, L)\n",
    "        \n",
    "        elif sqrtPrice < sqrtPriceB:\n",
    "            amount0 = self.get_amount0(sqrtPrice, sqrtPriceB, L)\n",
    "            amount1 = self.get_amount1(sqrtPriceA, sqrtPrice, L)\n",
    "        \n",
    "        else:\n",
    "            amount1 = self.get_amount1(sqrtPriceA, sqrtPriceB, L)\n",
    "\n",
    "        return amount0, amount1\n",
    "\n",
    "    def get_next_sqrtPrice_from_amount0(self, sqrtPrice, L, amonutIn): \n",
    "        return 1/((amonutIn/L)+(1/sqrtPrice))\n",
    "    \n",
    "    def get_next_sqrtPrice_from_amount1(self, sqrtPrice, L, amonutIn): \n",
    "        return sqrtPrice + (amonutIn / L)\n",
    "    \n",
    "    def get_next_sqrtPrice_from_inputs(self, sqrtPrice, L, amonutIn, zeroForOne):\n",
    "        if zeroForOne:\n",
    "            sqrtPriceNext = self.get_next_sqrtPrice_from_amount0(sqrtPrice, L, amonutIn)\n",
    "        else:\n",
    "            sqrtPriceNext = self.get_next_sqrtPrice_from_amount1(sqrtPrice, L, amonutIn)\n",
    "        return sqrtPriceNext\n",
    "\n",
    "    def calc_L_from_amount0(self, amount, sqrtPriceA, sqrtPriceB):\n",
    "        if sqrtPriceA > sqrtPriceB:\n",
    "            sqrtPriceA, sqrtPriceB = sqrtPriceB, sqrtPriceA\n",
    "        return amount/((1/sqrtPriceB)-(1/sqrtPriceA))\n",
    "\n",
    "    def calc_L_from_amount1(self, amount, sqrtPriceA, sqrtPriceB):\n",
    "        if sqrtPriceB > sqrtPriceA:\n",
    "            sqrtPriceB, sqrtPriceA = sqrtPriceA, sqrtPriceB\n",
    "        return amount / (sqrtPriceA - sqrtPriceB)\n",
    "\n",
    "    def calc_L_from_amounts(self, amount0, amount1, sqrtPrice, tickLower, tickUpper): #only estimates due to precision errors\n",
    "        sqrtPriceA = self.tick_to_sqrtPrice(tickLower)\n",
    "        sqrtPriceB = self.tick_to_sqrtPrice(tickUpper)\n",
    "\n",
    "        liquidity0 = self.calc_L_from_amount0(amount0, sqrtPrice, sqrtPriceB)\n",
    "        liquidity1 = self.calc_L_from_amount1(amount1, sqrtPrice, sqrtPriceA)\n",
    "\n",
    "        L = min(liquidity0, liquidity1)\n",
    "\n",
    "        return int(L)\n",
    "    \n",
    "    def replay_from_logs_for_LP_profit(self, df):\n",
    "        #TODO add frequency need timestamp\n",
    "        tdf = df.loc[df['event'] == 'Initialize']\n",
    "        self.Initialize(sqrtPriceX96 = tdf['args.sqrtPriceX96'].iloc[0], \n",
    "                        tick = tdf['args.tick'].iloc[0])\n",
    "\n",
    "        pos_dfs = []\n",
    "        for i in range(len(df)):\n",
    "            tdf = df.iloc[i]\n",
    "\n",
    "            if tdf['event'] == 'Swap':\n",
    "                self.Swap(blockNumber = tdf['blockNumber'],\n",
    "                        transactionIndex = tdf['transactionIndex'],\n",
    "                        logIndex = tdf['logIndex'],\n",
    "                        transactionHash = tdf['transactionHash'],\n",
    "                        sender = tdf['args.sender'],\n",
    "                        recipient = tdf['args.recipient'],\n",
    "                        amount0 = tdf['args.amount0'],\n",
    "                        amount1 = tdf['args.amount1'],\n",
    "                        tick = tdf['args.tick'],\n",
    "                        liquidity = tdf['args.liquidity'])\n",
    "\n",
    "\n",
    "            if tdf['event'] == 'Collect':\n",
    "                self.Collect(tickLower = tdf['args.tickLower'], \n",
    "                            tickUpper = tdf['args.tickUpper'], \n",
    "                            amount0 = tdf['args.amount0'],\n",
    "                            amount1 = tdf['args.amount1'],\n",
    "                            recipient = tdf['args.recipient'],\n",
    "                            blockNumber = tdf['blockNumber'], \n",
    "                            transactionIndex = tdf['transactionIndex'], \n",
    "                            logIndex = tdf['logIndex'], \n",
    "                            transactionHash = tdf['transactionHash'])\n",
    "                \n",
    "\n",
    "            if tdf['event'] == 'Burn':\n",
    "                self.Burn(tickLower = tdf['args.tickLower'], \n",
    "                        tickUpper = tdf['args.tickUpper'], \n",
    "                        amount = tdf['args.amount'],\n",
    "                        amount0 = tdf['args.amount0'],\n",
    "                        amount1 = tdf['args.amount1'],\n",
    "                        owner = tdf['args.owner'],\n",
    "                        blockNumber = tdf['blockNumber'], \n",
    "                        transactionIndex = tdf['transactionIndex'], \n",
    "                        logIndex = tdf['logIndex'], \n",
    "                        transactionHash = tdf['transactionHash'])\n",
    "\n",
    "            if tdf['event'] == 'Mint':\n",
    "                self.Mint(tickLower = tdf['args.tickLower'], \n",
    "                        tickUpper = tdf['args.tickUpper'], \n",
    "                        amount = tdf['args.amount'],\n",
    "                        amount0 = tdf['args.amount0'],\n",
    "                        amount1 = tdf['args.amount1'],\n",
    "                        sender = tdf['args.sender'],\n",
    "                        blockNumber = tdf['blockNumber'], \n",
    "                        transactionIndex = tdf['transactionIndex'], \n",
    "                        logIndex = tdf['logIndex'], \n",
    "                        transactionHash = tdf['transactionHash'])\n",
    "            \n",
    "            pos_dfs.append(self.positions)\n",
    "        \n",
    "        position_df = pd.concat(pos_dfs)\n",
    "        position_df.drop_duplicates(subset=['last_L', 'start_L', 'tickLower', 'tickUpper', 'owner',\n",
    "       'start_token0_holdings', 'start_token1_holdings',\n",
    "       'last_token0_holdings', 'last_token1_holdings', 'token0_fees_accrued',\n",
    "       'token1_fees_accrued', 'token0_collected', 'token1_collected', 'start_logIndex', 'start_blockNumber', 'start_transactionIndex',\n",
    "       'start_transactionHash',], keep = 'first', inplace = True)\n",
    "        return position_df\n",
    "    \n",
    "    def replay_from_CCData_for_LP_profit(self, ts_from, ts_to, CCAPI):\n",
    "        #TODO add functionality to get the data from CCdata and return the positions df\n",
    "        position_df = pd.DataFrame()\n",
    "        return position_df\n",
    "\n",
    "    \n",
    "\n",
    "    \n",
    "    "
   ]
  },
  {
   "cell_type": "code",
   "execution_count": 115,
   "metadata": {},
   "outputs": [],
   "source": [
    "FEE = 3000\n",
    "TICK_SPACING = 60\n",
    "POOL = '0x4e68ccd3e89f51c3074ca5072bbac773960dfa36'\n",
    "TOKEN0 = 'WETHU'\n",
    "TOKEN1 = 'USDT'\n",
    "\n",
    "clm = ConcentratedLiquidity(TOKEN0, TOKEN1, POOL, fee = FEE, tickSpacing = TICK_SPACING, protocol_fee = 0)"
   ]
  },
  {
   "cell_type": "code",
   "execution_count": 111,
   "metadata": {},
   "outputs": [
    {
     "ename": "SwapAllignmentError",
     "evalue": "Swap: tick or liquidity provided does not match calculations\n\n\tliquidity: 41448871078369024, 4.144887107836903e+16\n\ttick: -194899, -194899",
     "output_type": "error",
     "traceback": [
      "\u001b[0;31m---------------------------------------------------------------------------\u001b[0m",
      "\u001b[0;31mSwapAllignmentError\u001b[0m                       Traceback (most recent call last)",
      "Cell \u001b[0;32mIn[111], line 1\u001b[0m\n\u001b[0;32m----> 1\u001b[0m rdf \u001b[38;5;241m=\u001b[39m \u001b[43mclm\u001b[49m\u001b[38;5;241;43m.\u001b[39;49m\u001b[43mreplay_from_logs_for_LP_profit\u001b[49m\u001b[43m(\u001b[49m\u001b[43mdf\u001b[49m\u001b[43m)\u001b[49m\n\u001b[1;32m      2\u001b[0m rdf\n",
      "Cell \u001b[0;32mIn[109], line 482\u001b[0m, in \u001b[0;36mConcentratedLiquidity.replay_from_logs_for_LP_profit\u001b[0;34m(self, df)\u001b[0m\n\u001b[1;32m    479\u001b[0m tdf \u001b[38;5;241m=\u001b[39m df\u001b[38;5;241m.\u001b[39miloc[i]\n\u001b[1;32m    481\u001b[0m \u001b[38;5;28;01mif\u001b[39;00m tdf[\u001b[38;5;124m'\u001b[39m\u001b[38;5;124mevent\u001b[39m\u001b[38;5;124m'\u001b[39m] \u001b[38;5;241m==\u001b[39m \u001b[38;5;124m'\u001b[39m\u001b[38;5;124mSwap\u001b[39m\u001b[38;5;124m'\u001b[39m:\n\u001b[0;32m--> 482\u001b[0m     \u001b[38;5;28;43mself\u001b[39;49m\u001b[38;5;241;43m.\u001b[39;49m\u001b[43mSwap\u001b[49m\u001b[43m(\u001b[49m\u001b[43mblockNumber\u001b[49m\u001b[43m \u001b[49m\u001b[38;5;241;43m=\u001b[39;49m\u001b[43m \u001b[49m\u001b[43mtdf\u001b[49m\u001b[43m[\u001b[49m\u001b[38;5;124;43m'\u001b[39;49m\u001b[38;5;124;43mblockNumber\u001b[39;49m\u001b[38;5;124;43m'\u001b[39;49m\u001b[43m]\u001b[49m\u001b[43m,\u001b[49m\n\u001b[1;32m    483\u001b[0m \u001b[43m            \u001b[49m\u001b[43mtransactionIndex\u001b[49m\u001b[43m \u001b[49m\u001b[38;5;241;43m=\u001b[39;49m\u001b[43m \u001b[49m\u001b[43mtdf\u001b[49m\u001b[43m[\u001b[49m\u001b[38;5;124;43m'\u001b[39;49m\u001b[38;5;124;43mtransactionIndex\u001b[39;49m\u001b[38;5;124;43m'\u001b[39;49m\u001b[43m]\u001b[49m\u001b[43m,\u001b[49m\n\u001b[1;32m    484\u001b[0m \u001b[43m            \u001b[49m\u001b[43mlogIndex\u001b[49m\u001b[43m \u001b[49m\u001b[38;5;241;43m=\u001b[39;49m\u001b[43m \u001b[49m\u001b[43mtdf\u001b[49m\u001b[43m[\u001b[49m\u001b[38;5;124;43m'\u001b[39;49m\u001b[38;5;124;43mlogIndex\u001b[39;49m\u001b[38;5;124;43m'\u001b[39;49m\u001b[43m]\u001b[49m\u001b[43m,\u001b[49m\n\u001b[1;32m    485\u001b[0m \u001b[43m            \u001b[49m\u001b[43mtransactionHash\u001b[49m\u001b[43m \u001b[49m\u001b[38;5;241;43m=\u001b[39;49m\u001b[43m \u001b[49m\u001b[43mtdf\u001b[49m\u001b[43m[\u001b[49m\u001b[38;5;124;43m'\u001b[39;49m\u001b[38;5;124;43mtransactionHash\u001b[39;49m\u001b[38;5;124;43m'\u001b[39;49m\u001b[43m]\u001b[49m\u001b[43m,\u001b[49m\n\u001b[1;32m    486\u001b[0m \u001b[43m            \u001b[49m\u001b[43msender\u001b[49m\u001b[43m \u001b[49m\u001b[38;5;241;43m=\u001b[39;49m\u001b[43m \u001b[49m\u001b[43mtdf\u001b[49m\u001b[43m[\u001b[49m\u001b[38;5;124;43m'\u001b[39;49m\u001b[38;5;124;43margs.sender\u001b[39;49m\u001b[38;5;124;43m'\u001b[39;49m\u001b[43m]\u001b[49m\u001b[43m,\u001b[49m\n\u001b[1;32m    487\u001b[0m \u001b[43m            \u001b[49m\u001b[43mrecipient\u001b[49m\u001b[43m \u001b[49m\u001b[38;5;241;43m=\u001b[39;49m\u001b[43m \u001b[49m\u001b[43mtdf\u001b[49m\u001b[43m[\u001b[49m\u001b[38;5;124;43m'\u001b[39;49m\u001b[38;5;124;43margs.recipient\u001b[39;49m\u001b[38;5;124;43m'\u001b[39;49m\u001b[43m]\u001b[49m\u001b[43m,\u001b[49m\n\u001b[1;32m    488\u001b[0m \u001b[43m            \u001b[49m\u001b[43mamount0\u001b[49m\u001b[43m \u001b[49m\u001b[38;5;241;43m=\u001b[39;49m\u001b[43m \u001b[49m\u001b[43mtdf\u001b[49m\u001b[43m[\u001b[49m\u001b[38;5;124;43m'\u001b[39;49m\u001b[38;5;124;43margs.amount0\u001b[39;49m\u001b[38;5;124;43m'\u001b[39;49m\u001b[43m]\u001b[49m\u001b[43m,\u001b[49m\n\u001b[1;32m    489\u001b[0m \u001b[43m            \u001b[49m\u001b[43mamount1\u001b[49m\u001b[43m \u001b[49m\u001b[38;5;241;43m=\u001b[39;49m\u001b[43m \u001b[49m\u001b[43mtdf\u001b[49m\u001b[43m[\u001b[49m\u001b[38;5;124;43m'\u001b[39;49m\u001b[38;5;124;43margs.amount1\u001b[39;49m\u001b[38;5;124;43m'\u001b[39;49m\u001b[43m]\u001b[49m\u001b[43m,\u001b[49m\n\u001b[1;32m    490\u001b[0m \u001b[43m            \u001b[49m\u001b[43mtick\u001b[49m\u001b[43m \u001b[49m\u001b[38;5;241;43m=\u001b[39;49m\u001b[43m \u001b[49m\u001b[43mtdf\u001b[49m\u001b[43m[\u001b[49m\u001b[38;5;124;43m'\u001b[39;49m\u001b[38;5;124;43margs.tick\u001b[39;49m\u001b[38;5;124;43m'\u001b[39;49m\u001b[43m]\u001b[49m\u001b[43m,\u001b[49m\n\u001b[1;32m    491\u001b[0m \u001b[43m            \u001b[49m\u001b[43mliquidity\u001b[49m\u001b[43m \u001b[49m\u001b[38;5;241;43m=\u001b[39;49m\u001b[43m \u001b[49m\u001b[43mtdf\u001b[49m\u001b[43m[\u001b[49m\u001b[38;5;124;43m'\u001b[39;49m\u001b[38;5;124;43margs.liquidity\u001b[39;49m\u001b[38;5;124;43m'\u001b[39;49m\u001b[43m]\u001b[49m\u001b[43m)\u001b[49m\n\u001b[1;32m    494\u001b[0m \u001b[38;5;28;01mif\u001b[39;00m tdf[\u001b[38;5;124m'\u001b[39m\u001b[38;5;124mevent\u001b[39m\u001b[38;5;124m'\u001b[39m] \u001b[38;5;241m==\u001b[39m \u001b[38;5;124m'\u001b[39m\u001b[38;5;124mCollect\u001b[39m\u001b[38;5;124m'\u001b[39m:\n\u001b[1;32m    495\u001b[0m     \u001b[38;5;28mself\u001b[39m\u001b[38;5;241m.\u001b[39mCollect(tickLower \u001b[38;5;241m=\u001b[39m tdf[\u001b[38;5;124m'\u001b[39m\u001b[38;5;124margs.tickLower\u001b[39m\u001b[38;5;124m'\u001b[39m], \n\u001b[1;32m    496\u001b[0m                 tickUpper \u001b[38;5;241m=\u001b[39m tdf[\u001b[38;5;124m'\u001b[39m\u001b[38;5;124margs.tickUpper\u001b[39m\u001b[38;5;124m'\u001b[39m], \n\u001b[1;32m    497\u001b[0m                 amount0 \u001b[38;5;241m=\u001b[39m tdf[\u001b[38;5;124m'\u001b[39m\u001b[38;5;124margs.amount0\u001b[39m\u001b[38;5;124m'\u001b[39m],\n\u001b[0;32m   (...)\u001b[0m\n\u001b[1;32m    502\u001b[0m                 logIndex \u001b[38;5;241m=\u001b[39m tdf[\u001b[38;5;124m'\u001b[39m\u001b[38;5;124mlogIndex\u001b[39m\u001b[38;5;124m'\u001b[39m], \n\u001b[1;32m    503\u001b[0m                 transactionHash \u001b[38;5;241m=\u001b[39m tdf[\u001b[38;5;124m'\u001b[39m\u001b[38;5;124mtransactionHash\u001b[39m\u001b[38;5;124m'\u001b[39m])\n",
      "Cell \u001b[0;32mIn[109], line 357\u001b[0m, in \u001b[0;36mConcentratedLiquidity.Swap\u001b[0;34m(self, amount0, amount1, sender, recipient, logIndex, blockNumber, transactionIndex, transactionHash, tick, liquidity)\u001b[0m\n\u001b[1;32m    355\u001b[0m \u001b[38;5;28;01melse\u001b[39;00m:\n\u001b[1;32m    356\u001b[0m     \u001b[38;5;28;01mif\u001b[39;00m (\u001b[38;5;28mint\u001b[39m(L) \u001b[38;5;241m!=\u001b[39m liquidity) \u001b[38;5;129;01mor\u001b[39;00m (\u001b[38;5;28mint\u001b[39m(tick) \u001b[38;5;241m!=\u001b[39m \u001b[38;5;28mint\u001b[39m(tick_next)):\n\u001b[0;32m--> 357\u001b[0m         \u001b[38;5;28;01mraise\u001b[39;00m SwapAllignmentError(\u001b[38;5;124mf\u001b[39m\u001b[38;5;124m\"\u001b[39m\u001b[38;5;124mSwap: tick or liquidity provided does not match calculations\u001b[39m\u001b[38;5;130;01m\\n\u001b[39;00m\u001b[38;5;130;01m\\n\u001b[39;00m\u001b[38;5;130;01m\\t\u001b[39;00m\u001b[38;5;124mliquidity: \u001b[39m\u001b[38;5;132;01m{\u001b[39;00m\u001b[38;5;28mint\u001b[39m(L)\u001b[38;5;132;01m}\u001b[39;00m\u001b[38;5;124m, \u001b[39m\u001b[38;5;132;01m{\u001b[39;00mliquidity\u001b[38;5;132;01m}\u001b[39;00m\u001b[38;5;130;01m\\n\u001b[39;00m\u001b[38;5;130;01m\\t\u001b[39;00m\u001b[38;5;124mtick: \u001b[39m\u001b[38;5;132;01m{\u001b[39;00m\u001b[38;5;28mint\u001b[39m(tick)\u001b[38;5;132;01m}\u001b[39;00m\u001b[38;5;124m, \u001b[39m\u001b[38;5;132;01m{\u001b[39;00m\u001b[38;5;28mint\u001b[39m(tick_next)\u001b[38;5;132;01m}\u001b[39;00m\u001b[38;5;124m\"\u001b[39m)\n\u001b[1;32m    358\u001b[0m     \u001b[38;5;28;01melse\u001b[39;00m:\n\u001b[1;32m    359\u001b[0m         \u001b[38;5;28mself\u001b[39m\u001b[38;5;241m.\u001b[39msqrtPrice \u001b[38;5;241m=\u001b[39m sqrtPrice_next\n",
      "\u001b[0;31mSwapAllignmentError\u001b[0m: Swap: tick or liquidity provided does not match calculations\n\n\tliquidity: 41448871078369024, 4.144887107836903e+16\n\ttick: -194899, -194899"
     ]
    }
   ],
   "source": [
    "rdf = clm.replay_from_logs_for_LP_profit(df)\n",
    "rdf"
   ]
  },
  {
   "cell_type": "code",
   "execution_count": 107,
   "metadata": {},
   "outputs": [
    {
     "ename": "NameError",
     "evalue": "name 'rdf' is not defined",
     "output_type": "error",
     "traceback": [
      "\u001b[0;31m---------------------------------------------------------------------------\u001b[0m",
      "\u001b[0;31mNameError\u001b[0m                                 Traceback (most recent call last)",
      "Cell \u001b[0;32mIn[107], line 1\u001b[0m\n\u001b[0;32m----> 1\u001b[0m \u001b[43mrdf\u001b[49m[\u001b[38;5;124m'\u001b[39m\u001b[38;5;124mstart_transactionHash\u001b[39m\u001b[38;5;124m'\u001b[39m]\u001b[38;5;241m.\u001b[39munique() \u001b[38;5;66;03m# can use the start txnhash to get the unique mints or the index\u001b[39;00m\n",
      "\u001b[0;31mNameError\u001b[0m: name 'rdf' is not defined"
     ]
    }
   ],
   "source": [
    "rdf['start_transactionHash'].unique() # can use the start txnhash to get the unique mints or the index"
   ]
  },
  {
   "cell_type": "code",
   "execution_count": null,
   "metadata": {},
   "outputs": [],
   "source": []
  },
  {
   "cell_type": "code",
   "execution_count": 116,
   "metadata": {},
   "outputs": [
    {
     "ename": "BurnMintMatchError",
     "evalue": "Cannot match mints and burns because there is no L with same tick range",
     "output_type": "error",
     "traceback": [
      "\u001b[0;31m---------------------------------------------------------------------------\u001b[0m",
      "\u001b[0;31mBurnMintMatchError\u001b[0m                        Traceback (most recent call last)",
      "Cell \u001b[0;32mIn[116], line 33\u001b[0m\n\u001b[1;32m     22\u001b[0m     clm\u001b[38;5;241m.\u001b[39mCollect(tickLower \u001b[38;5;241m=\u001b[39m tdf[\u001b[38;5;124m'\u001b[39m\u001b[38;5;124margs.tickLower\u001b[39m\u001b[38;5;124m'\u001b[39m], \n\u001b[1;32m     23\u001b[0m                 tickUpper \u001b[38;5;241m=\u001b[39m tdf[\u001b[38;5;124m'\u001b[39m\u001b[38;5;124margs.tickUpper\u001b[39m\u001b[38;5;124m'\u001b[39m], \n\u001b[1;32m     24\u001b[0m                 amount0 \u001b[38;5;241m=\u001b[39m tdf[\u001b[38;5;124m'\u001b[39m\u001b[38;5;124margs.amount0\u001b[39m\u001b[38;5;124m'\u001b[39m],\n\u001b[0;32m   (...)\u001b[0m\n\u001b[1;32m     29\u001b[0m                 logIndex \u001b[38;5;241m=\u001b[39m tdf[\u001b[38;5;124m'\u001b[39m\u001b[38;5;124mlogIndex\u001b[39m\u001b[38;5;124m'\u001b[39m], \n\u001b[1;32m     30\u001b[0m                 transactionHash \u001b[38;5;241m=\u001b[39m tdf[\u001b[38;5;124m'\u001b[39m\u001b[38;5;124mtransactionHash\u001b[39m\u001b[38;5;124m'\u001b[39m])\n\u001b[1;32m     32\u001b[0m \u001b[38;5;28;01mif\u001b[39;00m tdf[\u001b[38;5;124m'\u001b[39m\u001b[38;5;124mevent\u001b[39m\u001b[38;5;124m'\u001b[39m] \u001b[38;5;241m==\u001b[39m \u001b[38;5;124m'\u001b[39m\u001b[38;5;124mBurn\u001b[39m\u001b[38;5;124m'\u001b[39m:\n\u001b[0;32m---> 33\u001b[0m     \u001b[43mclm\u001b[49m\u001b[38;5;241;43m.\u001b[39;49m\u001b[43mBurn\u001b[49m\u001b[43m(\u001b[49m\u001b[43mtickLower\u001b[49m\u001b[43m \u001b[49m\u001b[38;5;241;43m=\u001b[39;49m\u001b[43m \u001b[49m\u001b[43mtdf\u001b[49m\u001b[43m[\u001b[49m\u001b[38;5;124;43m'\u001b[39;49m\u001b[38;5;124;43margs.tickLower\u001b[39;49m\u001b[38;5;124;43m'\u001b[39;49m\u001b[43m]\u001b[49m\u001b[43m,\u001b[49m\u001b[43m \u001b[49m\n\u001b[1;32m     34\u001b[0m \u001b[43m            \u001b[49m\u001b[43mtickUpper\u001b[49m\u001b[43m \u001b[49m\u001b[38;5;241;43m=\u001b[39;49m\u001b[43m \u001b[49m\u001b[43mtdf\u001b[49m\u001b[43m[\u001b[49m\u001b[38;5;124;43m'\u001b[39;49m\u001b[38;5;124;43margs.tickUpper\u001b[39;49m\u001b[38;5;124;43m'\u001b[39;49m\u001b[43m]\u001b[49m\u001b[43m,\u001b[49m\u001b[43m \u001b[49m\n\u001b[1;32m     35\u001b[0m \u001b[43m            \u001b[49m\u001b[43mamount\u001b[49m\u001b[43m \u001b[49m\u001b[38;5;241;43m=\u001b[39;49m\u001b[43m \u001b[49m\u001b[43mtdf\u001b[49m\u001b[43m[\u001b[49m\u001b[38;5;124;43m'\u001b[39;49m\u001b[38;5;124;43margs.amount\u001b[39;49m\u001b[38;5;124;43m'\u001b[39;49m\u001b[43m]\u001b[49m\u001b[43m,\u001b[49m\n\u001b[1;32m     36\u001b[0m \u001b[43m            \u001b[49m\u001b[43mamount0\u001b[49m\u001b[43m \u001b[49m\u001b[38;5;241;43m=\u001b[39;49m\u001b[43m \u001b[49m\u001b[43mtdf\u001b[49m\u001b[43m[\u001b[49m\u001b[38;5;124;43m'\u001b[39;49m\u001b[38;5;124;43margs.amount0\u001b[39;49m\u001b[38;5;124;43m'\u001b[39;49m\u001b[43m]\u001b[49m\u001b[43m,\u001b[49m\n\u001b[1;32m     37\u001b[0m \u001b[43m            \u001b[49m\u001b[43mamount1\u001b[49m\u001b[43m \u001b[49m\u001b[38;5;241;43m=\u001b[39;49m\u001b[43m \u001b[49m\u001b[43mtdf\u001b[49m\u001b[43m[\u001b[49m\u001b[38;5;124;43m'\u001b[39;49m\u001b[38;5;124;43margs.amount1\u001b[39;49m\u001b[38;5;124;43m'\u001b[39;49m\u001b[43m]\u001b[49m\u001b[43m,\u001b[49m\n\u001b[1;32m     38\u001b[0m \u001b[43m            \u001b[49m\u001b[43mowner\u001b[49m\u001b[43m \u001b[49m\u001b[38;5;241;43m=\u001b[39;49m\u001b[43m \u001b[49m\u001b[43mtdf\u001b[49m\u001b[43m[\u001b[49m\u001b[38;5;124;43m'\u001b[39;49m\u001b[38;5;124;43margs.owner\u001b[39;49m\u001b[38;5;124;43m'\u001b[39;49m\u001b[43m]\u001b[49m\u001b[43m,\u001b[49m\n\u001b[1;32m     39\u001b[0m \u001b[43m            \u001b[49m\u001b[43mblockNumber\u001b[49m\u001b[43m \u001b[49m\u001b[38;5;241;43m=\u001b[39;49m\u001b[43m \u001b[49m\u001b[43mtdf\u001b[49m\u001b[43m[\u001b[49m\u001b[38;5;124;43m'\u001b[39;49m\u001b[38;5;124;43mblockNumber\u001b[39;49m\u001b[38;5;124;43m'\u001b[39;49m\u001b[43m]\u001b[49m\u001b[43m,\u001b[49m\u001b[43m \u001b[49m\n\u001b[1;32m     40\u001b[0m \u001b[43m            \u001b[49m\u001b[43mtransactionIndex\u001b[49m\u001b[43m \u001b[49m\u001b[38;5;241;43m=\u001b[39;49m\u001b[43m \u001b[49m\u001b[43mtdf\u001b[49m\u001b[43m[\u001b[49m\u001b[38;5;124;43m'\u001b[39;49m\u001b[38;5;124;43mtransactionIndex\u001b[39;49m\u001b[38;5;124;43m'\u001b[39;49m\u001b[43m]\u001b[49m\u001b[43m,\u001b[49m\u001b[43m \u001b[49m\n\u001b[1;32m     41\u001b[0m \u001b[43m            \u001b[49m\u001b[43mlogIndex\u001b[49m\u001b[43m \u001b[49m\u001b[38;5;241;43m=\u001b[39;49m\u001b[43m \u001b[49m\u001b[43mtdf\u001b[49m\u001b[43m[\u001b[49m\u001b[38;5;124;43m'\u001b[39;49m\u001b[38;5;124;43mlogIndex\u001b[39;49m\u001b[38;5;124;43m'\u001b[39;49m\u001b[43m]\u001b[49m\u001b[43m,\u001b[49m\u001b[43m \u001b[49m\n\u001b[1;32m     42\u001b[0m \u001b[43m            \u001b[49m\u001b[43mtransactionHash\u001b[49m\u001b[43m \u001b[49m\u001b[38;5;241;43m=\u001b[39;49m\u001b[43m \u001b[49m\u001b[43mtdf\u001b[49m\u001b[43m[\u001b[49m\u001b[38;5;124;43m'\u001b[39;49m\u001b[38;5;124;43mtransactionHash\u001b[39;49m\u001b[38;5;124;43m'\u001b[39;49m\u001b[43m]\u001b[49m\u001b[43m)\u001b[49m\n\u001b[1;32m     44\u001b[0m \u001b[38;5;28;01mif\u001b[39;00m tdf[\u001b[38;5;124m'\u001b[39m\u001b[38;5;124mevent\u001b[39m\u001b[38;5;124m'\u001b[39m] \u001b[38;5;241m==\u001b[39m \u001b[38;5;124m'\u001b[39m\u001b[38;5;124mMint\u001b[39m\u001b[38;5;124m'\u001b[39m:\n\u001b[1;32m     45\u001b[0m     clm\u001b[38;5;241m.\u001b[39mMint(tickLower \u001b[38;5;241m=\u001b[39m tdf[\u001b[38;5;124m'\u001b[39m\u001b[38;5;124margs.tickLower\u001b[39m\u001b[38;5;124m'\u001b[39m], \n\u001b[1;32m     46\u001b[0m              tickUpper \u001b[38;5;241m=\u001b[39m tdf[\u001b[38;5;124m'\u001b[39m\u001b[38;5;124margs.tickUpper\u001b[39m\u001b[38;5;124m'\u001b[39m], \n\u001b[1;32m     47\u001b[0m              amount \u001b[38;5;241m=\u001b[39m tdf[\u001b[38;5;124m'\u001b[39m\u001b[38;5;124margs.amount\u001b[39m\u001b[38;5;124m'\u001b[39m],\n\u001b[0;32m   (...)\u001b[0m\n\u001b[1;32m     53\u001b[0m              logIndex \u001b[38;5;241m=\u001b[39m tdf[\u001b[38;5;124m'\u001b[39m\u001b[38;5;124mlogIndex\u001b[39m\u001b[38;5;124m'\u001b[39m], \n\u001b[1;32m     54\u001b[0m              transactionHash \u001b[38;5;241m=\u001b[39m tdf[\u001b[38;5;124m'\u001b[39m\u001b[38;5;124mtransactionHash\u001b[39m\u001b[38;5;124m'\u001b[39m])\n",
      "Cell \u001b[0;32mIn[114], line 159\u001b[0m, in \u001b[0;36mConcentratedLiquidity.Burn\u001b[0;34m(self, tickLower, tickUpper, amount, amount0, amount1, owner, blockNumber, transactionIndex, logIndex, transactionHash)\u001b[0m\n\u001b[1;32m    156\u001b[0m     i \u001b[38;5;241m=\u001b[39m blpos\u001b[38;5;241m.\u001b[39mindex[\u001b[38;5;241m0\u001b[39m]\n\u001b[1;32m    158\u001b[0m \u001b[38;5;28;01melif\u001b[39;00m \u001b[38;5;28mlen\u001b[39m(blpos) \u001b[38;5;241m==\u001b[39m \u001b[38;5;241m0\u001b[39m:\n\u001b[0;32m--> 159\u001b[0m     \u001b[38;5;28;01mraise\u001b[39;00m BurnMintMatchError(\u001b[38;5;124m\"\u001b[39m\u001b[38;5;124mCannot match mints and burns because there is no L with same tick range\u001b[39m\u001b[38;5;124m\"\u001b[39m)\n\u001b[1;32m    161\u001b[0m \u001b[38;5;28;01melse\u001b[39;00m:\n\u001b[1;32m    162\u001b[0m     \u001b[38;5;28;01mraise\u001b[39;00m BurnMintMatchError(\u001b[38;5;124m\"\u001b[39m\u001b[38;5;124mCannot match mints and burns more the one position with same L\u001b[39m\u001b[38;5;124m\"\u001b[39m)\n",
      "\u001b[0;31mBurnMintMatchError\u001b[0m: Cannot match mints and burns because there is no L with same tick range"
     ]
    }
   ],
   "source": [
    "tdf = df.loc[df['event'] == 'Initialize']\n",
    "clm.Initialize(sqrtPriceX96 = tdf['args.sqrtPriceX96'].iloc[0], \n",
    "                        tick = tdf['args.tick'].iloc[0])\n",
    "\n",
    "pos_dfs = []\n",
    "for i in range(len(df)):\n",
    "    tdf = df.iloc[i]\n",
    "\n",
    "    if tdf['event'] == 'Swap':\n",
    "        clm.Swap(blockNumber = tdf['blockNumber'],\n",
    "                 transactionIndex = tdf['transactionIndex'],\n",
    "                logIndex = tdf['logIndex'],\n",
    "                transactionHash = tdf['transactionHash'],\n",
    "                sender = tdf['args.sender'],\n",
    "                recipient = tdf['args.recipient'],\n",
    "                amount0 = tdf['args.amount0'],\n",
    "                amount1 = tdf['args.amount1'],\n",
    "                tick = None,#tdf['args.tick'],\n",
    "                liquidity = None)#tdf['args.liquidity'])\n",
    "\n",
    "    if tdf['event'] == 'Collect':\n",
    "        clm.Collect(tickLower = tdf['args.tickLower'], \n",
    "                    tickUpper = tdf['args.tickUpper'], \n",
    "                    amount0 = tdf['args.amount0'],\n",
    "                    amount1 = tdf['args.amount1'],\n",
    "                    recipient = tdf['args.recipient'],\n",
    "                    blockNumber = tdf['blockNumber'], \n",
    "                    transactionIndex = tdf['transactionIndex'], \n",
    "                    logIndex = tdf['logIndex'], \n",
    "                    transactionHash = tdf['transactionHash'])\n",
    "\n",
    "    if tdf['event'] == 'Burn':\n",
    "        clm.Burn(tickLower = tdf['args.tickLower'], \n",
    "                tickUpper = tdf['args.tickUpper'], \n",
    "                amount = tdf['args.amount'],\n",
    "                amount0 = tdf['args.amount0'],\n",
    "                amount1 = tdf['args.amount1'],\n",
    "                owner = tdf['args.owner'],\n",
    "                blockNumber = tdf['blockNumber'], \n",
    "                transactionIndex = tdf['transactionIndex'], \n",
    "                logIndex = tdf['logIndex'], \n",
    "                transactionHash = tdf['transactionHash'])\n",
    "\n",
    "    if tdf['event'] == 'Mint':\n",
    "        clm.Mint(tickLower = tdf['args.tickLower'], \n",
    "                 tickUpper = tdf['args.tickUpper'], \n",
    "                 amount = tdf['args.amount'],\n",
    "                 amount0 = tdf['args.amount0'],\n",
    "                 amount1 = tdf['args.amount1'],\n",
    "                 sender = tdf['args.sender'],\n",
    "                 blockNumber = tdf['blockNumber'], \n",
    "                 transactionIndex = tdf['transactionIndex'], \n",
    "                 logIndex = tdf['logIndex'], \n",
    "                 transactionHash = tdf['transactionHash'])\n",
    "    \n",
    "    pos_dfs.append(clm.positions)\n",
    "        \n",
    "position_df = pd.concat(pos_dfs)\n",
    "position_df.drop_duplicates(subset=['last_L', 'start_L', 'tickLower', 'tickUpper', 'owner', 'start_token0_holdings', 'start_token1_holdings', 'last_token0_holdings', 'last_token1_holdings', 'token0_fees_accrued', 'token1_fees_accrued', 'token0_collected', 'token1_collected', 'start_logIndex', 'start_blockNumber', 'start_transactionIndex', 'start_transactionHash'], \n",
    "                            keep = 'first', inplace = True)\n",
    "\n",
    "        \n",
    "\n"
   ]
  },
  {
   "cell_type": "code",
   "execution_count": 117,
   "metadata": {},
   "outputs": [
    {
     "data": {
      "text/html": [
       "<div>\n",
       "<style scoped>\n",
       "    .dataframe tbody tr th:only-of-type {\n",
       "        vertical-align: middle;\n",
       "    }\n",
       "\n",
       "    .dataframe tbody tr th {\n",
       "        vertical-align: top;\n",
       "    }\n",
       "\n",
       "    .dataframe thead th {\n",
       "        text-align: right;\n",
       "    }\n",
       "</style>\n",
       "<table border=\"1\" class=\"dataframe\">\n",
       "  <thead>\n",
       "    <tr style=\"text-align: right;\">\n",
       "      <th></th>\n",
       "      <th>last_L</th>\n",
       "      <th>start_L</th>\n",
       "      <th>tickLower</th>\n",
       "      <th>tickUpper</th>\n",
       "      <th>owner</th>\n",
       "      <th>start_token0_holdings</th>\n",
       "      <th>start_token1_holdings</th>\n",
       "      <th>last_token0_holdings</th>\n",
       "      <th>last_token1_holdings</th>\n",
       "      <th>token0_fees_accrued</th>\n",
       "      <th>token1_fees_accrued</th>\n",
       "      <th>token0_collected</th>\n",
       "      <th>token1_collected</th>\n",
       "      <th>start_logIndex</th>\n",
       "      <th>start_blockNumber</th>\n",
       "      <th>start_transactionIndex</th>\n",
       "      <th>start_transactionHash</th>\n",
       "      <th>last_logIndex</th>\n",
       "      <th>last_blockNumber</th>\n",
       "      <th>last_transactionIndex</th>\n",
       "      <th>last_transactionHash</th>\n",
       "      <th>active</th>\n",
       "    </tr>\n",
       "  </thead>\n",
       "  <tbody>\n",
       "    <tr>\n",
       "      <th>0</th>\n",
       "      <td>8.210905e+15</td>\n",
       "      <td>8.210905e+15</td>\n",
       "      <td>-197400.0</td>\n",
       "      <td>-193320.0</td>\n",
       "      <td>0xC36442b4a4522E871399CD717aBDD847Ab11FE88</td>\n",
       "      <td>1.242324e+19</td>\n",
       "      <td>5.050028e+10</td>\n",
       "      <td>1.043564e+19</td>\n",
       "      <td>5.725322e+10</td>\n",
       "      <td>3.776977e+16</td>\n",
       "      <td>1.512614e+08</td>\n",
       "      <td>0.0</td>\n",
       "      <td>0.0</td>\n",
       "      <td>31</td>\n",
       "      <td>12375326</td>\n",
       "      <td>11</td>\n",
       "      <td>0x2e07c690f149223e4f290986277304ea6a05c6ee47ba303732166bc1b15cbafb</td>\n",
       "      <td>48</td>\n",
       "      <td>12378991</td>\n",
       "      <td>21</td>\n",
       "      <td>0x6f622a5ff42de9e903318e8aabf039625e1d0db55cf5ac2e522ca9bb86157757</td>\n",
       "      <td>True</td>\n",
       "    </tr>\n",
       "    <tr>\n",
       "      <th>1</th>\n",
       "      <td>1.935471e+13</td>\n",
       "      <td>1.935471e+13</td>\n",
       "      <td>-195120.0</td>\n",
       "      <td>-195060.0</td>\n",
       "      <td>0xC36442b4a4522E871399CD717aBDD847Ab11FE88</td>\n",
       "      <td>1.000000e+15</td>\n",
       "      <td>0.000000e+00</td>\n",
       "      <td>0.000000e+00</td>\n",
       "      <td>3.371107e+06</td>\n",
       "      <td>0.000000e+00</td>\n",
       "      <td>1.014375e+04</td>\n",
       "      <td>0.0</td>\n",
       "      <td>0.0</td>\n",
       "      <td>307</td>\n",
       "      <td>12375529</td>\n",
       "      <td>212</td>\n",
       "      <td>0x85a3f0ed4fc14085609e95e7366364566b89d7569e62e4a828d1ef1e5dc81e58</td>\n",
       "      <td>48</td>\n",
       "      <td>12378991</td>\n",
       "      <td>21</td>\n",
       "      <td>0x6f622a5ff42de9e903318e8aabf039625e1d0db55cf5ac2e522ca9bb86157757</td>\n",
       "      <td>True</td>\n",
       "    </tr>\n",
       "    <tr>\n",
       "      <th>2</th>\n",
       "      <td>3.509242e+09</td>\n",
       "      <td>3.509242e+09</td>\n",
       "      <td>-195180.0</td>\n",
       "      <td>-195120.0</td>\n",
       "      <td>0xC36442b4a4522E871399CD717aBDD847Ab11FE88</td>\n",
       "      <td>9.995372e+10</td>\n",
       "      <td>2.740000e+02</td>\n",
       "      <td>0.000000e+00</td>\n",
       "      <td>6.093916e+02</td>\n",
       "      <td>4.935618e+07</td>\n",
       "      <td>1.174541e+00</td>\n",
       "      <td>0.0</td>\n",
       "      <td>0.0</td>\n",
       "      <td>148</td>\n",
       "      <td>12375553</td>\n",
       "      <td>104</td>\n",
       "      <td>0x0fde2929c1fa5dd5dc9a0fcfbf8adccdeefbc398aa36ff019aa2b15eded23552</td>\n",
       "      <td>48</td>\n",
       "      <td>12378991</td>\n",
       "      <td>21</td>\n",
       "      <td>0x6f622a5ff42de9e903318e8aabf039625e1d0db55cf5ac2e522ca9bb86157757</td>\n",
       "      <td>True</td>\n",
       "    </tr>\n",
       "    <tr>\n",
       "      <th>3</th>\n",
       "      <td>3.510779e+11</td>\n",
       "      <td>3.510779e+11</td>\n",
       "      <td>-195180.0</td>\n",
       "      <td>-195120.0</td>\n",
       "      <td>0xC36442b4a4522E871399CD717aBDD847Ab11FE88</td>\n",
       "      <td>9.999750e+12</td>\n",
       "      <td>2.741200e+04</td>\n",
       "      <td>0.000000e+00</td>\n",
       "      <td>6.096585e+04</td>\n",
       "      <td>4.937780e+09</td>\n",
       "      <td>1.175055e+02</td>\n",
       "      <td>0.0</td>\n",
       "      <td>0.0</td>\n",
       "      <td>99</td>\n",
       "      <td>12375566</td>\n",
       "      <td>44</td>\n",
       "      <td>0x34ca11f7f1c6a4d8d17cabf14c6d0ffa5116a693508cd974c882e06308479820</td>\n",
       "      <td>48</td>\n",
       "      <td>12378991</td>\n",
       "      <td>21</td>\n",
       "      <td>0x6f622a5ff42de9e903318e8aabf039625e1d0db55cf5ac2e522ca9bb86157757</td>\n",
       "      <td>True</td>\n",
       "    </tr>\n",
       "    <tr>\n",
       "      <th>4</th>\n",
       "      <td>3.510779e+11</td>\n",
       "      <td>3.510779e+11</td>\n",
       "      <td>-195180.0</td>\n",
       "      <td>-195120.0</td>\n",
       "      <td>0xC36442b4a4522E871399CD717aBDD847Ab11FE88</td>\n",
       "      <td>9.999750e+12</td>\n",
       "      <td>2.741200e+04</td>\n",
       "      <td>0.000000e+00</td>\n",
       "      <td>6.096585e+04</td>\n",
       "      <td>4.937780e+09</td>\n",
       "      <td>1.175055e+02</td>\n",
       "      <td>0.0</td>\n",
       "      <td>0.0</td>\n",
       "      <td>105</td>\n",
       "      <td>12375566</td>\n",
       "      <td>45</td>\n",
       "      <td>0x9ece74425a9b5b937b51e14d4fbb9eb7aa6f6ae415d51a460b6f56335d31b9f7</td>\n",
       "      <td>48</td>\n",
       "      <td>12378991</td>\n",
       "      <td>21</td>\n",
       "      <td>0x6f622a5ff42de9e903318e8aabf039625e1d0db55cf5ac2e522ca9bb86157757</td>\n",
       "      <td>True</td>\n",
       "    </tr>\n",
       "    <tr>\n",
       "      <th>...</th>\n",
       "      <td>...</td>\n",
       "      <td>...</td>\n",
       "      <td>...</td>\n",
       "      <td>...</td>\n",
       "      <td>...</td>\n",
       "      <td>...</td>\n",
       "      <td>...</td>\n",
       "      <td>...</td>\n",
       "      <td>...</td>\n",
       "      <td>...</td>\n",
       "      <td>...</td>\n",
       "      <td>...</td>\n",
       "      <td>...</td>\n",
       "      <td>...</td>\n",
       "      <td>...</td>\n",
       "      <td>...</td>\n",
       "      <td>...</td>\n",
       "      <td>...</td>\n",
       "      <td>...</td>\n",
       "      <td>...</td>\n",
       "      <td>...</td>\n",
       "      <td>...</td>\n",
       "    </tr>\n",
       "    <tr>\n",
       "      <th>129</th>\n",
       "      <td>2.589468e+16</td>\n",
       "      <td>2.589468e+16</td>\n",
       "      <td>-196260.0</td>\n",
       "      <td>-193380.0</td>\n",
       "      <td>0xC36442b4a4522E871399CD717aBDD847Ab11FE88</td>\n",
       "      <td>3.168309e+19</td>\n",
       "      <td>1.019990e+11</td>\n",
       "      <td>3.168439e+19</td>\n",
       "      <td>1.019945e+11</td>\n",
       "      <td>2.235539e+14</td>\n",
       "      <td>7.565801e+05</td>\n",
       "      <td>0.0</td>\n",
       "      <td>0.0</td>\n",
       "      <td>300</td>\n",
       "      <td>12378923</td>\n",
       "      <td>204</td>\n",
       "      <td>0x40eb3b258a20db0a8145c1089cc614987e5cebc146f4fb60af9b4ab7d9f43084</td>\n",
       "      <td>48</td>\n",
       "      <td>12378991</td>\n",
       "      <td>21</td>\n",
       "      <td>0x6f622a5ff42de9e903318e8aabf039625e1d0db55cf5ac2e522ca9bb86157757</td>\n",
       "      <td>True</td>\n",
       "    </tr>\n",
       "    <tr>\n",
       "      <th>130</th>\n",
       "      <td>1.018489e+14</td>\n",
       "      <td>1.018489e+14</td>\n",
       "      <td>-195120.0</td>\n",
       "      <td>-194700.0</td>\n",
       "      <td>0xC36442b4a4522E871399CD717aBDD847Ab11FE88</td>\n",
       "      <td>1.500000e+16</td>\n",
       "      <td>7.317852e+07</td>\n",
       "      <td>1.475283e+16</td>\n",
       "      <td>7.403008e+07</td>\n",
       "      <td>0.000000e+00</td>\n",
       "      <td>2.562171e+03</td>\n",
       "      <td>0.0</td>\n",
       "      <td>0.0</td>\n",
       "      <td>145</td>\n",
       "      <td>12378944</td>\n",
       "      <td>56</td>\n",
       "      <td>0x560cd18f3f3e594fe81451b239208fb39c692b8c84e31400841f92b126f7b4a2</td>\n",
       "      <td>48</td>\n",
       "      <td>12378991</td>\n",
       "      <td>21</td>\n",
       "      <td>0x6f622a5ff42de9e903318e8aabf039625e1d0db55cf5ac2e522ca9bb86157757</td>\n",
       "      <td>True</td>\n",
       "    </tr>\n",
       "    <tr>\n",
       "      <th>131</th>\n",
       "      <td>2.222554e+13</td>\n",
       "      <td>2.222554e+13</td>\n",
       "      <td>-195180.0</td>\n",
       "      <td>-194520.0</td>\n",
       "      <td>0xC36442b4a4522E871399CD717aBDD847Ab11FE88</td>\n",
       "      <td>6.586864e+15</td>\n",
       "      <td>2.000000e+07</td>\n",
       "      <td>6.582675e+15</td>\n",
       "      <td>2.001444e+07</td>\n",
       "      <td>0.000000e+00</td>\n",
       "      <td>4.339093e+01</td>\n",
       "      <td>0.0</td>\n",
       "      <td>0.0</td>\n",
       "      <td>328</td>\n",
       "      <td>12378978</td>\n",
       "      <td>124</td>\n",
       "      <td>0x7aeb13b8269ec3a8a7a8c8957e3f0f2ebb5ce861d2b9eaead35be824b7afd66b</td>\n",
       "      <td>48</td>\n",
       "      <td>12378991</td>\n",
       "      <td>21</td>\n",
       "      <td>0x6f622a5ff42de9e903318e8aabf039625e1d0db55cf5ac2e522ca9bb86157757</td>\n",
       "      <td>True</td>\n",
       "    </tr>\n",
       "    <tr>\n",
       "      <th>132</th>\n",
       "      <td>2.650137e+07</td>\n",
       "      <td>2.650137e+07</td>\n",
       "      <td>-195000.0</td>\n",
       "      <td>-194760.0</td>\n",
       "      <td>0xC36442b4a4522E871399CD717aBDD847Ab11FE88</td>\n",
       "      <td>2.498902e+09</td>\n",
       "      <td>1.000000e+01</td>\n",
       "      <td>2.493907e+09</td>\n",
       "      <td>1.001721e+01</td>\n",
       "      <td>0.000000e+00</td>\n",
       "      <td>5.173863e-05</td>\n",
       "      <td>0.0</td>\n",
       "      <td>0.0</td>\n",
       "      <td>67</td>\n",
       "      <td>12378979</td>\n",
       "      <td>46</td>\n",
       "      <td>0xca0741b45c497247c61bd0f3ff0fa0bad17160df22d32c46b83c433ff055ef48</td>\n",
       "      <td>48</td>\n",
       "      <td>12378991</td>\n",
       "      <td>21</td>\n",
       "      <td>0x6f622a5ff42de9e903318e8aabf039625e1d0db55cf5ac2e522ca9bb86157757</td>\n",
       "      <td>True</td>\n",
       "    </tr>\n",
       "    <tr>\n",
       "      <th>133</th>\n",
       "      <td>4.840058e+14</td>\n",
       "      <td>4.840058e+14</td>\n",
       "      <td>-196500.0</td>\n",
       "      <td>-193620.0</td>\n",
       "      <td>0xC36442b4a4522E871399CD717aBDD847Ab11FE88</td>\n",
       "      <td>4.998382e+17</td>\n",
       "      <td>2.222559e+09</td>\n",
       "      <td>4.998382e+17</td>\n",
       "      <td>2.222559e+09</td>\n",
       "      <td>0.000000e+00</td>\n",
       "      <td>0.000000e+00</td>\n",
       "      <td>0.0</td>\n",
       "      <td>0.0</td>\n",
       "      <td>105</td>\n",
       "      <td>12378991</td>\n",
       "      <td>47</td>\n",
       "      <td>0x544a157f087638211aa7957684fff32faabe1d12c6a214729893e6abcab14f18</td>\n",
       "      <td>105</td>\n",
       "      <td>12378991</td>\n",
       "      <td>47</td>\n",
       "      <td>0x544a157f087638211aa7957684fff32faabe1d12c6a214729893e6abcab14f18</td>\n",
       "      <td>True</td>\n",
       "    </tr>\n",
       "  </tbody>\n",
       "</table>\n",
       "<p>134 rows × 22 columns</p>\n",
       "</div>"
      ],
      "text/plain": [
       "           last_L       start_L  tickLower  tickUpper  \\\n",
       "0    8.210905e+15  8.210905e+15  -197400.0  -193320.0   \n",
       "1    1.935471e+13  1.935471e+13  -195120.0  -195060.0   \n",
       "2    3.509242e+09  3.509242e+09  -195180.0  -195120.0   \n",
       "3    3.510779e+11  3.510779e+11  -195180.0  -195120.0   \n",
       "4    3.510779e+11  3.510779e+11  -195180.0  -195120.0   \n",
       "..            ...           ...        ...        ...   \n",
       "129  2.589468e+16  2.589468e+16  -196260.0  -193380.0   \n",
       "130  1.018489e+14  1.018489e+14  -195120.0  -194700.0   \n",
       "131  2.222554e+13  2.222554e+13  -195180.0  -194520.0   \n",
       "132  2.650137e+07  2.650137e+07  -195000.0  -194760.0   \n",
       "133  4.840058e+14  4.840058e+14  -196500.0  -193620.0   \n",
       "\n",
       "                                          owner  start_token0_holdings  \\\n",
       "0    0xC36442b4a4522E871399CD717aBDD847Ab11FE88           1.242324e+19   \n",
       "1    0xC36442b4a4522E871399CD717aBDD847Ab11FE88           1.000000e+15   \n",
       "2    0xC36442b4a4522E871399CD717aBDD847Ab11FE88           9.995372e+10   \n",
       "3    0xC36442b4a4522E871399CD717aBDD847Ab11FE88           9.999750e+12   \n",
       "4    0xC36442b4a4522E871399CD717aBDD847Ab11FE88           9.999750e+12   \n",
       "..                                          ...                    ...   \n",
       "129  0xC36442b4a4522E871399CD717aBDD847Ab11FE88           3.168309e+19   \n",
       "130  0xC36442b4a4522E871399CD717aBDD847Ab11FE88           1.500000e+16   \n",
       "131  0xC36442b4a4522E871399CD717aBDD847Ab11FE88           6.586864e+15   \n",
       "132  0xC36442b4a4522E871399CD717aBDD847Ab11FE88           2.498902e+09   \n",
       "133  0xC36442b4a4522E871399CD717aBDD847Ab11FE88           4.998382e+17   \n",
       "\n",
       "     start_token1_holdings  last_token0_holdings  last_token1_holdings  \\\n",
       "0             5.050028e+10          1.043564e+19          5.725322e+10   \n",
       "1             0.000000e+00          0.000000e+00          3.371107e+06   \n",
       "2             2.740000e+02          0.000000e+00          6.093916e+02   \n",
       "3             2.741200e+04          0.000000e+00          6.096585e+04   \n",
       "4             2.741200e+04          0.000000e+00          6.096585e+04   \n",
       "..                     ...                   ...                   ...   \n",
       "129           1.019990e+11          3.168439e+19          1.019945e+11   \n",
       "130           7.317852e+07          1.475283e+16          7.403008e+07   \n",
       "131           2.000000e+07          6.582675e+15          2.001444e+07   \n",
       "132           1.000000e+01          2.493907e+09          1.001721e+01   \n",
       "133           2.222559e+09          4.998382e+17          2.222559e+09   \n",
       "\n",
       "     token0_fees_accrued  token1_fees_accrued  token0_collected  \\\n",
       "0           3.776977e+16         1.512614e+08               0.0   \n",
       "1           0.000000e+00         1.014375e+04               0.0   \n",
       "2           4.935618e+07         1.174541e+00               0.0   \n",
       "3           4.937780e+09         1.175055e+02               0.0   \n",
       "4           4.937780e+09         1.175055e+02               0.0   \n",
       "..                   ...                  ...               ...   \n",
       "129         2.235539e+14         7.565801e+05               0.0   \n",
       "130         0.000000e+00         2.562171e+03               0.0   \n",
       "131         0.000000e+00         4.339093e+01               0.0   \n",
       "132         0.000000e+00         5.173863e-05               0.0   \n",
       "133         0.000000e+00         0.000000e+00               0.0   \n",
       "\n",
       "     token1_collected  start_logIndex  start_blockNumber  \\\n",
       "0                 0.0              31           12375326   \n",
       "1                 0.0             307           12375529   \n",
       "2                 0.0             148           12375553   \n",
       "3                 0.0              99           12375566   \n",
       "4                 0.0             105           12375566   \n",
       "..                ...             ...                ...   \n",
       "129               0.0             300           12378923   \n",
       "130               0.0             145           12378944   \n",
       "131               0.0             328           12378978   \n",
       "132               0.0              67           12378979   \n",
       "133               0.0             105           12378991   \n",
       "\n",
       "     start_transactionIndex  \\\n",
       "0                        11   \n",
       "1                       212   \n",
       "2                       104   \n",
       "3                        44   \n",
       "4                        45   \n",
       "..                      ...   \n",
       "129                     204   \n",
       "130                      56   \n",
       "131                     124   \n",
       "132                      46   \n",
       "133                      47   \n",
       "\n",
       "                                                  start_transactionHash  \\\n",
       "0    0x2e07c690f149223e4f290986277304ea6a05c6ee47ba303732166bc1b15cbafb   \n",
       "1    0x85a3f0ed4fc14085609e95e7366364566b89d7569e62e4a828d1ef1e5dc81e58   \n",
       "2    0x0fde2929c1fa5dd5dc9a0fcfbf8adccdeefbc398aa36ff019aa2b15eded23552   \n",
       "3    0x34ca11f7f1c6a4d8d17cabf14c6d0ffa5116a693508cd974c882e06308479820   \n",
       "4    0x9ece74425a9b5b937b51e14d4fbb9eb7aa6f6ae415d51a460b6f56335d31b9f7   \n",
       "..                                                                  ...   \n",
       "129  0x40eb3b258a20db0a8145c1089cc614987e5cebc146f4fb60af9b4ab7d9f43084   \n",
       "130  0x560cd18f3f3e594fe81451b239208fb39c692b8c84e31400841f92b126f7b4a2   \n",
       "131  0x7aeb13b8269ec3a8a7a8c8957e3f0f2ebb5ce861d2b9eaead35be824b7afd66b   \n",
       "132  0xca0741b45c497247c61bd0f3ff0fa0bad17160df22d32c46b83c433ff055ef48   \n",
       "133  0x544a157f087638211aa7957684fff32faabe1d12c6a214729893e6abcab14f18   \n",
       "\n",
       "     last_logIndex  last_blockNumber  last_transactionIndex  \\\n",
       "0               48          12378991                     21   \n",
       "1               48          12378991                     21   \n",
       "2               48          12378991                     21   \n",
       "3               48          12378991                     21   \n",
       "4               48          12378991                     21   \n",
       "..             ...               ...                    ...   \n",
       "129             48          12378991                     21   \n",
       "130             48          12378991                     21   \n",
       "131             48          12378991                     21   \n",
       "132             48          12378991                     21   \n",
       "133            105          12378991                     47   \n",
       "\n",
       "                                                   last_transactionHash  \\\n",
       "0    0x6f622a5ff42de9e903318e8aabf039625e1d0db55cf5ac2e522ca9bb86157757   \n",
       "1    0x6f622a5ff42de9e903318e8aabf039625e1d0db55cf5ac2e522ca9bb86157757   \n",
       "2    0x6f622a5ff42de9e903318e8aabf039625e1d0db55cf5ac2e522ca9bb86157757   \n",
       "3    0x6f622a5ff42de9e903318e8aabf039625e1d0db55cf5ac2e522ca9bb86157757   \n",
       "4    0x6f622a5ff42de9e903318e8aabf039625e1d0db55cf5ac2e522ca9bb86157757   \n",
       "..                                                                  ...   \n",
       "129  0x6f622a5ff42de9e903318e8aabf039625e1d0db55cf5ac2e522ca9bb86157757   \n",
       "130  0x6f622a5ff42de9e903318e8aabf039625e1d0db55cf5ac2e522ca9bb86157757   \n",
       "131  0x6f622a5ff42de9e903318e8aabf039625e1d0db55cf5ac2e522ca9bb86157757   \n",
       "132  0x6f622a5ff42de9e903318e8aabf039625e1d0db55cf5ac2e522ca9bb86157757   \n",
       "133  0x544a157f087638211aa7957684fff32faabe1d12c6a214729893e6abcab14f18   \n",
       "\n",
       "     active  \n",
       "0      True  \n",
       "1      True  \n",
       "2      True  \n",
       "3      True  \n",
       "4      True  \n",
       "..      ...  \n",
       "129    True  \n",
       "130    True  \n",
       "131    True  \n",
       "132    True  \n",
       "133    True  \n",
       "\n",
       "[134 rows x 22 columns]"
      ]
     },
     "execution_count": 117,
     "metadata": {},
     "output_type": "execute_result"
    }
   ],
   "source": [
    "pos = clm.positions\n",
    "pos"
   ]
  },
  {
   "cell_type": "code",
   "execution_count": 128,
   "metadata": {},
   "outputs": [],
   "source": [
    "le = clm.view_all_pool_events().iloc[-1]"
   ]
  },
  {
   "cell_type": "code",
   "execution_count": 130,
   "metadata": {},
   "outputs": [
    {
     "data": {
      "text/plain": [
       "1.9421012448978996e+16"
      ]
     },
     "execution_count": 130,
     "metadata": {},
     "output_type": "execute_result"
    }
   ],
   "source": [
    "le['amount']"
   ]
  },
  {
   "cell_type": "code",
   "execution_count": 126,
   "metadata": {},
   "outputs": [
    {
     "data": {
      "text/html": [
       "<div>\n",
       "<style scoped>\n",
       "    .dataframe tbody tr th:only-of-type {\n",
       "        vertical-align: middle;\n",
       "    }\n",
       "\n",
       "    .dataframe tbody tr th {\n",
       "        vertical-align: top;\n",
       "    }\n",
       "\n",
       "    .dataframe thead th {\n",
       "        text-align: right;\n",
       "    }\n",
       "</style>\n",
       "<table border=\"1\" class=\"dataframe\">\n",
       "  <thead>\n",
       "    <tr style=\"text-align: right;\">\n",
       "      <th></th>\n",
       "      <th>last_L</th>\n",
       "      <th>start_L</th>\n",
       "      <th>tickLower</th>\n",
       "      <th>tickUpper</th>\n",
       "      <th>owner</th>\n",
       "      <th>start_token0_holdings</th>\n",
       "      <th>start_token1_holdings</th>\n",
       "      <th>last_token0_holdings</th>\n",
       "      <th>last_token1_holdings</th>\n",
       "      <th>token0_fees_accrued</th>\n",
       "      <th>token1_fees_accrued</th>\n",
       "      <th>token0_collected</th>\n",
       "      <th>token1_collected</th>\n",
       "      <th>start_logIndex</th>\n",
       "      <th>start_blockNumber</th>\n",
       "      <th>start_transactionIndex</th>\n",
       "      <th>start_transactionHash</th>\n",
       "      <th>last_logIndex</th>\n",
       "      <th>last_blockNumber</th>\n",
       "      <th>last_transactionIndex</th>\n",
       "      <th>last_transactionHash</th>\n",
       "      <th>active</th>\n",
       "    </tr>\n",
       "  </thead>\n",
       "  <tbody>\n",
       "    <tr>\n",
       "      <th>64</th>\n",
       "      <td>2.391451e+12</td>\n",
       "      <td>2.391451e+12</td>\n",
       "      <td>-196260.0</td>\n",
       "      <td>-193380.0</td>\n",
       "      <td>0xC36442b4a4522E871399CD717aBDD847Ab11FE88</td>\n",
       "      <td>2.758377e+15</td>\n",
       "      <td>1.000000e+07</td>\n",
       "      <td>2.926148e+15</td>\n",
       "      <td>9.419499e+06</td>\n",
       "      <td>2.501216e+12</td>\n",
       "      <td>6941.856102</td>\n",
       "      <td>0.0</td>\n",
       "      <td>0.0</td>\n",
       "      <td>77</td>\n",
       "      <td>12377638</td>\n",
       "      <td>64</td>\n",
       "      <td>0x8bf4fd993facf998cb4b2579aee65a6053b1ce59a29dc28f6c684c7935226f66</td>\n",
       "      <td>48</td>\n",
       "      <td>12378991</td>\n",
       "      <td>21</td>\n",
       "      <td>0x6f622a5ff42de9e903318e8aabf039625e1d0db55cf5ac2e522ca9bb86157757</td>\n",
       "      <td>True</td>\n",
       "    </tr>\n",
       "    <tr>\n",
       "      <th>70</th>\n",
       "      <td>1.066579e+14</td>\n",
       "      <td>1.066579e+14</td>\n",
       "      <td>-196260.0</td>\n",
       "      <td>-193380.0</td>\n",
       "      <td>0xC36442b4a4522E871399CD717aBDD847Ab11FE88</td>\n",
       "      <td>1.261930e+17</td>\n",
       "      <td>4.350007e+08</td>\n",
       "      <td>1.305052e+17</td>\n",
       "      <td>4.201064e+08</td>\n",
       "      <td>1.006686e+14</td>\n",
       "      <td>304931.701869</td>\n",
       "      <td>0.0</td>\n",
       "      <td>0.0</td>\n",
       "      <td>273</td>\n",
       "      <td>12377759</td>\n",
       "      <td>110</td>\n",
       "      <td>0x524a4b69f399fed8655f886865135cb8c1d21913df7c0dad9ed3d7beecefc823</td>\n",
       "      <td>48</td>\n",
       "      <td>12378991</td>\n",
       "      <td>21</td>\n",
       "      <td>0x6f622a5ff42de9e903318e8aabf039625e1d0db55cf5ac2e522ca9bb86157757</td>\n",
       "      <td>True</td>\n",
       "    </tr>\n",
       "    <tr>\n",
       "      <th>75</th>\n",
       "      <td>4.900862e+14</td>\n",
       "      <td>4.900862e+14</td>\n",
       "      <td>-196260.0</td>\n",
       "      <td>-193380.0</td>\n",
       "      <td>0xC36442b4a4522E871399CD717aBDD847Ab11FE88</td>\n",
       "      <td>5.554640e+17</td>\n",
       "      <td>2.083474e+09</td>\n",
       "      <td>5.996630e+17</td>\n",
       "      <td>1.930362e+09</td>\n",
       "      <td>4.192342e+14</td>\n",
       "      <td>995941.987740</td>\n",
       "      <td>0.0</td>\n",
       "      <td>0.0</td>\n",
       "      <td>91</td>\n",
       "      <td>12377962</td>\n",
       "      <td>44</td>\n",
       "      <td>0xe4c993872a2173fc890bdd9aaabda0ba6a00ef960e678bc3b8cc8f3f000abcfe</td>\n",
       "      <td>48</td>\n",
       "      <td>12378991</td>\n",
       "      <td>21</td>\n",
       "      <td>0x6f622a5ff42de9e903318e8aabf039625e1d0db55cf5ac2e522ca9bb86157757</td>\n",
       "      <td>True</td>\n",
       "    </tr>\n",
       "    <tr>\n",
       "      <th>94</th>\n",
       "      <td>7.060240e+14</td>\n",
       "      <td>7.060240e+14</td>\n",
       "      <td>-196260.0</td>\n",
       "      <td>-193380.0</td>\n",
       "      <td>0xC36442b4a4522E871399CD717aBDD847Ab11FE88</td>\n",
       "      <td>8.260166e+17</td>\n",
       "      <td>2.911791e+09</td>\n",
       "      <td>8.638817e+17</td>\n",
       "      <td>2.780902e+09</td>\n",
       "      <td>3.003979e+14</td>\n",
       "      <td>648515.062354</td>\n",
       "      <td>0.0</td>\n",
       "      <td>0.0</td>\n",
       "      <td>179</td>\n",
       "      <td>12378422</td>\n",
       "      <td>109</td>\n",
       "      <td>0x90f88e6d1d0a65c67bf4bad96f305b0290a1127af6f1750658144e89ce40d9ad</td>\n",
       "      <td>48</td>\n",
       "      <td>12378991</td>\n",
       "      <td>21</td>\n",
       "      <td>0x6f622a5ff42de9e903318e8aabf039625e1d0db55cf5ac2e522ca9bb86157757</td>\n",
       "      <td>True</td>\n",
       "    </tr>\n",
       "    <tr>\n",
       "      <th>116</th>\n",
       "      <td>4.240236e+15</td>\n",
       "      <td>4.240236e+15</td>\n",
       "      <td>-196260.0</td>\n",
       "      <td>-193380.0</td>\n",
       "      <td>0xC36442b4a4522E871399CD717aBDD847Ab11FE88</td>\n",
       "      <td>4.789742e+18</td>\n",
       "      <td>1.808250e+10</td>\n",
       "      <td>5.188298e+18</td>\n",
       "      <td>1.670153e+10</td>\n",
       "      <td>1.299647e+15</td>\n",
       "      <td>346764.484617</td>\n",
       "      <td>0.0</td>\n",
       "      <td>0.0</td>\n",
       "      <td>185</td>\n",
       "      <td>12378687</td>\n",
       "      <td>97</td>\n",
       "      <td>0x1ad3ab88fb3a2cb3a1525ae289370f0eab00b67d40675e5430f5b85d64af4d6f</td>\n",
       "      <td>48</td>\n",
       "      <td>12378991</td>\n",
       "      <td>21</td>\n",
       "      <td>0x6f622a5ff42de9e903318e8aabf039625e1d0db55cf5ac2e522ca9bb86157757</td>\n",
       "      <td>True</td>\n",
       "    </tr>\n",
       "    <tr>\n",
       "      <th>128</th>\n",
       "      <td>2.538718e+11</td>\n",
       "      <td>2.538718e+11</td>\n",
       "      <td>-196260.0</td>\n",
       "      <td>-193380.0</td>\n",
       "      <td>0xC36442b4a4522E871399CD717aBDD847Ab11FE88</td>\n",
       "      <td>3.106214e+14</td>\n",
       "      <td>1.000000e+06</td>\n",
       "      <td>3.106343e+14</td>\n",
       "      <td>9.999558e+05</td>\n",
       "      <td>2.191726e+09</td>\n",
       "      <td>7.417522</td>\n",
       "      <td>0.0</td>\n",
       "      <td>0.0</td>\n",
       "      <td>252</td>\n",
       "      <td>12378918</td>\n",
       "      <td>54</td>\n",
       "      <td>0xa38513bb1e034de9ec1e6ce6bbd9081a06f0a25145fc89315e66863f3f7e7fcd</td>\n",
       "      <td>48</td>\n",
       "      <td>12378991</td>\n",
       "      <td>21</td>\n",
       "      <td>0x6f622a5ff42de9e903318e8aabf039625e1d0db55cf5ac2e522ca9bb86157757</td>\n",
       "      <td>True</td>\n",
       "    </tr>\n",
       "    <tr>\n",
       "      <th>129</th>\n",
       "      <td>2.589468e+16</td>\n",
       "      <td>2.589468e+16</td>\n",
       "      <td>-196260.0</td>\n",
       "      <td>-193380.0</td>\n",
       "      <td>0xC36442b4a4522E871399CD717aBDD847Ab11FE88</td>\n",
       "      <td>3.168309e+19</td>\n",
       "      <td>1.019990e+11</td>\n",
       "      <td>3.168439e+19</td>\n",
       "      <td>1.019945e+11</td>\n",
       "      <td>2.235539e+14</td>\n",
       "      <td>756580.118416</td>\n",
       "      <td>0.0</td>\n",
       "      <td>0.0</td>\n",
       "      <td>300</td>\n",
       "      <td>12378923</td>\n",
       "      <td>204</td>\n",
       "      <td>0x40eb3b258a20db0a8145c1089cc614987e5cebc146f4fb60af9b4ab7d9f43084</td>\n",
       "      <td>48</td>\n",
       "      <td>12378991</td>\n",
       "      <td>21</td>\n",
       "      <td>0x6f622a5ff42de9e903318e8aabf039625e1d0db55cf5ac2e522ca9bb86157757</td>\n",
       "      <td>True</td>\n",
       "    </tr>\n",
       "  </tbody>\n",
       "</table>\n",
       "</div>"
      ],
      "text/plain": [
       "           last_L       start_L  tickLower  tickUpper  \\\n",
       "64   2.391451e+12  2.391451e+12  -196260.0  -193380.0   \n",
       "70   1.066579e+14  1.066579e+14  -196260.0  -193380.0   \n",
       "75   4.900862e+14  4.900862e+14  -196260.0  -193380.0   \n",
       "94   7.060240e+14  7.060240e+14  -196260.0  -193380.0   \n",
       "116  4.240236e+15  4.240236e+15  -196260.0  -193380.0   \n",
       "128  2.538718e+11  2.538718e+11  -196260.0  -193380.0   \n",
       "129  2.589468e+16  2.589468e+16  -196260.0  -193380.0   \n",
       "\n",
       "                                          owner  start_token0_holdings  \\\n",
       "64   0xC36442b4a4522E871399CD717aBDD847Ab11FE88           2.758377e+15   \n",
       "70   0xC36442b4a4522E871399CD717aBDD847Ab11FE88           1.261930e+17   \n",
       "75   0xC36442b4a4522E871399CD717aBDD847Ab11FE88           5.554640e+17   \n",
       "94   0xC36442b4a4522E871399CD717aBDD847Ab11FE88           8.260166e+17   \n",
       "116  0xC36442b4a4522E871399CD717aBDD847Ab11FE88           4.789742e+18   \n",
       "128  0xC36442b4a4522E871399CD717aBDD847Ab11FE88           3.106214e+14   \n",
       "129  0xC36442b4a4522E871399CD717aBDD847Ab11FE88           3.168309e+19   \n",
       "\n",
       "     start_token1_holdings  last_token0_holdings  last_token1_holdings  \\\n",
       "64            1.000000e+07          2.926148e+15          9.419499e+06   \n",
       "70            4.350007e+08          1.305052e+17          4.201064e+08   \n",
       "75            2.083474e+09          5.996630e+17          1.930362e+09   \n",
       "94            2.911791e+09          8.638817e+17          2.780902e+09   \n",
       "116           1.808250e+10          5.188298e+18          1.670153e+10   \n",
       "128           1.000000e+06          3.106343e+14          9.999558e+05   \n",
       "129           1.019990e+11          3.168439e+19          1.019945e+11   \n",
       "\n",
       "     token0_fees_accrued  token1_fees_accrued  token0_collected  \\\n",
       "64          2.501216e+12          6941.856102               0.0   \n",
       "70          1.006686e+14        304931.701869               0.0   \n",
       "75          4.192342e+14        995941.987740               0.0   \n",
       "94          3.003979e+14        648515.062354               0.0   \n",
       "116         1.299647e+15        346764.484617               0.0   \n",
       "128         2.191726e+09             7.417522               0.0   \n",
       "129         2.235539e+14        756580.118416               0.0   \n",
       "\n",
       "     token1_collected  start_logIndex  start_blockNumber  \\\n",
       "64                0.0              77           12377638   \n",
       "70                0.0             273           12377759   \n",
       "75                0.0              91           12377962   \n",
       "94                0.0             179           12378422   \n",
       "116               0.0             185           12378687   \n",
       "128               0.0             252           12378918   \n",
       "129               0.0             300           12378923   \n",
       "\n",
       "     start_transactionIndex  \\\n",
       "64                       64   \n",
       "70                      110   \n",
       "75                       44   \n",
       "94                      109   \n",
       "116                      97   \n",
       "128                      54   \n",
       "129                     204   \n",
       "\n",
       "                                                  start_transactionHash  \\\n",
       "64   0x8bf4fd993facf998cb4b2579aee65a6053b1ce59a29dc28f6c684c7935226f66   \n",
       "70   0x524a4b69f399fed8655f886865135cb8c1d21913df7c0dad9ed3d7beecefc823   \n",
       "75   0xe4c993872a2173fc890bdd9aaabda0ba6a00ef960e678bc3b8cc8f3f000abcfe   \n",
       "94   0x90f88e6d1d0a65c67bf4bad96f305b0290a1127af6f1750658144e89ce40d9ad   \n",
       "116  0x1ad3ab88fb3a2cb3a1525ae289370f0eab00b67d40675e5430f5b85d64af4d6f   \n",
       "128  0xa38513bb1e034de9ec1e6ce6bbd9081a06f0a25145fc89315e66863f3f7e7fcd   \n",
       "129  0x40eb3b258a20db0a8145c1089cc614987e5cebc146f4fb60af9b4ab7d9f43084   \n",
       "\n",
       "     last_logIndex  last_blockNumber  last_transactionIndex  \\\n",
       "64              48          12378991                     21   \n",
       "70              48          12378991                     21   \n",
       "75              48          12378991                     21   \n",
       "94              48          12378991                     21   \n",
       "116             48          12378991                     21   \n",
       "128             48          12378991                     21   \n",
       "129             48          12378991                     21   \n",
       "\n",
       "                                                   last_transactionHash  \\\n",
       "64   0x6f622a5ff42de9e903318e8aabf039625e1d0db55cf5ac2e522ca9bb86157757   \n",
       "70   0x6f622a5ff42de9e903318e8aabf039625e1d0db55cf5ac2e522ca9bb86157757   \n",
       "75   0x6f622a5ff42de9e903318e8aabf039625e1d0db55cf5ac2e522ca9bb86157757   \n",
       "94   0x6f622a5ff42de9e903318e8aabf039625e1d0db55cf5ac2e522ca9bb86157757   \n",
       "116  0x6f622a5ff42de9e903318e8aabf039625e1d0db55cf5ac2e522ca9bb86157757   \n",
       "128  0x6f622a5ff42de9e903318e8aabf039625e1d0db55cf5ac2e522ca9bb86157757   \n",
       "129  0x6f622a5ff42de9e903318e8aabf039625e1d0db55cf5ac2e522ca9bb86157757   \n",
       "\n",
       "     active  \n",
       "64     True  \n",
       "70     True  \n",
       "75     True  \n",
       "94     True  \n",
       "116    True  \n",
       "128    True  \n",
       "129    True  "
      ]
     },
     "execution_count": 126,
     "metadata": {},
     "output_type": "execute_result"
    }
   ],
   "source": [
    "bpos = pos.loc[(pos['tickLower'] == -196260)&(pos['tickUpper'] == -193380)]\n",
    "bpos"
   ]
  },
  {
   "cell_type": "code",
   "execution_count": 132,
   "metadata": {},
   "outputs": [
    {
     "data": {
      "text/html": [
       "<div>\n",
       "<style scoped>\n",
       "    .dataframe tbody tr th:only-of-type {\n",
       "        vertical-align: middle;\n",
       "    }\n",
       "\n",
       "    .dataframe tbody tr th {\n",
       "        vertical-align: top;\n",
       "    }\n",
       "\n",
       "    .dataframe thead th {\n",
       "        text-align: right;\n",
       "    }\n",
       "</style>\n",
       "<table border=\"1\" class=\"dataframe\">\n",
       "  <thead>\n",
       "    <tr style=\"text-align: right;\">\n",
       "      <th></th>\n",
       "      <th>last_L</th>\n",
       "      <th>start_L</th>\n",
       "      <th>tickLower</th>\n",
       "      <th>tickUpper</th>\n",
       "      <th>owner</th>\n",
       "      <th>start_token0_holdings</th>\n",
       "      <th>start_token1_holdings</th>\n",
       "      <th>last_token0_holdings</th>\n",
       "      <th>last_token1_holdings</th>\n",
       "      <th>token0_fees_accrued</th>\n",
       "      <th>token1_fees_accrued</th>\n",
       "      <th>token0_collected</th>\n",
       "      <th>token1_collected</th>\n",
       "      <th>start_logIndex</th>\n",
       "      <th>start_blockNumber</th>\n",
       "      <th>start_transactionIndex</th>\n",
       "      <th>start_transactionHash</th>\n",
       "      <th>last_logIndex</th>\n",
       "      <th>last_blockNumber</th>\n",
       "      <th>last_transactionIndex</th>\n",
       "      <th>last_transactionHash</th>\n",
       "      <th>active</th>\n",
       "    </tr>\n",
       "  </thead>\n",
       "  <tbody>\n",
       "    <tr>\n",
       "      <th>129</th>\n",
       "      <td>2.589468e+16</td>\n",
       "      <td>2.589468e+16</td>\n",
       "      <td>-196260.0</td>\n",
       "      <td>-193380.0</td>\n",
       "      <td>0xC36442b4a4522E871399CD717aBDD847Ab11FE88</td>\n",
       "      <td>3.168309e+19</td>\n",
       "      <td>1.019990e+11</td>\n",
       "      <td>3.168439e+19</td>\n",
       "      <td>1.019945e+11</td>\n",
       "      <td>2.235539e+14</td>\n",
       "      <td>756580.118416</td>\n",
       "      <td>0.0</td>\n",
       "      <td>0.0</td>\n",
       "      <td>300</td>\n",
       "      <td>12378923</td>\n",
       "      <td>204</td>\n",
       "      <td>0x40eb3b258a20db0a8145c1089cc614987e5cebc146f4fb60af9b4ab7d9f43084</td>\n",
       "      <td>48</td>\n",
       "      <td>12378991</td>\n",
       "      <td>21</td>\n",
       "      <td>0x6f622a5ff42de9e903318e8aabf039625e1d0db55cf5ac2e522ca9bb86157757</td>\n",
       "      <td>True</td>\n",
       "    </tr>\n",
       "  </tbody>\n",
       "</table>\n",
       "</div>"
      ],
      "text/plain": [
       "           last_L       start_L  tickLower  tickUpper  \\\n",
       "129  2.589468e+16  2.589468e+16  -196260.0  -193380.0   \n",
       "\n",
       "                                          owner  start_token0_holdings  \\\n",
       "129  0xC36442b4a4522E871399CD717aBDD847Ab11FE88           3.168309e+19   \n",
       "\n",
       "     start_token1_holdings  last_token0_holdings  last_token1_holdings  \\\n",
       "129           1.019990e+11          3.168439e+19          1.019945e+11   \n",
       "\n",
       "     token0_fees_accrued  token1_fees_accrued  token0_collected  \\\n",
       "129         2.235539e+14        756580.118416               0.0   \n",
       "\n",
       "     token1_collected  start_logIndex  start_blockNumber  \\\n",
       "129               0.0             300           12378923   \n",
       "\n",
       "     start_transactionIndex  \\\n",
       "129                     204   \n",
       "\n",
       "                                                  start_transactionHash  \\\n",
       "129  0x40eb3b258a20db0a8145c1089cc614987e5cebc146f4fb60af9b4ab7d9f43084   \n",
       "\n",
       "     last_logIndex  last_blockNumber  last_transactionIndex  \\\n",
       "129             48          12378991                     21   \n",
       "\n",
       "                                                   last_transactionHash  \\\n",
       "129  0x6f622a5ff42de9e903318e8aabf039625e1d0db55cf5ac2e522ca9bb86157757   \n",
       "\n",
       "     active  \n",
       "129    True  "
      ]
     },
     "execution_count": 132,
     "metadata": {},
     "output_type": "execute_result"
    }
   ],
   "source": [
    "bpos.loc[bpos['last_L'] >= le['amount']] #only one with enough L to count "
   ]
  },
  {
   "cell_type": "code",
   "execution_count": 87,
   "metadata": {},
   "outputs": [
    {
     "data": {
      "text/html": [
       "<div>\n",
       "<style scoped>\n",
       "    .dataframe tbody tr th:only-of-type {\n",
       "        vertical-align: middle;\n",
       "    }\n",
       "\n",
       "    .dataframe tbody tr th {\n",
       "        vertical-align: top;\n",
       "    }\n",
       "\n",
       "    .dataframe thead th {\n",
       "        text-align: right;\n",
       "    }\n",
       "</style>\n",
       "<table border=\"1\" class=\"dataframe\">\n",
       "  <thead>\n",
       "    <tr style=\"text-align: right;\">\n",
       "      <th></th>\n",
       "      <th>event</th>\n",
       "      <th>logIndex</th>\n",
       "      <th>blockNumber</th>\n",
       "      <th>transactionIndex</th>\n",
       "      <th>transactionHash</th>\n",
       "      <th>sender</th>\n",
       "      <th>amount</th>\n",
       "      <th>tickLower</th>\n",
       "      <th>tickUpper</th>\n",
       "      <th>amount0</th>\n",
       "      <th>amount1</th>\n",
       "      <th>recipient</th>\n",
       "      <th>tick</th>\n",
       "      <th>liquidity</th>\n",
       "    </tr>\n",
       "  </thead>\n",
       "  <tbody>\n",
       "    <tr>\n",
       "      <th>168</th>\n",
       "      <td>Mint</td>\n",
       "      <td>299</td>\n",
       "      <td>12376962</td>\n",
       "      <td>196</td>\n",
       "      <td>0xd48ab10b8cb8fb22c033f79bd00b181c471297410cc45ad3699a62a98e8055f4</td>\n",
       "      <td>0xC36442b4a4522E871399CD717aBDD847Ab11FE88</td>\n",
       "      <td>6.608140e+15</td>\n",
       "      <td>-198060.0</td>\n",
       "      <td>-192180.0</td>\n",
       "      <td>1.382461e+19</td>\n",
       "      <td>5.836757e+10</td>\n",
       "      <td>NaN</td>\n",
       "      <td>NaN</td>\n",
       "      <td>NaN</td>\n",
       "    </tr>\n",
       "    <tr>\n",
       "      <th>194</th>\n",
       "      <td>Mint</td>\n",
       "      <td>234</td>\n",
       "      <td>12377062</td>\n",
       "      <td>147</td>\n",
       "      <td>0x5e0a0a0f16393e56c2c0caf1fa273429121ee636baab65c700ce75618011f99d</td>\n",
       "      <td>0xC36442b4a4522E871399CD717aBDD847Ab11FE88</td>\n",
       "      <td>7.592098e+13</td>\n",
       "      <td>-198060.0</td>\n",
       "      <td>-192180.0</td>\n",
       "      <td>1.508874e+17</td>\n",
       "      <td>6.982974e+08</td>\n",
       "      <td>NaN</td>\n",
       "      <td>NaN</td>\n",
       "      <td>NaN</td>\n",
       "    </tr>\n",
       "    <tr>\n",
       "      <th>207</th>\n",
       "      <td>Burn</td>\n",
       "      <td>288</td>\n",
       "      <td>12377175</td>\n",
       "      <td>217</td>\n",
       "      <td>0x925d59b27727f967fd2554469d8365cbf9aedad895e0df69248d4b79adbc9b84</td>\n",
       "      <td>0xC36442b4a4522E871399CD717aBDD847Ab11FE88</td>\n",
       "      <td>7.592098e+13</td>\n",
       "      <td>-198060.0</td>\n",
       "      <td>-192180.0</td>\n",
       "      <td>1.492770e+17</td>\n",
       "      <td>7.039575e+08</td>\n",
       "      <td>NaN</td>\n",
       "      <td>NaN</td>\n",
       "      <td>NaN</td>\n",
       "    </tr>\n",
       "  </tbody>\n",
       "</table>\n",
       "</div>"
      ],
      "text/plain": [
       "    event  logIndex  blockNumber  transactionIndex  \\\n",
       "168  Mint       299     12376962               196   \n",
       "194  Mint       234     12377062               147   \n",
       "207  Burn       288     12377175               217   \n",
       "\n",
       "                                                        transactionHash  \\\n",
       "168  0xd48ab10b8cb8fb22c033f79bd00b181c471297410cc45ad3699a62a98e8055f4   \n",
       "194  0x5e0a0a0f16393e56c2c0caf1fa273429121ee636baab65c700ce75618011f99d   \n",
       "207  0x925d59b27727f967fd2554469d8365cbf9aedad895e0df69248d4b79adbc9b84   \n",
       "\n",
       "                                         sender        amount  tickLower  \\\n",
       "168  0xC36442b4a4522E871399CD717aBDD847Ab11FE88  6.608140e+15  -198060.0   \n",
       "194  0xC36442b4a4522E871399CD717aBDD847Ab11FE88  7.592098e+13  -198060.0   \n",
       "207  0xC36442b4a4522E871399CD717aBDD847Ab11FE88  7.592098e+13  -198060.0   \n",
       "\n",
       "     tickUpper       amount0       amount1 recipient  tick liquidity  \n",
       "168  -192180.0  1.382461e+19  5.836757e+10       NaN   NaN       NaN  \n",
       "194  -192180.0  1.508874e+17  6.982974e+08       NaN   NaN       NaN  \n",
       "207  -192180.0  1.492770e+17  7.039575e+08       NaN   NaN       NaN  "
      ]
     },
     "execution_count": 87,
     "metadata": {},
     "output_type": "execute_result"
    }
   ],
   "source": [
    "ae.loc[(ae['tickLower'] == -198060)&(ae['tickUpper'] == -192180)]"
   ]
  },
  {
   "cell_type": "code",
   "execution_count": null,
   "metadata": {},
   "outputs": [],
   "source": []
  },
  {
   "cell_type": "code",
   "execution_count": 39,
   "metadata": {},
   "outputs": [],
   "source": [
    "current_tick = clm.tick\n",
    "active_pos = pos.loc[(pos['tickLower'] < current_tick)&(pos['tickUpper'] >= current_tick)]"
   ]
  },
  {
   "cell_type": "code",
   "execution_count": 43,
   "metadata": {},
   "outputs": [
    {
     "data": {
      "text/plain": [
       "41448871078369024"
      ]
     },
     "execution_count": 43,
     "metadata": {},
     "output_type": "execute_result"
    }
   ],
   "source": [
    "int(sum(active_pos['last_L'])) #off by 16 "
   ]
  },
  {
   "cell_type": "code",
   "execution_count": 45,
   "metadata": {},
   "outputs": [
    {
     "data": {
      "text/plain": [
       "41448871078369032"
      ]
     },
     "execution_count": 45,
     "metadata": {},
     "output_type": "execute_result"
    }
   ],
   "source": [
    "int(clm.swaps['liquidity'].iloc[-1])"
   ]
  },
  {
   "cell_type": "code",
   "execution_count": 37,
   "metadata": {},
   "outputs": [
    {
     "data": {
      "text/html": [
       "<div>\n",
       "<style scoped>\n",
       "    .dataframe tbody tr th:only-of-type {\n",
       "        vertical-align: middle;\n",
       "    }\n",
       "\n",
       "    .dataframe tbody tr th {\n",
       "        vertical-align: top;\n",
       "    }\n",
       "\n",
       "    .dataframe thead th {\n",
       "        text-align: right;\n",
       "    }\n",
       "</style>\n",
       "<table border=\"1\" class=\"dataframe\">\n",
       "  <thead>\n",
       "    <tr style=\"text-align: right;\">\n",
       "      <th></th>\n",
       "      <th>event</th>\n",
       "      <th>logIndex</th>\n",
       "      <th>blockNumber</th>\n",
       "      <th>transactionIndex</th>\n",
       "      <th>transactionHash</th>\n",
       "      <th>sender</th>\n",
       "      <th>amount</th>\n",
       "      <th>tickLower</th>\n",
       "      <th>tickUpper</th>\n",
       "      <th>amount0</th>\n",
       "      <th>amount1</th>\n",
       "      <th>recipient</th>\n",
       "      <th>tick</th>\n",
       "      <th>liquidity</th>\n",
       "    </tr>\n",
       "  </thead>\n",
       "  <tbody>\n",
       "    <tr>\n",
       "      <th>0</th>\n",
       "      <td>Mint</td>\n",
       "      <td>31</td>\n",
       "      <td>12375326</td>\n",
       "      <td>11</td>\n",
       "      <td>0x2e07c690f149223e4f290986277304ea6a05c6ee47ba303732166bc1b15cbafb</td>\n",
       "      <td>0xC36442b4a4522E871399CD717aBDD847Ab11FE88</td>\n",
       "      <td>8.210905e+15</td>\n",
       "      <td>-197400.0</td>\n",
       "      <td>-193320.0</td>\n",
       "      <td>1.242324e+19</td>\n",
       "      <td>5.050028e+10</td>\n",
       "      <td>NaN</td>\n",
       "      <td>NaN</td>\n",
       "      <td>NaN</td>\n",
       "    </tr>\n",
       "    <tr>\n",
       "      <th>1</th>\n",
       "      <td>Mint</td>\n",
       "      <td>307</td>\n",
       "      <td>12375529</td>\n",
       "      <td>212</td>\n",
       "      <td>0x85a3f0ed4fc14085609e95e7366364566b89d7569e62e4a828d1ef1e5dc81e58</td>\n",
       "      <td>0xC36442b4a4522E871399CD717aBDD847Ab11FE88</td>\n",
       "      <td>1.935471e+13</td>\n",
       "      <td>-195120.0</td>\n",
       "      <td>-195060.0</td>\n",
       "      <td>1.000000e+15</td>\n",
       "      <td>0.000000e+00</td>\n",
       "      <td>NaN</td>\n",
       "      <td>NaN</td>\n",
       "      <td>NaN</td>\n",
       "    </tr>\n",
       "    <tr>\n",
       "      <th>2</th>\n",
       "      <td>Mint</td>\n",
       "      <td>148</td>\n",
       "      <td>12375553</td>\n",
       "      <td>104</td>\n",
       "      <td>0x0fde2929c1fa5dd5dc9a0fcfbf8adccdeefbc398aa36ff019aa2b15eded23552</td>\n",
       "      <td>0xC36442b4a4522E871399CD717aBDD847Ab11FE88</td>\n",
       "      <td>3.509242e+09</td>\n",
       "      <td>-195180.0</td>\n",
       "      <td>-195120.0</td>\n",
       "      <td>9.995372e+10</td>\n",
       "      <td>2.740000e+02</td>\n",
       "      <td>NaN</td>\n",
       "      <td>NaN</td>\n",
       "      <td>NaN</td>\n",
       "    </tr>\n",
       "    <tr>\n",
       "      <th>3</th>\n",
       "      <td>Mint</td>\n",
       "      <td>99</td>\n",
       "      <td>12375566</td>\n",
       "      <td>44</td>\n",
       "      <td>0x34ca11f7f1c6a4d8d17cabf14c6d0ffa5116a693508cd974c882e06308479820</td>\n",
       "      <td>0xC36442b4a4522E871399CD717aBDD847Ab11FE88</td>\n",
       "      <td>3.510779e+11</td>\n",
       "      <td>-195180.0</td>\n",
       "      <td>-195120.0</td>\n",
       "      <td>9.999750e+12</td>\n",
       "      <td>2.741200e+04</td>\n",
       "      <td>NaN</td>\n",
       "      <td>NaN</td>\n",
       "      <td>NaN</td>\n",
       "    </tr>\n",
       "    <tr>\n",
       "      <th>4</th>\n",
       "      <td>Mint</td>\n",
       "      <td>105</td>\n",
       "      <td>12375566</td>\n",
       "      <td>45</td>\n",
       "      <td>0x9ece74425a9b5b937b51e14d4fbb9eb7aa6f6ae415d51a460b6f56335d31b9f7</td>\n",
       "      <td>0xC36442b4a4522E871399CD717aBDD847Ab11FE88</td>\n",
       "      <td>3.510779e+11</td>\n",
       "      <td>-195180.0</td>\n",
       "      <td>-195120.0</td>\n",
       "      <td>9.999750e+12</td>\n",
       "      <td>2.741200e+04</td>\n",
       "      <td>NaN</td>\n",
       "      <td>NaN</td>\n",
       "      <td>NaN</td>\n",
       "    </tr>\n",
       "    <tr>\n",
       "      <th>5</th>\n",
       "      <td>Swap</td>\n",
       "      <td>207</td>\n",
       "      <td>12375689</td>\n",
       "      <td>195</td>\n",
       "      <td>0x7e348d63a404ee6cd2c400f2c6e730e776c1d25aebe539b788b7c9dcefce842f</td>\n",
       "      <td>0xE592427A0AEce92De3Edee1F18E0157C05861564</td>\n",
       "      <td>NaN</td>\n",
       "      <td>NaN</td>\n",
       "      <td>NaN</td>\n",
       "      <td>1.000000e+15</td>\n",
       "      <td>-3.339863e+06</td>\n",
       "      <td>0xE592427A0AEce92De3Edee1F18E0157C05861564</td>\n",
       "      <td>-195154.0</td>\n",
       "      <td>8.211610e+15</td>\n",
       "    </tr>\n",
       "    <tr>\n",
       "      <th>6</th>\n",
       "      <td>Swap</td>\n",
       "      <td>207</td>\n",
       "      <td>12375690</td>\n",
       "      <td>252</td>\n",
       "      <td>0x59a3626c612fc662fa3b626adaafa2358988efcd13a1316bb7c6011f276e5c5e</td>\n",
       "      <td>0xE592427A0AEce92De3Edee1F18E0157C05861564</td>\n",
       "      <td>NaN</td>\n",
       "      <td>NaN</td>\n",
       "      <td>NaN</td>\n",
       "      <td>1.000000e+16</td>\n",
       "      <td>-3.339606e+07</td>\n",
       "      <td>0x4d997c89Bc659a3E8452038A8101161e7e7e53a7</td>\n",
       "      <td>-195155.0</td>\n",
       "      <td>8.211610e+15</td>\n",
       "    </tr>\n",
       "    <tr>\n",
       "      <th>7</th>\n",
       "      <td>Swap</td>\n",
       "      <td>79</td>\n",
       "      <td>12375699</td>\n",
       "      <td>111</td>\n",
       "      <td>0x5e213a2e270e51add4e1298562c29cc53ed78f6abf3b7f9678ffe4055722bb46</td>\n",
       "      <td>0xE592427A0AEce92De3Edee1F18E0157C05861564</td>\n",
       "      <td>NaN</td>\n",
       "      <td>NaN</td>\n",
       "      <td>NaN</td>\n",
       "      <td>1.000000e+15</td>\n",
       "      <td>-3.339347e+06</td>\n",
       "      <td>0xbabe61887f1de2713c6f97e567623453d3C79f67</td>\n",
       "      <td>-195155.0</td>\n",
       "      <td>8.211610e+15</td>\n",
       "    </tr>\n",
       "    <tr>\n",
       "      <th>8</th>\n",
       "      <td>Swap</td>\n",
       "      <td>352</td>\n",
       "      <td>12375700</td>\n",
       "      <td>235</td>\n",
       "      <td>0xea8b1509ed20b5380530853e984940cec020cad42d7a5d8f0b9709ef809c877b</td>\n",
       "      <td>0xE592427A0AEce92De3Edee1F18E0157C05861564</td>\n",
       "      <td>NaN</td>\n",
       "      <td>NaN</td>\n",
       "      <td>NaN</td>\n",
       "      <td>-1.488183e+16</td>\n",
       "      <td>5.000000e+07</td>\n",
       "      <td>0xE592427A0AEce92De3Edee1F18E0157C05861564</td>\n",
       "      <td>-195153.0</td>\n",
       "      <td>8.211610e+15</td>\n",
       "    </tr>\n",
       "    <tr>\n",
       "      <th>9</th>\n",
       "      <td>Swap</td>\n",
       "      <td>353</td>\n",
       "      <td>12375735</td>\n",
       "      <td>202</td>\n",
       "      <td>0x969173d81a5282e5ca583afae3d88efb17fa77b275c00610df9f069f71d87e20</td>\n",
       "      <td>0xE592427A0AEce92De3Edee1F18E0157C05861564</td>\n",
       "      <td>NaN</td>\n",
       "      <td>NaN</td>\n",
       "      <td>NaN</td>\n",
       "      <td>3.000000e+15</td>\n",
       "      <td>-1.001986e+07</td>\n",
       "      <td>0xE4310545E143b6E44Aefa9A96F9aca44984CB1e0</td>\n",
       "      <td>-195154.0</td>\n",
       "      <td>8.211610e+15</td>\n",
       "    </tr>\n",
       "    <tr>\n",
       "      <th>10</th>\n",
       "      <td>Swap</td>\n",
       "      <td>171</td>\n",
       "      <td>12375747</td>\n",
       "      <td>95</td>\n",
       "      <td>0xe9204d26dc993ef0b300010a8842ea604c9f404c936b06f7f58f05c9126bcac5</td>\n",
       "      <td>0xE592427A0AEce92De3Edee1F18E0157C05861564</td>\n",
       "      <td>NaN</td>\n",
       "      <td>NaN</td>\n",
       "      <td>NaN</td>\n",
       "      <td>2.995332e+14</td>\n",
       "      <td>-1.000404e+06</td>\n",
       "      <td>0x6f48ECa74B38d2936B02ab603FF4e36A6C0E3A77</td>\n",
       "      <td>-195154.0</td>\n",
       "      <td>8.211610e+15</td>\n",
       "    </tr>\n",
       "    <tr>\n",
       "      <th>11</th>\n",
       "      <td>Swap</td>\n",
       "      <td>291</td>\n",
       "      <td>12375768</td>\n",
       "      <td>193</td>\n",
       "      <td>0x4fd701db20d9a9725d0929f1a0a27d165074bbd3e9eab1afc3983019b399ef02</td>\n",
       "      <td>0xE592427A0AEce92De3Edee1F18E0157C05861564</td>\n",
       "      <td>NaN</td>\n",
       "      <td>NaN</td>\n",
       "      <td>NaN</td>\n",
       "      <td>-1.368916e+16</td>\n",
       "      <td>4.600000e+07</td>\n",
       "      <td>0xE592427A0AEce92De3Edee1F18E0157C05861564</td>\n",
       "      <td>-195152.0</td>\n",
       "      <td>8.211610e+15</td>\n",
       "    </tr>\n",
       "    <tr>\n",
       "      <th>12</th>\n",
       "      <td>Mint</td>\n",
       "      <td>266</td>\n",
       "      <td>12375810</td>\n",
       "      <td>212</td>\n",
       "      <td>0x274f3dd946f01c172c97830d9fd98abe2ff6d72c53ce89a55e946b91933e26e2</td>\n",
       "      <td>0xC36442b4a4522E871399CD717aBDD847Ab11FE88</td>\n",
       "      <td>3.405183e+19</td>\n",
       "      <td>-357720.0</td>\n",
       "      <td>-357600.0</td>\n",
       "      <td>0.000000e+00</td>\n",
       "      <td>3.500828e+09</td>\n",
       "      <td>NaN</td>\n",
       "      <td>NaN</td>\n",
       "      <td>NaN</td>\n",
       "    </tr>\n",
       "    <tr>\n",
       "      <th>13</th>\n",
       "      <td>Swap</td>\n",
       "      <td>157</td>\n",
       "      <td>12375816</td>\n",
       "      <td>50</td>\n",
       "      <td>0x9036bae6a03d981ac06b375b47dac2764381263a0fae83241fda55fef806d466</td>\n",
       "      <td>0xE592427A0AEce92De3Edee1F18E0157C05861564</td>\n",
       "      <td>NaN</td>\n",
       "      <td>NaN</td>\n",
       "      <td>NaN</td>\n",
       "      <td>2.319822e+16</td>\n",
       "      <td>-7.748135e+07</td>\n",
       "      <td>0xb7430de9B4D8e5cDB951019d7651cD5fda630498</td>\n",
       "      <td>-195155.0</td>\n",
       "      <td>8.211610e+15</td>\n",
       "    </tr>\n",
       "    <tr>\n",
       "      <th>14</th>\n",
       "      <td>Burn</td>\n",
       "      <td>213</td>\n",
       "      <td>12375839</td>\n",
       "      <td>184</td>\n",
       "      <td>0x1bfa599133b247738f35fcbc44e874960822b7dd185f530472acfcb535e6040c</td>\n",
       "      <td>0xC36442b4a4522E871399CD717aBDD847Ab11FE88</td>\n",
       "      <td>3.405183e+19</td>\n",
       "      <td>-357720.0</td>\n",
       "      <td>-357600.0</td>\n",
       "      <td>0.000000e+00</td>\n",
       "      <td>3.500828e+09</td>\n",
       "      <td>NaN</td>\n",
       "      <td>NaN</td>\n",
       "      <td>NaN</td>\n",
       "    </tr>\n",
       "    <tr>\n",
       "      <th>15</th>\n",
       "      <td>Collect</td>\n",
       "      <td>216</td>\n",
       "      <td>12375839</td>\n",
       "      <td>184</td>\n",
       "      <td>0x1bfa599133b247738f35fcbc44e874960822b7dd185f530472acfcb535e6040c</td>\n",
       "      <td>0xC36442b4a4522E871399CD717aBDD847Ab11FE88</td>\n",
       "      <td>NaN</td>\n",
       "      <td>-357720.0</td>\n",
       "      <td>-357600.0</td>\n",
       "      <td>0.000000e+00</td>\n",
       "      <td>3.500828e+09</td>\n",
       "      <td>NaN</td>\n",
       "      <td>NaN</td>\n",
       "      <td>NaN</td>\n",
       "    </tr>\n",
       "    <tr>\n",
       "      <th>16</th>\n",
       "      <td>Swap</td>\n",
       "      <td>274</td>\n",
       "      <td>12375933</td>\n",
       "      <td>175</td>\n",
       "      <td>0xa0bf465c40a6c7670d50b4e612d69bdf239b16a2cc0af9bfab8c0abadbcced04</td>\n",
       "      <td>0xE592427A0AEce92De3Edee1F18E0157C05861564</td>\n",
       "      <td>NaN</td>\n",
       "      <td>NaN</td>\n",
       "      <td>NaN</td>\n",
       "      <td>-3.314562e+18</td>\n",
       "      <td>1.140168e+10</td>\n",
       "      <td>0xE592427A0AEce92De3Edee1F18E0157C05861564</td>\n",
       "      <td>-194682.0</td>\n",
       "      <td>8.210905e+15</td>\n",
       "    </tr>\n",
       "    <tr>\n",
       "      <th>17</th>\n",
       "      <td>Swap</td>\n",
       "      <td>237</td>\n",
       "      <td>12375944</td>\n",
       "      <td>149</td>\n",
       "      <td>0x49b7ae926f702bbebba91f265bd91ea09b9ca118ad7cbba992f93dcdde6bb486</td>\n",
       "      <td>0xE592427A0AEce92De3Edee1F18E0157C05861564</td>\n",
       "      <td>NaN</td>\n",
       "      <td>NaN</td>\n",
       "      <td>NaN</td>\n",
       "      <td>1.000000e+17</td>\n",
       "      <td>-3.498536e+08</td>\n",
       "      <td>0xE592427A0AEce92De3Edee1F18E0157C05861564</td>\n",
       "      <td>-194697.0</td>\n",
       "      <td>8.210905e+15</td>\n",
       "    </tr>\n",
       "    <tr>\n",
       "      <th>18</th>\n",
       "      <td>Swap</td>\n",
       "      <td>346</td>\n",
       "      <td>12375948</td>\n",
       "      <td>145</td>\n",
       "      <td>0xcf44ad5c4c111afa0803d1014cd70a33aa79ce9462b6d188b668595d5cba1893</td>\n",
       "      <td>0xE592427A0AEce92De3Edee1F18E0157C05861564</td>\n",
       "      <td>NaN</td>\n",
       "      <td>NaN</td>\n",
       "      <td>NaN</td>\n",
       "      <td>1.288625e+18</td>\n",
       "      <td>-4.463701e+09</td>\n",
       "      <td>0x22F9dCF4647084d6C31b2765F6910cd85C178C18</td>\n",
       "      <td>-194881.0</td>\n",
       "      <td>8.210905e+15</td>\n",
       "    </tr>\n",
       "    <tr>\n",
       "      <th>19</th>\n",
       "      <td>Mint</td>\n",
       "      <td>183</td>\n",
       "      <td>12375953</td>\n",
       "      <td>138</td>\n",
       "      <td>0x7ff72d7d49869863abbb250f6538b6116f30e35488b308a7ffaf93fcc76171cd</td>\n",
       "      <td>0xC36442b4a4522E871399CD717aBDD847Ab11FE88</td>\n",
       "      <td>1.063048e+15</td>\n",
       "      <td>-195600.0</td>\n",
       "      <td>-193380.0</td>\n",
       "      <td>1.309577e+18</td>\n",
       "      <td>2.203646e+09</td>\n",
       "      <td>NaN</td>\n",
       "      <td>NaN</td>\n",
       "      <td>NaN</td>\n",
       "    </tr>\n",
       "    <tr>\n",
       "      <th>20</th>\n",
       "      <td>Mint</td>\n",
       "      <td>133</td>\n",
       "      <td>12375955</td>\n",
       "      <td>109</td>\n",
       "      <td>0xf461168a7c7c3138baff3eb4262620b4008a766691d4758ef2c69a606afcaa82</td>\n",
       "      <td>0xC36442b4a4522E871399CD717aBDD847Ab11FE88</td>\n",
       "      <td>3.456565e+13</td>\n",
       "      <td>-196260.0</td>\n",
       "      <td>-191160.0</td>\n",
       "      <td>1.000000e+17</td>\n",
       "      <td>1.351573e+08</td>\n",
       "      <td>NaN</td>\n",
       "      <td>NaN</td>\n",
       "      <td>NaN</td>\n",
       "    </tr>\n",
       "    <tr>\n",
       "      <th>21</th>\n",
       "      <td>Swap</td>\n",
       "      <td>184</td>\n",
       "      <td>12375955</td>\n",
       "      <td>127</td>\n",
       "      <td>0x2dbd0bf10fde0cdb2d656e5b2437788fd145187a667e3fd572b0cdce78423a59</td>\n",
       "      <td>0xE592427A0AEce92De3Edee1F18E0157C05861564</td>\n",
       "      <td>NaN</td>\n",
       "      <td>NaN</td>\n",
       "      <td>NaN</td>\n",
       "      <td>1.312222e+17</td>\n",
       "      <td>-4.500000e+08</td>\n",
       "      <td>0x32188FC4E828551aE255c3d26b322D087b05570D</td>\n",
       "      <td>-194898.0</td>\n",
       "      <td>9.308518e+15</td>\n",
       "    </tr>\n",
       "    <tr>\n",
       "      <th>22</th>\n",
       "      <td>Swap</td>\n",
       "      <td>160</td>\n",
       "      <td>12375960</td>\n",
       "      <td>45</td>\n",
       "      <td>0x063980c7392051f5a69357328164c28ac8d2d57aed31ddcacc84b5e021bfa411</td>\n",
       "      <td>0xE592427A0AEce92De3Edee1F18E0157C05861564</td>\n",
       "      <td>NaN</td>\n",
       "      <td>NaN</td>\n",
       "      <td>NaN</td>\n",
       "      <td>3.656443e+17</td>\n",
       "      <td>-1.250000e+09</td>\n",
       "      <td>0x40b36e9577589C2Fdfa547ADEC2Ca3281F29C773</td>\n",
       "      <td>-194943.0</td>\n",
       "      <td>9.308518e+15</td>\n",
       "    </tr>\n",
       "    <tr>\n",
       "      <th>23</th>\n",
       "      <td>Mint</td>\n",
       "      <td>36</td>\n",
       "      <td>12375969</td>\n",
       "      <td>29</td>\n",
       "      <td>0xa872eea39c61f833f1d31ec09e0053b88584e93921c8aa55d039a5ff6a38b0bd</td>\n",
       "      <td>0xC36442b4a4522E871399CD717aBDD847Ab11FE88</td>\n",
       "      <td>1.383580e+14</td>\n",
       "      <td>-194700.0</td>\n",
       "      <td>-194640.0</td>\n",
       "      <td>7.000000e+15</td>\n",
       "      <td>0.000000e+00</td>\n",
       "      <td>NaN</td>\n",
       "      <td>NaN</td>\n",
       "      <td>NaN</td>\n",
       "    </tr>\n",
       "    <tr>\n",
       "      <th>24</th>\n",
       "      <td>Swap</td>\n",
       "      <td>308</td>\n",
       "      <td>12376005</td>\n",
       "      <td>155</td>\n",
       "      <td>0x9bb8d6283d92dedd1314954f0f07d0d4fd5996f30b4107513e3fa9b29986cde0</td>\n",
       "      <td>0xE592427A0AEce92De3Edee1F18E0157C05861564</td>\n",
       "      <td>NaN</td>\n",
       "      <td>NaN</td>\n",
       "      <td>NaN</td>\n",
       "      <td>2.500000e+17</td>\n",
       "      <td>-8.513646e+08</td>\n",
       "      <td>0xE592427A0AEce92De3Edee1F18E0157C05861564</td>\n",
       "      <td>-194975.0</td>\n",
       "      <td>9.308518e+15</td>\n",
       "    </tr>\n",
       "    <tr>\n",
       "      <th>25</th>\n",
       "      <td>Swap</td>\n",
       "      <td>247</td>\n",
       "      <td>12376012</td>\n",
       "      <td>199</td>\n",
       "      <td>0x9f7e8ce9761432b2d46478351c1db7870d2e49463ac178e70dcd0a9f1fc773fe</td>\n",
       "      <td>0xE592427A0AEce92De3Edee1F18E0157C05861564</td>\n",
       "      <td>NaN</td>\n",
       "      <td>NaN</td>\n",
       "      <td>NaN</td>\n",
       "      <td>2.500000e+17</td>\n",
       "      <td>-8.487062e+08</td>\n",
       "      <td>0xa27D7708312d129571ED19E3C7CF2635E86CCfa3</td>\n",
       "      <td>-195006.0</td>\n",
       "      <td>9.308518e+15</td>\n",
       "    </tr>\n",
       "    <tr>\n",
       "      <th>26</th>\n",
       "      <td>Mint</td>\n",
       "      <td>288</td>\n",
       "      <td>12376014</td>\n",
       "      <td>162</td>\n",
       "      <td>0xa0bc408877fbaeb9af4a4021e840e9711c9f43aed3e8099e4f67cc741b5fb17a</td>\n",
       "      <td>0xC36442b4a4522E871399CD717aBDD847Ab11FE88</td>\n",
       "      <td>5.832998e+15</td>\n",
       "      <td>-195600.0</td>\n",
       "      <td>-194460.0</td>\n",
       "      <td>2.691394e+18</td>\n",
       "      <td>9.960932e+09</td>\n",
       "      <td>NaN</td>\n",
       "      <td>NaN</td>\n",
       "      <td>NaN</td>\n",
       "    </tr>\n",
       "    <tr>\n",
       "      <th>27</th>\n",
       "      <td>Swap</td>\n",
       "      <td>206</td>\n",
       "      <td>12376026</td>\n",
       "      <td>114</td>\n",
       "      <td>0x15e6efee51192258392e57a6fb7c32330eff3389192fa88f90dfb3551da9e9ae</td>\n",
       "      <td>0xE592427A0AEce92De3Edee1F18E0157C05861564</td>\n",
       "      <td>NaN</td>\n",
       "      <td>NaN</td>\n",
       "      <td>NaN</td>\n",
       "      <td>-8.709811e+17</td>\n",
       "      <td>2.980000e+09</td>\n",
       "      <td>0xE592427A0AEce92De3Edee1F18E0157C05861564</td>\n",
       "      <td>-194939.0</td>\n",
       "      <td>1.514152e+16</td>\n",
       "    </tr>\n",
       "    <tr>\n",
       "      <th>28</th>\n",
       "      <td>Swap</td>\n",
       "      <td>173</td>\n",
       "      <td>12376034</td>\n",
       "      <td>137</td>\n",
       "      <td>0xf7ec2f526920402af6ceb2a8b98134d3e133380f541f0e65172e3e6f8c7c3ddb</td>\n",
       "      <td>0xE592427A0AEce92De3Edee1F18E0157C05861564</td>\n",
       "      <td>NaN</td>\n",
       "      <td>NaN</td>\n",
       "      <td>NaN</td>\n",
       "      <td>-1.038827e+18</td>\n",
       "      <td>3.580606e+09</td>\n",
       "      <td>0x32A2c4C25BABEdC810fa466ab0F0C742Df3A3555</td>\n",
       "      <td>-194858.0</td>\n",
       "      <td>1.514152e+16</td>\n",
       "    </tr>\n",
       "    <tr>\n",
       "      <th>29</th>\n",
       "      <td>Swap</td>\n",
       "      <td>265</td>\n",
       "      <td>12376038</td>\n",
       "      <td>87</td>\n",
       "      <td>0xd1ee549832fe1e457841d7051270c90a093f13fc973f0272808321faf01a3ddc</td>\n",
       "      <td>0xE592427A0AEce92De3Edee1F18E0157C05861564</td>\n",
       "      <td>NaN</td>\n",
       "      <td>NaN</td>\n",
       "      <td>NaN</td>\n",
       "      <td>1.500000e+17</td>\n",
       "      <td>-5.156911e+08</td>\n",
       "      <td>0xE592427A0AEce92De3Edee1F18E0157C05861564</td>\n",
       "      <td>-194870.0</td>\n",
       "      <td>1.514152e+16</td>\n",
       "    </tr>\n",
       "    <tr>\n",
       "      <th>30</th>\n",
       "      <td>Swap</td>\n",
       "      <td>24</td>\n",
       "      <td>12376039</td>\n",
       "      <td>41</td>\n",
       "      <td>0x09d83c724873febccae9d925efbd22630cc0549b248b7465254911cc254c0ac7</td>\n",
       "      <td>0xE592427A0AEce92De3Edee1F18E0157C05861564</td>\n",
       "      <td>NaN</td>\n",
       "      <td>NaN</td>\n",
       "      <td>NaN</td>\n",
       "      <td>2.000000e+17</td>\n",
       "      <td>-6.866586e+08</td>\n",
       "      <td>0xE592427A0AEce92De3Edee1F18E0157C05861564</td>\n",
       "      <td>-194885.0</td>\n",
       "      <td>1.514152e+16</td>\n",
       "    </tr>\n",
       "    <tr>\n",
       "      <th>31</th>\n",
       "      <td>Swap</td>\n",
       "      <td>308</td>\n",
       "      <td>12376046</td>\n",
       "      <td>182</td>\n",
       "      <td>0x3e024699107e01b376b38240759557ec6dba89daef2baf27737fa2091b1981bb</td>\n",
       "      <td>0xE592427A0AEce92De3Edee1F18E0157C05861564</td>\n",
       "      <td>NaN</td>\n",
       "      <td>NaN</td>\n",
       "      <td>NaN</td>\n",
       "      <td>5.847139e+17</td>\n",
       "      <td>-2.001423e+09</td>\n",
       "      <td>0x7858E59e0C01EA06Df3aF3D20aC7B0003275D4Bf</td>\n",
       "      <td>-194931.0</td>\n",
       "      <td>1.514152e+16</td>\n",
       "    </tr>\n",
       "    <tr>\n",
       "      <th>32</th>\n",
       "      <td>Mint</td>\n",
       "      <td>141</td>\n",
       "      <td>12376058</td>\n",
       "      <td>67</td>\n",
       "      <td>0x04f2b262a53aff1e99de212370df3d910587d942bec520543eb064cde0a8af25</td>\n",
       "      <td>0xC36442b4a4522E871399CD717aBDD847Ab11FE88</td>\n",
       "      <td>5.554716e+12</td>\n",
       "      <td>-184260.0</td>\n",
       "      <td>-184140.0</td>\n",
       "      <td>3.330000e+14</td>\n",
       "      <td>0.000000e+00</td>\n",
       "      <td>NaN</td>\n",
       "      <td>NaN</td>\n",
       "      <td>NaN</td>\n",
       "    </tr>\n",
       "    <tr>\n",
       "      <th>33</th>\n",
       "      <td>Swap</td>\n",
       "      <td>90</td>\n",
       "      <td>12376059</td>\n",
       "      <td>19</td>\n",
       "      <td>0x8843daf777e34dee15cc7b3f3dfe50ed7fe456f005ea38335451b8054d96ae2a</td>\n",
       "      <td>0xE592427A0AEce92De3Edee1F18E0157C05861564</td>\n",
       "      <td>NaN</td>\n",
       "      <td>NaN</td>\n",
       "      <td>NaN</td>\n",
       "      <td>3.000000e+16</td>\n",
       "      <td>-1.024441e+08</td>\n",
       "      <td>0xE592427A0AEce92De3Edee1F18E0157C05861564</td>\n",
       "      <td>-194933.0</td>\n",
       "      <td>1.514152e+16</td>\n",
       "    </tr>\n",
       "    <tr>\n",
       "      <th>34</th>\n",
       "      <td>Swap</td>\n",
       "      <td>193</td>\n",
       "      <td>12376060</td>\n",
       "      <td>77</td>\n",
       "      <td>0x688990c8a6bf4974161fef8a1fecc03beef1cbccd9e0d001184a686d95225cdc</td>\n",
       "      <td>0xE592427A0AEce92De3Edee1F18E0157C05861564</td>\n",
       "      <td>NaN</td>\n",
       "      <td>NaN</td>\n",
       "      <td>NaN</td>\n",
       "      <td>1.000000e+17</td>\n",
       "      <td>-3.413093e+08</td>\n",
       "      <td>0xE592427A0AEce92De3Edee1F18E0157C05861564</td>\n",
       "      <td>-194941.0</td>\n",
       "      <td>1.514152e+16</td>\n",
       "    </tr>\n",
       "    <tr>\n",
       "      <th>35</th>\n",
       "      <td>Swap</td>\n",
       "      <td>223</td>\n",
       "      <td>12376062</td>\n",
       "      <td>127</td>\n",
       "      <td>0x8d4d93c5a6727c39ce3ee2f56d694e7cca0daf21d662bfab2c216f98c82ad571</td>\n",
       "      <td>0xE592427A0AEce92De3Edee1F18E0157C05861564</td>\n",
       "      <td>NaN</td>\n",
       "      <td>NaN</td>\n",
       "      <td>NaN</td>\n",
       "      <td>1.000000e+16</td>\n",
       "      <td>-3.411647e+07</td>\n",
       "      <td>0xE592427A0AEce92De3Edee1F18E0157C05861564</td>\n",
       "      <td>-194941.0</td>\n",
       "      <td>1.514152e+16</td>\n",
       "    </tr>\n",
       "    <tr>\n",
       "      <th>36</th>\n",
       "      <td>Swap</td>\n",
       "      <td>87</td>\n",
       "      <td>12376108</td>\n",
       "      <td>51</td>\n",
       "      <td>0x475df5706f3269fa32cf46dcb13c2b85fba87501c02dd30c1a27b9142533f0bc</td>\n",
       "      <td>0xE592427A0AEce92De3Edee1F18E0157C05861564</td>\n",
       "      <td>NaN</td>\n",
       "      <td>NaN</td>\n",
       "      <td>NaN</td>\n",
       "      <td>-2.881255e+18</td>\n",
       "      <td>1.000000e+10</td>\n",
       "      <td>0xE592427A0AEce92De3Edee1F18E0157C05861564</td>\n",
       "      <td>-194717.0</td>\n",
       "      <td>1.514152e+16</td>\n",
       "    </tr>\n",
       "    <tr>\n",
       "      <th>37</th>\n",
       "      <td>Swap</td>\n",
       "      <td>269</td>\n",
       "      <td>12376121</td>\n",
       "      <td>157</td>\n",
       "      <td>0x01f4a5f167af14683e7b2ee4e13b2393f082c503942b00303196addffd37fc6b</td>\n",
       "      <td>0xE592427A0AEce92De3Edee1F18E0157C05861564</td>\n",
       "      <td>NaN</td>\n",
       "      <td>NaN</td>\n",
       "      <td>NaN</td>\n",
       "      <td>6.500000e+16</td>\n",
       "      <td>-2.267114e+08</td>\n",
       "      <td>0xF8d4526C60709A9d51d82A72B7Ca897D625D0B8d</td>\n",
       "      <td>-194722.0</td>\n",
       "      <td>1.514152e+16</td>\n",
       "    </tr>\n",
       "    <tr>\n",
       "      <th>38</th>\n",
       "      <td>Swap</td>\n",
       "      <td>99</td>\n",
       "      <td>12376129</td>\n",
       "      <td>157</td>\n",
       "      <td>0x202d781b783a17de68b3bfbc47d728c900a529e5f0e5e4b1431d9c21b389246a</td>\n",
       "      <td>0xE592427A0AEce92De3Edee1F18E0157C05861564</td>\n",
       "      <td>NaN</td>\n",
       "      <td>NaN</td>\n",
       "      <td>NaN</td>\n",
       "      <td>1.305186e+18</td>\n",
       "      <td>-4.528150e+09</td>\n",
       "      <td>0xcC194b200ABe49C11a4671Ff5bCE376324859dbB</td>\n",
       "      <td>-194824.0</td>\n",
       "      <td>1.514152e+16</td>\n",
       "    </tr>\n",
       "    <tr>\n",
       "      <th>39</th>\n",
       "      <td>Swap</td>\n",
       "      <td>303</td>\n",
       "      <td>12376133</td>\n",
       "      <td>211</td>\n",
       "      <td>0x87e16278e4e27eaa29ac7c1d38eb7cd9ffc351d93c3e386fa8ce043b908ce6ec</td>\n",
       "      <td>0xE592427A0AEce92De3Edee1F18E0157C05861564</td>\n",
       "      <td>NaN</td>\n",
       "      <td>NaN</td>\n",
       "      <td>NaN</td>\n",
       "      <td>2.321336e+17</td>\n",
       "      <td>-8.005605e+08</td>\n",
       "      <td>0x7858E59e0C01EA06Df3aF3D20aC7B0003275D4Bf</td>\n",
       "      <td>-194842.0</td>\n",
       "      <td>1.514152e+16</td>\n",
       "    </tr>\n",
       "    <tr>\n",
       "      <th>40</th>\n",
       "      <td>Swap</td>\n",
       "      <td>18</td>\n",
       "      <td>12376140</td>\n",
       "      <td>220</td>\n",
       "      <td>0xfd1772003c3bad9589f0012dcd19ad5eea64d9c2624ccccacca815a87739c3b9</td>\n",
       "      <td>0xE592427A0AEce92De3Edee1F18E0157C05861564</td>\n",
       "      <td>NaN</td>\n",
       "      <td>NaN</td>\n",
       "      <td>NaN</td>\n",
       "      <td>8.000000e+17</td>\n",
       "      <td>-2.747976e+09</td>\n",
       "      <td>0xcC194b200ABe49C11a4671Ff5bCE376324859dbB</td>\n",
       "      <td>-194904.0</td>\n",
       "      <td>1.514152e+16</td>\n",
       "    </tr>\n",
       "    <tr>\n",
       "      <th>41</th>\n",
       "      <td>Mint</td>\n",
       "      <td>212</td>\n",
       "      <td>12376144</td>\n",
       "      <td>185</td>\n",
       "      <td>0x29f839548285f0073bcdf6483e037dbf4af4782e67042c87066eb27050a27ae8</td>\n",
       "      <td>0xC36442b4a4522E871399CD717aBDD847Ab11FE88</td>\n",
       "      <td>5.876472e+14</td>\n",
       "      <td>-207240.0</td>\n",
       "      <td>-184200.0</td>\n",
       "      <td>4.155305e+18</td>\n",
       "      <td>1.585384e+10</td>\n",
       "      <td>NaN</td>\n",
       "      <td>NaN</td>\n",
       "      <td>NaN</td>\n",
       "    </tr>\n",
       "    <tr>\n",
       "      <th>42</th>\n",
       "      <td>Mint</td>\n",
       "      <td>144</td>\n",
       "      <td>12376155</td>\n",
       "      <td>46</td>\n",
       "      <td>0x2f10a6a0f81024ccb09d3e4c2503a489bbc8091c49f8bfd8170f27e35e9e60bc</td>\n",
       "      <td>0xC36442b4a4522E871399CD717aBDD847Ab11FE88</td>\n",
       "      <td>1.411892e+14</td>\n",
       "      <td>-195180.0</td>\n",
       "      <td>-194820.0</td>\n",
       "      <td>1.000000e+16</td>\n",
       "      <td>1.137274e+08</td>\n",
       "      <td>NaN</td>\n",
       "      <td>NaN</td>\n",
       "      <td>NaN</td>\n",
       "    </tr>\n",
       "    <tr>\n",
       "      <th>43</th>\n",
       "      <td>Mint</td>\n",
       "      <td>134</td>\n",
       "      <td>12376168</td>\n",
       "      <td>58</td>\n",
       "      <td>0x1a26ca7012b1dda285ccdb48b752d86430ce279d7843cb2e93a94926da9eb999</td>\n",
       "      <td>0xC36442b4a4522E871399CD717aBDD847Ab11FE88</td>\n",
       "      <td>7.645635e+14</td>\n",
       "      <td>-195120.0</td>\n",
       "      <td>-194760.0</td>\n",
       "      <td>9.306632e+16</td>\n",
       "      <td>4.830839e+08</td>\n",
       "      <td>NaN</td>\n",
       "      <td>NaN</td>\n",
       "      <td>NaN</td>\n",
       "    </tr>\n",
       "    <tr>\n",
       "      <th>44</th>\n",
       "      <td>Mint</td>\n",
       "      <td>200</td>\n",
       "      <td>12376168</td>\n",
       "      <td>73</td>\n",
       "      <td>0x5c79e9eb8cdd9132193c788a306955951324c39e9c75712319fb530f9c98c08f</td>\n",
       "      <td>0xC36442b4a4522E871399CD717aBDD847Ab11FE88</td>\n",
       "      <td>2.193306e+16</td>\n",
       "      <td>-196140.0</td>\n",
       "      <td>-193680.0</td>\n",
       "      <td>2.220180e+19</td>\n",
       "      <td>7.707842e+10</td>\n",
       "      <td>NaN</td>\n",
       "      <td>NaN</td>\n",
       "      <td>NaN</td>\n",
       "    </tr>\n",
       "    <tr>\n",
       "      <th>45</th>\n",
       "      <td>Swap</td>\n",
       "      <td>283</td>\n",
       "      <td>12376171</td>\n",
       "      <td>118</td>\n",
       "      <td>0x287c0316f234199dee1078b27af94b57aa7a3de0c40ca701e766a1a83161eb6f</td>\n",
       "      <td>0xE592427A0AEce92De3Edee1F18E0157C05861564</td>\n",
       "      <td>NaN</td>\n",
       "      <td>NaN</td>\n",
       "      <td>NaN</td>\n",
       "      <td>-9.232634e+16</td>\n",
       "      <td>3.181093e+08</td>\n",
       "      <td>0xE592427A0AEce92De3Edee1F18E0157C05861564</td>\n",
       "      <td>-194901.0</td>\n",
       "      <td>3.856798e+16</td>\n",
       "    </tr>\n",
       "    <tr>\n",
       "      <th>46</th>\n",
       "      <td>Swap</td>\n",
       "      <td>69</td>\n",
       "      <td>12376185</td>\n",
       "      <td>34</td>\n",
       "      <td>0x6f9d59f09ade9b412a0a4597bddb127d347aa1ce053929687e887ee2d476c109</td>\n",
       "      <td>0xE592427A0AEce92De3Edee1F18E0157C05861564</td>\n",
       "      <td>NaN</td>\n",
       "      <td>NaN</td>\n",
       "      <td>NaN</td>\n",
       "      <td>-1.841189e+17</td>\n",
       "      <td>6.346462e+08</td>\n",
       "      <td>0x1d42064Fc4Beb5F8aAF85F4617AE8b3b5B8Bd801</td>\n",
       "      <td>-194895.0</td>\n",
       "      <td>3.856798e+16</td>\n",
       "    </tr>\n",
       "    <tr>\n",
       "      <th>47</th>\n",
       "      <td>Mint</td>\n",
       "      <td>374</td>\n",
       "      <td>12376185</td>\n",
       "      <td>126</td>\n",
       "      <td>0x8ab2fde1d635a0894bb690c6ea7a3413d836b11510fe82f5f476322a52ee99e3</td>\n",
       "      <td>0xC36442b4a4522E871399CD717aBDD847Ab11FE88</td>\n",
       "      <td>2.799920e+11</td>\n",
       "      <td>-196200.0</td>\n",
       "      <td>-194940.0</td>\n",
       "      <td>0.000000e+00</td>\n",
       "      <td>1.000000e+06</td>\n",
       "      <td>NaN</td>\n",
       "      <td>NaN</td>\n",
       "      <td>NaN</td>\n",
       "    </tr>\n",
       "    <tr>\n",
       "      <th>48</th>\n",
       "      <td>Mint</td>\n",
       "      <td>271</td>\n",
       "      <td>12376198</td>\n",
       "      <td>139</td>\n",
       "      <td>0x3053017b0c9a99befeaa8eaacc5d1f7868251dedbcab9bca36cb6b224495bfdc</td>\n",
       "      <td>0xC36442b4a4522E871399CD717aBDD847Ab11FE88</td>\n",
       "      <td>2.880895e+15</td>\n",
       "      <td>-196260.0</td>\n",
       "      <td>-193560.0</td>\n",
       "      <td>3.172145e+18</td>\n",
       "      <td>1.114454e+10</td>\n",
       "      <td>NaN</td>\n",
       "      <td>NaN</td>\n",
       "      <td>NaN</td>\n",
       "    </tr>\n",
       "    <tr>\n",
       "      <th>49</th>\n",
       "      <td>Swap</td>\n",
       "      <td>112</td>\n",
       "      <td>12376217</td>\n",
       "      <td>78</td>\n",
       "      <td>0x7d6bec9e5593476b5877b30afbd2e4b704881200bd86740c0cd7c8cc0a6f2267</td>\n",
       "      <td>0xE592427A0AEce92De3Edee1F18E0157C05861564</td>\n",
       "      <td>NaN</td>\n",
       "      <td>NaN</td>\n",
       "      <td>NaN</td>\n",
       "      <td>1.167310e+17</td>\n",
       "      <td>-4.000000e+08</td>\n",
       "      <td>0xf216C9EbcE75dd9E16b13eb6cA051eA4637f363D</td>\n",
       "      <td>-194899.0</td>\n",
       "      <td>4.144887e+16</td>\n",
       "    </tr>\n",
       "  </tbody>\n",
       "</table>\n",
       "</div>"
      ],
      "text/plain": [
       "      event  logIndex  blockNumber  transactionIndex  \\\n",
       "0      Mint        31     12375326                11   \n",
       "1      Mint       307     12375529               212   \n",
       "2      Mint       148     12375553               104   \n",
       "3      Mint        99     12375566                44   \n",
       "4      Mint       105     12375566                45   \n",
       "5      Swap       207     12375689               195   \n",
       "6      Swap       207     12375690               252   \n",
       "7      Swap        79     12375699               111   \n",
       "8      Swap       352     12375700               235   \n",
       "9      Swap       353     12375735               202   \n",
       "10     Swap       171     12375747                95   \n",
       "11     Swap       291     12375768               193   \n",
       "12     Mint       266     12375810               212   \n",
       "13     Swap       157     12375816                50   \n",
       "14     Burn       213     12375839               184   \n",
       "15  Collect       216     12375839               184   \n",
       "16     Swap       274     12375933               175   \n",
       "17     Swap       237     12375944               149   \n",
       "18     Swap       346     12375948               145   \n",
       "19     Mint       183     12375953               138   \n",
       "20     Mint       133     12375955               109   \n",
       "21     Swap       184     12375955               127   \n",
       "22     Swap       160     12375960                45   \n",
       "23     Mint        36     12375969                29   \n",
       "24     Swap       308     12376005               155   \n",
       "25     Swap       247     12376012               199   \n",
       "26     Mint       288     12376014               162   \n",
       "27     Swap       206     12376026               114   \n",
       "28     Swap       173     12376034               137   \n",
       "29     Swap       265     12376038                87   \n",
       "30     Swap        24     12376039                41   \n",
       "31     Swap       308     12376046               182   \n",
       "32     Mint       141     12376058                67   \n",
       "33     Swap        90     12376059                19   \n",
       "34     Swap       193     12376060                77   \n",
       "35     Swap       223     12376062               127   \n",
       "36     Swap        87     12376108                51   \n",
       "37     Swap       269     12376121               157   \n",
       "38     Swap        99     12376129               157   \n",
       "39     Swap       303     12376133               211   \n",
       "40     Swap        18     12376140               220   \n",
       "41     Mint       212     12376144               185   \n",
       "42     Mint       144     12376155                46   \n",
       "43     Mint       134     12376168                58   \n",
       "44     Mint       200     12376168                73   \n",
       "45     Swap       283     12376171               118   \n",
       "46     Swap        69     12376185                34   \n",
       "47     Mint       374     12376185               126   \n",
       "48     Mint       271     12376198               139   \n",
       "49     Swap       112     12376217                78   \n",
       "\n",
       "                                                       transactionHash  \\\n",
       "0   0x2e07c690f149223e4f290986277304ea6a05c6ee47ba303732166bc1b15cbafb   \n",
       "1   0x85a3f0ed4fc14085609e95e7366364566b89d7569e62e4a828d1ef1e5dc81e58   \n",
       "2   0x0fde2929c1fa5dd5dc9a0fcfbf8adccdeefbc398aa36ff019aa2b15eded23552   \n",
       "3   0x34ca11f7f1c6a4d8d17cabf14c6d0ffa5116a693508cd974c882e06308479820   \n",
       "4   0x9ece74425a9b5b937b51e14d4fbb9eb7aa6f6ae415d51a460b6f56335d31b9f7   \n",
       "5   0x7e348d63a404ee6cd2c400f2c6e730e776c1d25aebe539b788b7c9dcefce842f   \n",
       "6   0x59a3626c612fc662fa3b626adaafa2358988efcd13a1316bb7c6011f276e5c5e   \n",
       "7   0x5e213a2e270e51add4e1298562c29cc53ed78f6abf3b7f9678ffe4055722bb46   \n",
       "8   0xea8b1509ed20b5380530853e984940cec020cad42d7a5d8f0b9709ef809c877b   \n",
       "9   0x969173d81a5282e5ca583afae3d88efb17fa77b275c00610df9f069f71d87e20   \n",
       "10  0xe9204d26dc993ef0b300010a8842ea604c9f404c936b06f7f58f05c9126bcac5   \n",
       "11  0x4fd701db20d9a9725d0929f1a0a27d165074bbd3e9eab1afc3983019b399ef02   \n",
       "12  0x274f3dd946f01c172c97830d9fd98abe2ff6d72c53ce89a55e946b91933e26e2   \n",
       "13  0x9036bae6a03d981ac06b375b47dac2764381263a0fae83241fda55fef806d466   \n",
       "14  0x1bfa599133b247738f35fcbc44e874960822b7dd185f530472acfcb535e6040c   \n",
       "15  0x1bfa599133b247738f35fcbc44e874960822b7dd185f530472acfcb535e6040c   \n",
       "16  0xa0bf465c40a6c7670d50b4e612d69bdf239b16a2cc0af9bfab8c0abadbcced04   \n",
       "17  0x49b7ae926f702bbebba91f265bd91ea09b9ca118ad7cbba992f93dcdde6bb486   \n",
       "18  0xcf44ad5c4c111afa0803d1014cd70a33aa79ce9462b6d188b668595d5cba1893   \n",
       "19  0x7ff72d7d49869863abbb250f6538b6116f30e35488b308a7ffaf93fcc76171cd   \n",
       "20  0xf461168a7c7c3138baff3eb4262620b4008a766691d4758ef2c69a606afcaa82   \n",
       "21  0x2dbd0bf10fde0cdb2d656e5b2437788fd145187a667e3fd572b0cdce78423a59   \n",
       "22  0x063980c7392051f5a69357328164c28ac8d2d57aed31ddcacc84b5e021bfa411   \n",
       "23  0xa872eea39c61f833f1d31ec09e0053b88584e93921c8aa55d039a5ff6a38b0bd   \n",
       "24  0x9bb8d6283d92dedd1314954f0f07d0d4fd5996f30b4107513e3fa9b29986cde0   \n",
       "25  0x9f7e8ce9761432b2d46478351c1db7870d2e49463ac178e70dcd0a9f1fc773fe   \n",
       "26  0xa0bc408877fbaeb9af4a4021e840e9711c9f43aed3e8099e4f67cc741b5fb17a   \n",
       "27  0x15e6efee51192258392e57a6fb7c32330eff3389192fa88f90dfb3551da9e9ae   \n",
       "28  0xf7ec2f526920402af6ceb2a8b98134d3e133380f541f0e65172e3e6f8c7c3ddb   \n",
       "29  0xd1ee549832fe1e457841d7051270c90a093f13fc973f0272808321faf01a3ddc   \n",
       "30  0x09d83c724873febccae9d925efbd22630cc0549b248b7465254911cc254c0ac7   \n",
       "31  0x3e024699107e01b376b38240759557ec6dba89daef2baf27737fa2091b1981bb   \n",
       "32  0x04f2b262a53aff1e99de212370df3d910587d942bec520543eb064cde0a8af25   \n",
       "33  0x8843daf777e34dee15cc7b3f3dfe50ed7fe456f005ea38335451b8054d96ae2a   \n",
       "34  0x688990c8a6bf4974161fef8a1fecc03beef1cbccd9e0d001184a686d95225cdc   \n",
       "35  0x8d4d93c5a6727c39ce3ee2f56d694e7cca0daf21d662bfab2c216f98c82ad571   \n",
       "36  0x475df5706f3269fa32cf46dcb13c2b85fba87501c02dd30c1a27b9142533f0bc   \n",
       "37  0x01f4a5f167af14683e7b2ee4e13b2393f082c503942b00303196addffd37fc6b   \n",
       "38  0x202d781b783a17de68b3bfbc47d728c900a529e5f0e5e4b1431d9c21b389246a   \n",
       "39  0x87e16278e4e27eaa29ac7c1d38eb7cd9ffc351d93c3e386fa8ce043b908ce6ec   \n",
       "40  0xfd1772003c3bad9589f0012dcd19ad5eea64d9c2624ccccacca815a87739c3b9   \n",
       "41  0x29f839548285f0073bcdf6483e037dbf4af4782e67042c87066eb27050a27ae8   \n",
       "42  0x2f10a6a0f81024ccb09d3e4c2503a489bbc8091c49f8bfd8170f27e35e9e60bc   \n",
       "43  0x1a26ca7012b1dda285ccdb48b752d86430ce279d7843cb2e93a94926da9eb999   \n",
       "44  0x5c79e9eb8cdd9132193c788a306955951324c39e9c75712319fb530f9c98c08f   \n",
       "45  0x287c0316f234199dee1078b27af94b57aa7a3de0c40ca701e766a1a83161eb6f   \n",
       "46  0x6f9d59f09ade9b412a0a4597bddb127d347aa1ce053929687e887ee2d476c109   \n",
       "47  0x8ab2fde1d635a0894bb690c6ea7a3413d836b11510fe82f5f476322a52ee99e3   \n",
       "48  0x3053017b0c9a99befeaa8eaacc5d1f7868251dedbcab9bca36cb6b224495bfdc   \n",
       "49  0x7d6bec9e5593476b5877b30afbd2e4b704881200bd86740c0cd7c8cc0a6f2267   \n",
       "\n",
       "                                        sender        amount  tickLower  \\\n",
       "0   0xC36442b4a4522E871399CD717aBDD847Ab11FE88  8.210905e+15  -197400.0   \n",
       "1   0xC36442b4a4522E871399CD717aBDD847Ab11FE88  1.935471e+13  -195120.0   \n",
       "2   0xC36442b4a4522E871399CD717aBDD847Ab11FE88  3.509242e+09  -195180.0   \n",
       "3   0xC36442b4a4522E871399CD717aBDD847Ab11FE88  3.510779e+11  -195180.0   \n",
       "4   0xC36442b4a4522E871399CD717aBDD847Ab11FE88  3.510779e+11  -195180.0   \n",
       "5   0xE592427A0AEce92De3Edee1F18E0157C05861564           NaN        NaN   \n",
       "6   0xE592427A0AEce92De3Edee1F18E0157C05861564           NaN        NaN   \n",
       "7   0xE592427A0AEce92De3Edee1F18E0157C05861564           NaN        NaN   \n",
       "8   0xE592427A0AEce92De3Edee1F18E0157C05861564           NaN        NaN   \n",
       "9   0xE592427A0AEce92De3Edee1F18E0157C05861564           NaN        NaN   \n",
       "10  0xE592427A0AEce92De3Edee1F18E0157C05861564           NaN        NaN   \n",
       "11  0xE592427A0AEce92De3Edee1F18E0157C05861564           NaN        NaN   \n",
       "12  0xC36442b4a4522E871399CD717aBDD847Ab11FE88  3.405183e+19  -357720.0   \n",
       "13  0xE592427A0AEce92De3Edee1F18E0157C05861564           NaN        NaN   \n",
       "14  0xC36442b4a4522E871399CD717aBDD847Ab11FE88  3.405183e+19  -357720.0   \n",
       "15  0xC36442b4a4522E871399CD717aBDD847Ab11FE88           NaN  -357720.0   \n",
       "16  0xE592427A0AEce92De3Edee1F18E0157C05861564           NaN        NaN   \n",
       "17  0xE592427A0AEce92De3Edee1F18E0157C05861564           NaN        NaN   \n",
       "18  0xE592427A0AEce92De3Edee1F18E0157C05861564           NaN        NaN   \n",
       "19  0xC36442b4a4522E871399CD717aBDD847Ab11FE88  1.063048e+15  -195600.0   \n",
       "20  0xC36442b4a4522E871399CD717aBDD847Ab11FE88  3.456565e+13  -196260.0   \n",
       "21  0xE592427A0AEce92De3Edee1F18E0157C05861564           NaN        NaN   \n",
       "22  0xE592427A0AEce92De3Edee1F18E0157C05861564           NaN        NaN   \n",
       "23  0xC36442b4a4522E871399CD717aBDD847Ab11FE88  1.383580e+14  -194700.0   \n",
       "24  0xE592427A0AEce92De3Edee1F18E0157C05861564           NaN        NaN   \n",
       "25  0xE592427A0AEce92De3Edee1F18E0157C05861564           NaN        NaN   \n",
       "26  0xC36442b4a4522E871399CD717aBDD847Ab11FE88  5.832998e+15  -195600.0   \n",
       "27  0xE592427A0AEce92De3Edee1F18E0157C05861564           NaN        NaN   \n",
       "28  0xE592427A0AEce92De3Edee1F18E0157C05861564           NaN        NaN   \n",
       "29  0xE592427A0AEce92De3Edee1F18E0157C05861564           NaN        NaN   \n",
       "30  0xE592427A0AEce92De3Edee1F18E0157C05861564           NaN        NaN   \n",
       "31  0xE592427A0AEce92De3Edee1F18E0157C05861564           NaN        NaN   \n",
       "32  0xC36442b4a4522E871399CD717aBDD847Ab11FE88  5.554716e+12  -184260.0   \n",
       "33  0xE592427A0AEce92De3Edee1F18E0157C05861564           NaN        NaN   \n",
       "34  0xE592427A0AEce92De3Edee1F18E0157C05861564           NaN        NaN   \n",
       "35  0xE592427A0AEce92De3Edee1F18E0157C05861564           NaN        NaN   \n",
       "36  0xE592427A0AEce92De3Edee1F18E0157C05861564           NaN        NaN   \n",
       "37  0xE592427A0AEce92De3Edee1F18E0157C05861564           NaN        NaN   \n",
       "38  0xE592427A0AEce92De3Edee1F18E0157C05861564           NaN        NaN   \n",
       "39  0xE592427A0AEce92De3Edee1F18E0157C05861564           NaN        NaN   \n",
       "40  0xE592427A0AEce92De3Edee1F18E0157C05861564           NaN        NaN   \n",
       "41  0xC36442b4a4522E871399CD717aBDD847Ab11FE88  5.876472e+14  -207240.0   \n",
       "42  0xC36442b4a4522E871399CD717aBDD847Ab11FE88  1.411892e+14  -195180.0   \n",
       "43  0xC36442b4a4522E871399CD717aBDD847Ab11FE88  7.645635e+14  -195120.0   \n",
       "44  0xC36442b4a4522E871399CD717aBDD847Ab11FE88  2.193306e+16  -196140.0   \n",
       "45  0xE592427A0AEce92De3Edee1F18E0157C05861564           NaN        NaN   \n",
       "46  0xE592427A0AEce92De3Edee1F18E0157C05861564           NaN        NaN   \n",
       "47  0xC36442b4a4522E871399CD717aBDD847Ab11FE88  2.799920e+11  -196200.0   \n",
       "48  0xC36442b4a4522E871399CD717aBDD847Ab11FE88  2.880895e+15  -196260.0   \n",
       "49  0xE592427A0AEce92De3Edee1F18E0157C05861564           NaN        NaN   \n",
       "\n",
       "    tickUpper       amount0       amount1  \\\n",
       "0   -193320.0  1.242324e+19  5.050028e+10   \n",
       "1   -195060.0  1.000000e+15  0.000000e+00   \n",
       "2   -195120.0  9.995372e+10  2.740000e+02   \n",
       "3   -195120.0  9.999750e+12  2.741200e+04   \n",
       "4   -195120.0  9.999750e+12  2.741200e+04   \n",
       "5         NaN  1.000000e+15 -3.339863e+06   \n",
       "6         NaN  1.000000e+16 -3.339606e+07   \n",
       "7         NaN  1.000000e+15 -3.339347e+06   \n",
       "8         NaN -1.488183e+16  5.000000e+07   \n",
       "9         NaN  3.000000e+15 -1.001986e+07   \n",
       "10        NaN  2.995332e+14 -1.000404e+06   \n",
       "11        NaN -1.368916e+16  4.600000e+07   \n",
       "12  -357600.0  0.000000e+00  3.500828e+09   \n",
       "13        NaN  2.319822e+16 -7.748135e+07   \n",
       "14  -357600.0  0.000000e+00  3.500828e+09   \n",
       "15  -357600.0  0.000000e+00  3.500828e+09   \n",
       "16        NaN -3.314562e+18  1.140168e+10   \n",
       "17        NaN  1.000000e+17 -3.498536e+08   \n",
       "18        NaN  1.288625e+18 -4.463701e+09   \n",
       "19  -193380.0  1.309577e+18  2.203646e+09   \n",
       "20  -191160.0  1.000000e+17  1.351573e+08   \n",
       "21        NaN  1.312222e+17 -4.500000e+08   \n",
       "22        NaN  3.656443e+17 -1.250000e+09   \n",
       "23  -194640.0  7.000000e+15  0.000000e+00   \n",
       "24        NaN  2.500000e+17 -8.513646e+08   \n",
       "25        NaN  2.500000e+17 -8.487062e+08   \n",
       "26  -194460.0  2.691394e+18  9.960932e+09   \n",
       "27        NaN -8.709811e+17  2.980000e+09   \n",
       "28        NaN -1.038827e+18  3.580606e+09   \n",
       "29        NaN  1.500000e+17 -5.156911e+08   \n",
       "30        NaN  2.000000e+17 -6.866586e+08   \n",
       "31        NaN  5.847139e+17 -2.001423e+09   \n",
       "32  -184140.0  3.330000e+14  0.000000e+00   \n",
       "33        NaN  3.000000e+16 -1.024441e+08   \n",
       "34        NaN  1.000000e+17 -3.413093e+08   \n",
       "35        NaN  1.000000e+16 -3.411647e+07   \n",
       "36        NaN -2.881255e+18  1.000000e+10   \n",
       "37        NaN  6.500000e+16 -2.267114e+08   \n",
       "38        NaN  1.305186e+18 -4.528150e+09   \n",
       "39        NaN  2.321336e+17 -8.005605e+08   \n",
       "40        NaN  8.000000e+17 -2.747976e+09   \n",
       "41  -184200.0  4.155305e+18  1.585384e+10   \n",
       "42  -194820.0  1.000000e+16  1.137274e+08   \n",
       "43  -194760.0  9.306632e+16  4.830839e+08   \n",
       "44  -193680.0  2.220180e+19  7.707842e+10   \n",
       "45        NaN -9.232634e+16  3.181093e+08   \n",
       "46        NaN -1.841189e+17  6.346462e+08   \n",
       "47  -194940.0  0.000000e+00  1.000000e+06   \n",
       "48  -193560.0  3.172145e+18  1.114454e+10   \n",
       "49        NaN  1.167310e+17 -4.000000e+08   \n",
       "\n",
       "                                     recipient      tick     liquidity  \n",
       "0                                          NaN       NaN           NaN  \n",
       "1                                          NaN       NaN           NaN  \n",
       "2                                          NaN       NaN           NaN  \n",
       "3                                          NaN       NaN           NaN  \n",
       "4                                          NaN       NaN           NaN  \n",
       "5   0xE592427A0AEce92De3Edee1F18E0157C05861564 -195154.0  8.211610e+15  \n",
       "6   0x4d997c89Bc659a3E8452038A8101161e7e7e53a7 -195155.0  8.211610e+15  \n",
       "7   0xbabe61887f1de2713c6f97e567623453d3C79f67 -195155.0  8.211610e+15  \n",
       "8   0xE592427A0AEce92De3Edee1F18E0157C05861564 -195153.0  8.211610e+15  \n",
       "9   0xE4310545E143b6E44Aefa9A96F9aca44984CB1e0 -195154.0  8.211610e+15  \n",
       "10  0x6f48ECa74B38d2936B02ab603FF4e36A6C0E3A77 -195154.0  8.211610e+15  \n",
       "11  0xE592427A0AEce92De3Edee1F18E0157C05861564 -195152.0  8.211610e+15  \n",
       "12                                         NaN       NaN           NaN  \n",
       "13  0xb7430de9B4D8e5cDB951019d7651cD5fda630498 -195155.0  8.211610e+15  \n",
       "14                                         NaN       NaN           NaN  \n",
       "15                                         NaN       NaN           NaN  \n",
       "16  0xE592427A0AEce92De3Edee1F18E0157C05861564 -194682.0  8.210905e+15  \n",
       "17  0xE592427A0AEce92De3Edee1F18E0157C05861564 -194697.0  8.210905e+15  \n",
       "18  0x22F9dCF4647084d6C31b2765F6910cd85C178C18 -194881.0  8.210905e+15  \n",
       "19                                         NaN       NaN           NaN  \n",
       "20                                         NaN       NaN           NaN  \n",
       "21  0x32188FC4E828551aE255c3d26b322D087b05570D -194898.0  9.308518e+15  \n",
       "22  0x40b36e9577589C2Fdfa547ADEC2Ca3281F29C773 -194943.0  9.308518e+15  \n",
       "23                                         NaN       NaN           NaN  \n",
       "24  0xE592427A0AEce92De3Edee1F18E0157C05861564 -194975.0  9.308518e+15  \n",
       "25  0xa27D7708312d129571ED19E3C7CF2635E86CCfa3 -195006.0  9.308518e+15  \n",
       "26                                         NaN       NaN           NaN  \n",
       "27  0xE592427A0AEce92De3Edee1F18E0157C05861564 -194939.0  1.514152e+16  \n",
       "28  0x32A2c4C25BABEdC810fa466ab0F0C742Df3A3555 -194858.0  1.514152e+16  \n",
       "29  0xE592427A0AEce92De3Edee1F18E0157C05861564 -194870.0  1.514152e+16  \n",
       "30  0xE592427A0AEce92De3Edee1F18E0157C05861564 -194885.0  1.514152e+16  \n",
       "31  0x7858E59e0C01EA06Df3aF3D20aC7B0003275D4Bf -194931.0  1.514152e+16  \n",
       "32                                         NaN       NaN           NaN  \n",
       "33  0xE592427A0AEce92De3Edee1F18E0157C05861564 -194933.0  1.514152e+16  \n",
       "34  0xE592427A0AEce92De3Edee1F18E0157C05861564 -194941.0  1.514152e+16  \n",
       "35  0xE592427A0AEce92De3Edee1F18E0157C05861564 -194941.0  1.514152e+16  \n",
       "36  0xE592427A0AEce92De3Edee1F18E0157C05861564 -194717.0  1.514152e+16  \n",
       "37  0xF8d4526C60709A9d51d82A72B7Ca897D625D0B8d -194722.0  1.514152e+16  \n",
       "38  0xcC194b200ABe49C11a4671Ff5bCE376324859dbB -194824.0  1.514152e+16  \n",
       "39  0x7858E59e0C01EA06Df3aF3D20aC7B0003275D4Bf -194842.0  1.514152e+16  \n",
       "40  0xcC194b200ABe49C11a4671Ff5bCE376324859dbB -194904.0  1.514152e+16  \n",
       "41                                         NaN       NaN           NaN  \n",
       "42                                         NaN       NaN           NaN  \n",
       "43                                         NaN       NaN           NaN  \n",
       "44                                         NaN       NaN           NaN  \n",
       "45  0xE592427A0AEce92De3Edee1F18E0157C05861564 -194901.0  3.856798e+16  \n",
       "46  0x1d42064Fc4Beb5F8aAF85F4617AE8b3b5B8Bd801 -194895.0  3.856798e+16  \n",
       "47                                         NaN       NaN           NaN  \n",
       "48                                         NaN       NaN           NaN  \n",
       "49  0xf216C9EbcE75dd9E16b13eb6cA051eA4637f363D -194899.0  4.144887e+16  "
      ]
     },
     "execution_count": 37,
     "metadata": {},
     "output_type": "execute_result"
    }
   ],
   "source": [
    "clm.view_all_pool_events()"
   ]
  },
  {
   "cell_type": "code",
   "execution_count": null,
   "metadata": {},
   "outputs": [],
   "source": [
    "position_df"
   ]
  },
  {
   "cell_type": "code",
   "execution_count": 28,
   "metadata": {},
   "outputs": [
    {
     "data": {
      "text/plain": [
       "7.416174873917757e+20"
      ]
     },
     "execution_count": 28,
     "metadata": {},
     "output_type": "execute_result"
    }
   ],
   "source": [
    "clm.liquidity"
   ]
  },
  {
   "cell_type": "code",
   "execution_count": 29,
   "metadata": {},
   "outputs": [
    {
     "data": {
      "text/html": [
       "<div>\n",
       "<style scoped>\n",
       "    .dataframe tbody tr th:only-of-type {\n",
       "        vertical-align: middle;\n",
       "    }\n",
       "\n",
       "    .dataframe tbody tr th {\n",
       "        vertical-align: top;\n",
       "    }\n",
       "\n",
       "    .dataframe thead th {\n",
       "        text-align: right;\n",
       "    }\n",
       "</style>\n",
       "<table border=\"1\" class=\"dataframe\">\n",
       "  <thead>\n",
       "    <tr style=\"text-align: right;\">\n",
       "      <th></th>\n",
       "      <th>last_L</th>\n",
       "      <th>start_L</th>\n",
       "      <th>tickLower</th>\n",
       "      <th>tickUpper</th>\n",
       "      <th>owner</th>\n",
       "      <th>start_token0_holdings</th>\n",
       "      <th>start_token1_holdings</th>\n",
       "      <th>last_token0_holdings</th>\n",
       "      <th>last_token1_holdings</th>\n",
       "      <th>token0_fees_accrued</th>\n",
       "      <th>token1_fees_accrued</th>\n",
       "      <th>token0_collected</th>\n",
       "      <th>token1_collected</th>\n",
       "      <th>start_logIndex</th>\n",
       "      <th>start_blockNumber</th>\n",
       "      <th>start_transactionIndex</th>\n",
       "      <th>start_transactionHash</th>\n",
       "      <th>last_logIndex</th>\n",
       "      <th>last_blockNumber</th>\n",
       "      <th>last_transactionIndex</th>\n",
       "      <th>last_transactionHash</th>\n",
       "      <th>active</th>\n",
       "    </tr>\n",
       "  </thead>\n",
       "  <tbody>\n",
       "    <tr>\n",
       "      <th>2</th>\n",
       "      <td>7.308975e+20</td>\n",
       "      <td>7.308975e+20</td>\n",
       "      <td>-90300.0</td>\n",
       "      <td>-87360.0</td>\n",
       "      <td>0xC36442b4a4522E871399CD717aBDD847Ab11FE88</td>\n",
       "      <td>3.886628e+21</td>\n",
       "      <td>6.814681e+17</td>\n",
       "      <td>9.127638e+21</td>\n",
       "      <td>1.802841e+13</td>\n",
       "      <td>1.882760e+20</td>\n",
       "      <td>2.378577e+16</td>\n",
       "      <td>0.0</td>\n",
       "      <td>0.0</td>\n",
       "      <td>24</td>\n",
       "      <td>12638749</td>\n",
       "      <td>3</td>\n",
       "      <td>0x87eabf5af9ee2d959c32b79d09efd2f0ad91f2f1c6f42f46f4c032e7fef83bbc</td>\n",
       "      <td>12</td>\n",
       "      <td>12957054</td>\n",
       "      <td>1</td>\n",
       "      <td>0x27f9a5cddc4025562be12e9bb74db4f557591667500d0db3e968e648fcd23c23</td>\n",
       "      <td>True</td>\n",
       "    </tr>\n",
       "    <tr>\n",
       "      <th>3</th>\n",
       "      <td>1.071994e+19</td>\n",
       "      <td>1.071994e+19</td>\n",
       "      <td>-90300.0</td>\n",
       "      <td>-87360.0</td>\n",
       "      <td>0xC36442b4a4522E871399CD717aBDD847Ab11FE88</td>\n",
       "      <td>9.946499e+18</td>\n",
       "      <td>1.700000e+16</td>\n",
       "      <td>1.338734e+20</td>\n",
       "      <td>2.644195e+11</td>\n",
       "      <td>2.655692e+18</td>\n",
       "      <td>3.114656e+14</td>\n",
       "      <td>0.0</td>\n",
       "      <td>0.0</td>\n",
       "      <td>422</td>\n",
       "      <td>12642203</td>\n",
       "      <td>131</td>\n",
       "      <td>0xcd5ff8e742f15b2a37704f947d16e003b63466c807d00a315b74b21d0fb9167e</td>\n",
       "      <td>12</td>\n",
       "      <td>12957054</td>\n",
       "      <td>1</td>\n",
       "      <td>0x27f9a5cddc4025562be12e9bb74db4f557591667500d0db3e968e648fcd23c23</td>\n",
       "      <td>True</td>\n",
       "    </tr>\n",
       "  </tbody>\n",
       "</table>\n",
       "</div>"
      ],
      "text/plain": [
       "         last_L       start_L  tickLower  tickUpper  \\\n",
       "2  7.308975e+20  7.308975e+20   -90300.0   -87360.0   \n",
       "3  1.071994e+19  1.071994e+19   -90300.0   -87360.0   \n",
       "\n",
       "                                        owner  start_token0_holdings  \\\n",
       "2  0xC36442b4a4522E871399CD717aBDD847Ab11FE88           3.886628e+21   \n",
       "3  0xC36442b4a4522E871399CD717aBDD847Ab11FE88           9.946499e+18   \n",
       "\n",
       "   start_token1_holdings  last_token0_holdings  last_token1_holdings  \\\n",
       "2           6.814681e+17          9.127638e+21          1.802841e+13   \n",
       "3           1.700000e+16          1.338734e+20          2.644195e+11   \n",
       "\n",
       "   token0_fees_accrued  token1_fees_accrued  token0_collected  \\\n",
       "2         1.882760e+20         2.378577e+16               0.0   \n",
       "3         2.655692e+18         3.114656e+14               0.0   \n",
       "\n",
       "   token1_collected  start_logIndex  start_blockNumber  \\\n",
       "2               0.0              24           12638749   \n",
       "3               0.0             422           12642203   \n",
       "\n",
       "   start_transactionIndex  \\\n",
       "2                       3   \n",
       "3                     131   \n",
       "\n",
       "                                                start_transactionHash  \\\n",
       "2  0x87eabf5af9ee2d959c32b79d09efd2f0ad91f2f1c6f42f46f4c032e7fef83bbc   \n",
       "3  0xcd5ff8e742f15b2a37704f947d16e003b63466c807d00a315b74b21d0fb9167e   \n",
       "\n",
       "   last_logIndex  last_blockNumber  last_transactionIndex  \\\n",
       "2             12          12957054                      1   \n",
       "3             12          12957054                      1   \n",
       "\n",
       "                                                 last_transactionHash  active  \n",
       "2  0x27f9a5cddc4025562be12e9bb74db4f557591667500d0db3e968e648fcd23c23    True  \n",
       "3  0x27f9a5cddc4025562be12e9bb74db4f557591667500d0db3e968e648fcd23c23    True  "
      ]
     },
     "execution_count": 29,
     "metadata": {},
     "output_type": "execute_result"
    }
   ],
   "source": [
    "clm.get_active_LP_positions()"
   ]
  },
  {
   "cell_type": "code",
   "execution_count": 30,
   "metadata": {},
   "outputs": [
    {
     "data": {
      "text/html": [
       "<div>\n",
       "<style scoped>\n",
       "    .dataframe tbody tr th:only-of-type {\n",
       "        vertical-align: middle;\n",
       "    }\n",
       "\n",
       "    .dataframe tbody tr th {\n",
       "        vertical-align: top;\n",
       "    }\n",
       "\n",
       "    .dataframe thead th {\n",
       "        text-align: right;\n",
       "    }\n",
       "</style>\n",
       "<table border=\"1\" class=\"dataframe\">\n",
       "  <thead>\n",
       "    <tr style=\"text-align: right;\">\n",
       "      <th></th>\n",
       "      <th>event</th>\n",
       "      <th>logIndex</th>\n",
       "      <th>blockNumber</th>\n",
       "      <th>transactionIndex</th>\n",
       "      <th>transactionHash</th>\n",
       "      <th>sender</th>\n",
       "      <th>amount</th>\n",
       "      <th>tickLower</th>\n",
       "      <th>tickUpper</th>\n",
       "      <th>amount0</th>\n",
       "      <th>amount1</th>\n",
       "      <th>recipient</th>\n",
       "      <th>tick</th>\n",
       "      <th>liquidity</th>\n",
       "    </tr>\n",
       "  </thead>\n",
       "  <tbody>\n",
       "    <tr>\n",
       "      <th>0</th>\n",
       "      <td>Mint</td>\n",
       "      <td>191</td>\n",
       "      <td>12504752</td>\n",
       "      <td>115</td>\n",
       "      <td>0x58337bfa434b41a386d33647c0c7d495fdb3b26f4036f52425a9b1bf13c3124b</td>\n",
       "      <td>0xC36442b4a4522E871399CD717aBDD847Ab11FE88</td>\n",
       "      <td>6.805070e+22</td>\n",
       "      <td>-92160.0</td>\n",
       "      <td>-92040.0</td>\n",
       "      <td>2.956435e+22</td>\n",
       "      <td>1.120790e+18</td>\n",
       "      <td>NaN</td>\n",
       "      <td>NaN</td>\n",
       "      <td>NaN</td>\n",
       "    </tr>\n",
       "    <tr>\n",
       "      <th>1</th>\n",
       "      <td>Swap</td>\n",
       "      <td>341</td>\n",
       "      <td>12505364</td>\n",
       "      <td>192</td>\n",
       "      <td>0xa65838c86179aac0ca259281eeea1c5039d6e387750a6615c533af4b4aa70da9</td>\n",
       "      <td>0xE592427A0AEce92De3Edee1F18E0157C05861564</td>\n",
       "      <td>NaN</td>\n",
       "      <td>NaN</td>\n",
       "      <td>NaN</td>\n",
       "      <td>-7.990224e+20</td>\n",
       "      <td>8.000000e+16</td>\n",
       "      <td>0x14f967AFcFfbA3F5B16450aA576087a844745174</td>\n",
       "      <td>-92125.0</td>\n",
       "      <td>6.805070e+22</td>\n",
       "    </tr>\n",
       "    <tr>\n",
       "      <th>2</th>\n",
       "      <td>Swap</td>\n",
       "      <td>245</td>\n",
       "      <td>12506010</td>\n",
       "      <td>211</td>\n",
       "      <td>0x99b2fb0abf37bd85df7b92a534c1e46d78bb401696dc44566a7a356f4c912bfc</td>\n",
       "      <td>0xc06D57cE9B2AB9155c918AED666c04bFc31Ae020</td>\n",
       "      <td>NaN</td>\n",
       "      <td>NaN</td>\n",
       "      <td>NaN</td>\n",
       "      <td>1.207542e+22</td>\n",
       "      <td>-1.199796e+18</td>\n",
       "      <td>0xc06D57cE9B2AB9155c918AED666c04bFc31Ae020</td>\n",
       "      <td>-92160.0</td>\n",
       "      <td>6.805070e+22</td>\n",
       "    </tr>\n",
       "    <tr>\n",
       "      <th>3</th>\n",
       "      <td>Burn</td>\n",
       "      <td>144</td>\n",
       "      <td>12510449</td>\n",
       "      <td>172</td>\n",
       "      <td>0x31d070f1d8f7e4132cac47b09cf0b92a38b37c1096c787e2c1d2a2625d72beaa</td>\n",
       "      <td>0xC36442b4a4522E871399CD717aBDD847Ab11FE88</td>\n",
       "      <td>6.805070e+22</td>\n",
       "      <td>-92160.0</td>\n",
       "      <td>-92040.0</td>\n",
       "      <td>4.080452e+22</td>\n",
       "      <td>7.537319e+14</td>\n",
       "      <td>NaN</td>\n",
       "      <td>NaN</td>\n",
       "      <td>NaN</td>\n",
       "    </tr>\n",
       "    <tr>\n",
       "      <th>4</th>\n",
       "      <td>Collect</td>\n",
       "      <td>148</td>\n",
       "      <td>12510449</td>\n",
       "      <td>172</td>\n",
       "      <td>0x31d070f1d8f7e4132cac47b09cf0b92a38b37c1096c787e2c1d2a2625d72beaa</td>\n",
       "      <td>0xC36442b4a4522E871399CD717aBDD847Ab11FE88</td>\n",
       "      <td>NaN</td>\n",
       "      <td>-92160.0</td>\n",
       "      <td>-92040.0</td>\n",
       "      <td>4.084074e+22</td>\n",
       "      <td>9.937319e+14</td>\n",
       "      <td>NaN</td>\n",
       "      <td>NaN</td>\n",
       "      <td>NaN</td>\n",
       "    </tr>\n",
       "    <tr>\n",
       "      <th>...</th>\n",
       "      <td>...</td>\n",
       "      <td>...</td>\n",
       "      <td>...</td>\n",
       "      <td>...</td>\n",
       "      <td>...</td>\n",
       "      <td>...</td>\n",
       "      <td>...</td>\n",
       "      <td>...</td>\n",
       "      <td>...</td>\n",
       "      <td>...</td>\n",
       "      <td>...</td>\n",
       "      <td>...</td>\n",
       "      <td>...</td>\n",
       "      <td>...</td>\n",
       "    </tr>\n",
       "    <tr>\n",
       "      <th>223</th>\n",
       "      <td>Swap</td>\n",
       "      <td>306</td>\n",
       "      <td>12861537</td>\n",
       "      <td>211</td>\n",
       "      <td>0xe9b3b1a8134c704ac4710576c403f116ba66ecaf372190862a6a0c69accccab0</td>\n",
       "      <td>0xE592427A0AEce92De3Edee1F18E0157C05861564</td>\n",
       "      <td>NaN</td>\n",
       "      <td>NaN</td>\n",
       "      <td>NaN</td>\n",
       "      <td>2.313512e+21</td>\n",
       "      <td>-2.865150e+17</td>\n",
       "      <td>0x0000000089341e263B85D84A0Eea39f47C37A9d2</td>\n",
       "      <td>-90286.0</td>\n",
       "      <td>7.416175e+20</td>\n",
       "    </tr>\n",
       "    <tr>\n",
       "      <th>224</th>\n",
       "      <td>Swap</td>\n",
       "      <td>55</td>\n",
       "      <td>12917385</td>\n",
       "      <td>3</td>\n",
       "      <td>0x2fff46407dabe6309e82a43a411670a019923844c59de18cb7555e63c89c669c</td>\n",
       "      <td>0xE592427A0AEce92De3Edee1F18E0157C05861564</td>\n",
       "      <td>NaN</td>\n",
       "      <td>NaN</td>\n",
       "      <td>NaN</td>\n",
       "      <td>-2.404288e+21</td>\n",
       "      <td>3.000000e+17</td>\n",
       "      <td>0x5E6732d6416D3f3A6574b61eF1C81316cF8D9287</td>\n",
       "      <td>-89563.0</td>\n",
       "      <td>7.416175e+20</td>\n",
       "    </tr>\n",
       "    <tr>\n",
       "      <th>225</th>\n",
       "      <td>Swap</td>\n",
       "      <td>259</td>\n",
       "      <td>12917485</td>\n",
       "      <td>154</td>\n",
       "      <td>0x84021e289ab154bd112cbc83354a0f67e67dbe9e32dcfbaaaef780e0286d2904</td>\n",
       "      <td>0xDef1C0ded9bec7F1a1670819833240f027b25EfF</td>\n",
       "      <td>NaN</td>\n",
       "      <td>NaN</td>\n",
       "      <td>NaN</td>\n",
       "      <td>-3.429817e+20</td>\n",
       "      <td>4.460625e+16</td>\n",
       "      <td>0x74de5d4FCbf63E00296fd95d33236B9794016631</td>\n",
       "      <td>-89458.0</td>\n",
       "      <td>7.416175e+20</td>\n",
       "    </tr>\n",
       "    <tr>\n",
       "      <th>226</th>\n",
       "      <td>Swap</td>\n",
       "      <td>77</td>\n",
       "      <td>12920918</td>\n",
       "      <td>30</td>\n",
       "      <td>0xccd6d30929a044a469df9ea41fb0f52ff0bfd4ab75f5517d805ef4e2ae1cc287</td>\n",
       "      <td>0x520d18f8d73F5A6A961dC42834b9291E73731030</td>\n",
       "      <td>NaN</td>\n",
       "      <td>NaN</td>\n",
       "      <td>NaN</td>\n",
       "      <td>2.591638e+21</td>\n",
       "      <td>-3.239186e+17</td>\n",
       "      <td>0x520d18f8d73F5A6A961dC42834b9291E73731030</td>\n",
       "      <td>-90238.0</td>\n",
       "      <td>7.416175e+20</td>\n",
       "    </tr>\n",
       "    <tr>\n",
       "      <th>227</th>\n",
       "      <td>Swap</td>\n",
       "      <td>12</td>\n",
       "      <td>12957054</td>\n",
       "      <td>1</td>\n",
       "      <td>0x27f9a5cddc4025562be12e9bb74db4f557591667500d0db3e968e648fcd23c23</td>\n",
       "      <td>0xb6866D19F4F424A5CDa88fC03df28675fB74533e</td>\n",
       "      <td>NaN</td>\n",
       "      <td>NaN</td>\n",
       "      <td>NaN</td>\n",
       "      <td>2.114503e+20</td>\n",
       "      <td>-2.533821e+16</td>\n",
       "      <td>0xb6866D19F4F424A5CDa88fC03df28675fB74533e</td>\n",
       "      <td>-90300.0</td>\n",
       "      <td>7.416175e+20</td>\n",
       "    </tr>\n",
       "  </tbody>\n",
       "</table>\n",
       "<p>228 rows × 14 columns</p>\n",
       "</div>"
      ],
      "text/plain": [
       "       event  logIndex  blockNumber  transactionIndex  \\\n",
       "0       Mint       191     12504752               115   \n",
       "1       Swap       341     12505364               192   \n",
       "2       Swap       245     12506010               211   \n",
       "3       Burn       144     12510449               172   \n",
       "4    Collect       148     12510449               172   \n",
       "..       ...       ...          ...               ...   \n",
       "223     Swap       306     12861537               211   \n",
       "224     Swap        55     12917385                 3   \n",
       "225     Swap       259     12917485               154   \n",
       "226     Swap        77     12920918                30   \n",
       "227     Swap        12     12957054                 1   \n",
       "\n",
       "                                                        transactionHash  \\\n",
       "0    0x58337bfa434b41a386d33647c0c7d495fdb3b26f4036f52425a9b1bf13c3124b   \n",
       "1    0xa65838c86179aac0ca259281eeea1c5039d6e387750a6615c533af4b4aa70da9   \n",
       "2    0x99b2fb0abf37bd85df7b92a534c1e46d78bb401696dc44566a7a356f4c912bfc   \n",
       "3    0x31d070f1d8f7e4132cac47b09cf0b92a38b37c1096c787e2c1d2a2625d72beaa   \n",
       "4    0x31d070f1d8f7e4132cac47b09cf0b92a38b37c1096c787e2c1d2a2625d72beaa   \n",
       "..                                                                  ...   \n",
       "223  0xe9b3b1a8134c704ac4710576c403f116ba66ecaf372190862a6a0c69accccab0   \n",
       "224  0x2fff46407dabe6309e82a43a411670a019923844c59de18cb7555e63c89c669c   \n",
       "225  0x84021e289ab154bd112cbc83354a0f67e67dbe9e32dcfbaaaef780e0286d2904   \n",
       "226  0xccd6d30929a044a469df9ea41fb0f52ff0bfd4ab75f5517d805ef4e2ae1cc287   \n",
       "227  0x27f9a5cddc4025562be12e9bb74db4f557591667500d0db3e968e648fcd23c23   \n",
       "\n",
       "                                         sender        amount  tickLower  \\\n",
       "0    0xC36442b4a4522E871399CD717aBDD847Ab11FE88  6.805070e+22   -92160.0   \n",
       "1    0xE592427A0AEce92De3Edee1F18E0157C05861564           NaN        NaN   \n",
       "2    0xc06D57cE9B2AB9155c918AED666c04bFc31Ae020           NaN        NaN   \n",
       "3    0xC36442b4a4522E871399CD717aBDD847Ab11FE88  6.805070e+22   -92160.0   \n",
       "4    0xC36442b4a4522E871399CD717aBDD847Ab11FE88           NaN   -92160.0   \n",
       "..                                          ...           ...        ...   \n",
       "223  0xE592427A0AEce92De3Edee1F18E0157C05861564           NaN        NaN   \n",
       "224  0xE592427A0AEce92De3Edee1F18E0157C05861564           NaN        NaN   \n",
       "225  0xDef1C0ded9bec7F1a1670819833240f027b25EfF           NaN        NaN   \n",
       "226  0x520d18f8d73F5A6A961dC42834b9291E73731030           NaN        NaN   \n",
       "227  0xb6866D19F4F424A5CDa88fC03df28675fB74533e           NaN        NaN   \n",
       "\n",
       "     tickUpper       amount0       amount1  \\\n",
       "0     -92040.0  2.956435e+22  1.120790e+18   \n",
       "1          NaN -7.990224e+20  8.000000e+16   \n",
       "2          NaN  1.207542e+22 -1.199796e+18   \n",
       "3     -92040.0  4.080452e+22  7.537319e+14   \n",
       "4     -92040.0  4.084074e+22  9.937319e+14   \n",
       "..         ...           ...           ...   \n",
       "223        NaN  2.313512e+21 -2.865150e+17   \n",
       "224        NaN -2.404288e+21  3.000000e+17   \n",
       "225        NaN -3.429817e+20  4.460625e+16   \n",
       "226        NaN  2.591638e+21 -3.239186e+17   \n",
       "227        NaN  2.114503e+20 -2.533821e+16   \n",
       "\n",
       "                                      recipient     tick     liquidity  \n",
       "0                                           NaN      NaN           NaN  \n",
       "1    0x14f967AFcFfbA3F5B16450aA576087a844745174 -92125.0  6.805070e+22  \n",
       "2    0xc06D57cE9B2AB9155c918AED666c04bFc31Ae020 -92160.0  6.805070e+22  \n",
       "3                                           NaN      NaN           NaN  \n",
       "4                                           NaN      NaN           NaN  \n",
       "..                                          ...      ...           ...  \n",
       "223  0x0000000089341e263B85D84A0Eea39f47C37A9d2 -90286.0  7.416175e+20  \n",
       "224  0x5E6732d6416D3f3A6574b61eF1C81316cF8D9287 -89563.0  7.416175e+20  \n",
       "225  0x74de5d4FCbf63E00296fd95d33236B9794016631 -89458.0  7.416175e+20  \n",
       "226  0x520d18f8d73F5A6A961dC42834b9291E73731030 -90238.0  7.416175e+20  \n",
       "227  0xb6866D19F4F424A5CDa88fC03df28675fB74533e -90300.0  7.416175e+20  \n",
       "\n",
       "[228 rows x 14 columns]"
      ]
     },
     "execution_count": 30,
     "metadata": {},
     "output_type": "execute_result"
    }
   ],
   "source": [
    "clm.view_all_pool_events()"
   ]
  },
  {
   "cell_type": "code",
   "execution_count": 31,
   "metadata": {},
   "outputs": [],
   "source": [
    "pos = clm.positions"
   ]
  },
  {
   "cell_type": "code",
   "execution_count": 32,
   "metadata": {},
   "outputs": [
    {
     "data": {
      "text/html": [
       "<div>\n",
       "<style scoped>\n",
       "    .dataframe tbody tr th:only-of-type {\n",
       "        vertical-align: middle;\n",
       "    }\n",
       "\n",
       "    .dataframe tbody tr th {\n",
       "        vertical-align: top;\n",
       "    }\n",
       "\n",
       "    .dataframe thead th {\n",
       "        text-align: right;\n",
       "    }\n",
       "</style>\n",
       "<table border=\"1\" class=\"dataframe\">\n",
       "  <thead>\n",
       "    <tr style=\"text-align: right;\">\n",
       "      <th></th>\n",
       "      <th>last_L</th>\n",
       "      <th>start_L</th>\n",
       "      <th>tickLower</th>\n",
       "      <th>tickUpper</th>\n",
       "      <th>owner</th>\n",
       "      <th>start_token0_holdings</th>\n",
       "      <th>start_token1_holdings</th>\n",
       "      <th>last_token0_holdings</th>\n",
       "      <th>last_token1_holdings</th>\n",
       "      <th>token0_fees_accrued</th>\n",
       "      <th>token1_fees_accrued</th>\n",
       "      <th>token0_collected</th>\n",
       "      <th>token1_collected</th>\n",
       "      <th>start_logIndex</th>\n",
       "      <th>start_blockNumber</th>\n",
       "      <th>start_transactionIndex</th>\n",
       "      <th>start_transactionHash</th>\n",
       "      <th>last_logIndex</th>\n",
       "      <th>last_blockNumber</th>\n",
       "      <th>last_transactionIndex</th>\n",
       "      <th>last_transactionHash</th>\n",
       "      <th>active</th>\n",
       "    </tr>\n",
       "  </thead>\n",
       "  <tbody>\n",
       "    <tr>\n",
       "      <th>0</th>\n",
       "      <td>0.000000e+00</td>\n",
       "      <td>6.805070e+22</td>\n",
       "      <td>-92160.0</td>\n",
       "      <td>-92040.0</td>\n",
       "      <td>0xC36442b4a4522E871399CD717aBDD847Ab11FE88</td>\n",
       "      <td>2.956435e+22</td>\n",
       "      <td>1.120790e+18</td>\n",
       "      <td>0.000000e+00</td>\n",
       "      <td>0.000000e+00</td>\n",
       "      <td>3.622626e+19</td>\n",
       "      <td>2.400000e+14</td>\n",
       "      <td>4.084074e+22</td>\n",
       "      <td>9.937319e+14</td>\n",
       "      <td>191</td>\n",
       "      <td>12504752</td>\n",
       "      <td>115</td>\n",
       "      <td>0x58337bfa434b41a386d33647c0c7d495fdb3b26f4036f52425a9b1bf13c3124b</td>\n",
       "      <td>12</td>\n",
       "      <td>12957054</td>\n",
       "      <td>1</td>\n",
       "      <td>0x27f9a5cddc4025562be12e9bb74db4f557591667500d0db3e968e648fcd23c23</td>\n",
       "      <td>True</td>\n",
       "    </tr>\n",
       "    <tr>\n",
       "      <th>1</th>\n",
       "      <td>0.000000e+00</td>\n",
       "      <td>3.314221e+20</td>\n",
       "      <td>-95460.0</td>\n",
       "      <td>-82860.0</td>\n",
       "      <td>0xC36442b4a4522E871399CD717aBDD847Ab11FE88</td>\n",
       "      <td>1.235598e+22</td>\n",
       "      <td>5.027857e+17</td>\n",
       "      <td>0.000000e+00</td>\n",
       "      <td>0.000000e+00</td>\n",
       "      <td>1.877827e+20</td>\n",
       "      <td>2.758921e+16</td>\n",
       "      <td>7.216457e+21</td>\n",
       "      <td>1.161534e+18</td>\n",
       "      <td>61</td>\n",
       "      <td>12534909</td>\n",
       "      <td>28</td>\n",
       "      <td>0x47b395a5664558405a7f39fe8d83bf627e613ceba20ef4dbb014c2bdbba2f38d</td>\n",
       "      <td>12</td>\n",
       "      <td>12957054</td>\n",
       "      <td>1</td>\n",
       "      <td>0x27f9a5cddc4025562be12e9bb74db4f557591667500d0db3e968e648fcd23c23</td>\n",
       "      <td>False</td>\n",
       "    </tr>\n",
       "    <tr>\n",
       "      <th>2</th>\n",
       "      <td>7.308975e+20</td>\n",
       "      <td>7.308975e+20</td>\n",
       "      <td>-90300.0</td>\n",
       "      <td>-87360.0</td>\n",
       "      <td>0xC36442b4a4522E871399CD717aBDD847Ab11FE88</td>\n",
       "      <td>3.886628e+21</td>\n",
       "      <td>6.814681e+17</td>\n",
       "      <td>9.127638e+21</td>\n",
       "      <td>1.802841e+13</td>\n",
       "      <td>1.882760e+20</td>\n",
       "      <td>2.378577e+16</td>\n",
       "      <td>0.000000e+00</td>\n",
       "      <td>0.000000e+00</td>\n",
       "      <td>24</td>\n",
       "      <td>12638749</td>\n",
       "      <td>3</td>\n",
       "      <td>0x87eabf5af9ee2d959c32b79d09efd2f0ad91f2f1c6f42f46f4c032e7fef83bbc</td>\n",
       "      <td>12</td>\n",
       "      <td>12957054</td>\n",
       "      <td>1</td>\n",
       "      <td>0x27f9a5cddc4025562be12e9bb74db4f557591667500d0db3e968e648fcd23c23</td>\n",
       "      <td>True</td>\n",
       "    </tr>\n",
       "    <tr>\n",
       "      <th>3</th>\n",
       "      <td>1.071994e+19</td>\n",
       "      <td>1.071994e+19</td>\n",
       "      <td>-90300.0</td>\n",
       "      <td>-87360.0</td>\n",
       "      <td>0xC36442b4a4522E871399CD717aBDD847Ab11FE88</td>\n",
       "      <td>9.946499e+18</td>\n",
       "      <td>1.700000e+16</td>\n",
       "      <td>1.338734e+20</td>\n",
       "      <td>2.644195e+11</td>\n",
       "      <td>2.655692e+18</td>\n",
       "      <td>3.114656e+14</td>\n",
       "      <td>0.000000e+00</td>\n",
       "      <td>0.000000e+00</td>\n",
       "      <td>422</td>\n",
       "      <td>12642203</td>\n",
       "      <td>131</td>\n",
       "      <td>0xcd5ff8e742f15b2a37704f947d16e003b63466c807d00a315b74b21d0fb9167e</td>\n",
       "      <td>12</td>\n",
       "      <td>12957054</td>\n",
       "      <td>1</td>\n",
       "      <td>0x27f9a5cddc4025562be12e9bb74db4f557591667500d0db3e968e648fcd23c23</td>\n",
       "      <td>True</td>\n",
       "    </tr>\n",
       "  </tbody>\n",
       "</table>\n",
       "</div>"
      ],
      "text/plain": [
       "         last_L       start_L  tickLower  tickUpper  \\\n",
       "0  0.000000e+00  6.805070e+22   -92160.0   -92040.0   \n",
       "1  0.000000e+00  3.314221e+20   -95460.0   -82860.0   \n",
       "2  7.308975e+20  7.308975e+20   -90300.0   -87360.0   \n",
       "3  1.071994e+19  1.071994e+19   -90300.0   -87360.0   \n",
       "\n",
       "                                        owner  start_token0_holdings  \\\n",
       "0  0xC36442b4a4522E871399CD717aBDD847Ab11FE88           2.956435e+22   \n",
       "1  0xC36442b4a4522E871399CD717aBDD847Ab11FE88           1.235598e+22   \n",
       "2  0xC36442b4a4522E871399CD717aBDD847Ab11FE88           3.886628e+21   \n",
       "3  0xC36442b4a4522E871399CD717aBDD847Ab11FE88           9.946499e+18   \n",
       "\n",
       "   start_token1_holdings  last_token0_holdings  last_token1_holdings  \\\n",
       "0           1.120790e+18          0.000000e+00          0.000000e+00   \n",
       "1           5.027857e+17          0.000000e+00          0.000000e+00   \n",
       "2           6.814681e+17          9.127638e+21          1.802841e+13   \n",
       "3           1.700000e+16          1.338734e+20          2.644195e+11   \n",
       "\n",
       "   token0_fees_accrued  token1_fees_accrued  token0_collected  \\\n",
       "0         3.622626e+19         2.400000e+14      4.084074e+22   \n",
       "1         1.877827e+20         2.758921e+16      7.216457e+21   \n",
       "2         1.882760e+20         2.378577e+16      0.000000e+00   \n",
       "3         2.655692e+18         3.114656e+14      0.000000e+00   \n",
       "\n",
       "   token1_collected  start_logIndex  start_blockNumber  \\\n",
       "0      9.937319e+14             191           12504752   \n",
       "1      1.161534e+18              61           12534909   \n",
       "2      0.000000e+00              24           12638749   \n",
       "3      0.000000e+00             422           12642203   \n",
       "\n",
       "   start_transactionIndex  \\\n",
       "0                     115   \n",
       "1                      28   \n",
       "2                       3   \n",
       "3                     131   \n",
       "\n",
       "                                                start_transactionHash  \\\n",
       "0  0x58337bfa434b41a386d33647c0c7d495fdb3b26f4036f52425a9b1bf13c3124b   \n",
       "1  0x47b395a5664558405a7f39fe8d83bf627e613ceba20ef4dbb014c2bdbba2f38d   \n",
       "2  0x87eabf5af9ee2d959c32b79d09efd2f0ad91f2f1c6f42f46f4c032e7fef83bbc   \n",
       "3  0xcd5ff8e742f15b2a37704f947d16e003b63466c807d00a315b74b21d0fb9167e   \n",
       "\n",
       "   last_logIndex  last_blockNumber  last_transactionIndex  \\\n",
       "0             12          12957054                      1   \n",
       "1             12          12957054                      1   \n",
       "2             12          12957054                      1   \n",
       "3             12          12957054                      1   \n",
       "\n",
       "                                                 last_transactionHash  active  \n",
       "0  0x27f9a5cddc4025562be12e9bb74db4f557591667500d0db3e968e648fcd23c23    True  \n",
       "1  0x27f9a5cddc4025562be12e9bb74db4f557591667500d0db3e968e648fcd23c23   False  \n",
       "2  0x27f9a5cddc4025562be12e9bb74db4f557591667500d0db3e968e648fcd23c23    True  \n",
       "3  0x27f9a5cddc4025562be12e9bb74db4f557591667500d0db3e968e648fcd23c23    True  "
      ]
     },
     "execution_count": 32,
     "metadata": {},
     "output_type": "execute_result"
    }
   ],
   "source": [
    "pos"
   ]
  },
  {
   "cell_type": "code",
   "execution_count": 595,
   "metadata": {},
   "outputs": [],
   "source": [
    "pos[['last_token0_holdings', 'last_token1_holdings']] = pos.apply(lambda x: clm.get_amounts(clm.sqrtPrice, clm.tick_to_sqrtPrice(x.tickLower), clm.tick_to_sqrtPrice(x.tickUpper), x.last_L), axis = 1, result_type='expand')"
   ]
  },
  {
   "cell_type": "code",
   "execution_count": 596,
   "metadata": {},
   "outputs": [
    {
     "data": {
      "text/html": [
       "<div>\n",
       "<style scoped>\n",
       "    .dataframe tbody tr th:only-of-type {\n",
       "        vertical-align: middle;\n",
       "    }\n",
       "\n",
       "    .dataframe tbody tr th {\n",
       "        vertical-align: top;\n",
       "    }\n",
       "\n",
       "    .dataframe thead th {\n",
       "        text-align: right;\n",
       "    }\n",
       "</style>\n",
       "<table border=\"1\" class=\"dataframe\">\n",
       "  <thead>\n",
       "    <tr style=\"text-align: right;\">\n",
       "      <th></th>\n",
       "      <th>last_L</th>\n",
       "      <th>start_L</th>\n",
       "      <th>tickLower</th>\n",
       "      <th>tickUpper</th>\n",
       "      <th>owner</th>\n",
       "      <th>start_token0_holdings</th>\n",
       "      <th>start_token1_holdings</th>\n",
       "      <th>last_token0_holdings</th>\n",
       "      <th>last_token1_holdings</th>\n",
       "      <th>token0_fees_accrued</th>\n",
       "      <th>token1_fees_accrued</th>\n",
       "      <th>token0_collected</th>\n",
       "      <th>token1_collected</th>\n",
       "      <th>start_logIndex</th>\n",
       "      <th>start_blockNumber</th>\n",
       "      <th>start_transactionIndex</th>\n",
       "      <th>start_transactionHash</th>\n",
       "      <th>last_logIndex</th>\n",
       "      <th>last_blockNumber</th>\n",
       "      <th>last_transactionIndex</th>\n",
       "      <th>last_transactionHash</th>\n",
       "      <th>active</th>\n",
       "    </tr>\n",
       "  </thead>\n",
       "  <tbody>\n",
       "    <tr>\n",
       "      <th>0</th>\n",
       "      <td>0.0</td>\n",
       "      <td>6.805070e+22</td>\n",
       "      <td>-92160.0</td>\n",
       "      <td>-92040.0</td>\n",
       "      <td>0xC36442b4a4522E871399CD717aBDD847Ab11FE88</td>\n",
       "      <td>2.956435e+22</td>\n",
       "      <td>1.120790e+18</td>\n",
       "      <td>0.0</td>\n",
       "      <td>0.0</td>\n",
       "      <td>3.622626e+19</td>\n",
       "      <td>2.400000e+14</td>\n",
       "      <td>4.084074e+22</td>\n",
       "      <td>9.937319e+14</td>\n",
       "      <td>191</td>\n",
       "      <td>12504752</td>\n",
       "      <td>115</td>\n",
       "      <td>0x58337bfa434b41a386d33647c0c7d495fdb3b26f4036f52425a9b1bf13c3124b</td>\n",
       "      <td>148</td>\n",
       "      <td>12510449</td>\n",
       "      <td>172</td>\n",
       "      <td>0x31d070f1d8f7e4132cac47b09cf0b92a38b37c1096c787e2c1d2a2625d72beaa</td>\n",
       "      <td>True</td>\n",
       "    </tr>\n",
       "  </tbody>\n",
       "</table>\n",
       "</div>"
      ],
      "text/plain": [
       "   last_L       start_L  tickLower  tickUpper  \\\n",
       "0     0.0  6.805070e+22   -92160.0   -92040.0   \n",
       "\n",
       "                                        owner  start_token0_holdings  \\\n",
       "0  0xC36442b4a4522E871399CD717aBDD847Ab11FE88           2.956435e+22   \n",
       "\n",
       "   start_token1_holdings  last_token0_holdings  last_token1_holdings  \\\n",
       "0           1.120790e+18                   0.0                   0.0   \n",
       "\n",
       "   token0_fees_accrued  token1_fees_accrued  token0_collected  \\\n",
       "0         3.622626e+19         2.400000e+14      4.084074e+22   \n",
       "\n",
       "   token1_collected  start_logIndex  start_blockNumber  \\\n",
       "0      9.937319e+14             191           12504752   \n",
       "\n",
       "   start_transactionIndex  \\\n",
       "0                     115   \n",
       "\n",
       "                                                start_transactionHash  \\\n",
       "0  0x58337bfa434b41a386d33647c0c7d495fdb3b26f4036f52425a9b1bf13c3124b   \n",
       "\n",
       "   last_logIndex  last_blockNumber  last_transactionIndex  \\\n",
       "0            148          12510449                    172   \n",
       "\n",
       "                                                 last_transactionHash  active  \n",
       "0  0x31d070f1d8f7e4132cac47b09cf0b92a38b37c1096c787e2c1d2a2625d72beaa    True  "
      ]
     },
     "execution_count": 596,
     "metadata": {},
     "output_type": "execute_result"
    }
   ],
   "source": [
    "pos"
   ]
  },
  {
   "cell_type": "code",
   "execution_count": 593,
   "metadata": {},
   "outputs": [
    {
     "data": {
      "text/plain": [
       "0   -4.080452e+22\n",
       "dtype: float64"
      ]
     },
     "execution_count": 593,
     "metadata": {},
     "output_type": "execute_result"
    }
   ],
   "source": [
    "pos['last_token0_holdings'] + pos['token0_fees_accrued'] - pos['token0_collected']"
   ]
  },
  {
   "cell_type": "code",
   "execution_count": 594,
   "metadata": {},
   "outputs": [
    {
     "data": {
      "text/plain": [
       "0   -7.537319e+14\n",
       "dtype: float64"
      ]
     },
     "execution_count": 594,
     "metadata": {},
     "output_type": "execute_result"
    }
   ],
   "source": [
    "pos['last_token1_holdings'] + pos['token1_fees_accrued'] - pos['token1_collected']"
   ]
  },
  {
   "cell_type": "code",
   "execution_count": 537,
   "metadata": {},
   "outputs": [
    {
     "data": {
      "text/html": [
       "<div>\n",
       "<style scoped>\n",
       "    .dataframe tbody tr th:only-of-type {\n",
       "        vertical-align: middle;\n",
       "    }\n",
       "\n",
       "    .dataframe tbody tr th {\n",
       "        vertical-align: top;\n",
       "    }\n",
       "\n",
       "    .dataframe thead th {\n",
       "        text-align: right;\n",
       "    }\n",
       "</style>\n",
       "<table border=\"1\" class=\"dataframe\">\n",
       "  <thead>\n",
       "    <tr style=\"text-align: right;\">\n",
       "      <th></th>\n",
       "      <th>event</th>\n",
       "      <th>logIndex</th>\n",
       "      <th>blockNumber</th>\n",
       "      <th>transactionIndex</th>\n",
       "      <th>transactionHash</th>\n",
       "      <th>sender</th>\n",
       "      <th>recipient</th>\n",
       "      <th>amount0</th>\n",
       "      <th>amount1</th>\n",
       "      <th>tick</th>\n",
       "      <th>liquidity</th>\n",
       "    </tr>\n",
       "  </thead>\n",
       "  <tbody>\n",
       "    <tr>\n",
       "      <th>0</th>\n",
       "      <td>Swap</td>\n",
       "      <td>341</td>\n",
       "      <td>12505364</td>\n",
       "      <td>192</td>\n",
       "      <td>0xa65838c86179aac0ca259281eeea1c5039d6e387750a...</td>\n",
       "      <td>0xE592427A0AEce92De3Edee1F18E0157C05861564</td>\n",
       "      <td>0x14f967AFcFfbA3F5B16450aA576087a844745174</td>\n",
       "      <td>-7.990224e+20</td>\n",
       "      <td>8.000000e+16</td>\n",
       "      <td>-92125.0</td>\n",
       "      <td>6.805070e+22</td>\n",
       "    </tr>\n",
       "    <tr>\n",
       "      <th>0</th>\n",
       "      <td>Swap</td>\n",
       "      <td>245</td>\n",
       "      <td>12506010</td>\n",
       "      <td>211</td>\n",
       "      <td>0x99b2fb0abf37bd85df7b92a534c1e46d78bb401696dc...</td>\n",
       "      <td>0xc06D57cE9B2AB9155c918AED666c04bFc31Ae020</td>\n",
       "      <td>0xc06D57cE9B2AB9155c918AED666c04bFc31Ae020</td>\n",
       "      <td>1.207542e+22</td>\n",
       "      <td>-1.199796e+18</td>\n",
       "      <td>-92160.0</td>\n",
       "      <td>6.805070e+22</td>\n",
       "    </tr>\n",
       "    <tr>\n",
       "      <th>0</th>\n",
       "      <td>Swap</td>\n",
       "      <td>5</td>\n",
       "      <td>12534911</td>\n",
       "      <td>4</td>\n",
       "      <td>0xc6a78c31cc2b2526711e3a058d0fe2f31e2c67d90c6d...</td>\n",
       "      <td>0x0000000000007F150Bd6f54c40A34d7C3d5e9f56</td>\n",
       "      <td>0x0F641eFbEfF4bE14762A276D4d3744cE40526653</td>\n",
       "      <td>-3.021840e+21</td>\n",
       "      <td>3.316864e+17</td>\n",
       "      <td>-90253.0</td>\n",
       "      <td>3.314221e+20</td>\n",
       "    </tr>\n",
       "    <tr>\n",
       "      <th>0</th>\n",
       "      <td>Swap</td>\n",
       "      <td>131</td>\n",
       "      <td>12535193</td>\n",
       "      <td>98</td>\n",
       "      <td>0xb4d5e9657c0bfd6bf9a5f2239c54fe0c0b8657e867fb...</td>\n",
       "      <td>0xFD3dFB524B2dA40c8a6D703c62BE36b5D8540626</td>\n",
       "      <td>0xFD3dFB524B2dA40c8a6D703c62BE36b5D8540626</td>\n",
       "      <td>-1.107208e+21</td>\n",
       "      <td>1.387750e+17</td>\n",
       "      <td>-89507.0</td>\n",
       "      <td>3.314221e+20</td>\n",
       "    </tr>\n",
       "    <tr>\n",
       "      <th>0</th>\n",
       "      <td>Swap</td>\n",
       "      <td>189</td>\n",
       "      <td>12536446</td>\n",
       "      <td>83</td>\n",
       "      <td>0xb738e264feeafe714f944a9f752249296392ba79d5ba...</td>\n",
       "      <td>0xFD3dFB524B2dA40c8a6D703c62BE36b5D8540626</td>\n",
       "      <td>0xFD3dFB524B2dA40c8a6D703c62BE36b5D8540626</td>\n",
       "      <td>2.690077e+20</td>\n",
       "      <td>-3.447233e+16</td>\n",
       "      <td>-89690.0</td>\n",
       "      <td>3.314221e+20</td>\n",
       "    </tr>\n",
       "    <tr>\n",
       "      <th>...</th>\n",
       "      <td>...</td>\n",
       "      <td>...</td>\n",
       "      <td>...</td>\n",
       "      <td>...</td>\n",
       "      <td>...</td>\n",
       "      <td>...</td>\n",
       "      <td>...</td>\n",
       "      <td>...</td>\n",
       "      <td>...</td>\n",
       "      <td>...</td>\n",
       "      <td>...</td>\n",
       "    </tr>\n",
       "    <tr>\n",
       "      <th>0</th>\n",
       "      <td>Swap</td>\n",
       "      <td>306</td>\n",
       "      <td>12861537</td>\n",
       "      <td>211</td>\n",
       "      <td>0xe9b3b1a8134c704ac4710576c403f116ba66ecaf3721...</td>\n",
       "      <td>0xE592427A0AEce92De3Edee1F18E0157C05861564</td>\n",
       "      <td>0x0000000089341e263B85D84A0Eea39f47C37A9d2</td>\n",
       "      <td>2.313512e+21</td>\n",
       "      <td>-2.865150e+17</td>\n",
       "      <td>-90286.0</td>\n",
       "      <td>7.416175e+20</td>\n",
       "    </tr>\n",
       "    <tr>\n",
       "      <th>0</th>\n",
       "      <td>Swap</td>\n",
       "      <td>55</td>\n",
       "      <td>12917385</td>\n",
       "      <td>3</td>\n",
       "      <td>0x2fff46407dabe6309e82a43a411670a019923844c59d...</td>\n",
       "      <td>0xE592427A0AEce92De3Edee1F18E0157C05861564</td>\n",
       "      <td>0x5E6732d6416D3f3A6574b61eF1C81316cF8D9287</td>\n",
       "      <td>-2.404288e+21</td>\n",
       "      <td>3.000000e+17</td>\n",
       "      <td>-89563.0</td>\n",
       "      <td>7.416175e+20</td>\n",
       "    </tr>\n",
       "    <tr>\n",
       "      <th>0</th>\n",
       "      <td>Swap</td>\n",
       "      <td>259</td>\n",
       "      <td>12917485</td>\n",
       "      <td>154</td>\n",
       "      <td>0x84021e289ab154bd112cbc83354a0f67e67dbe9e32dc...</td>\n",
       "      <td>0xDef1C0ded9bec7F1a1670819833240f027b25EfF</td>\n",
       "      <td>0x74de5d4FCbf63E00296fd95d33236B9794016631</td>\n",
       "      <td>-3.429817e+20</td>\n",
       "      <td>4.460625e+16</td>\n",
       "      <td>-89458.0</td>\n",
       "      <td>7.416175e+20</td>\n",
       "    </tr>\n",
       "    <tr>\n",
       "      <th>0</th>\n",
       "      <td>Swap</td>\n",
       "      <td>77</td>\n",
       "      <td>12920918</td>\n",
       "      <td>30</td>\n",
       "      <td>0xccd6d30929a044a469df9ea41fb0f52ff0bfd4ab75f5...</td>\n",
       "      <td>0x520d18f8d73F5A6A961dC42834b9291E73731030</td>\n",
       "      <td>0x520d18f8d73F5A6A961dC42834b9291E73731030</td>\n",
       "      <td>2.591638e+21</td>\n",
       "      <td>-3.239186e+17</td>\n",
       "      <td>-90238.0</td>\n",
       "      <td>7.416175e+20</td>\n",
       "    </tr>\n",
       "    <tr>\n",
       "      <th>0</th>\n",
       "      <td>Swap</td>\n",
       "      <td>12</td>\n",
       "      <td>12957054</td>\n",
       "      <td>1</td>\n",
       "      <td>0x27f9a5cddc4025562be12e9bb74db4f557591667500d...</td>\n",
       "      <td>0xb6866D19F4F424A5CDa88fC03df28675fB74533e</td>\n",
       "      <td>0xb6866D19F4F424A5CDa88fC03df28675fB74533e</td>\n",
       "      <td>2.114503e+20</td>\n",
       "      <td>-2.533821e+16</td>\n",
       "      <td>-90300.0</td>\n",
       "      <td>7.416175e+20</td>\n",
       "    </tr>\n",
       "  </tbody>\n",
       "</table>\n",
       "<p>220 rows × 11 columns</p>\n",
       "</div>"
      ],
      "text/plain": [
       "   event  logIndex  blockNumber  transactionIndex  \\\n",
       "0   Swap       341     12505364               192   \n",
       "0   Swap       245     12506010               211   \n",
       "0   Swap         5     12534911                 4   \n",
       "0   Swap       131     12535193                98   \n",
       "0   Swap       189     12536446                83   \n",
       "..   ...       ...          ...               ...   \n",
       "0   Swap       306     12861537               211   \n",
       "0   Swap        55     12917385                 3   \n",
       "0   Swap       259     12917485               154   \n",
       "0   Swap        77     12920918                30   \n",
       "0   Swap        12     12957054                 1   \n",
       "\n",
       "                                      transactionHash  \\\n",
       "0   0xa65838c86179aac0ca259281eeea1c5039d6e387750a...   \n",
       "0   0x99b2fb0abf37bd85df7b92a534c1e46d78bb401696dc...   \n",
       "0   0xc6a78c31cc2b2526711e3a058d0fe2f31e2c67d90c6d...   \n",
       "0   0xb4d5e9657c0bfd6bf9a5f2239c54fe0c0b8657e867fb...   \n",
       "0   0xb738e264feeafe714f944a9f752249296392ba79d5ba...   \n",
       "..                                                ...   \n",
       "0   0xe9b3b1a8134c704ac4710576c403f116ba66ecaf3721...   \n",
       "0   0x2fff46407dabe6309e82a43a411670a019923844c59d...   \n",
       "0   0x84021e289ab154bd112cbc83354a0f67e67dbe9e32dc...   \n",
       "0   0xccd6d30929a044a469df9ea41fb0f52ff0bfd4ab75f5...   \n",
       "0   0x27f9a5cddc4025562be12e9bb74db4f557591667500d...   \n",
       "\n",
       "                                        sender  \\\n",
       "0   0xE592427A0AEce92De3Edee1F18E0157C05861564   \n",
       "0   0xc06D57cE9B2AB9155c918AED666c04bFc31Ae020   \n",
       "0   0x0000000000007F150Bd6f54c40A34d7C3d5e9f56   \n",
       "0   0xFD3dFB524B2dA40c8a6D703c62BE36b5D8540626   \n",
       "0   0xFD3dFB524B2dA40c8a6D703c62BE36b5D8540626   \n",
       "..                                         ...   \n",
       "0   0xE592427A0AEce92De3Edee1F18E0157C05861564   \n",
       "0   0xE592427A0AEce92De3Edee1F18E0157C05861564   \n",
       "0   0xDef1C0ded9bec7F1a1670819833240f027b25EfF   \n",
       "0   0x520d18f8d73F5A6A961dC42834b9291E73731030   \n",
       "0   0xb6866D19F4F424A5CDa88fC03df28675fB74533e   \n",
       "\n",
       "                                     recipient       amount0       amount1  \\\n",
       "0   0x14f967AFcFfbA3F5B16450aA576087a844745174 -7.990224e+20  8.000000e+16   \n",
       "0   0xc06D57cE9B2AB9155c918AED666c04bFc31Ae020  1.207542e+22 -1.199796e+18   \n",
       "0   0x0F641eFbEfF4bE14762A276D4d3744cE40526653 -3.021840e+21  3.316864e+17   \n",
       "0   0xFD3dFB524B2dA40c8a6D703c62BE36b5D8540626 -1.107208e+21  1.387750e+17   \n",
       "0   0xFD3dFB524B2dA40c8a6D703c62BE36b5D8540626  2.690077e+20 -3.447233e+16   \n",
       "..                                         ...           ...           ...   \n",
       "0   0x0000000089341e263B85D84A0Eea39f47C37A9d2  2.313512e+21 -2.865150e+17   \n",
       "0   0x5E6732d6416D3f3A6574b61eF1C81316cF8D9287 -2.404288e+21  3.000000e+17   \n",
       "0   0x74de5d4FCbf63E00296fd95d33236B9794016631 -3.429817e+20  4.460625e+16   \n",
       "0   0x520d18f8d73F5A6A961dC42834b9291E73731030  2.591638e+21 -3.239186e+17   \n",
       "0   0xb6866D19F4F424A5CDa88fC03df28675fB74533e  2.114503e+20 -2.533821e+16   \n",
       "\n",
       "       tick     liquidity  \n",
       "0  -92125.0  6.805070e+22  \n",
       "0  -92160.0  6.805070e+22  \n",
       "0  -90253.0  3.314221e+20  \n",
       "0  -89507.0  3.314221e+20  \n",
       "0  -89690.0  3.314221e+20  \n",
       "..      ...           ...  \n",
       "0  -90286.0  7.416175e+20  \n",
       "0  -89563.0  7.416175e+20  \n",
       "0  -89458.0  7.416175e+20  \n",
       "0  -90238.0  7.416175e+20  \n",
       "0  -90300.0  7.416175e+20  \n",
       "\n",
       "[220 rows x 11 columns]"
      ]
     },
     "execution_count": 537,
     "metadata": {},
     "output_type": "execute_result"
    }
   ],
   "source": [
    "clm.swaps"
   ]
  },
  {
   "cell_type": "code",
   "execution_count": 473,
   "metadata": {},
   "outputs": [
    {
     "data": {
      "text/plain": [
       "(0, 0)"
      ]
     },
     "execution_count": 473,
     "metadata": {},
     "output_type": "execute_result"
    }
   ],
   "source": [
    "clm.total_fee0, clm.total_fee1 "
   ]
  },
  {
   "cell_type": "code",
   "execution_count": 474,
   "metadata": {},
   "outputs": [
    {
     "data": {
      "text/plain": [
       "event                                                             Swap\n",
       "logIndex                                                           341\n",
       "transactionIndex                                                   192\n",
       "transactionHash      0xa65838c86179aac0ca259281eeea1c5039d6e387750a...\n",
       "address                     0x537DE9477a639AD1d23Bc2DcfEB8Cc3032bc114C\n",
       "blockHash            0xf99460710f908f0d58415919cf6f5ebf4618f4363a58...\n",
       "blockNumber                                                   12505364\n",
       "args.sqrtPriceX96                        791622562113505313289142272.0\n",
       "args.tick                                                     -92125.0\n",
       "args.owner                                                         nan\n",
       "args.sender                 0xE592427A0AEce92De3Edee1F18E0157C05861564\n",
       "args.amount0                                  -799022360665044287488.0\n",
       "args.amount1                                       80000000000000000.0\n",
       "args.recipient              0x14f967AFcFfbA3F5B16450aA576087a844745174\n",
       "args.liquidity                               68050700349576828682240.0\n",
       "Name: 2, dtype: object"
      ]
     },
     "execution_count": 474,
     "metadata": {},
     "output_type": "execute_result"
    }
   ],
   "source": [
    "tdf.dropna()"
   ]
  },
  {
   "cell_type": "code",
   "execution_count": 475,
   "metadata": {},
   "outputs": [],
   "source": [
    "blockNumber = tdf['blockNumber']\n",
    "transactionIndex = tdf['transactionIndex']\n",
    "logIndex = tdf['logIndex']\n",
    "transactionHash = tdf['transactionHash']\n",
    "sender = tdf['args.sender']\n",
    "recipient = tdf['args.recipient']\n",
    "amount0 = tdf['args.amount0']\n",
    "amount1 = tdf['args.amount1']\n",
    "tick = tdf['args.tick']\n",
    "liquidity = tdf['args.liquidity']"
   ]
  },
  {
   "cell_type": "code",
   "execution_count": 476,
   "metadata": {},
   "outputs": [],
   "source": [
    "#Fees for pool \n",
    "zeroForOne = None\n",
    "if amount0 > 0:\n",
    "    total_fee0 = amount0*clm.fee\n",
    "    amount0_nf = amount0 - total_fee0\n",
    "    zeroForOne = True\n",
    "else:\n",
    "    total_fee0 = 0\n",
    "    amount0_nf = amount0\n",
    "\n",
    "if amount1 > 0:\n",
    "    total_fee1= amount1*clm.fee\n",
    "    amount1_nf = amount1 - total_fee1\n",
    "    zeroForOne = False\n",
    "else:\n",
    "    total_fee1 = 0\n",
    "    amount1_nf = amount1\n",
    "\n",
    "if zeroForOne == None:\n",
    "    raise SwapAmountError(f\"Swap amounts are incorrect:\\n\\n\\t{(amount0,amount1)}\")\n",
    "\n",
    "clm.total_fee0 += total_fee0\n",
    "clm.total_fee1 += total_fee1\n",
    "\n",
    "#can now overright fee for proper adding\n"
   ]
  },
  {
   "cell_type": "code",
   "execution_count": 477,
   "metadata": {},
   "outputs": [],
   "source": [
    "pos = clm.positions\n",
    "current_tick, current_tick_lower, current_tick_upper = clm.get_tick_range(clm.tick)"
   ]
  },
  {
   "cell_type": "code",
   "execution_count": 478,
   "metadata": {},
   "outputs": [],
   "source": [
    "if zeroForOne:\n",
    "    sqrtPrice = clm.sqrtPrice \n",
    "    sqrtPriceA = clm.tick_to_sqrtPrice(current_tick_lower) #based on lower tick not lower price\n",
    "\n",
    "    amount0_a = amount0_nf\n",
    "    amount1_a = amount1_nf\n",
    "\n",
    "    fee0_collected = 0\n",
    "    while amount0_a > 0:\n",
    "        active_pos = pos.loc[(pos['tickLower'] < current_tick)&(pos['tickUpper'] >= current_tick)]\n",
    "        L = active_pos['last_L'].sum()\n",
    "\n",
    "        #check if there is enough reserves in the tick\n",
    "        if clm.get_amount0(sqrtPrice, sqrtPriceA) > amount0_a:\n",
    "            sqrtPrice_next = clm.get_next_sqrtPrice_from_inputs(sqrtPrice, L, amount0_a, zeroForOne=zeroForOne)\n",
    "            tick_next = clm.sqrtPrice_to_tick(sqrtPrice_next)\n",
    "\n",
    "            fee0_in_range = ((amount0_a/(1-clm.fee)) - amount0_a)\n",
    "            fee0_collected += fee0_in_range\n",
    "            if not fee0_collected == total_fee1:\n",
    "                raise FeeMismatch(f\"Fee0 collected do not match\\n\\n\\t{fee0_collected}, {total_fee0}\")\n",
    "            \n",
    "            fee0_per_L = fee0_in_range/L\n",
    "\n",
    "            pos['token0_fees_accrued'] = pos['token0_fees_accrued'].mask(pos.index.isin(active_pos.index), pos['token0_fees_accrued'] + pos['last_L'] * fee0_per_L)\n",
    "            break\n",
    "\n",
    "\n",
    "        else:\n",
    "            amount0_diff = clm.get_amount0(sqrtPrice, sqrtPriceA, L) \n",
    "            amount1_diff = clm.get_amount1(sqrtPrice, sqrtPriceA, L) \n",
    "\n",
    "            fee0_in_range = ((amount0_a/(1-clm.fee)) - amount0_a)\n",
    "            fee0_collected += fee0_in_range\n",
    "            \n",
    "            fee0_per_L = fee0_in_range/L\n",
    "            pos['token0_fees_accrued'] = pos['token0_fees_accrued'].mask(pos.index.isin(active_pos.index), pos['token0_fees_accrued'] + pos['last_L'] * fee0_per_L)\n",
    "\n",
    "            amount0_a -= amount0_diff\n",
    "            amount1_a -= amount1_diff\n",
    "            current_tick = current_tick_lower\n",
    "            current_tick_lower = current_tick - clm.tickSpacing\n",
    "            sqrtPrice = clm.tick_to_sqrtPrice(current_tick)\n",
    "            sqrtPriceA = clm.tick_to_sqrtPrice(current_tick_lower)\n"
   ]
  },
  {
   "cell_type": "code",
   "execution_count": 448,
   "metadata": {},
   "outputs": [],
   "source": [
    "#Under amount\n",
    "if not any([liquidity, tick]): #save if check not given\n",
    "    clm.sqrtPrice = sqrtPrice_next\n",
    "    clm.tick = tick_next\n",
    "    clm.liquidity = L\n",
    "\n",
    "else:\n",
    "    if (L != liquidity) or (tick != tick_next):\n",
    "        raise SwapAllignmentError(f\"Swap: tick or liquidity provided does not match calculations\\n\\n\\tliquidity: {L}, {liquidity}\\n\\ttick: {tick}, {tick_next}\")\n",
    "    else:\n",
    "        clm.sqrtPrice = sqrtPrice_next\n",
    "        clm.tick = tick_next\n",
    "        clm.liquidity = L"
   ]
  },
  {
   "cell_type": "code",
   "execution_count": 479,
   "metadata": {},
   "outputs": [],
   "source": [
    "if not zeroForOne:#else:\n",
    "    sqrtPrice = clm.sqrtPrice\n",
    "    sqrtPriceB = clm.tick_to_sqrtPrice(current_tick_upper) #based on upper tick not upper price\n",
    "\n",
    "    amount0_a = amount0_nf\n",
    "    amount1_a = amount1_nf\n",
    "\n",
    "    fee1_collected = 0\n",
    "    while amount1_a > 0:\n",
    "        active_pos = pos.loc[(pos['tickLower'] <= current_tick)&(pos['tickUpper'] > current_tick)]\n",
    "        L = active_pos['last_L'].sum()\n",
    "\n",
    "        #check if there is enough reserves in the tick\n",
    "        if clm.get_amount1(sqrtPrice, sqrtPriceB, L) > amount1_a:\n",
    "            sqrtPrice_next = clm.get_next_sqrtPrice_from_inputs(sqrtPrice, L, amount1_a, zeroForOne=zeroForOne)\n",
    "            tick_next = clm.sqrtPrice_to_tick(sqrtPrice_next)\n",
    "\n",
    "            fee1_in_range = ((amount1_a/(1-clm.fee)) - amount1_a)\n",
    "            fee1_collected += fee1_in_range\n",
    "            if not fee1_collected == total_fee1:\n",
    "                raise FeeMismatch(f\"Fee1 collected do not match\\n\\n\\t{fee1_collected}, {total_fee1}\")\n",
    "            \n",
    "            fee1_per_L = fee1_in_range/L\n",
    "\n",
    "            pos['token1_fees_accrued'] = pos['token1_fees_accrued'].mask(pos.index.isin(active_pos.index), pos['token1_fees_accrued'] + pos['last_L'] * fee1_per_L)\n",
    "            break\n",
    "\n",
    "        else:\n",
    "            amount0_diff = clm.get_amount0(sqrtPrice, sqrtPriceB, L) \n",
    "            amount1_diff = clm.get_amount1(sqrtPrice, sqrtPriceB, L) \n",
    "\n",
    "            fee1_in_range = ((amount1_diff/(1-clm.fee)) - amount1_diff)\n",
    "            fee1_collected += fee1_in_range\n",
    "            fee1_per_L = fee1_in_range/L\n",
    "            pos['token1_fees_accrued'] = pos['token1_fees_accrued'].mask(pos.index.isin(active_pos.index), pos['token1_fees_accrued'] + pos['last_L'] * fee1_per_L)\n",
    "\n",
    "            amount0_a -= amount0_diff\n",
    "            amount1_a -= amount0_diff\n",
    "\n",
    "            current_tick = current_tick_upper\n",
    "            current_tick_upper = current_tick + clm.tickSpacing\n",
    "            sqrtPrice = clm.tick_to_sqrtPrice(current_tick)\n",
    "            sqrtPriceB = clm.tick_to_sqrtPrice(current_tick_upper)\n"
   ]
  },
  {
   "cell_type": "code",
   "execution_count": 480,
   "metadata": {},
   "outputs": [
    {
     "data": {
      "text/plain": [
       "7.976e+16"
      ]
     },
     "execution_count": 480,
     "metadata": {},
     "output_type": "execute_result"
    }
   ],
   "source": [
    "amount1_a"
   ]
  },
  {
   "cell_type": "code",
   "execution_count": 482,
   "metadata": {},
   "outputs": [
    {
     "data": {
      "text/plain": [
       "0    2.400000e+14\n",
       "Name: token1_fees_accrued, dtype: float64"
      ]
     },
     "execution_count": 482,
     "metadata": {},
     "output_type": "execute_result"
    }
   ],
   "source": [
    "pos['token1_fees_accrued']"
   ]
  },
  {
   "cell_type": "code",
   "execution_count": 462,
   "metadata": {},
   "outputs": [],
   "source": [
    "fee1_in_range = ((amount1_a/(1-clm.fee)) - amount1_a)"
   ]
  },
  {
   "cell_type": "code",
   "execution_count": 463,
   "metadata": {},
   "outputs": [],
   "source": [
    "fee1_per_L = fee1_in_range/L"
   ]
  },
  {
   "cell_type": "code",
   "execution_count": 464,
   "metadata": {},
   "outputs": [
    {
     "data": {
      "text/plain": [
       "240000000000000.0"
      ]
     },
     "execution_count": 464,
     "metadata": {},
     "output_type": "execute_result"
    }
   ],
   "source": [
    "fee1_per_L * L"
   ]
  },
  {
   "cell_type": "code",
   "execution_count": 465,
   "metadata": {},
   "outputs": [],
   "source": [
    "pos['token1_fees_accrued'] = pos['token1_fees_accrued'].mask(pos.index.isin(active_pos.index), pos['token1_fees_accrued'] + pos['last_L'] * fee1_per_L)"
   ]
  },
  {
   "cell_type": "code",
   "execution_count": 458,
   "metadata": {},
   "outputs": [
    {
     "data": {
      "text/html": [
       "<div>\n",
       "<style scoped>\n",
       "    .dataframe tbody tr th:only-of-type {\n",
       "        vertical-align: middle;\n",
       "    }\n",
       "\n",
       "    .dataframe tbody tr th {\n",
       "        vertical-align: top;\n",
       "    }\n",
       "\n",
       "    .dataframe thead th {\n",
       "        text-align: right;\n",
       "    }\n",
       "</style>\n",
       "<table border=\"1\" class=\"dataframe\">\n",
       "  <thead>\n",
       "    <tr style=\"text-align: right;\">\n",
       "      <th></th>\n",
       "      <th>last_L</th>\n",
       "      <th>start_L</th>\n",
       "      <th>tickLower</th>\n",
       "      <th>tickUpper</th>\n",
       "      <th>owner</th>\n",
       "      <th>start_token0_holdings</th>\n",
       "      <th>start_token1_holdings</th>\n",
       "      <th>last_token0_holdings</th>\n",
       "      <th>last_token1_holdings</th>\n",
       "      <th>token0_fees_accrued</th>\n",
       "      <th>...</th>\n",
       "      <th>token1_collected</th>\n",
       "      <th>start_logIndex</th>\n",
       "      <th>start_blockNumber</th>\n",
       "      <th>start_transactionIndex</th>\n",
       "      <th>start_transactionHash</th>\n",
       "      <th>last_logIndex</th>\n",
       "      <th>last_blockNumber</th>\n",
       "      <th>last_transactionIndex</th>\n",
       "      <th>last_transactionHash</th>\n",
       "      <th>active</th>\n",
       "    </tr>\n",
       "  </thead>\n",
       "  <tbody>\n",
       "    <tr>\n",
       "      <th>0</th>\n",
       "      <td>6.805070e+22</td>\n",
       "      <td>6.805070e+22</td>\n",
       "      <td>-92160.0</td>\n",
       "      <td>-92040.0</td>\n",
       "      <td>0xC36442b4a4522E871399CD717aBDD847Ab11FE88</td>\n",
       "      <td>2.956435e+22</td>\n",
       "      <td>1.120790e+18</td>\n",
       "      <td>2.956435e+22</td>\n",
       "      <td>1.120790e+18</td>\n",
       "      <td>0.0</td>\n",
       "      <td>...</td>\n",
       "      <td>0.0</td>\n",
       "      <td>191</td>\n",
       "      <td>12504752</td>\n",
       "      <td>115</td>\n",
       "      <td>0x58337bfa434b41a386d33647c0c7d495fdb3b26f4036...</td>\n",
       "      <td>191</td>\n",
       "      <td>12504752</td>\n",
       "      <td>115</td>\n",
       "      <td>0x58337bfa434b41a386d33647c0c7d495fdb3b26f4036...</td>\n",
       "      <td>True</td>\n",
       "    </tr>\n",
       "  </tbody>\n",
       "</table>\n",
       "<p>1 rows × 22 columns</p>\n",
       "</div>"
      ],
      "text/plain": [
       "         last_L       start_L  tickLower  tickUpper  \\\n",
       "0  6.805070e+22  6.805070e+22   -92160.0   -92040.0   \n",
       "\n",
       "                                        owner  start_token0_holdings  \\\n",
       "0  0xC36442b4a4522E871399CD717aBDD847Ab11FE88           2.956435e+22   \n",
       "\n",
       "   start_token1_holdings  last_token0_holdings  last_token1_holdings  \\\n",
       "0           1.120790e+18          2.956435e+22          1.120790e+18   \n",
       "\n",
       "   token0_fees_accrued  ...  token1_collected  start_logIndex  \\\n",
       "0                  0.0  ...               0.0             191   \n",
       "\n",
       "   start_blockNumber  start_transactionIndex  \\\n",
       "0           12504752                     115   \n",
       "\n",
       "                               start_transactionHash  last_logIndex  \\\n",
       "0  0x58337bfa434b41a386d33647c0c7d495fdb3b26f4036...            191   \n",
       "\n",
       "  last_blockNumber  last_transactionIndex  \\\n",
       "0         12504752                    115   \n",
       "\n",
       "                                last_transactionHash  active  \n",
       "0  0x58337bfa434b41a386d33647c0c7d495fdb3b26f4036...    True  \n",
       "\n",
       "[1 rows x 22 columns]"
      ]
     },
     "execution_count": 458,
     "metadata": {},
     "output_type": "execute_result"
    }
   ],
   "source": [
    "pos"
   ]
  },
  {
   "cell_type": "code",
   "execution_count": null,
   "metadata": {},
   "outputs": [],
   "source": []
  },
  {
   "cell_type": "code",
   "execution_count": null,
   "metadata": {},
   "outputs": [],
   "source": []
  },
  {
   "cell_type": "code",
   "execution_count": null,
   "metadata": {},
   "outputs": [],
   "source": []
  },
  {
   "cell_type": "code",
   "execution_count": null,
   "metadata": {},
   "outputs": [],
   "source": []
  },
  {
   "cell_type": "code",
   "execution_count": 376,
   "metadata": {},
   "outputs": [
    {
     "data": {
      "text/plain": [
       "0.009991681455075785"
      ]
     },
     "execution_count": 376,
     "metadata": {},
     "output_type": "execute_result"
    }
   ],
   "source": [
    "sqrtPrice_next = clm.get_next_sqrtPrice_from_inputs(sqrtPrice, L, amount1_a, zeroForOne=zeroForOne)"
   ]
  },
  {
   "cell_type": "code",
   "execution_count": 377,
   "metadata": {},
   "outputs": [
    {
     "data": {
      "text/plain": [
       "9.183864200783355e+17"
      ]
     },
     "execution_count": 377,
     "metadata": {},
     "output_type": "execute_result"
    }
   ],
   "source": [
    "clm.get_amount1(sqrtPrice, sqrtPriceB, L) "
   ]
  },
  {
   "cell_type": "code",
   "execution_count": 378,
   "metadata": {},
   "outputs": [
    {
     "data": {
      "text/plain": [
       "7.976e+16"
      ]
     },
     "execution_count": 378,
     "metadata": {},
     "output_type": "execute_result"
    }
   ],
   "source": [
    "amount1_a"
   ]
  },
  {
   "cell_type": "code",
   "execution_count": 343,
   "metadata": {},
   "outputs": [
    {
     "data": {
      "text/html": [
       "<div>\n",
       "<style scoped>\n",
       "    .dataframe tbody tr th:only-of-type {\n",
       "        vertical-align: middle;\n",
       "    }\n",
       "\n",
       "    .dataframe tbody tr th {\n",
       "        vertical-align: top;\n",
       "    }\n",
       "\n",
       "    .dataframe thead th {\n",
       "        text-align: right;\n",
       "    }\n",
       "</style>\n",
       "<table border=\"1\" class=\"dataframe\">\n",
       "  <thead>\n",
       "    <tr style=\"text-align: right;\">\n",
       "      <th></th>\n",
       "      <th>last_L</th>\n",
       "      <th>start_L</th>\n",
       "      <th>tickLower</th>\n",
       "      <th>tickUpper</th>\n",
       "      <th>owner</th>\n",
       "      <th>start_token0_holdings</th>\n",
       "      <th>start_token1_holdings</th>\n",
       "      <th>last_token0_holdings</th>\n",
       "      <th>last_token1_holdings</th>\n",
       "      <th>token0_fees_accrued</th>\n",
       "      <th>...</th>\n",
       "      <th>token1_collected</th>\n",
       "      <th>start_logIndex</th>\n",
       "      <th>start_blockNumber</th>\n",
       "      <th>start_transactionIndex</th>\n",
       "      <th>start_transactionHash</th>\n",
       "      <th>last_logIndex</th>\n",
       "      <th>last_blockNumber</th>\n",
       "      <th>last_transactionIndex</th>\n",
       "      <th>last_transactionHash</th>\n",
       "      <th>active</th>\n",
       "    </tr>\n",
       "  </thead>\n",
       "  <tbody>\n",
       "    <tr>\n",
       "      <th>0</th>\n",
       "      <td>6.805070e+22</td>\n",
       "      <td>6.805070e+22</td>\n",
       "      <td>-92160.0</td>\n",
       "      <td>-92040.0</td>\n",
       "      <td>0xC36442b4a4522E871399CD717aBDD847Ab11FE88</td>\n",
       "      <td>2.956435e+22</td>\n",
       "      <td>1.120790e+18</td>\n",
       "      <td>2.956435e+22</td>\n",
       "      <td>1.120790e+18</td>\n",
       "      <td>0.0</td>\n",
       "      <td>...</td>\n",
       "      <td>0.0</td>\n",
       "      <td>191</td>\n",
       "      <td>12504752</td>\n",
       "      <td>115</td>\n",
       "      <td>0x58337bfa434b41a386d33647c0c7d495fdb3b26f4036...</td>\n",
       "      <td>191</td>\n",
       "      <td>12504752</td>\n",
       "      <td>115</td>\n",
       "      <td>0x58337bfa434b41a386d33647c0c7d495fdb3b26f4036...</td>\n",
       "      <td>True</td>\n",
       "    </tr>\n",
       "  </tbody>\n",
       "</table>\n",
       "<p>1 rows × 22 columns</p>\n",
       "</div>"
      ],
      "text/plain": [
       "         last_L       start_L  tickLower  tickUpper  \\\n",
       "0  6.805070e+22  6.805070e+22   -92160.0   -92040.0   \n",
       "\n",
       "                                        owner  start_token0_holdings  \\\n",
       "0  0xC36442b4a4522E871399CD717aBDD847Ab11FE88           2.956435e+22   \n",
       "\n",
       "   start_token1_holdings  last_token0_holdings  last_token1_holdings  \\\n",
       "0           1.120790e+18          2.956435e+22          1.120790e+18   \n",
       "\n",
       "   token0_fees_accrued  ...  token1_collected  start_logIndex  \\\n",
       "0                  0.0  ...               0.0             191   \n",
       "\n",
       "   start_blockNumber  start_transactionIndex  \\\n",
       "0           12504752                     115   \n",
       "\n",
       "                               start_transactionHash  last_logIndex  \\\n",
       "0  0x58337bfa434b41a386d33647c0c7d495fdb3b26f4036...            191   \n",
       "\n",
       "  last_blockNumber  last_transactionIndex  \\\n",
       "0         12504752                    115   \n",
       "\n",
       "                                last_transactionHash  active  \n",
       "0  0x58337bfa434b41a386d33647c0c7d495fdb3b26f4036...    True  \n",
       "\n",
       "[1 rows x 22 columns]"
      ]
     },
     "execution_count": 343,
     "metadata": {},
     "output_type": "execute_result"
    }
   ],
   "source": [
    "pos"
   ]
  },
  {
   "cell_type": "code",
   "execution_count": null,
   "metadata": {},
   "outputs": [],
   "source": [
    "        #Fees for pool \n",
    "        if amount0 > 0:\n",
    "            total_fee0 = amount0*clm.fee\n",
    "            amount0_nf = amount0 - total_fee0\n",
    "        else:\n",
    "            total_fee0 = 0\n",
    "            amount0_nf = amount0\n",
    "\n",
    "        if amount1 > 0:\n",
    "            total_fee1= amount1*clm.fee\n",
    "            amount1_nf = amount1 - total_fee1\n",
    "        else:\n",
    "            total_fee1 = 0\n",
    "            amount1_nf = amount1\n",
    "\n",
    "        clm.total_fee0 += total_fee0\n",
    "        clm.total_fee1 += total_fee1\n",
    "\n",
    "        pos = clm.positions\n",
    "        current_tick, current_tick_lower, current_tick_upper = clm.get_tick_range(clm.tick)\n",
    "\n",
    "        if amount0_nf > 0:\n",
    "            sqrtPrice_current = clm.sqrtPrice \n",
    "            sqrtPriceA = clm.tick_to_sqrtPrice(current_tick_lower) #based on lower tick not lower price\n",
    "\n",
    "            amount0_a = amount0_nf\n",
    "            amount1_a = amount1_nf\n",
    "\n",
    "            while amount0_a > 0:\n",
    "                apos = pos.loc[(pos['tickLower'] < current_tick)&(pos['tickUpper'] >= current_tick)]\n",
    "                L_tick = apos['last_L'].sum()\n",
    "\n",
    "                #check if there is enough reserves in the tick\n",
    "                if L_tick*(1/sqrtPriceA - 1/sqrtPrice_current) > amount0_a:\n",
    "                    sqrtPrice_new = 1/((amount0_a/L_tick)+(1/sqrtPrice_current))\n",
    "                    tick_new = clm.sqrtPrice_to_tick(sqrtPrice_new)\n",
    "                    break\n",
    "                    #TODO Add fee to apos\n",
    "\n",
    "                else:\n",
    "                    amount0_a -= L_tick *(1/sqrtPriceA - 1/sqrtPrice_current)\n",
    "                    amount1_a -= L_tick *(sqrtPriceA - sqrtPrice_current)\n",
    "                    current_tick = current_tick_lower\n",
    "                    current_tick_lower = current_tick - clm.tickSpacing\n",
    "                    sqrtPrice_current = clm.tick_to_sqrtPrice(current_tick)\n",
    "                    sqrtPriceA = clm.tick_to_sqrtPrice(current_tick_lower)\n",
    "                    #TODO Add fee to apos\n",
    "            \n",
    "            if not any([liquidity, tick]): #save if check not given\n",
    "                clm.sqrtPrice = sqrtPrice_new\n",
    "                clm.tick = tick_new\n",
    "                clm.liquidity = L_tick\n",
    "\n",
    "            else:\n",
    "                if (L_tick != liquidity) or (tick != tick_new):\n",
    "                    raise SwapAllignmentError(f\"Swap: tick or liquidity provided does not match calculations\\n\\n\\thave liquidity: {L_tick}, {liquidity}\\n\\ttick: {tick}, {tick_new}\")\n",
    "                else:\n",
    "                    clm.sqrtPrice = sqrtPrice_new\n",
    "                    clm.tick = tick_new\n",
    "                    clm.liquidity = L_tick\n",
    "\n",
    "        \n",
    "        if amount1_nf > 0:\n",
    "            sqrtPrice_current = clm.sqrtPrice\n",
    "            sqrtPriceB = clm.tick_to_sqrtPrice(current_tick_upper) #based on upper tick not upper price\n",
    "\n",
    "            amount0_a = amount0_nf\n",
    "            amount1_a = amount1_nf\n",
    "\n",
    "            while amount1_a > 0:\n",
    "                apos = pos.loc[(pos['tickLower'] <= current_tick)&(pos['tickUpper'] > current_tick)]\n",
    "                L_tick = apos['last_L'].sum()\n",
    "\n",
    "                #check if there is enough reserves in the tick\n",
    "                if L_tick*(sqrtPriceB - sqrtPrice_current) > amount1_a:\n",
    "                    sqrtPrice_new = sqrtPrice_current + (amount1_a/L_tick)\n",
    "                    tick_new = clm.sqrtPrice_to_tick(sqrtPrice_new)\n",
    "                    #TODO add fee to apos\n",
    "                    break\n",
    "\n",
    "                else:\n",
    "                    amount0_a -= L_tick *(1/sqrtPriceB - 1/sqrtPrice_current)\n",
    "                    amount1_a -= L_tick *(sqrtPriceB - sqrtPrice_current)\n",
    "\n",
    "                    #TODO add fee to apos\n",
    "                    current_tick = current_tick_upper\n",
    "                    current_tick_upper = current_tick + clm.tickSpacing\n",
    "                    sqrtPrice_current = clm.tick_to_sqrtPrice(current_tick)\n",
    "                    sqrtPriceB = clm.tick_to_sqrtPrice(current_tick_upper)\n",
    "            \n",
    "            if not any([liquidity, tick]): #save if check not given\n",
    "                clm.sqrtPrice = sqrtPrice_new\n",
    "                clm.tick = tick_new\n",
    "                clm.liquidity = L_tick\n",
    "\n",
    "            else:\n",
    "                if (L_tick != liquidity) or (tick != tick_new):\n",
    "                    raise SwapAllignmentError(f\"Swap: tick or liquidity provided does not match calculations\\n\\n\\thave liquidity: {L_tick}, {liquidity}\\n\\ttick: {tick}, {tick_new}\")\n",
    "                else:\n",
    "                    clm.sqrtPrice = sqrtPrice_new\n",
    "                    clm.tick = tick_new\n",
    "                    clm.liquidity = L_tick\n",
    "        "
   ]
  },
  {
   "cell_type": "code",
   "execution_count": null,
   "metadata": {},
   "outputs": [],
   "source": []
  },
  {
   "cell_type": "code",
   "execution_count": null,
   "metadata": {},
   "outputs": [],
   "source": []
  },
  {
   "cell_type": "code",
   "execution_count": null,
   "metadata": {},
   "outputs": [],
   "source": []
  },
  {
   "cell_type": "code",
   "execution_count": null,
   "metadata": {},
   "outputs": [],
   "source": []
  },
  {
   "cell_type": "code",
   "execution_count": null,
   "metadata": {},
   "outputs": [],
   "source": []
  },
  {
   "cell_type": "code",
   "execution_count": null,
   "metadata": {},
   "outputs": [],
   "source": []
  },
  {
   "cell_type": "code",
   "execution_count": null,
   "metadata": {},
   "outputs": [],
   "source": []
  },
  {
   "cell_type": "code",
   "execution_count": null,
   "metadata": {},
   "outputs": [],
   "source": []
  },
  {
   "cell_type": "code",
   "execution_count": null,
   "metadata": {},
   "outputs": [],
   "source": []
  },
  {
   "cell_type": "code",
   "execution_count": 252,
   "metadata": {},
   "outputs": [
    {
     "data": {
      "text/html": [
       "<div>\n",
       "<style scoped>\n",
       "    .dataframe tbody tr th:only-of-type {\n",
       "        vertical-align: middle;\n",
       "    }\n",
       "\n",
       "    .dataframe tbody tr th {\n",
       "        vertical-align: top;\n",
       "    }\n",
       "\n",
       "    .dataframe thead th {\n",
       "        text-align: right;\n",
       "    }\n",
       "</style>\n",
       "<table border=\"1\" class=\"dataframe\">\n",
       "  <thead>\n",
       "    <tr style=\"text-align: right;\">\n",
       "      <th></th>\n",
       "      <th>event</th>\n",
       "      <th>logIndex</th>\n",
       "      <th>blockNumber</th>\n",
       "      <th>transactionIndex</th>\n",
       "      <th>transactionHash</th>\n",
       "      <th>sender</th>\n",
       "      <th>amount</th>\n",
       "      <th>tickLower</th>\n",
       "      <th>tickUpper</th>\n",
       "      <th>amount0</th>\n",
       "      <th>amount1</th>\n",
       "    </tr>\n",
       "  </thead>\n",
       "  <tbody>\n",
       "    <tr>\n",
       "      <th>0</th>\n",
       "      <td>Burn</td>\n",
       "      <td>144</td>\n",
       "      <td>12510449</td>\n",
       "      <td>172</td>\n",
       "      <td>0x31d070f1d8f7e4132cac47b09cf0b92a38b37c1096c7...</td>\n",
       "      <td>0xC36442b4a4522E871399CD717aBDD847Ab11FE88</td>\n",
       "      <td>6.805070e+22</td>\n",
       "      <td>-92160.0</td>\n",
       "      <td>-92040.0</td>\n",
       "      <td>4.080452e+22</td>\n",
       "      <td>7.537319e+14</td>\n",
       "    </tr>\n",
       "  </tbody>\n",
       "</table>\n",
       "</div>"
      ],
      "text/plain": [
       "  event  logIndex  blockNumber  transactionIndex  \\\n",
       "0  Burn       144     12510449               172   \n",
       "\n",
       "                                     transactionHash  \\\n",
       "0  0x31d070f1d8f7e4132cac47b09cf0b92a38b37c1096c7...   \n",
       "\n",
       "                                       sender        amount  tickLower  \\\n",
       "0  0xC36442b4a4522E871399CD717aBDD847Ab11FE88  6.805070e+22   -92160.0   \n",
       "\n",
       "   tickUpper       amount0       amount1  \n",
       "0   -92040.0  4.080452e+22  7.537319e+14  "
      ]
     },
     "execution_count": 252,
     "metadata": {},
     "output_type": "execute_result"
    }
   ],
   "source": [
    "clm.burns"
   ]
  },
  {
   "cell_type": "code",
   "execution_count": 253,
   "metadata": {},
   "outputs": [],
   "source": [
    "tickLower = tdf['args.tickLower']#, \n",
    "tickUpper = tdf['args.tickUpper']#, \n",
    "amount0 = tdf['args.amount0']#,\n",
    "amount1 = tdf['args.amount1']#,\n",
    "recipient = tdf['args.recipient']#,\n",
    "blockNumber = tdf['blockNumber']#, \n",
    "transactionIndex = tdf['transactionIndex']#, \n",
    "logIndex = tdf['logIndex']#, \n",
    "transactionHash = tdf['transactionHash']"
   ]
  },
  {
   "cell_type": "code",
   "execution_count": 254,
   "metadata": {},
   "outputs": [
    {
     "data": {
      "text/html": [
       "<div>\n",
       "<style scoped>\n",
       "    .dataframe tbody tr th:only-of-type {\n",
       "        vertical-align: middle;\n",
       "    }\n",
       "\n",
       "    .dataframe tbody tr th {\n",
       "        vertical-align: top;\n",
       "    }\n",
       "\n",
       "    .dataframe thead th {\n",
       "        text-align: right;\n",
       "    }\n",
       "</style>\n",
       "<table border=\"1\" class=\"dataframe\">\n",
       "  <thead>\n",
       "    <tr style=\"text-align: right;\">\n",
       "      <th></th>\n",
       "      <th>event</th>\n",
       "      <th>logIndex</th>\n",
       "      <th>blockNumber</th>\n",
       "      <th>transactionIndex</th>\n",
       "      <th>transactionHash</th>\n",
       "      <th>sender</th>\n",
       "      <th>tickLower</th>\n",
       "      <th>tickUpper</th>\n",
       "      <th>amount0</th>\n",
       "      <th>amount1</th>\n",
       "    </tr>\n",
       "  </thead>\n",
       "  <tbody>\n",
       "    <tr>\n",
       "      <th>0</th>\n",
       "      <td>Collect</td>\n",
       "      <td>148</td>\n",
       "      <td>12510449</td>\n",
       "      <td>172</td>\n",
       "      <td>0x31d070f1d8f7e4132cac47b09cf0b92a38b37c1096c7...</td>\n",
       "      <td>0xC36442b4a4522E871399CD717aBDD847Ab11FE88</td>\n",
       "      <td>-92160.0</td>\n",
       "      <td>-92040.0</td>\n",
       "      <td>4.084074e+22</td>\n",
       "      <td>9.937319e+14</td>\n",
       "    </tr>\n",
       "  </tbody>\n",
       "</table>\n",
       "</div>"
      ],
      "text/plain": [
       "     event  logIndex  blockNumber  transactionIndex  \\\n",
       "0  Collect       148     12510449               172   \n",
       "\n",
       "                                     transactionHash  \\\n",
       "0  0x31d070f1d8f7e4132cac47b09cf0b92a38b37c1096c7...   \n",
       "\n",
       "                                       sender  tickLower  tickUpper  \\\n",
       "0  0xC36442b4a4522E871399CD717aBDD847Ab11FE88   -92160.0   -92040.0   \n",
       "\n",
       "        amount0       amount1  \n",
       "0  4.084074e+22  9.937319e+14  "
      ]
     },
     "execution_count": 254,
     "metadata": {},
     "output_type": "execute_result"
    }
   ],
   "source": [
    "collect_df = pd.DataFrame([['Collect', logIndex, blockNumber, transactionIndex, transactionHash, recipient, tickLower, tickUpper, amount0, amount1]], \n",
    "                       columns=['event', 'logIndex', 'blockNumber', 'transactionIndex', 'transactionHash', 'sender', 'tickLower', 'tickUpper', 'amount0', 'amount1'])\n",
    "collect_df"
   ]
  },
  {
   "cell_type": "code",
   "execution_count": 255,
   "metadata": {},
   "outputs": [],
   "source": [
    "pos = clm.positions.reset_index(drop=True) #can maybe maintain index through the mints?\n",
    "#check if len >1, otherwise burn liquidity in pool\n",
    "cpos = pos.loc[(pos['tickLower'] == tickLower) & (pos['tickUpper'] == tickUpper)]\n"
   ]
  },
  {
   "cell_type": "code",
   "execution_count": 256,
   "metadata": {},
   "outputs": [
    {
     "data": {
      "text/html": [
       "<div>\n",
       "<style scoped>\n",
       "    .dataframe tbody tr th:only-of-type {\n",
       "        vertical-align: middle;\n",
       "    }\n",
       "\n",
       "    .dataframe tbody tr th {\n",
       "        vertical-align: top;\n",
       "    }\n",
       "\n",
       "    .dataframe thead th {\n",
       "        text-align: right;\n",
       "    }\n",
       "</style>\n",
       "<table border=\"1\" class=\"dataframe\">\n",
       "  <thead>\n",
       "    <tr style=\"text-align: right;\">\n",
       "      <th></th>\n",
       "      <th>last_L</th>\n",
       "      <th>start_L</th>\n",
       "      <th>tickLower</th>\n",
       "      <th>tickUpper</th>\n",
       "      <th>owner</th>\n",
       "      <th>start_token0_holdings</th>\n",
       "      <th>start_token1_holdings</th>\n",
       "      <th>last_token0_holdings</th>\n",
       "      <th>last_token1_holdings</th>\n",
       "      <th>token0_fees_accrued</th>\n",
       "      <th>...</th>\n",
       "      <th>token1_collected</th>\n",
       "      <th>start_logIndex</th>\n",
       "      <th>start_blockNumber</th>\n",
       "      <th>start_transactionIndex</th>\n",
       "      <th>start_transactionHash</th>\n",
       "      <th>last_logIndex</th>\n",
       "      <th>last_blockNumber</th>\n",
       "      <th>last_transactionIndex</th>\n",
       "      <th>last_transactionHash</th>\n",
       "      <th>active</th>\n",
       "    </tr>\n",
       "  </thead>\n",
       "  <tbody>\n",
       "    <tr>\n",
       "      <th>0</th>\n",
       "      <td>0.0</td>\n",
       "      <td>6.805070e+22</td>\n",
       "      <td>-92160.0</td>\n",
       "      <td>-92040.0</td>\n",
       "      <td>0xC36442b4a4522E871399CD717aBDD847Ab11FE88</td>\n",
       "      <td>2.956435e+22</td>\n",
       "      <td>1.120790e+18</td>\n",
       "      <td>4.080452e+22</td>\n",
       "      <td>7.537319e+14</td>\n",
       "      <td>0.0</td>\n",
       "      <td>...</td>\n",
       "      <td>0.0</td>\n",
       "      <td>191</td>\n",
       "      <td>12504752</td>\n",
       "      <td>115</td>\n",
       "      <td>0x58337bfa434b41a386d33647c0c7d495fdb3b26f4036...</td>\n",
       "      <td>144</td>\n",
       "      <td>12510449</td>\n",
       "      <td>172</td>\n",
       "      <td>0x31d070f1d8f7e4132cac47b09cf0b92a38b37c1096c7...</td>\n",
       "      <td>True</td>\n",
       "    </tr>\n",
       "  </tbody>\n",
       "</table>\n",
       "<p>1 rows × 22 columns</p>\n",
       "</div>"
      ],
      "text/plain": [
       "   last_L       start_L  tickLower  tickUpper  \\\n",
       "0     0.0  6.805070e+22   -92160.0   -92040.0   \n",
       "\n",
       "                                        owner  start_token0_holdings  \\\n",
       "0  0xC36442b4a4522E871399CD717aBDD847Ab11FE88           2.956435e+22   \n",
       "\n",
       "   start_token1_holdings  last_token0_holdings  last_token1_holdings  \\\n",
       "0           1.120790e+18          4.080452e+22          7.537319e+14   \n",
       "\n",
       "   token0_fees_accrued  ...  token1_collected  start_logIndex  \\\n",
       "0                  0.0  ...               0.0             191   \n",
       "\n",
       "   start_blockNumber  start_transactionIndex  \\\n",
       "0           12504752                     115   \n",
       "\n",
       "                               start_transactionHash  last_logIndex  \\\n",
       "0  0x58337bfa434b41a386d33647c0c7d495fdb3b26f4036...            144   \n",
       "\n",
       "  last_blockNumber  last_transactionIndex  \\\n",
       "0         12510449                    172   \n",
       "\n",
       "                                last_transactionHash  active  \n",
       "0  0x31d070f1d8f7e4132cac47b09cf0b92a38b37c1096c7...    True  \n",
       "\n",
       "[1 rows x 22 columns]"
      ]
     },
     "execution_count": 256,
     "metadata": {},
     "output_type": "execute_result"
    }
   ],
   "source": [
    "cpos"
   ]
  },
  {
   "cell_type": "code",
   "execution_count": 257,
   "metadata": {},
   "outputs": [],
   "source": [
    "if len(cpos) > 1:\n",
    "    #TODO handle cases when bounds do not match\n",
    "    clpos = cpos.loc[(cpos['L'] == 0)&((cpos['last_token0_holdings'] > 0)|(cpos['last_token1_holdings'] > 0))] \n",
    "    if len(clpos) == 1:\n",
    "        i = clpos.index[0]\n",
    "\n",
    "    elif len(clpos) == 0:\n",
    "        raise CollectMatchError(\"Cannot match mints and burns because there is no null L in same tick range\")\n",
    "\n",
    "    else:\n",
    "        raise CollectMatchError(\"Cannot match mints and burns more the one position with same L\")\n",
    "\n",
    "else:\n",
    "    i = cpos.index[0]"
   ]
  },
  {
   "cell_type": "code",
   "execution_count": 258,
   "metadata": {},
   "outputs": [
    {
     "data": {
      "text/plain": [
       "993731921441930"
      ]
     },
     "execution_count": 258,
     "metadata": {},
     "output_type": "execute_result"
    }
   ],
   "source": [
    "int(amount1)"
   ]
  },
  {
   "cell_type": "code",
   "execution_count": 259,
   "metadata": {},
   "outputs": [],
   "source": [
    "#pos['token0_collected'] = pos['token0_collected'].astype(float)\n",
    "#pos['token1_collected'] = pos['token1_collected'].astype(float)"
   ]
  },
  {
   "cell_type": "code",
   "execution_count": 260,
   "metadata": {},
   "outputs": [],
   "source": [
    "pos['token0_collected'].iat[i] += amount0\n",
    "pos['token1_collected'].iat[i] += amount1\n"
   ]
  },
  {
   "cell_type": "code",
   "execution_count": 261,
   "metadata": {},
   "outputs": [
    {
     "data": {
      "text/html": [
       "<div>\n",
       "<style scoped>\n",
       "    .dataframe tbody tr th:only-of-type {\n",
       "        vertical-align: middle;\n",
       "    }\n",
       "\n",
       "    .dataframe tbody tr th {\n",
       "        vertical-align: top;\n",
       "    }\n",
       "\n",
       "    .dataframe thead th {\n",
       "        text-align: right;\n",
       "    }\n",
       "</style>\n",
       "<table border=\"1\" class=\"dataframe\">\n",
       "  <thead>\n",
       "    <tr style=\"text-align: right;\">\n",
       "      <th></th>\n",
       "      <th>last_L</th>\n",
       "      <th>start_L</th>\n",
       "      <th>tickLower</th>\n",
       "      <th>tickUpper</th>\n",
       "      <th>owner</th>\n",
       "      <th>start_token0_holdings</th>\n",
       "      <th>start_token1_holdings</th>\n",
       "      <th>last_token0_holdings</th>\n",
       "      <th>last_token1_holdings</th>\n",
       "      <th>token0_fees_accrued</th>\n",
       "      <th>...</th>\n",
       "      <th>token1_collected</th>\n",
       "      <th>start_logIndex</th>\n",
       "      <th>start_blockNumber</th>\n",
       "      <th>start_transactionIndex</th>\n",
       "      <th>start_transactionHash</th>\n",
       "      <th>last_logIndex</th>\n",
       "      <th>last_blockNumber</th>\n",
       "      <th>last_transactionIndex</th>\n",
       "      <th>last_transactionHash</th>\n",
       "      <th>active</th>\n",
       "    </tr>\n",
       "  </thead>\n",
       "  <tbody>\n",
       "    <tr>\n",
       "      <th>0</th>\n",
       "      <td>0.0</td>\n",
       "      <td>6.805070e+22</td>\n",
       "      <td>-92160.0</td>\n",
       "      <td>-92040.0</td>\n",
       "      <td>0xC36442b4a4522E871399CD717aBDD847Ab11FE88</td>\n",
       "      <td>2.956435e+22</td>\n",
       "      <td>1.120790e+18</td>\n",
       "      <td>4.080452e+22</td>\n",
       "      <td>7.537319e+14</td>\n",
       "      <td>0.0</td>\n",
       "      <td>...</td>\n",
       "      <td>9.937319e+14</td>\n",
       "      <td>191</td>\n",
       "      <td>12504752</td>\n",
       "      <td>115</td>\n",
       "      <td>0x58337bfa434b41a386d33647c0c7d495fdb3b26f4036...</td>\n",
       "      <td>144</td>\n",
       "      <td>12510449</td>\n",
       "      <td>172</td>\n",
       "      <td>0x31d070f1d8f7e4132cac47b09cf0b92a38b37c1096c7...</td>\n",
       "      <td>True</td>\n",
       "    </tr>\n",
       "  </tbody>\n",
       "</table>\n",
       "<p>1 rows × 22 columns</p>\n",
       "</div>"
      ],
      "text/plain": [
       "   last_L       start_L  tickLower  tickUpper  \\\n",
       "0     0.0  6.805070e+22   -92160.0   -92040.0   \n",
       "\n",
       "                                        owner  start_token0_holdings  \\\n",
       "0  0xC36442b4a4522E871399CD717aBDD847Ab11FE88           2.956435e+22   \n",
       "\n",
       "   start_token1_holdings  last_token0_holdings  last_token1_holdings  \\\n",
       "0           1.120790e+18          4.080452e+22          7.537319e+14   \n",
       "\n",
       "   token0_fees_accrued  ...  token1_collected  start_logIndex  \\\n",
       "0                  0.0  ...      9.937319e+14             191   \n",
       "\n",
       "   start_blockNumber  start_transactionIndex  \\\n",
       "0           12504752                     115   \n",
       "\n",
       "                               start_transactionHash  last_logIndex  \\\n",
       "0  0x58337bfa434b41a386d33647c0c7d495fdb3b26f4036...            144   \n",
       "\n",
       "  last_blockNumber  last_transactionIndex  \\\n",
       "0         12510449                    172   \n",
       "\n",
       "                                last_transactionHash  active  \n",
       "0  0x31d070f1d8f7e4132cac47b09cf0b92a38b37c1096c7...    True  \n",
       "\n",
       "[1 rows x 22 columns]"
      ]
     },
     "execution_count": 261,
     "metadata": {},
     "output_type": "execute_result"
    }
   ],
   "source": [
    "pos"
   ]
  },
  {
   "cell_type": "code",
   "execution_count": 262,
   "metadata": {},
   "outputs": [],
   "source": [
    "#if == 0 then position is now inactive with nothing to collect \n",
    "#if can then update the last holdings to be negative "
   ]
  },
  {
   "cell_type": "code",
   "execution_count": 263,
   "metadata": {},
   "outputs": [],
   "source": [
    "token0_diff = (pos['last_token0_holdings'].iloc[i] + pos['token0_fees_accrued'].iloc[i]  - pos['token0_collected'].iloc[i])"
   ]
  },
  {
   "cell_type": "code",
   "execution_count": 264,
   "metadata": {},
   "outputs": [],
   "source": [
    "token1_diff = (pos['last_token1_holdings'].iloc[i] + pos['token1_fees_accrued'].iloc[i]  - pos['token1_collected'].iloc[i])"
   ]
  },
  {
   "cell_type": "code",
   "execution_count": 269,
   "metadata": {},
   "outputs": [],
   "source": [
    "if (token0_diff <= 0) & (token1_diff <= 0): #Should really be ==\n",
    "    pos['last_token0_holdings'].iat[i] = 0\n",
    "    pos['last_token1_holdings'].iat[i] = 0\n",
    "    pos['active'].iat[i] = False"
   ]
  },
  {
   "cell_type": "code",
   "execution_count": null,
   "metadata": {},
   "outputs": [],
   "source": []
  },
  {
   "cell_type": "code",
   "execution_count": 271,
   "metadata": {},
   "outputs": [
    {
     "data": {
      "text/plain": [
       "0   -9.937319e+14\n",
       "dtype: float64"
      ]
     },
     "execution_count": 271,
     "metadata": {},
     "output_type": "execute_result"
    }
   ],
   "source": [
    "pos['last_token1_holdings'] + pos['token1_fees_accrued'] - pos['token1_collected']"
   ]
  },
  {
   "cell_type": "code",
   "execution_count": null,
   "metadata": {},
   "outputs": [],
   "source": []
  },
  {
   "cell_type": "code",
   "execution_count": 81,
   "metadata": {},
   "outputs": [],
   "source": [
    "def get_amount0_for_liquidity(sqrtPriceA, sqrtPriceB, liquidity):\n",
    "    if sqrtPriceA > sqrtPriceB:\n",
    "        sqrtPriceA, sqrtPriceB = sqrtPriceB, sqrtPriceA\n",
    "    \n",
    "    return liquidity * ((1/sqrtPriceA) - (1/sqrtPriceB))\n",
    "\n",
    "def get_amount1_for_liquidity(sqrtPriceA, sqrtPriceB, liquidity):\n",
    "    if sqrtPriceA > sqrtPriceB:\n",
    "        sqrtPriceA, sqrtPriceB = sqrtPriceB, sqrtPriceA\n",
    "    \n",
    "    return (liquidity * (sqrtPriceB - sqrtPriceA))\n",
    "\n",
    "\n",
    "def get_amounts_for_liquidity(sqrtPrice, sqrtPriceA, sqrtPriceB, liquidity):\n",
    "    amount0 = 0\n",
    "    amount1 = 0\n",
    "\n",
    "    if sqrtPriceA > sqrtPriceB:\n",
    "        sqrtPriceA, sqrtPriceB = sqrtPriceB, sqrtPriceA\n",
    "    \n",
    "    if sqrtPrice <= sqrtPriceA:\n",
    "        amount0 = get_amount0_for_liquidity(sqrtPriceA, sqrtPriceB, liquidity)\n",
    "    \n",
    "    elif sqrtPrice < sqrtPriceB:\n",
    "        amount0 = get_amount0_for_liquidity(sqrtPrice, sqrtPriceB, liquidity)\n",
    "        amount1 = get_amount1_for_liquidity(sqrtPriceA, sqrtPrice, liquidity)\n",
    "    \n",
    "    else:\n",
    "        amount1 = get_amount1_for_liquidity(sqrtPriceA, sqrtPriceB, liquidity)\n",
    "\n",
    "    return amount0, amount1"
   ]
  },
  {
   "cell_type": "code",
   "execution_count": 82,
   "metadata": {},
   "outputs": [
    {
     "data": {
      "text/plain": [
       "(0.010034060581277992, 0.009974039462207726)"
      ]
     },
     "execution_count": 82,
     "metadata": {},
     "output_type": "execute_result"
    }
   ],
   "source": [
    "clm.tick_to_sqrtPrice(tickUpper), clm.tick_to_sqrtPrice(tickLower)"
   ]
  },
  {
   "cell_type": "code",
   "execution_count": 83,
   "metadata": {},
   "outputs": [
    {
     "data": {
      "text/plain": [
       "6.805070034957683e+22"
      ]
     },
     "execution_count": 83,
     "metadata": {},
     "output_type": "execute_result"
    }
   ],
   "source": [
    "(cpos['start_L'] - cpos['last_L']).values[0]"
   ]
  },
  {
   "cell_type": "code",
   "execution_count": 84,
   "metadata": {},
   "outputs": [],
   "source": [
    "camount0, camount1 = get_amounts_for_liquidity(clm.sqrtPrice, clm.tick_to_sqrtPrice(tickUpper), clm.tick_to_sqrtPrice(tickLower), (cpos['start_L'] - cpos['last_L']).values[0])"
   ]
  },
  {
   "cell_type": "code",
   "execution_count": 86,
   "metadata": {},
   "outputs": [
    {
     "data": {
      "text/plain": [
       "(4.080451818908354e+22, 753731577068398.1)"
      ]
     },
     "execution_count": 86,
     "metadata": {},
     "output_type": "execute_result"
    }
   ],
   "source": [
    "camount0, camount1 "
   ]
  },
  {
   "cell_type": "code",
   "execution_count": 87,
   "metadata": {},
   "outputs": [
    {
     "data": {
      "text/plain": [
       "(4.084074444134624e+22, 993731921441930.0)"
      ]
     },
     "execution_count": 87,
     "metadata": {},
     "output_type": "execute_result"
    }
   ],
   "source": [
    "amount0, amount1"
   ]
  },
  {
   "cell_type": "code",
   "execution_count": 85,
   "metadata": {},
   "outputs": [
    {
     "data": {
      "text/plain": [
       "-3.622625226270127e+19"
      ]
     },
     "execution_count": 85,
     "metadata": {},
     "output_type": "execute_result"
    }
   ],
   "source": [
    "camount0 - amount0 "
   ]
  },
  {
   "cell_type": "code",
   "execution_count": 80,
   "metadata": {},
   "outputs": [
    {
     "data": {
      "text/plain": [
       "-240000344373531.88"
      ]
     },
     "execution_count": 80,
     "metadata": {},
     "output_type": "execute_result"
    }
   ],
   "source": [
    "camount1 - amount1"
   ]
  },
  {
   "cell_type": "code",
   "execution_count": null,
   "metadata": {},
   "outputs": [],
   "source": [
    "#simply add that fees are collected #may result in a error between portfolio cost\n",
    "#use burn to reallign the "
   ]
  },
  {
   "cell_type": "code",
   "execution_count": null,
   "metadata": {},
   "outputs": [],
   "source": []
  },
  {
   "cell_type": "code",
   "execution_count": 74,
   "metadata": {},
   "outputs": [
    {
     "ename": "KeyError",
     "evalue": "'L'",
     "output_type": "error",
     "traceback": [
      "\u001b[0;31m---------------------------------------------------------------------------\u001b[0m",
      "\u001b[0;31mKeyError\u001b[0m                                  Traceback (most recent call last)",
      "File \u001b[0;32m~/Desktop/AMM Liquidity Analysis/amm-liquidity/.venv/lib/python3.11/site-packages/pandas/core/indexes/base.py:3805\u001b[0m, in \u001b[0;36mIndex.get_loc\u001b[0;34m(self, key)\u001b[0m\n\u001b[1;32m   3804\u001b[0m \u001b[38;5;28;01mtry\u001b[39;00m:\n\u001b[0;32m-> 3805\u001b[0m     \u001b[38;5;28;01mreturn\u001b[39;00m \u001b[38;5;28;43mself\u001b[39;49m\u001b[38;5;241;43m.\u001b[39;49m\u001b[43m_engine\u001b[49m\u001b[38;5;241;43m.\u001b[39;49m\u001b[43mget_loc\u001b[49m\u001b[43m(\u001b[49m\u001b[43mcasted_key\u001b[49m\u001b[43m)\u001b[49m\n\u001b[1;32m   3806\u001b[0m \u001b[38;5;28;01mexcept\u001b[39;00m \u001b[38;5;167;01mKeyError\u001b[39;00m \u001b[38;5;28;01mas\u001b[39;00m err:\n",
      "File \u001b[0;32mindex.pyx:167\u001b[0m, in \u001b[0;36mpandas._libs.index.IndexEngine.get_loc\u001b[0;34m()\u001b[0m\n",
      "File \u001b[0;32mindex.pyx:196\u001b[0m, in \u001b[0;36mpandas._libs.index.IndexEngine.get_loc\u001b[0;34m()\u001b[0m\n",
      "File \u001b[0;32mpandas/_libs/hashtable_class_helper.pxi:7081\u001b[0m, in \u001b[0;36mpandas._libs.hashtable.PyObjectHashTable.get_item\u001b[0;34m()\u001b[0m\n",
      "File \u001b[0;32mpandas/_libs/hashtable_class_helper.pxi:7089\u001b[0m, in \u001b[0;36mpandas._libs.hashtable.PyObjectHashTable.get_item\u001b[0;34m()\u001b[0m\n",
      "\u001b[0;31mKeyError\u001b[0m: 'L'",
      "\nThe above exception was the direct cause of the following exception:\n",
      "\u001b[0;31mKeyError\u001b[0m                                  Traceback (most recent call last)",
      "Cell \u001b[0;32mIn[74], line 1\u001b[0m\n\u001b[0;32m----> 1\u001b[0m \u001b[43mpos\u001b[49m\u001b[43m[\u001b[49m\u001b[38;5;124;43m'\u001b[39;49m\u001b[38;5;124;43mL\u001b[39;49m\u001b[38;5;124;43m'\u001b[39;49m\u001b[43m]\u001b[49m\u001b[38;5;241m.\u001b[39mat[i]  \u001b[38;5;241m-\u001b[39m\u001b[38;5;241m=\u001b[39m bpos[\u001b[38;5;124m'\u001b[39m\u001b[38;5;124mL\u001b[39m\u001b[38;5;124m'\u001b[39m] \n",
      "File \u001b[0;32m~/Desktop/AMM Liquidity Analysis/amm-liquidity/.venv/lib/python3.11/site-packages/pandas/core/frame.py:4090\u001b[0m, in \u001b[0;36mDataFrame.__getitem__\u001b[0;34m(self, key)\u001b[0m\n\u001b[1;32m   4088\u001b[0m \u001b[38;5;28;01mif\u001b[39;00m \u001b[38;5;28mself\u001b[39m\u001b[38;5;241m.\u001b[39mcolumns\u001b[38;5;241m.\u001b[39mnlevels \u001b[38;5;241m>\u001b[39m \u001b[38;5;241m1\u001b[39m:\n\u001b[1;32m   4089\u001b[0m     \u001b[38;5;28;01mreturn\u001b[39;00m \u001b[38;5;28mself\u001b[39m\u001b[38;5;241m.\u001b[39m_getitem_multilevel(key)\n\u001b[0;32m-> 4090\u001b[0m indexer \u001b[38;5;241m=\u001b[39m \u001b[38;5;28;43mself\u001b[39;49m\u001b[38;5;241;43m.\u001b[39;49m\u001b[43mcolumns\u001b[49m\u001b[38;5;241;43m.\u001b[39;49m\u001b[43mget_loc\u001b[49m\u001b[43m(\u001b[49m\u001b[43mkey\u001b[49m\u001b[43m)\u001b[49m\n\u001b[1;32m   4091\u001b[0m \u001b[38;5;28;01mif\u001b[39;00m is_integer(indexer):\n\u001b[1;32m   4092\u001b[0m     indexer \u001b[38;5;241m=\u001b[39m [indexer]\n",
      "File \u001b[0;32m~/Desktop/AMM Liquidity Analysis/amm-liquidity/.venv/lib/python3.11/site-packages/pandas/core/indexes/base.py:3812\u001b[0m, in \u001b[0;36mIndex.get_loc\u001b[0;34m(self, key)\u001b[0m\n\u001b[1;32m   3807\u001b[0m     \u001b[38;5;28;01mif\u001b[39;00m \u001b[38;5;28misinstance\u001b[39m(casted_key, \u001b[38;5;28mslice\u001b[39m) \u001b[38;5;129;01mor\u001b[39;00m (\n\u001b[1;32m   3808\u001b[0m         \u001b[38;5;28misinstance\u001b[39m(casted_key, abc\u001b[38;5;241m.\u001b[39mIterable)\n\u001b[1;32m   3809\u001b[0m         \u001b[38;5;129;01mand\u001b[39;00m \u001b[38;5;28many\u001b[39m(\u001b[38;5;28misinstance\u001b[39m(x, \u001b[38;5;28mslice\u001b[39m) \u001b[38;5;28;01mfor\u001b[39;00m x \u001b[38;5;129;01min\u001b[39;00m casted_key)\n\u001b[1;32m   3810\u001b[0m     ):\n\u001b[1;32m   3811\u001b[0m         \u001b[38;5;28;01mraise\u001b[39;00m InvalidIndexError(key)\n\u001b[0;32m-> 3812\u001b[0m     \u001b[38;5;28;01mraise\u001b[39;00m \u001b[38;5;167;01mKeyError\u001b[39;00m(key) \u001b[38;5;28;01mfrom\u001b[39;00m \u001b[38;5;21;01merr\u001b[39;00m\n\u001b[1;32m   3813\u001b[0m \u001b[38;5;28;01mexcept\u001b[39;00m \u001b[38;5;167;01mTypeError\u001b[39;00m:\n\u001b[1;32m   3814\u001b[0m     \u001b[38;5;66;03m# If we have a listlike key, _check_indexing_error will raise\u001b[39;00m\n\u001b[1;32m   3815\u001b[0m     \u001b[38;5;66;03m#  InvalidIndexError. Otherwise we fall through and re-raise\u001b[39;00m\n\u001b[1;32m   3816\u001b[0m     \u001b[38;5;66;03m#  the TypeError.\u001b[39;00m\n\u001b[1;32m   3817\u001b[0m     \u001b[38;5;28mself\u001b[39m\u001b[38;5;241m.\u001b[39m_check_indexing_error(key)\n",
      "\u001b[0;31mKeyError\u001b[0m: 'L'"
     ]
    }
   ],
   "source": [
    "pos['L'].at[i]  -= bpos['L'] "
   ]
  },
  {
   "cell_type": "code",
   "execution_count": 30,
   "metadata": {},
   "outputs": [
    {
     "data": {
      "text/html": [
       "<div>\n",
       "<style scoped>\n",
       "    .dataframe tbody tr th:only-of-type {\n",
       "        vertical-align: middle;\n",
       "    }\n",
       "\n",
       "    .dataframe tbody tr th {\n",
       "        vertical-align: top;\n",
       "    }\n",
       "\n",
       "    .dataframe thead th {\n",
       "        text-align: right;\n",
       "    }\n",
       "</style>\n",
       "<table border=\"1\" class=\"dataframe\">\n",
       "  <thead>\n",
       "    <tr style=\"text-align: right;\">\n",
       "      <th></th>\n",
       "      <th>L</th>\n",
       "      <th>tickLower</th>\n",
       "      <th>tickUpper</th>\n",
       "      <th>owner</th>\n",
       "      <th>start_token0_holdings</th>\n",
       "      <th>start_token1_holdings</th>\n",
       "      <th>last_token0_holdings</th>\n",
       "      <th>last_token1_holdings</th>\n",
       "      <th>token0_fees_accrued</th>\n",
       "      <th>token1_fees_accrued</th>\n",
       "      <th>token0_fees_collected</th>\n",
       "      <th>token1_fees_collected</th>\n",
       "      <th>start_logIndex</th>\n",
       "      <th>start_blockNumber</th>\n",
       "      <th>start_transactionIndex</th>\n",
       "      <th>start_transactionHash</th>\n",
       "      <th>last_logIndex</th>\n",
       "      <th>last_blockNumber</th>\n",
       "      <th>last_transactionIndex</th>\n",
       "      <th>last_transactionHash</th>\n",
       "    </tr>\n",
       "  </thead>\n",
       "  <tbody>\n",
       "    <tr>\n",
       "      <th>0</th>\n",
       "      <td>0.0</td>\n",
       "      <td>-92160.0</td>\n",
       "      <td>-92040.0</td>\n",
       "      <td>0xC36442b4a4522E871399CD717aBDD847Ab11FE88</td>\n",
       "      <td>2.956435e+22</td>\n",
       "      <td>1.120790e+18</td>\n",
       "      <td>2.956435e+22</td>\n",
       "      <td>1.120790e+18</td>\n",
       "      <td>0</td>\n",
       "      <td>0</td>\n",
       "      <td>0</td>\n",
       "      <td>0</td>\n",
       "      <td>191</td>\n",
       "      <td>12504752</td>\n",
       "      <td>115</td>\n",
       "      <td>0x58337bfa434b41a386d33647c0c7d495fdb3b26f4036...</td>\n",
       "      <td>144</td>\n",
       "      <td>12510449</td>\n",
       "      <td>172</td>\n",
       "      <td>0x31d070f1d8f7e4132cac47b09cf0b92a38b37c1096c7...</td>\n",
       "    </tr>\n",
       "  </tbody>\n",
       "</table>\n",
       "</div>"
      ],
      "text/plain": [
       "     L  tickLower  tickUpper                                       owner  \\\n",
       "0  0.0   -92160.0   -92040.0  0xC36442b4a4522E871399CD717aBDD847Ab11FE88   \n",
       "\n",
       "   start_token0_holdings  start_token1_holdings  last_token0_holdings  \\\n",
       "0           2.956435e+22           1.120790e+18          2.956435e+22   \n",
       "\n",
       "   last_token1_holdings  token0_fees_accrued  token1_fees_accrued  \\\n",
       "0          1.120790e+18                    0                    0   \n",
       "\n",
       "   token0_fees_collected  token1_fees_collected  start_logIndex  \\\n",
       "0                      0                      0             191   \n",
       "\n",
       "   start_blockNumber  start_transactionIndex  \\\n",
       "0           12504752                     115   \n",
       "\n",
       "                               start_transactionHash  last_logIndex  \\\n",
       "0  0x58337bfa434b41a386d33647c0c7d495fdb3b26f4036...            144   \n",
       "\n",
       "   last_blockNumber  last_transactionIndex  \\\n",
       "0          12510449                    172   \n",
       "\n",
       "                                last_transactionHash  \n",
       "0  0x31d070f1d8f7e4132cac47b09cf0b92a38b37c1096c7...  "
      ]
     },
     "execution_count": 30,
     "metadata": {},
     "output_type": "execute_result"
    }
   ],
   "source": [
    "pos"
   ]
  },
  {
   "cell_type": "code",
   "execution_count": null,
   "metadata": {},
   "outputs": [],
   "source": []
  },
  {
   "cell_type": "code",
   "execution_count": null,
   "metadata": {},
   "outputs": [],
   "source": []
  },
  {
   "cell_type": "code",
   "execution_count": null,
   "metadata": {},
   "outputs": [],
   "source": []
  },
  {
   "cell_type": "code",
   "execution_count": null,
   "metadata": {},
   "outputs": [],
   "source": []
  },
  {
   "cell_type": "code",
   "execution_count": 330,
   "metadata": {},
   "outputs": [],
   "source": [
    "#add q96 for precision?\n",
    "#in code it is 0 rounding up and 1 rounding down \n",
    "#tick has been fixed"
   ]
  },
  {
   "cell_type": "code",
   "execution_count": 444,
   "metadata": {},
   "outputs": [
    {
     "data": {
      "text/plain": [
       "event                                                            Burn\n",
       "logIndex                                                          144\n",
       "transactionIndex                                                  172\n",
       "transactionHash     0x31d070f1d8f7e4132cac47b09cf0b92a38b37c1096c7...\n",
       "address                    0x537DE9477a639AD1d23Bc2DcfEB8Cc3032bc114C\n",
       "blockHash           0x19ea521d6960d4139fad5c7eed49f059241ad0d1d896...\n",
       "blockNumber                                                  12510449\n",
       "args.owner                 0xC36442b4a4522E871399CD717aBDD847Ab11FE88\n",
       "args.tickLower                                               -92160.0\n",
       "args.tickUpper                                               -92040.0\n",
       "args.sender                                                       nan\n",
       "args.amount                                 68050700349576828682240.0\n",
       "args.amount0                                40804518185646702985216.0\n",
       "args.amount1                                        753731921441931.0\n",
       "args.recipient                                                    nan\n",
       "Name: 4, dtype: object"
      ]
     },
     "execution_count": 444,
     "metadata": {},
     "output_type": "execute_result"
    }
   ],
   "source": [
    "tdf.dropna()"
   ]
  },
  {
   "cell_type": "code",
   "execution_count": 450,
   "metadata": {},
   "outputs": [],
   "source": [
    "tickLower = tdf['args.tickLower']#, \n",
    "tickUpper = tdf['args.tickUpper']#, \n",
    "amount = tdf['args.amount']#,\n",
    "amount0 = tdf['args.amount0']#,\n",
    "amount1 = tdf['args.amount1']#,\n",
    "owner = tdf['args.owner']#,\n",
    "blockNumber = tdf['blockNumber']#, \n",
    "transactionIndex = tdf['transactionIndex']#, \n",
    "logIndex = tdf['logIndex']#, \n",
    "transactionHash = tdf['transactionHash']"
   ]
  },
  {
   "cell_type": "code",
   "execution_count": 475,
   "metadata": {},
   "outputs": [],
   "source": [
    "pos = clm.positions.reset_index(drop=True)"
   ]
  },
  {
   "cell_type": "code",
   "execution_count": 476,
   "metadata": {},
   "outputs": [],
   "source": [
    "#check if len >1, otherwise burn liquidity in pool\n",
    "mpos = pos.loc[(pos['tickLower'] == tickLower) & (pos['tickUpper'] == tickUpper)]"
   ]
  },
  {
   "cell_type": "code",
   "execution_count": 477,
   "metadata": {},
   "outputs": [],
   "source": [
    "if len(mpos) > 1:\n",
    "    print('need to match by owner')\n",
    "    #check the liquidity amounts, if more then 1 equals fifo\n",
    "    #if none equals then fifo for partial, this may be incorrect but best without sender being correct\n"
   ]
  },
  {
   "cell_type": "code",
   "execution_count": 489,
   "metadata": {},
   "outputs": [],
   "source": [
    "i = mpos.index[0]"
   ]
  },
  {
   "cell_type": "code",
   "execution_count": 490,
   "metadata": {},
   "outputs": [
    {
     "data": {
      "text/plain": [
       "0"
      ]
     },
     "execution_count": 490,
     "metadata": {},
     "output_type": "execute_result"
    }
   ],
   "source": [
    "i"
   ]
  },
  {
   "cell_type": "code",
   "execution_count": 493,
   "metadata": {},
   "outputs": [],
   "source": [
    "pos['L'].at[i]  -= mpos['L']"
   ]
  },
  {
   "cell_type": "code",
   "execution_count": 495,
   "metadata": {},
   "outputs": [
    {
     "data": {
      "text/html": [
       "<div>\n",
       "<style scoped>\n",
       "    .dataframe tbody tr th:only-of-type {\n",
       "        vertical-align: middle;\n",
       "    }\n",
       "\n",
       "    .dataframe tbody tr th {\n",
       "        vertical-align: top;\n",
       "    }\n",
       "\n",
       "    .dataframe thead th {\n",
       "        text-align: right;\n",
       "    }\n",
       "</style>\n",
       "<table border=\"1\" class=\"dataframe\">\n",
       "  <thead>\n",
       "    <tr style=\"text-align: right;\">\n",
       "      <th></th>\n",
       "      <th>L</th>\n",
       "      <th>tickLower</th>\n",
       "      <th>tickUpper</th>\n",
       "      <th>owner</th>\n",
       "      <th>start_token0_holdings</th>\n",
       "      <th>start_token1_holdings</th>\n",
       "      <th>last_token0_holdings</th>\n",
       "      <th>last_token1_holdings</th>\n",
       "      <th>token0_fees_accrued</th>\n",
       "      <th>token1_fees_accrued</th>\n",
       "      <th>token0_fees_collected</th>\n",
       "      <th>token1_fees_collected</th>\n",
       "      <th>start_logIndex</th>\n",
       "      <th>start_blockNumber</th>\n",
       "      <th>start_transactionIndex</th>\n",
       "      <th>start_transactionHash</th>\n",
       "      <th>last_logIndex</th>\n",
       "      <th>last_blockNumber</th>\n",
       "      <th>last_transactionIndex</th>\n",
       "      <th>last_transactionHash</th>\n",
       "    </tr>\n",
       "  </thead>\n",
       "  <tbody>\n",
       "    <tr>\n",
       "      <th>0</th>\n",
       "      <td>0.0</td>\n",
       "      <td>-92160.0</td>\n",
       "      <td>-92040.0</td>\n",
       "      <td>0xC36442b4a4522E871399CD717aBDD847Ab11FE88</td>\n",
       "      <td>2.956435e+22</td>\n",
       "      <td>1.120790e+18</td>\n",
       "      <td>2.956435e+22</td>\n",
       "      <td>1.120790e+18</td>\n",
       "      <td>0</td>\n",
       "      <td>0</td>\n",
       "      <td>0</td>\n",
       "      <td>0</td>\n",
       "      <td>191</td>\n",
       "      <td>12504752</td>\n",
       "      <td>115</td>\n",
       "      <td>0x58337bfa434b41a386d33647c0c7d495fdb3b26f4036...</td>\n",
       "      <td>191</td>\n",
       "      <td>12504752</td>\n",
       "      <td>115</td>\n",
       "      <td>0x58337bfa434b41a386d33647c0c7d495fdb3b26f4036...</td>\n",
       "    </tr>\n",
       "  </tbody>\n",
       "</table>\n",
       "</div>"
      ],
      "text/plain": [
       "     L  tickLower  tickUpper                                       owner  \\\n",
       "0  0.0   -92160.0   -92040.0  0xC36442b4a4522E871399CD717aBDD847Ab11FE88   \n",
       "\n",
       "   start_token0_holdings  start_token1_holdings  last_token0_holdings  \\\n",
       "0           2.956435e+22           1.120790e+18          2.956435e+22   \n",
       "\n",
       "   last_token1_holdings  token0_fees_accrued  token1_fees_accrued  \\\n",
       "0          1.120790e+18                    0                    0   \n",
       "\n",
       "   token0_fees_collected  token1_fees_collected  start_logIndex  \\\n",
       "0                      0                      0             191   \n",
       "\n",
       "   start_blockNumber  start_transactionIndex  \\\n",
       "0           12504752                     115   \n",
       "\n",
       "                               start_transactionHash  last_logIndex  \\\n",
       "0  0x58337bfa434b41a386d33647c0c7d495fdb3b26f4036...            191   \n",
       "\n",
       "   last_blockNumber  last_transactionIndex  \\\n",
       "0          12504752                    115   \n",
       "\n",
       "                                last_transactionHash  \n",
       "0  0x58337bfa434b41a386d33647c0c7d495fdb3b26f4036...  "
      ]
     },
     "execution_count": 495,
     "metadata": {},
     "output_type": "execute_result"
    }
   ],
   "source": [
    "pos"
   ]
  },
  {
   "cell_type": "code",
   "execution_count": 502,
   "metadata": {},
   "outputs": [],
   "source": [
    "def position_last_update_state(position, blockNumber, transactionIndex, logIndex, transactionHash):\n",
    "    #will update all positions without needing to drop duplicates\n",
    "    \n",
    "    position['last_blockNumber'] = blockNumber\n",
    "    position['last_transactionIndex'] = transactionIndex\n",
    "    position['last_logIndex'] = logIndex\n",
    "    position['last_transactionHash'] = transactionHash\n",
    "\n",
    "    return position"
   ]
  },
  {
   "cell_type": "code",
   "execution_count": 505,
   "metadata": {},
   "outputs": [],
   "source": [
    "pos = position_last_update_state(pos, blockNumber, transactionIndex, logIndex, transactionHash)"
   ]
  },
  {
   "cell_type": "code",
   "execution_count": 506,
   "metadata": {},
   "outputs": [
    {
     "data": {
      "text/html": [
       "<div>\n",
       "<style scoped>\n",
       "    .dataframe tbody tr th:only-of-type {\n",
       "        vertical-align: middle;\n",
       "    }\n",
       "\n",
       "    .dataframe tbody tr th {\n",
       "        vertical-align: top;\n",
       "    }\n",
       "\n",
       "    .dataframe thead th {\n",
       "        text-align: right;\n",
       "    }\n",
       "</style>\n",
       "<table border=\"1\" class=\"dataframe\">\n",
       "  <thead>\n",
       "    <tr style=\"text-align: right;\">\n",
       "      <th></th>\n",
       "      <th>L</th>\n",
       "      <th>tickLower</th>\n",
       "      <th>tickUpper</th>\n",
       "      <th>owner</th>\n",
       "      <th>start_token0_holdings</th>\n",
       "      <th>start_token1_holdings</th>\n",
       "      <th>last_token0_holdings</th>\n",
       "      <th>last_token1_holdings</th>\n",
       "      <th>token0_fees_accrued</th>\n",
       "      <th>token1_fees_accrued</th>\n",
       "      <th>token0_fees_collected</th>\n",
       "      <th>token1_fees_collected</th>\n",
       "      <th>start_logIndex</th>\n",
       "      <th>start_blockNumber</th>\n",
       "      <th>start_transactionIndex</th>\n",
       "      <th>start_transactionHash</th>\n",
       "      <th>last_logIndex</th>\n",
       "      <th>last_blockNumber</th>\n",
       "      <th>last_transactionIndex</th>\n",
       "      <th>last_transactionHash</th>\n",
       "    </tr>\n",
       "  </thead>\n",
       "  <tbody>\n",
       "    <tr>\n",
       "      <th>0</th>\n",
       "      <td>0.0</td>\n",
       "      <td>-92160.0</td>\n",
       "      <td>-92040.0</td>\n",
       "      <td>0xC36442b4a4522E871399CD717aBDD847Ab11FE88</td>\n",
       "      <td>2.956435e+22</td>\n",
       "      <td>1.120790e+18</td>\n",
       "      <td>2.956435e+22</td>\n",
       "      <td>1.120790e+18</td>\n",
       "      <td>0</td>\n",
       "      <td>0</td>\n",
       "      <td>0</td>\n",
       "      <td>0</td>\n",
       "      <td>191</td>\n",
       "      <td>12504752</td>\n",
       "      <td>115</td>\n",
       "      <td>0x58337bfa434b41a386d33647c0c7d495fdb3b26f4036...</td>\n",
       "      <td>144</td>\n",
       "      <td>12510449</td>\n",
       "      <td>172</td>\n",
       "      <td>0x31d070f1d8f7e4132cac47b09cf0b92a38b37c1096c7...</td>\n",
       "    </tr>\n",
       "  </tbody>\n",
       "</table>\n",
       "</div>"
      ],
      "text/plain": [
       "     L  tickLower  tickUpper                                       owner  \\\n",
       "0  0.0   -92160.0   -92040.0  0xC36442b4a4522E871399CD717aBDD847Ab11FE88   \n",
       "\n",
       "   start_token0_holdings  start_token1_holdings  last_token0_holdings  \\\n",
       "0           2.956435e+22           1.120790e+18          2.956435e+22   \n",
       "\n",
       "   last_token1_holdings  token0_fees_accrued  token1_fees_accrued  \\\n",
       "0          1.120790e+18                    0                    0   \n",
       "\n",
       "   token0_fees_collected  token1_fees_collected  start_logIndex  \\\n",
       "0                      0                      0             191   \n",
       "\n",
       "   start_blockNumber  start_transactionIndex  \\\n",
       "0           12504752                     115   \n",
       "\n",
       "                               start_transactionHash  last_logIndex  \\\n",
       "0  0x58337bfa434b41a386d33647c0c7d495fdb3b26f4036...            144   \n",
       "\n",
       "   last_blockNumber  last_transactionIndex  \\\n",
       "0          12510449                    172   \n",
       "\n",
       "                                last_transactionHash  \n",
       "0  0x31d070f1d8f7e4132cac47b09cf0b92a38b37c1096c7...  "
      ]
     },
     "execution_count": 506,
     "metadata": {},
     "output_type": "execute_result"
    }
   ],
   "source": [
    "#active pos = pos"
   ]
  },
  {
   "cell_type": "code",
   "execution_count": 507,
   "metadata": {},
   "outputs": [],
   "source": [
    "burn_df = pd.DataFrame([['Burn', logIndex, blockNumber, transactionIndex, transactionHash, owner, amount, tickLower, tickUpper, amount0, amount1]], \n",
    "                       columns=['event', 'logIndex', 'blockNumber', 'transactionIndex', 'transactionHash', 'sender', 'amount', 'tickLower', 'tickUpper', 'amount0', 'amount1'])\n",
    "        "
   ]
  },
  {
   "cell_type": "code",
   "execution_count": 508,
   "metadata": {},
   "outputs": [
    {
     "data": {
      "text/html": [
       "<div>\n",
       "<style scoped>\n",
       "    .dataframe tbody tr th:only-of-type {\n",
       "        vertical-align: middle;\n",
       "    }\n",
       "\n",
       "    .dataframe tbody tr th {\n",
       "        vertical-align: top;\n",
       "    }\n",
       "\n",
       "    .dataframe thead th {\n",
       "        text-align: right;\n",
       "    }\n",
       "</style>\n",
       "<table border=\"1\" class=\"dataframe\">\n",
       "  <thead>\n",
       "    <tr style=\"text-align: right;\">\n",
       "      <th></th>\n",
       "      <th>event</th>\n",
       "      <th>logIndex</th>\n",
       "      <th>blockNumber</th>\n",
       "      <th>transactionIndex</th>\n",
       "      <th>transactionHash</th>\n",
       "      <th>sender</th>\n",
       "      <th>amount</th>\n",
       "      <th>tickLower</th>\n",
       "      <th>tickUpper</th>\n",
       "      <th>amount0</th>\n",
       "      <th>amount1</th>\n",
       "    </tr>\n",
       "  </thead>\n",
       "  <tbody>\n",
       "    <tr>\n",
       "      <th>0</th>\n",
       "      <td>Burn</td>\n",
       "      <td>144</td>\n",
       "      <td>12510449</td>\n",
       "      <td>172</td>\n",
       "      <td>0x31d070f1d8f7e4132cac47b09cf0b92a38b37c1096c7...</td>\n",
       "      <td>0xC36442b4a4522E871399CD717aBDD847Ab11FE88</td>\n",
       "      <td>6.805070e+22</td>\n",
       "      <td>-92160.0</td>\n",
       "      <td>-92040.0</td>\n",
       "      <td>4.080452e+22</td>\n",
       "      <td>7.537319e+14</td>\n",
       "    </tr>\n",
       "  </tbody>\n",
       "</table>\n",
       "</div>"
      ],
      "text/plain": [
       "  event  logIndex  blockNumber  transactionIndex  \\\n",
       "0  Burn       144     12510449               172   \n",
       "\n",
       "                                     transactionHash  \\\n",
       "0  0x31d070f1d8f7e4132cac47b09cf0b92a38b37c1096c7...   \n",
       "\n",
       "                                       sender        amount  tickLower  \\\n",
       "0  0xC36442b4a4522E871399CD717aBDD847Ab11FE88  6.805070e+22   -92160.0   \n",
       "\n",
       "   tickUpper       amount0       amount1  \n",
       "0   -92040.0  4.080452e+22  7.537319e+14  "
      ]
     },
     "execution_count": 508,
     "metadata": {},
     "output_type": "execute_result"
    }
   ],
   "source": [
    "burn_df"
   ]
  },
  {
   "cell_type": "code",
   "execution_count": 511,
   "metadata": {},
   "outputs": [
    {
     "data": {
      "text/html": [
       "<div>\n",
       "<style scoped>\n",
       "    .dataframe tbody tr th:only-of-type {\n",
       "        vertical-align: middle;\n",
       "    }\n",
       "\n",
       "    .dataframe tbody tr th {\n",
       "        vertical-align: top;\n",
       "    }\n",
       "\n",
       "    .dataframe thead th {\n",
       "        text-align: right;\n",
       "    }\n",
       "</style>\n",
       "<table border=\"1\" class=\"dataframe\">\n",
       "  <thead>\n",
       "    <tr style=\"text-align: right;\">\n",
       "      <th></th>\n",
       "      <th>L</th>\n",
       "      <th>tickLower</th>\n",
       "      <th>tickUpper</th>\n",
       "      <th>owner</th>\n",
       "      <th>start_token0_holdings</th>\n",
       "      <th>start_token1_holdings</th>\n",
       "      <th>last_token0_holdings</th>\n",
       "      <th>last_token1_holdings</th>\n",
       "      <th>token0_fees_accrued</th>\n",
       "      <th>token1_fees_accrued</th>\n",
       "      <th>token0_fees_collected</th>\n",
       "      <th>token1_fees_collected</th>\n",
       "      <th>start_logIndex</th>\n",
       "      <th>start_blockNumber</th>\n",
       "      <th>start_transactionIndex</th>\n",
       "      <th>start_transactionHash</th>\n",
       "      <th>last_logIndex</th>\n",
       "      <th>last_blockNumber</th>\n",
       "      <th>last_transactionIndex</th>\n",
       "      <th>last_transactionHash</th>\n",
       "    </tr>\n",
       "  </thead>\n",
       "  <tbody>\n",
       "    <tr>\n",
       "      <th>0</th>\n",
       "      <td>6.805070e+22</td>\n",
       "      <td>-92160.0</td>\n",
       "      <td>-92040.0</td>\n",
       "      <td>0xC36442b4a4522E871399CD717aBDD847Ab11FE88</td>\n",
       "      <td>2.956435e+22</td>\n",
       "      <td>1.120790e+18</td>\n",
       "      <td>2.956435e+22</td>\n",
       "      <td>1.120790e+18</td>\n",
       "      <td>0</td>\n",
       "      <td>0</td>\n",
       "      <td>0</td>\n",
       "      <td>0</td>\n",
       "      <td>191</td>\n",
       "      <td>12504752</td>\n",
       "      <td>115</td>\n",
       "      <td>0x58337bfa434b41a386d33647c0c7d495fdb3b26f4036...</td>\n",
       "      <td>144</td>\n",
       "      <td>12510449</td>\n",
       "      <td>172</td>\n",
       "      <td>0x31d070f1d8f7e4132cac47b09cf0b92a38b37c1096c7...</td>\n",
       "    </tr>\n",
       "  </tbody>\n",
       "</table>\n",
       "</div>"
      ],
      "text/plain": [
       "              L  tickLower  tickUpper  \\\n",
       "0  6.805070e+22   -92160.0   -92040.0   \n",
       "\n",
       "                                        owner  start_token0_holdings  \\\n",
       "0  0xC36442b4a4522E871399CD717aBDD847Ab11FE88           2.956435e+22   \n",
       "\n",
       "   start_token1_holdings  last_token0_holdings  last_token1_holdings  \\\n",
       "0           1.120790e+18          2.956435e+22          1.120790e+18   \n",
       "\n",
       "   token0_fees_accrued  token1_fees_accrued  token0_fees_collected  \\\n",
       "0                    0                    0                      0   \n",
       "\n",
       "   token1_fees_collected  start_logIndex  start_blockNumber  \\\n",
       "0                      0             191           12504752   \n",
       "\n",
       "   start_transactionIndex                              start_transactionHash  \\\n",
       "0                     115  0x58337bfa434b41a386d33647c0c7d495fdb3b26f4036...   \n",
       "\n",
       "   last_logIndex  last_blockNumber  last_transactionIndex  \\\n",
       "0            144          12510449                    172   \n",
       "\n",
       "                                last_transactionHash  \n",
       "0  0x31d070f1d8f7e4132cac47b09cf0b92a38b37c1096c7...  "
      ]
     },
     "execution_count": 511,
     "metadata": {},
     "output_type": "execute_result"
    }
   ],
   "source": [
    "mpos.loc[mpos['L'] == amount]"
   ]
  },
  {
   "cell_type": "code",
   "execution_count": null,
   "metadata": {},
   "outputs": [],
   "source": []
  },
  {
   "cell_type": "code",
   "execution_count": 331,
   "metadata": {},
   "outputs": [],
   "source": [
    "def getNextSqrtPriceX96FromAmount0RoundingUp(sqrtPriceX96, L, amonutIn): \n",
    "    return int((L * Q96 * sqrtPriceX96) // (L* Q96 + amonutIn * sqrtPriceX96))"
   ]
  },
  {
   "cell_type": "code",
   "execution_count": 332,
   "metadata": {},
   "outputs": [],
   "source": [
    "def getNextSqrtPriceX96FromAmount1RoundingDown(sqrtPriceX96, L, amonutIn): \n",
    "    return sqrtPriceX96 + (amonutIn * Q96 // L)"
   ]
  },
  {
   "cell_type": "code",
   "execution_count": 333,
   "metadata": {},
   "outputs": [],
   "source": [
    "def getNextSqrtPriceFromInput(sqrtPrice, L, amonutIn, zeroForOne):\n",
    "    if zeroForOne:\n",
    "        sqrtPriceNext = getNextSqrtPriceX96FromAmount0RoundingUp(sqrtPrice, L, amonutIn)\n",
    "    else:\n",
    "        sqrtPriceNext = getNextSqrtPriceX96FromAmount1RoundingDown(sqrtPrice, L, amonutIn)\n",
    "    return sqrtPriceNext"
   ]
  },
  {
   "cell_type": "code",
   "execution_count": 334,
   "metadata": {},
   "outputs": [],
   "source": [
    "#if 0 for 1 then "
   ]
  },
  {
   "cell_type": "code",
   "execution_count": 335,
   "metadata": {},
   "outputs": [],
   "source": [
    "#Get L\n",
    "def calc_liquidity_from_amount0(amount, sqrtPrice_lower, sqrtPrice_upper):\n",
    "    if sqrtPrice_lower > sqrtPrice_upper:\n",
    "        sqrtPrice_lower, sqrtPrice_upper = sqrtPrice_upper, sqrtPrice_lower\n",
    "    return (amount * (sqrtPrice_lower * sqrtPrice_upper)/Q96) / (sqrtPrice_upper - sqrtPrice_lower)\n",
    "\n",
    "def calc_liquidity_from_amount1(amount, sqrtPrice_lower, sqrtPrice_upper):\n",
    "    if sqrtPrice_upper > sqrtPrice_lower:\n",
    "        sqrtPrice_upper, sqrtPrice_lower = sqrtPrice_lower, sqrtPrice_upper\n",
    "    return amount * Q96 / (sqrtPrice_lower - sqrtPrice_upper)\n",
    "\n",
    "def calc_liquidity_from_amounts(amount0, amount1, sqrtPriceX96, tickLower, tickUpper):\n",
    "    sqrtPrice_lower = clm.tick_to_sqrtPrice(tickLower) * Q96\n",
    "    sqrtPrice_upper = clm.tick_to_sqrtPrice(tickUpper) * Q96\n",
    "\n",
    "    liquidity0 = calc_liquidity_from_amount0(amount0, sqrtPriceX96, sqrtPrice_upper)\n",
    "    liquidity1 = calc_liquidity_from_amount1(amount1, sqrtPriceX96, sqrtPrice_lower)\n",
    "\n",
    "    #L = min(liquidity0, liquidity1)\n",
    "\n",
    "    return int(liquidity0), int(liquidity1)\n"
   ]
  },
  {
   "cell_type": "code",
   "execution_count": 336,
   "metadata": {},
   "outputs": [],
   "source": [
    "#with fees track the amount of fee per L in pool to scale easily "
   ]
  },
  {
   "cell_type": "code",
   "execution_count": 337,
   "metadata": {},
   "outputs": [],
   "source": [
    "def sqrtPrice_to_tick(sqrtPrice):\n",
    "    return math.floor(round(math.log(sqrtPrice, math.sqrt(1.0001)), 6)) #control for precision issues and tick int size with the rounding"
   ]
  },
  {
   "cell_type": "code",
   "execution_count": 338,
   "metadata": {},
   "outputs": [],
   "source": [
    "def tick_to_sqrtPrice(tick):\n",
    "    return  (1.0001 ** (tick / 2))"
   ]
  },
  {
   "cell_type": "code",
   "execution_count": null,
   "metadata": {},
   "outputs": [],
   "source": []
  },
  {
   "cell_type": "code",
   "execution_count": null,
   "metadata": {},
   "outputs": [],
   "source": []
  },
  {
   "cell_type": "code",
   "execution_count": null,
   "metadata": {},
   "outputs": [],
   "source": []
  },
  {
   "cell_type": "code",
   "execution_count": 339,
   "metadata": {},
   "outputs": [
    {
     "data": {
      "text/plain": [
       "(7.915297013757073e+26, -92127, 0.003, 60)"
      ]
     },
     "execution_count": 339,
     "metadata": {},
     "output_type": "execute_result"
    }
   ],
   "source": [
    "#init\n",
    "TICK_SPACING = 60\n",
    "FEE = 3000*10**-6\n",
    "\n",
    "sqrtPriceX96 = df['args.sqrtPriceX96'].iloc[0]\n",
    "tick = int(df['args.tick'].iloc[0])\n",
    "\n",
    "sqrtPriceX96, tick, FEE, TICK_SPACING"
   ]
  },
  {
   "cell_type": "code",
   "execution_count": null,
   "metadata": {},
   "outputs": [],
   "source": []
  },
  {
   "cell_type": "code",
   "execution_count": 340,
   "metadata": {},
   "outputs": [
    {
     "data": {
      "text/plain": [
       "(-92127, -92127)"
      ]
     },
     "execution_count": 340,
     "metadata": {},
     "output_type": "execute_result"
    }
   ],
   "source": [
    "sqrtPrice_to_tick(sqrtPriceX96/Q96), tick"
   ]
  },
  {
   "cell_type": "code",
   "execution_count": 341,
   "metadata": {},
   "outputs": [
    {
     "data": {
      "text/plain": [
       "True"
      ]
     },
     "execution_count": 341,
     "metadata": {},
     "output_type": "execute_result"
    }
   ],
   "source": [
    "sqrtPrice_to_tick(sqrtPriceX96/Q96) == tick #check if tick is correct"
   ]
  },
  {
   "cell_type": "code",
   "execution_count": 342,
   "metadata": {},
   "outputs": [
    {
     "data": {
      "text/plain": [
       "(6.805070034957683e+22,\n",
       " -92160.0,\n",
       " -92040.0,\n",
       " 2.9564348235497557e+22,\n",
       " 1.120789970578036e+18)"
      ]
     },
     "execution_count": 342,
     "metadata": {},
     "output_type": "execute_result"
    }
   ],
   "source": [
    "#mint\n",
    "L = df['args.amount'].iloc[1]\n",
    "amount0_mint = df['args.amount0'].iloc[1]\n",
    "amount1_mint = df['args.amount1'].iloc[1]\n",
    "tickUpper = df['args.tickUpper'].iloc[1]\n",
    "tickLower = df['args.tickLower'].iloc[1]\n",
    "\n",
    "L, tickLower, tickUpper, amount0_mint, amount1_mint"
   ]
  },
  {
   "cell_type": "code",
   "execution_count": 344,
   "metadata": {},
   "outputs": [],
   "source": [
    "#check if the L is correct\n",
    "sqrtPrice_lower = tick_to_sqrtPrice(tickLower)\n",
    "sqrtPrice_upper = tick_to_sqrtPrice(tickUpper)\n"
   ]
  },
  {
   "cell_type": "code",
   "execution_count": 345,
   "metadata": {},
   "outputs": [
    {
     "data": {
      "text/plain": [
       "(0.009974039462207726, 0.010034060581277992, 0.009974039462207726)"
      ]
     },
     "execution_count": 345,
     "metadata": {},
     "output_type": "execute_result"
    }
   ],
   "source": [
    "sqrtPrice_lower, sqrtPrice_upper"
   ]
  },
  {
   "cell_type": "code",
   "execution_count": 346,
   "metadata": {},
   "outputs": [
    {
     "data": {
      "text/plain": [
       "(-92160, -92040)"
      ]
     },
     "execution_count": 346,
     "metadata": {},
     "output_type": "execute_result"
    }
   ],
   "source": [
    "sqrtPrice_to_tick(sqrtPrice_lower), sqrtPrice_to_tick(sqrtPrice_upper)"
   ]
  },
  {
   "cell_type": "code",
   "execution_count": 347,
   "metadata": {},
   "outputs": [
    {
     "data": {
      "text/plain": [
       "68050700349576828682240"
      ]
     },
     "execution_count": 347,
     "metadata": {},
     "output_type": "execute_result"
    }
   ],
   "source": [
    "int(L)"
   ]
  },
  {
   "cell_type": "code",
   "execution_count": 348,
   "metadata": {},
   "outputs": [],
   "source": [
    "L0, L1 = calc_liquidity_from_amounts(amount0_mint, amount1_mint, sqrtPriceX96, tickLower, tickUpper)"
   ]
  },
  {
   "cell_type": "code",
   "execution_count": 349,
   "metadata": {},
   "outputs": [
    {
     "data": {
      "text/plain": [
       "(68050700341664718782464, 68050700370488672124928)"
      ]
     },
     "execution_count": 349,
     "metadata": {},
     "output_type": "execute_result"
    }
   ],
   "source": [
    "L0, L1"
   ]
  },
  {
   "cell_type": "code",
   "execution_count": 350,
   "metadata": {},
   "outputs": [
    {
     "data": {
      "text/plain": [
       "68050700341664718782464"
      ]
     },
     "execution_count": 350,
     "metadata": {},
     "output_type": "execute_result"
    }
   ],
   "source": [
    "min(L0, L1)"
   ]
  },
  {
   "cell_type": "code",
   "execution_count": 351,
   "metadata": {},
   "outputs": [
    {
     "data": {
      "text/plain": [
       "7912109899776"
      ]
     },
     "execution_count": 351,
     "metadata": {},
     "output_type": "execute_result"
    }
   ],
   "source": [
    "int(L) - L0 "
   ]
  },
  {
   "cell_type": "code",
   "execution_count": 352,
   "metadata": {},
   "outputs": [
    {
     "data": {
      "text/plain": [
       "-20911843442688"
      ]
     },
     "execution_count": 352,
     "metadata": {},
     "output_type": "execute_result"
    }
   ],
   "source": [
    "int(L) - L1"
   ]
  },
  {
   "cell_type": "code",
   "execution_count": 239,
   "metadata": {},
   "outputs": [
    {
     "data": {
      "text/plain": [
       "6.805070034957683e+22"
      ]
     },
     "execution_count": 239,
     "metadata": {},
     "output_type": "execute_result"
    }
   ],
   "source": [
    "L"
   ]
  },
  {
   "cell_type": "code",
   "execution_count": 240,
   "metadata": {},
   "outputs": [],
   "source": [
    "#try calc next price from amounts"
   ]
  },
  {
   "cell_type": "code",
   "execution_count": 137,
   "metadata": {},
   "outputs": [
    {
     "data": {
      "text/plain": [
       "(2.4999999999999993e+20,\n",
       " 2721739239788589.0,\n",
       " 0.3161803726108171,\n",
       " 0.3162119906480381,\n",
       " 3.8726239653714614)"
      ]
     },
     "execution_count": 137,
     "metadata": {},
     "output_type": "execute_result"
    }
   ],
   "source": [
    "amount0_mint, amount1_mint, sqrtPrice_lower, sqrtPriceX96/Q96, sqrtPrice_upper"
   ]
  },
  {
   "cell_type": "code",
   "execution_count": 143,
   "metadata": {},
   "outputs": [
    {
     "data": {
      "text/plain": [
       "86081853239756816384"
      ]
     },
     "execution_count": 143,
     "metadata": {},
     "output_type": "execute_result"
    }
   ],
   "source": [
    "int(amount1_mint/((sqrtPriceX96/Q96) - sqrtPrice_lower))"
   ]
  },
  {
   "cell_type": "code",
   "execution_count": 232,
   "metadata": {},
   "outputs": [
    {
     "data": {
      "text/plain": [
       "20911843442688"
      ]
     },
     "execution_count": 232,
     "metadata": {},
     "output_type": "execute_result"
    }
   ],
   "source": [
    "int(amount1_mint/((sqrtPriceX96/Q96) - sqrtPrice_lower)) - int(L) #higher then current"
   ]
  },
  {
   "cell_type": "code",
   "execution_count": 233,
   "metadata": {},
   "outputs": [
    {
     "data": {
      "text/plain": [
       "68050700341664492290048"
      ]
     },
     "execution_count": 233,
     "metadata": {},
     "output_type": "execute_result"
    }
   ],
   "source": [
    "int(amount0_mint/((1/(sqrtPriceX96/Q96)) - (1/(sqrtPrice_upper))))"
   ]
  },
  {
   "cell_type": "code",
   "execution_count": null,
   "metadata": {},
   "outputs": [],
   "source": []
  },
  {
   "cell_type": "code",
   "execution_count": 231,
   "metadata": {},
   "outputs": [
    {
     "data": {
      "text/plain": [
       "-7912336392192"
      ]
     },
     "execution_count": 231,
     "metadata": {},
     "output_type": "execute_result"
    }
   ],
   "source": [
    "int(amount0_mint/((1/(sqrtPriceX96/Q96)) - (1/sqrtPrice_upper))) - int(L)"
   ]
  },
  {
   "cell_type": "code",
   "execution_count": 152,
   "metadata": {},
   "outputs": [
    {
     "data": {
      "text/plain": [
       "13059627426680280554233921536"
      ]
     },
     "execution_count": 152,
     "metadata": {},
     "output_type": "execute_result"
    }
   ],
   "source": [
    "getNextSqrtPriceX96FromAmount0RoundingUp(sqrtPriceX96,L,amount0_mint)"
   ]
  },
  {
   "cell_type": "code",
   "execution_count": 26,
   "metadata": {},
   "outputs": [],
   "source": [
    "\n"
   ]
  },
  {
   "cell_type": "code",
   "execution_count": 410,
   "metadata": {},
   "outputs": [
    {
     "data": {
      "text/plain": [
       "(921461136512239061404279472390144, 7894069736660084088373248)"
      ]
     },
     "execution_count": 410,
     "metadata": {},
     "output_type": "execute_result"
    }
   ],
   "source": [
    "cam0, cam1 = calc_amounts(sqrtPriceX96, sqrtPrice_lower*Q96, sqrtPrice_upper*Q96, L)\n",
    "cam0, cam1 "
   ]
  },
  {
   "cell_type": "code",
   "execution_count": 411,
   "metadata": {},
   "outputs": [
    {
     "data": {
      "text/plain": [
       "(2.9564348235497557e+22, 1.120789970578036e+18)"
      ]
     },
     "execution_count": 411,
     "metadata": {},
     "output_type": "execute_result"
    }
   ],
   "source": [
    "amount0_mint, amount1_mint"
   ]
  },
  {
   "cell_type": "code",
   "execution_count": 412,
   "metadata": {},
   "outputs": [
    {
     "data": {
      "text/plain": [
       "-9.214611364826747e+32"
      ]
     },
     "execution_count": 412,
     "metadata": {},
     "output_type": "execute_result"
    }
   ],
   "source": [
    "amount0_mint - cam0"
   ]
  },
  {
   "cell_type": "code",
   "execution_count": 413,
   "metadata": {},
   "outputs": [
    {
     "data": {
      "text/plain": [
       "-7.894068615870114e+24"
      ]
     },
     "execution_count": 413,
     "metadata": {},
     "output_type": "execute_result"
    }
   ],
   "source": [
    "amount1_mint - cam1"
   ]
  },
  {
   "cell_type": "code",
   "execution_count": null,
   "metadata": {},
   "outputs": [],
   "source": []
  },
  {
   "cell_type": "code",
   "execution_count": null,
   "metadata": {},
   "outputs": [],
   "source": []
  },
  {
   "cell_type": "code",
   "execution_count": 371,
   "metadata": {},
   "outputs": [
    {
     "data": {
      "text/plain": [
       "0.00999050938778999"
      ]
     },
     "execution_count": 371,
     "metadata": {},
     "output_type": "execute_result"
    }
   ],
   "source": [
    "tick_to_sqrtPrice(sqrtPrice_to_tick(sqrtPriceX96/Q96))"
   ]
  },
  {
   "cell_type": "code",
   "execution_count": 382,
   "metadata": {},
   "outputs": [],
   "source": [
    "ac0, ac1 = get_amounts_for_liquidity(tick_to_sqrtPrice(sqrtPrice_to_tick(sqrtPriceX96/Q96)), sqrtPrice_lower, sqrtPrice_upper, L)"
   ]
  },
  {
   "cell_type": "code",
   "execution_count": 383,
   "metadata": {},
   "outputs": [
    {
     "data": {
      "text/plain": [
       "16848519168.0"
      ]
     },
     "execution_count": 383,
     "metadata": {},
     "output_type": "execute_result"
    }
   ],
   "source": [
    "amount0_mint - ac0"
   ]
  },
  {
   "cell_type": "code",
   "execution_count": 384,
   "metadata": {},
   "outputs": [
    {
     "data": {
      "text/plain": [
       "-405120.0"
      ]
     },
     "execution_count": 384,
     "metadata": {},
     "output_type": "execute_result"
    }
   ],
   "source": [
    "amount1_mint - ac1"
   ]
  },
  {
   "cell_type": "code",
   "execution_count": null,
   "metadata": {},
   "outputs": [],
   "source": []
  },
  {
   "cell_type": "markdown",
   "metadata": {},
   "source": []
  },
  {
   "cell_type": "code",
   "execution_count": 372,
   "metadata": {},
   "outputs": [],
   "source": [
    "#L amounts being calculated do not line up with what is being supplied here"
   ]
  },
  {
   "cell_type": "code",
   "execution_count": 210,
   "metadata": {},
   "outputs": [
    {
     "data": {
      "text/plain": [
       "(-4.907891792174419e+18,\n",
       " 5e+17,\n",
       " -22665,\n",
       " 8.608185313068412e+19,\n",
       " 2.551285573970388e+28)"
      ]
     },
     "execution_count": 210,
     "metadata": {},
     "output_type": "execute_result"
    }
   ],
   "source": [
    "#swap\n",
    "amount0 = df['args.amount0'].iloc[2]\n",
    "amount1 = df['args.amount1'].iloc[2]\n",
    "tick_Supplied = int(df['args.tick'].iloc[2])\n",
    "liquidity = df['args.liquidity'].iloc[2]\n",
    "sqrtPriceX96_Supplied = df['args.sqrtPriceX96'].iloc[2]\n",
    "\n",
    "amount0, amount1, tick_Supplied, liquidity, sqrtPriceX96_Supplied"
   ]
  },
  {
   "cell_type": "code",
   "execution_count": 179,
   "metadata": {},
   "outputs": [
    {
     "data": {
      "text/plain": [
       "True"
      ]
     },
     "execution_count": 179,
     "metadata": {},
     "output_type": "execute_result"
    }
   ],
   "source": [
    "sqrtPrice_to_tick(sqrtPriceX96_Supplied/Q96) == tick_Supplied"
   ]
  },
  {
   "cell_type": "code",
   "execution_count": 420,
   "metadata": {},
   "outputs": [],
   "source": [
    "def calc_amount0(L, sqrtPriceX96_A, sqrtPriceX96_B):\n",
    "    #sqrtPriceX96\n",
    "    if sqrtPriceX96_A > sqrtPriceX96_B:\n",
    "        sqrtPriceX96_A, sqrtPriceX96_B = sqrtPriceX96_B, sqrtPriceX96_A\n",
    "    return int(((L * Q96 * (sqrtPriceX96_B - sqrtPriceX96_A)) / sqrtPriceX96_B) / sqrtPriceX96_A)\n",
    "\n",
    "\n",
    "def calc_amount1(L, sqrtPriceX96_A, sqrtPriceX96_B):\n",
    "    #sqrtPriceX96\n",
    "    if sqrtPriceX96_A > sqrtPriceX96_B:\n",
    "        sqrtPriceX96_A, sqrtPriceX96_B = sqrtPriceX96_B, sqrtPriceX96_A\n",
    "    return int(L * (sqrtPriceX96_B - sqrtPriceX96_A) / Q96)"
   ]
  },
  {
   "cell_type": "code",
   "execution_count": 421,
   "metadata": {},
   "outputs": [],
   "source": [
    "def calc_amounts(sqrtRatioX96, sqrtRatioAX96, sqrtRatioBX96, liquidity):\n",
    "    amount0 = 0\n",
    "    amount1 = 0\n",
    "\n",
    "    if sqrtRatioAX96 > sqrtRatioBX96:\n",
    "        sqrtRatioAX96, sqrtRatioBX96 = sqrtRatioBX96, sqrtRatioAX96\n",
    "    \n",
    "    if sqrtRatioX96 <= sqrtRatioAX96:\n",
    "        amount0 = calc_amount0(sqrtRatioAX96, sqrtRatioBX96, liquidity)\n",
    "    \n",
    "    elif sqrtRatioX96 < sqrtRatioBX96:\n",
    "        amount0 = calc_amount0(sqrtRatioX96, sqrtRatioBX96, liquidity)\n",
    "        amount1 = calc_amount1(sqrtRatioAX96, sqrtRatioX96, liquidity)\n",
    "    \n",
    "    else:\n",
    "        amount1 = calc_amount1(sqrtRatioAX96, sqrtRatioBX96, liquidity)\n",
    "\n",
    "    return amount0, amount1\n"
   ]
  },
  {
   "cell_type": "code",
   "execution_count": 424,
   "metadata": {},
   "outputs": [
    {
     "data": {
      "text/plain": [
       "(921461136512239061404279472390144, 7894069736660084088373248)"
      ]
     },
     "execution_count": 424,
     "metadata": {},
     "output_type": "execute_result"
    }
   ],
   "source": [
    "calc_amounts(sqrtPriceX96, sqrtPrice_upper*Q96, sqrtPrice_lower*Q96, L)"
   ]
  },
  {
   "cell_type": "code",
   "execution_count": null,
   "metadata": {},
   "outputs": [],
   "source": []
  },
  {
   "cell_type": "code",
   "execution_count": null,
   "metadata": {},
   "outputs": [],
   "source": [
    "#check which way it needs to go and calc to target\n",
    "def compute_swap_step(sqrtPriceCurrentX96, sqrtPriceTargetX96, L, amountRemaining):\n",
    "    zeroForOne = True if sqrtPriceCurrentX96 >= sqrtPriceTargetX96 else False\n",
    "    sqrtPriceNextX96 = getNextSqrtPriceFromInput(sqrtPriceCurrentX96, L, amountRemaining, zeroForOne)\n",
    "\n",
    "    amountIn = calc_amount0(L, sqrtPriceCurrentX96, sqrtPriceTargetX96)\n",
    "    amountOut = calc_amount1(L, sqrtPriceCurrentX96, sqrtPriceTargetX96)\n",
    "\n",
    "    if not zeroForOne:\n",
    "        amountIn, amountOut = amountOut, amountIn\n",
    "\n",
    "    return sqrtPriceNextX96, amountIn, amountOut"
   ]
  },
  {
   "cell_type": "code",
   "execution_count": null,
   "metadata": {},
   "outputs": [],
   "source": []
  },
  {
   "cell_type": "code",
   "execution_count": null,
   "metadata": {},
   "outputs": [],
   "source": []
  },
  {
   "cell_type": "code",
   "execution_count": 177,
   "metadata": {},
   "outputs": [
    {
     "data": {
      "text/html": [
       "<div>\n",
       "<style scoped>\n",
       "    .dataframe tbody tr th:only-of-type {\n",
       "        vertical-align: middle;\n",
       "    }\n",
       "\n",
       "    .dataframe tbody tr th {\n",
       "        vertical-align: top;\n",
       "    }\n",
       "\n",
       "    .dataframe thead th {\n",
       "        text-align: right;\n",
       "    }\n",
       "</style>\n",
       "<table border=\"1\" class=\"dataframe\">\n",
       "  <thead>\n",
       "    <tr style=\"text-align: right;\">\n",
       "      <th></th>\n",
       "      <th>L</th>\n",
       "      <th>tickLower</th>\n",
       "      <th>tickUpper</th>\n",
       "      <th>owner</th>\n",
       "      <th>start_token0_holdings</th>\n",
       "      <th>start_token1_holdings</th>\n",
       "      <th>last_token0_holdings</th>\n",
       "      <th>last_token1_holdings</th>\n",
       "      <th>token0_fees_accrued</th>\n",
       "      <th>token1_fees_accrued</th>\n",
       "      <th>token0_fees_collected</th>\n",
       "      <th>token1_fees_collected</th>\n",
       "      <th>start_logIndex</th>\n",
       "      <th>start_blockNumber</th>\n",
       "      <th>start_transactionIndex</th>\n",
       "      <th>start_transactionHash</th>\n",
       "      <th>last_logIndex</th>\n",
       "      <th>last_blockNumber</th>\n",
       "      <th>last_transactionIndex</th>\n",
       "      <th>last_transactionHash</th>\n",
       "    </tr>\n",
       "  </thead>\n",
       "  <tbody>\n",
       "    <tr>\n",
       "      <th>0</th>\n",
       "      <td>8.608185e+19</td>\n",
       "      <td>-23030.0</td>\n",
       "      <td>27080.0</td>\n",
       "      <td>0xC36442b4a4522E871399CD717aBDD847Ab11FE88</td>\n",
       "      <td>2.500000e+20</td>\n",
       "      <td>2.721739e+15</td>\n",
       "      <td>2.500000e+20</td>\n",
       "      <td>2.721739e+15</td>\n",
       "      <td>0</td>\n",
       "      <td>0</td>\n",
       "      <td>0</td>\n",
       "      <td>0</td>\n",
       "      <td>41</td>\n",
       "      <td>12518239</td>\n",
       "      <td>53</td>\n",
       "      <td>0xa4a62f4e9c90a5e98ad0bae083f7caeb9eddf2019441...</td>\n",
       "      <td>41</td>\n",
       "      <td>12518239</td>\n",
       "      <td>53</td>\n",
       "      <td>0xa4a62f4e9c90a5e98ad0bae083f7caeb9eddf2019441...</td>\n",
       "    </tr>\n",
       "  </tbody>\n",
       "</table>\n",
       "</div>"
      ],
      "text/plain": [
       "              L  tickLower  tickUpper  \\\n",
       "0  8.608185e+19   -23030.0    27080.0   \n",
       "\n",
       "                                        owner  start_token0_holdings  \\\n",
       "0  0xC36442b4a4522E871399CD717aBDD847Ab11FE88           2.500000e+20   \n",
       "\n",
       "   start_token1_holdings  last_token0_holdings  last_token1_holdings  \\\n",
       "0           2.721739e+15          2.500000e+20          2.721739e+15   \n",
       "\n",
       "   token0_fees_accrued  token1_fees_accrued  token0_fees_collected  \\\n",
       "0                    0                    0                      0   \n",
       "\n",
       "   token1_fees_collected  start_logIndex  start_blockNumber  \\\n",
       "0                      0              41           12518239   \n",
       "\n",
       "   start_transactionIndex                              start_transactionHash  \\\n",
       "0                      53  0xa4a62f4e9c90a5e98ad0bae083f7caeb9eddf2019441...   \n",
       "\n",
       "   last_logIndex  last_blockNumber  last_transactionIndex  \\\n",
       "0             41          12518239                     53   \n",
       "\n",
       "                                last_transactionHash  \n",
       "0  0xa4a62f4e9c90a5e98ad0bae083f7caeb9eddf2019441...  "
      ]
     },
     "execution_count": 177,
     "metadata": {},
     "output_type": "execute_result"
    }
   ],
   "source": [
    "clm.active_positions"
   ]
  },
  {
   "cell_type": "code",
   "execution_count": 178,
   "metadata": {},
   "outputs": [
    {
     "data": {
      "text/plain": [
       "event                                                             Swap\n",
       "logIndex                                                            55\n",
       "transactionIndex                                                     9\n",
       "transactionHash      0x5cbbaac966f33c4c41709e7aea7fe94115fb322cf699...\n",
       "address                     0x500Dcb12218a66b4Aca4cc246Af1E4003D02E042\n",
       "blockHash            0xee9490a00de83ca7af0cba34e8b17b7b6d86b346fc99...\n",
       "blockNumber                                                   12518312\n",
       "args.sqrtPriceX96                      25512855739703879120160030720.0\n",
       "args.tick                                                     -22665.0\n",
       "args.owner                                                         nan\n",
       "args.sender                 0xE592427A0AEce92De3Edee1F18E0157C05861564\n",
       "args.amount0                                    -4907891792174418944.0\n",
       "args.amount1                                      500000000000000000.0\n",
       "args.recipient              0xfD9ffc51175278Dd0Bc1de8AA8Fe8065b0CB90C0\n",
       "args.liquidity                                  86081853130684121088.0\n",
       "Name: 2, dtype: object"
      ]
     },
     "execution_count": 178,
     "metadata": {},
     "output_type": "execute_result"
    }
   ],
   "source": [
    "tdf.dropna()"
   ]
  },
  {
   "cell_type": "code",
   "execution_count": 33,
   "metadata": {},
   "outputs": [],
   "source": [
    "#With the burns,\n",
    "#FIFO if cannot trust the id\n",
    "#Ideally it would be from the nft transfers and match the nft to transaction logs\n",
    "#First match range, then address, if no address fifo\n"
   ]
  },
  {
   "cell_type": "code",
   "execution_count": 34,
   "metadata": {},
   "outputs": [],
   "source": [
    "blockNumber = tdf['blockNumber']\n",
    "transactionIndex = tdf['transactionIndex']\n",
    "logIndex = tdf['logIndex']\n",
    "transactionHash = tdf['transactionHash']\n",
    "sender = tdf['args.sender']\n",
    "recipient = tdf['args.recipient']\n",
    "amount0 = tdf['args.amount0']\n",
    "amount1 = tdf['args.amount1']\n",
    "tick = tdf['args.tick']\n",
    "liquidity = tdf['args.liquidity']\n",
    "\n",
    "\n"
   ]
  },
  {
   "cell_type": "code",
   "execution_count": 46,
   "metadata": {},
   "outputs": [
    {
     "data": {
      "text/html": [
       "<div>\n",
       "<style scoped>\n",
       "    .dataframe tbody tr th:only-of-type {\n",
       "        vertical-align: middle;\n",
       "    }\n",
       "\n",
       "    .dataframe tbody tr th {\n",
       "        vertical-align: top;\n",
       "    }\n",
       "\n",
       "    .dataframe thead th {\n",
       "        text-align: right;\n",
       "    }\n",
       "</style>\n",
       "<table border=\"1\" class=\"dataframe\">\n",
       "  <thead>\n",
       "    <tr style=\"text-align: right;\">\n",
       "      <th></th>\n",
       "      <th>event</th>\n",
       "      <th>logIndex</th>\n",
       "      <th>blockNumber</th>\n",
       "      <th>transactionIndex</th>\n",
       "      <th>transactionHash</th>\n",
       "      <th>sender</th>\n",
       "      <th>recipient</th>\n",
       "      <th>amount0</th>\n",
       "      <th>amount1</th>\n",
       "      <th>tick</th>\n",
       "      <th>liquidity</th>\n",
       "    </tr>\n",
       "  </thead>\n",
       "  <tbody>\n",
       "    <tr>\n",
       "      <th>0</th>\n",
       "      <td>Swap</td>\n",
       "      <td>55</td>\n",
       "      <td>12518312</td>\n",
       "      <td>9</td>\n",
       "      <td>0x5cbbaac966f33c4c41709e7aea7fe94115fb322cf699...</td>\n",
       "      <td>0xE592427A0AEce92De3Edee1F18E0157C05861564</td>\n",
       "      <td>0xfD9ffc51175278Dd0Bc1de8AA8Fe8065b0CB90C0</td>\n",
       "      <td>-4.907892e+18</td>\n",
       "      <td>5.000000e+17</td>\n",
       "      <td>-22665.0</td>\n",
       "      <td>8.608185e+19</td>\n",
       "    </tr>\n",
       "  </tbody>\n",
       "</table>\n",
       "</div>"
      ],
      "text/plain": [
       "  event  logIndex  blockNumber  transactionIndex  \\\n",
       "0  Swap        55     12518312                 9   \n",
       "\n",
       "                                     transactionHash  \\\n",
       "0  0x5cbbaac966f33c4c41709e7aea7fe94115fb322cf699...   \n",
       "\n",
       "                                       sender  \\\n",
       "0  0xE592427A0AEce92De3Edee1F18E0157C05861564   \n",
       "\n",
       "                                    recipient       amount0       amount1  \\\n",
       "0  0xfD9ffc51175278Dd0Bc1de8AA8Fe8065b0CB90C0 -4.907892e+18  5.000000e+17   \n",
       "\n",
       "      tick     liquidity  \n",
       "0 -22665.0  8.608185e+19  "
      ]
     },
     "execution_count": 46,
     "metadata": {},
     "output_type": "execute_result"
    }
   ],
   "source": [
    "swap_df = pd.DataFrame([['Swap', logIndex, blockNumber, transactionIndex, transactionHash, sender, recipient, amount0, amount1, tick, liquidity]], \n",
    "                       columns=['event', 'logIndex', 'blockNumber', 'transactionIndex', 'transactionHash', 'sender', 'recipient', 'amount0', 'amount1', 'tick', 'liquidity'])\n",
    "swap_df"
   ]
  },
  {
   "cell_type": "code",
   "execution_count": null,
   "metadata": {},
   "outputs": [],
   "source": []
  },
  {
   "cell_type": "code",
   "execution_count": null,
   "metadata": {},
   "outputs": [],
   "source": []
  },
  {
   "cell_type": "code",
   "execution_count": null,
   "metadata": {},
   "outputs": [],
   "source": []
  },
  {
   "cell_type": "code",
   "execution_count": 47,
   "metadata": {},
   "outputs": [],
   "source": [
    "#Fees for pool \n",
    "if amount0 > 0:\n",
    "    total_fee0 = int(amount0*clm.fee)\n",
    "    amount0_nf = amount0 - total_fee0\n",
    "else:\n",
    "    total_fee0 = 0\n",
    "    amount0_nf = amount0\n",
    "\n",
    "\n",
    "if amount1 > 0:\n",
    "    total_fee1 = int(amount1*clm.fee)\n",
    "    amount1_nf = amount1 - total_fee1\n",
    "else:\n",
    "    total_fee1 = 0\n",
    "    amount1_nf = amount1\n"
   ]
  },
  {
   "cell_type": "code",
   "execution_count": 48,
   "metadata": {},
   "outputs": [
    {
     "data": {
      "text/plain": [
       "(0, 250000000000000)"
      ]
     },
     "execution_count": 48,
     "metadata": {},
     "output_type": "execute_result"
    }
   ],
   "source": [
    "total_fee0, total_fee1 #+= on total fees #fees needed to be rounded cant have part of a token, i think it is down/truncated"
   ]
  },
  {
   "cell_type": "code",
   "execution_count": 49,
   "metadata": {},
   "outputs": [],
   "source": [
    "#check active positions in tick if no L move to next tick, \n",
    "#if 1 is being added we go up the tick \n",
    "#if 0 is being added we go down the tick \n"
   ]
  },
  {
   "cell_type": "code",
   "execution_count": 50,
   "metadata": {},
   "outputs": [
    {
     "name": "stdout",
     "output_type": "stream",
     "text": [
      "going down the tick\n"
     ]
    }
   ],
   "source": [
    "if amount0_nf > 0:\n",
    "    print('going up the tick')\n",
    "\n",
    "if amount1_nf > 0:\n",
    "    print('going down the tick')"
   ]
  },
  {
   "cell_type": "code",
   "execution_count": 51,
   "metadata": {},
   "outputs": [
    {
     "data": {
      "text/plain": [
       "(-4.907891792174419e+18, 4.9975e+17)"
      ]
     },
     "execution_count": 51,
     "metadata": {},
     "output_type": "execute_result"
    }
   ],
   "source": [
    "amount0_nf, amount1_nf"
   ]
  },
  {
   "cell_type": "code",
   "execution_count": 52,
   "metadata": {},
   "outputs": [],
   "source": [
    "#calc of new price based on dy\n",
    "#sqrtPrice_current - (amount1_nf/L_tick) "
   ]
  },
  {
   "cell_type": "code",
   "execution_count": 53,
   "metadata": {},
   "outputs": [
    {
     "data": {
      "text/html": [
       "<div>\n",
       "<style scoped>\n",
       "    .dataframe tbody tr th:only-of-type {\n",
       "        vertical-align: middle;\n",
       "    }\n",
       "\n",
       "    .dataframe tbody tr th {\n",
       "        vertical-align: top;\n",
       "    }\n",
       "\n",
       "    .dataframe thead th {\n",
       "        text-align: right;\n",
       "    }\n",
       "</style>\n",
       "<table border=\"1\" class=\"dataframe\">\n",
       "  <thead>\n",
       "    <tr style=\"text-align: right;\">\n",
       "      <th></th>\n",
       "      <th>L</th>\n",
       "      <th>tickLower</th>\n",
       "      <th>tickUpper</th>\n",
       "      <th>owner</th>\n",
       "      <th>start_token0_holdings</th>\n",
       "      <th>start_token1_holdings</th>\n",
       "      <th>last_token0_holdings</th>\n",
       "      <th>last_token1_holdings</th>\n",
       "      <th>token0_fees_accrued</th>\n",
       "      <th>token1_fees_accrued</th>\n",
       "      <th>token0_fees_collected</th>\n",
       "      <th>token1_fees_collected</th>\n",
       "      <th>start_logIndex</th>\n",
       "      <th>start_blockNumber</th>\n",
       "      <th>start_transactionIndex</th>\n",
       "      <th>start_transactionHash</th>\n",
       "      <th>last_logIndex</th>\n",
       "      <th>last_blockNumber</th>\n",
       "      <th>last_transactionIndex</th>\n",
       "      <th>last_transactionHash</th>\n",
       "    </tr>\n",
       "  </thead>\n",
       "  <tbody>\n",
       "    <tr>\n",
       "      <th>0</th>\n",
       "      <td>8.608185e+19</td>\n",
       "      <td>-23030.0</td>\n",
       "      <td>27080.0</td>\n",
       "      <td>0xC36442b4a4522E871399CD717aBDD847Ab11FE88</td>\n",
       "      <td>2.500000e+20</td>\n",
       "      <td>2.721739e+15</td>\n",
       "      <td>2.500000e+20</td>\n",
       "      <td>2.721739e+15</td>\n",
       "      <td>0</td>\n",
       "      <td>0</td>\n",
       "      <td>0</td>\n",
       "      <td>0</td>\n",
       "      <td>41</td>\n",
       "      <td>12518239</td>\n",
       "      <td>53</td>\n",
       "      <td>0xa4a62f4e9c90a5e98ad0bae083f7caeb9eddf2019441...</td>\n",
       "      <td>41</td>\n",
       "      <td>12518239</td>\n",
       "      <td>53</td>\n",
       "      <td>0xa4a62f4e9c90a5e98ad0bae083f7caeb9eddf2019441...</td>\n",
       "    </tr>\n",
       "  </tbody>\n",
       "</table>\n",
       "</div>"
      ],
      "text/plain": [
       "              L  tickLower  tickUpper  \\\n",
       "0  8.608185e+19   -23030.0    27080.0   \n",
       "\n",
       "                                        owner  start_token0_holdings  \\\n",
       "0  0xC36442b4a4522E871399CD717aBDD847Ab11FE88           2.500000e+20   \n",
       "\n",
       "   start_token1_holdings  last_token0_holdings  last_token1_holdings  \\\n",
       "0           2.721739e+15          2.500000e+20          2.721739e+15   \n",
       "\n",
       "   token0_fees_accrued  token1_fees_accrued  token0_fees_collected  \\\n",
       "0                    0                    0                      0   \n",
       "\n",
       "   token1_fees_collected  start_logIndex  start_blockNumber  \\\n",
       "0                      0              41           12518239   \n",
       "\n",
       "   start_transactionIndex                              start_transactionHash  \\\n",
       "0                      53  0xa4a62f4e9c90a5e98ad0bae083f7caeb9eddf2019441...   \n",
       "\n",
       "   last_logIndex  last_blockNumber  last_transactionIndex  \\\n",
       "0             41          12518239                     53   \n",
       "\n",
       "                                last_transactionHash  \n",
       "0  0xa4a62f4e9c90a5e98ad0bae083f7caeb9eddf2019441...  "
      ]
     },
     "execution_count": 53,
     "metadata": {},
     "output_type": "execute_result"
    }
   ],
   "source": [
    "pos = clm.active_positions\n",
    "pos"
   ]
  },
  {
   "cell_type": "code",
   "execution_count": 54,
   "metadata": {},
   "outputs": [
    {
     "data": {
      "text/html": [
       "<div>\n",
       "<style scoped>\n",
       "    .dataframe tbody tr th:only-of-type {\n",
       "        vertical-align: middle;\n",
       "    }\n",
       "\n",
       "    .dataframe tbody tr th {\n",
       "        vertical-align: top;\n",
       "    }\n",
       "\n",
       "    .dataframe thead th {\n",
       "        text-align: right;\n",
       "    }\n",
       "</style>\n",
       "<table border=\"1\" class=\"dataframe\">\n",
       "  <thead>\n",
       "    <tr style=\"text-align: right;\">\n",
       "      <th></th>\n",
       "      <th>event</th>\n",
       "      <th>logIndex</th>\n",
       "      <th>blockNumber</th>\n",
       "      <th>transactionIndex</th>\n",
       "      <th>transactionHash</th>\n",
       "      <th>sender</th>\n",
       "      <th>recipient</th>\n",
       "      <th>amount0</th>\n",
       "      <th>amount1</th>\n",
       "      <th>tick</th>\n",
       "      <th>liquidity</th>\n",
       "    </tr>\n",
       "  </thead>\n",
       "  <tbody>\n",
       "    <tr>\n",
       "      <th>0</th>\n",
       "      <td>Swap</td>\n",
       "      <td>55</td>\n",
       "      <td>12518312</td>\n",
       "      <td>9</td>\n",
       "      <td>0x5cbbaac966f33c4c41709e7aea7fe94115fb322cf699...</td>\n",
       "      <td>0xE592427A0AEce92De3Edee1F18E0157C05861564</td>\n",
       "      <td>0xfD9ffc51175278Dd0Bc1de8AA8Fe8065b0CB90C0</td>\n",
       "      <td>-4.907892e+18</td>\n",
       "      <td>5.000000e+17</td>\n",
       "      <td>-22665.0</td>\n",
       "      <td>8.608185e+19</td>\n",
       "    </tr>\n",
       "  </tbody>\n",
       "</table>\n",
       "</div>"
      ],
      "text/plain": [
       "  event  logIndex  blockNumber  transactionIndex  \\\n",
       "0  Swap        55     12518312                 9   \n",
       "\n",
       "                                     transactionHash  \\\n",
       "0  0x5cbbaac966f33c4c41709e7aea7fe94115fb322cf699...   \n",
       "\n",
       "                                       sender  \\\n",
       "0  0xE592427A0AEce92De3Edee1F18E0157C05861564   \n",
       "\n",
       "                                    recipient       amount0       amount1  \\\n",
       "0  0xfD9ffc51175278Dd0Bc1de8AA8Fe8065b0CB90C0 -4.907892e+18  5.000000e+17   \n",
       "\n",
       "      tick     liquidity  \n",
       "0 -22665.0  8.608185e+19  "
      ]
     },
     "execution_count": 54,
     "metadata": {},
     "output_type": "execute_result"
    }
   ],
   "source": [
    "swap_df"
   ]
  },
  {
   "cell_type": "code",
   "execution_count": 55,
   "metadata": {},
   "outputs": [],
   "source": [
    "current_tick, current_tick_lower, current_tick_upper = clm.get_tick_range(clm.tick)"
   ]
  },
  {
   "cell_type": "code",
   "execution_count": 56,
   "metadata": {},
   "outputs": [
    {
     "data": {
      "text/plain": [
       "-23028.0"
      ]
     },
     "execution_count": 56,
     "metadata": {},
     "output_type": "execute_result"
    }
   ],
   "source": [
    "current_tick"
   ]
  },
  {
   "cell_type": "code",
   "execution_count": 57,
   "metadata": {},
   "outputs": [],
   "source": [
    "#loop from here"
   ]
  },
  {
   "cell_type": "code",
   "execution_count": 58,
   "metadata": {},
   "outputs": [],
   "source": [
    "apos = pos.loc[(pos['tickLower'] < current_tick)&(pos['tickUpper'] >= current_tick)]\n",
    "L_tick = apos['L'].astype(float).sum()"
   ]
  },
  {
   "cell_type": "code",
   "execution_count": 59,
   "metadata": {},
   "outputs": [
    {
     "data": {
      "text/plain": [
       "(0.3162119906480381, 8.608185313068412e+19)"
      ]
     },
     "execution_count": 59,
     "metadata": {},
     "output_type": "execute_result"
    }
   ],
   "source": [
    "clm.sqrtPrice, L_tick"
   ]
  },
  {
   "cell_type": "code",
   "execution_count": 60,
   "metadata": {},
   "outputs": [
    {
     "data": {
      "text/plain": [
       "0    True\n",
       "Name: liquidity, dtype: bool"
      ]
     },
     "execution_count": 60,
     "metadata": {},
     "output_type": "execute_result"
    }
   ],
   "source": [
    "swap_df['liquidity'] == L_tick "
   ]
  },
  {
   "cell_type": "code",
   "execution_count": 61,
   "metadata": {},
   "outputs": [
    {
     "data": {
      "text/plain": [
       "(-4.907891792174419e+18, 4.9975e+17)"
      ]
     },
     "execution_count": 61,
     "metadata": {},
     "output_type": "execute_result"
    }
   ],
   "source": [
    "amount0_nf, amount1_nf"
   ]
  },
  {
   "cell_type": "code",
   "execution_count": 62,
   "metadata": {},
   "outputs": [],
   "source": [
    "sqrtPriceX96 = clm.sqrtPrice * clm.Q96"
   ]
  },
  {
   "cell_type": "code",
   "execution_count": 80,
   "metadata": {},
   "outputs": [
    {
     "data": {
      "text/plain": [
       "0.3220175115775343"
      ]
     },
     "execution_count": 80,
     "metadata": {},
     "output_type": "execute_result"
    }
   ],
   "source": [
    "sqrtPrice_next = getNextSqrtPriceFromInput(sqrtPriceX96, float(L_tick), amount0, zeroForOne=True)/Q96\n",
    "sqrtPrice_next"
   ]
  },
  {
   "cell_type": "code",
   "execution_count": 81,
   "metadata": {},
   "outputs": [
    {
     "data": {
      "text/plain": [
       "0.3220204157901053"
      ]
     },
     "execution_count": 81,
     "metadata": {},
     "output_type": "execute_result"
    }
   ],
   "source": [
    "sqrtPrice_next = getNextSqrtPriceFromInput(clm.sqrtPrice*Q96, float(L_tick), amount1, zeroForOne=False)/Q96\n",
    "sqrtPrice_next"
   ]
  },
  {
   "cell_type": "code",
   "execution_count": 82,
   "metadata": {},
   "outputs": [],
   "source": [
    "tick_next = clm.sqrtPrice_to_tick(sqrtPrice_next) #correct\n",
    "L_next = L_tick "
   ]
  },
  {
   "cell_type": "code",
   "execution_count": 83,
   "metadata": {},
   "outputs": [
    {
     "data": {
      "text/plain": [
       "(-22664, 8.608185313068412e+19)"
      ]
     },
     "execution_count": 83,
     "metadata": {},
     "output_type": "execute_result"
    }
   ],
   "source": [
    "tick_next, L_next #is tick one off ?"
   ]
  },
  {
   "cell_type": "code",
   "execution_count": 85,
   "metadata": {},
   "outputs": [
    {
     "data": {
      "text/plain": [
       "0.3220204157901053"
      ]
     },
     "execution_count": 85,
     "metadata": {},
     "output_type": "execute_result"
    }
   ],
   "source": [
    "sqrtPrice_next"
   ]
  },
  {
   "cell_type": "code",
   "execution_count": 87,
   "metadata": {},
   "outputs": [
    {
     "data": {
      "text/plain": [
       "array(['0x5cbbaac966f33c4c41709e7aea7fe94115fb322cf699c2c05d849140d1cc524c'],\n",
       "      dtype=object)"
      ]
     },
     "execution_count": 87,
     "metadata": {},
     "output_type": "execute_result"
    }
   ],
   "source": [
    "swap_df['transactionHash'].values"
   ]
  },
  {
   "cell_type": "code",
   "execution_count": 89,
   "metadata": {},
   "outputs": [],
   "source": [
    "tsqrtP = clm.tick_to_sqrtPrice(-22665)"
   ]
  },
  {
   "cell_type": "code",
   "execution_count": 96,
   "metadata": {},
   "outputs": [
    {
     "data": {
      "text/plain": [
       "-4907891792174418944"
      ]
     },
     "execution_count": 96,
     "metadata": {},
     "output_type": "execute_result"
    }
   ],
   "source": [
    "int(amount0)"
   ]
  },
  {
   "cell_type": "code",
   "execution_count": 97,
   "metadata": {},
   "outputs": [
    {
     "data": {
      "text/plain": [
       "4910302680603624448"
      ]
     },
     "execution_count": 97,
     "metadata": {},
     "output_type": "execute_result"
    }
   ],
   "source": [
    "calc_amount0(L_tick, sqrtPriceX96, sqrtPrice_next*Q96)"
   ]
  },
  {
   "cell_type": "code",
   "execution_count": 79,
   "metadata": {},
   "outputs": [],
   "source": [
    "#get amounts 0 and 1 to check"
   ]
  },
  {
   "cell_type": "code",
   "execution_count": 90,
   "metadata": {},
   "outputs": [],
   "source": [
    "def calc_amount0(L, sqrtPriceX96_A, sqrtPriceX96_B):\n",
    "    #sqrtPriceX96\n",
    "    if sqrtPriceX96_A > sqrtPriceX96_B:\n",
    "        sqrtPriceX96_A, sqrtPriceX96_B = sqrtPriceX96_B, sqrtPriceX96_A\n",
    "    return int(L * Q96 * (sqrtPriceX96_B - sqrtPriceX96_A) / sqrtPriceX96_B / sqrtPriceX96_A)\n",
    "\n",
    "\n",
    "def calc_amount1(L, sqrtPriceX96_A, sqrtPriceX96_B):\n",
    "    #sqrtPriceX96\n",
    "    if sqrtPriceX96_A > sqrtPriceX96_B:\n",
    "        sqrtPriceX96_A, sqrtPriceX96_B = sqrtPriceX96_B, sqrtPriceX96_A\n",
    "    return int(L * (sqrtPriceX96_B - sqrtPriceX96_A) / Q96)"
   ]
  },
  {
   "cell_type": "code",
   "execution_count": 355,
   "metadata": {},
   "outputs": [
    {
     "data": {
      "text/plain": [
       "4907891792174426112"
      ]
     },
     "execution_count": 355,
     "metadata": {},
     "output_type": "execute_result"
    }
   ],
   "source": [
    "camount0 = calc_amount0(L_tick, sqrtPrice_next*Q96, sqrtPriceX96)\n",
    "camount0"
   ]
  },
  {
   "cell_type": "code",
   "execution_count": 356,
   "metadata": {},
   "outputs": [
    {
     "data": {
      "text/plain": [
       "-4907891792174418944"
      ]
     },
     "execution_count": 356,
     "metadata": {},
     "output_type": "execute_result"
    }
   ],
   "source": [
    "int(amount0_nf) "
   ]
  },
  {
   "cell_type": "code",
   "execution_count": 357,
   "metadata": {},
   "outputs": [
    {
     "data": {
      "text/plain": [
       "1.9999999999999984"
      ]
     },
     "execution_count": 357,
     "metadata": {},
     "output_type": "execute_result"
    }
   ],
   "source": [
    "(camount0 - int(amount0_nf))/camount0"
   ]
  },
  {
   "cell_type": "code",
   "execution_count": null,
   "metadata": {},
   "outputs": [],
   "source": []
  },
  {
   "cell_type": "code",
   "execution_count": 358,
   "metadata": {},
   "outputs": [
    {
     "data": {
      "text/plain": [
       "499750000000000768"
      ]
     },
     "execution_count": 358,
     "metadata": {},
     "output_type": "execute_result"
    }
   ],
   "source": [
    "camount1 = calc_amount1(L_tick, sqrtPrice_next*Q96, sqrtPriceX96)\n",
    "camount1"
   ]
  },
  {
   "cell_type": "code",
   "execution_count": 359,
   "metadata": {},
   "outputs": [
    {
     "data": {
      "text/plain": [
       "499750000000000000"
      ]
     },
     "execution_count": 359,
     "metadata": {},
     "output_type": "execute_result"
    }
   ],
   "source": [
    "int(amount1_nf) "
   ]
  },
  {
   "cell_type": "code",
   "execution_count": 360,
   "metadata": {},
   "outputs": [
    {
     "data": {
      "text/plain": [
       "768"
      ]
     },
     "execution_count": 360,
     "metadata": {},
     "output_type": "execute_result"
    }
   ],
   "source": [
    "(camount1 - int(amount1_nf)) "
   ]
  },
  {
   "cell_type": "code",
   "execution_count": 361,
   "metadata": {},
   "outputs": [
    {
     "data": {
      "text/plain": [
       "499750000000000768"
      ]
     },
     "execution_count": 361,
     "metadata": {},
     "output_type": "execute_result"
    }
   ],
   "source": [
    "calc_amount1(L_tick, sqrtPriceX96, sqrtPrice_next*Q96)"
   ]
  },
  {
   "cell_type": "code",
   "execution_count": 375,
   "metadata": {},
   "outputs": [],
   "source": [
    "def compute_swap_step(sqrtPriceCurrentX96, sqrtPriceTargetX96, L, amountRemaining):\n",
    "    zeroForOne = True if sqrtPriceCurrentX96 <= sqrtPriceTargetX96 else False\n",
    "    sqrtPriceNextX96 = getNextSqrtPriceFromInput(sqrtPriceCurrentX96, L, amountRemaining, zeroForOne)\n",
    "\n",
    "    amountIn = calc_amount0(L, sqrtPriceCurrentX96, sqrtPriceTargetX96)\n",
    "    amountOut = calc_amount1(L, sqrtPriceCurrentX96, sqrtPriceTargetX96)\n",
    "\n",
    "    if not zeroForOne:\n",
    "        amountIn, amountOut = amountOut, amountIn\n",
    "\n",
    "    return sqrtPriceNextX96, amountIn, amountOut"
   ]
  },
  {
   "cell_type": "code",
   "execution_count": 376,
   "metadata": {},
   "outputs": [
    {
     "data": {
      "text/plain": [
       "-4.907891792174419e+18"
      ]
     },
     "execution_count": 376,
     "metadata": {},
     "output_type": "execute_result"
    }
   ],
   "source": [
    "amount0"
   ]
  },
  {
   "cell_type": "code",
   "execution_count": 380,
   "metadata": {},
   "outputs": [],
   "source": [
    "sqrtPriceNextX96, amountIn, amountOut = compute_swap_step(sqrtPriceX96, sqrtPrice_next, L_tick, amount1)"
   ]
  },
  {
   "cell_type": "code",
   "execution_count": 381,
   "metadata": {},
   "outputs": [
    {
     "data": {
      "text/plain": [
       "-22664"
      ]
     },
     "execution_count": 381,
     "metadata": {},
     "output_type": "execute_result"
    }
   ],
   "source": [
    "clm.sqrtPrice_to_tick(sqrtPriceNextX96/Q96)"
   ]
  },
  {
   "cell_type": "code",
   "execution_count": 388,
   "metadata": {},
   "outputs": [
    {
     "data": {
      "text/plain": [
       "-22663.939768905293"
      ]
     },
     "execution_count": 388,
     "metadata": {},
     "output_type": "execute_result"
    }
   ],
   "source": [
    "math.log(((sqrtPriceNextX96/Q96)**2),1.0001)"
   ]
  },
  {
   "cell_type": "code",
   "execution_count": 390,
   "metadata": {},
   "outputs": [
    {
     "data": {
      "text/plain": [
       "-22663"
      ]
     },
     "execution_count": 390,
     "metadata": {},
     "output_type": "execute_result"
    }
   ],
   "source": [
    "math.floor(math.log(((sqrtPriceNextX96/Q96)**2),1.0001)"
   ]
  },
  {
   "cell_type": "code",
   "execution_count": 382,
   "metadata": {},
   "outputs": [
    {
     "data": {
      "text/html": [
       "<div>\n",
       "<style scoped>\n",
       "    .dataframe tbody tr th:only-of-type {\n",
       "        vertical-align: middle;\n",
       "    }\n",
       "\n",
       "    .dataframe tbody tr th {\n",
       "        vertical-align: top;\n",
       "    }\n",
       "\n",
       "    .dataframe thead th {\n",
       "        text-align: right;\n",
       "    }\n",
       "</style>\n",
       "<table border=\"1\" class=\"dataframe\">\n",
       "  <thead>\n",
       "    <tr style=\"text-align: right;\">\n",
       "      <th></th>\n",
       "      <th>event</th>\n",
       "      <th>logIndex</th>\n",
       "      <th>blockNumber</th>\n",
       "      <th>transactionIndex</th>\n",
       "      <th>transactionHash</th>\n",
       "      <th>sender</th>\n",
       "      <th>recipient</th>\n",
       "      <th>amount0</th>\n",
       "      <th>amount1</th>\n",
       "      <th>tick</th>\n",
       "      <th>liquidity</th>\n",
       "    </tr>\n",
       "  </thead>\n",
       "  <tbody>\n",
       "    <tr>\n",
       "      <th>0</th>\n",
       "      <td>Swap</td>\n",
       "      <td>55</td>\n",
       "      <td>12518312</td>\n",
       "      <td>9</td>\n",
       "      <td>0x5cbbaac966f33c4c41709e7aea7fe94115fb322cf699...</td>\n",
       "      <td>0xE592427A0AEce92De3Edee1F18E0157C05861564</td>\n",
       "      <td>0xfD9ffc51175278Dd0Bc1de8AA8Fe8065b0CB90C0</td>\n",
       "      <td>-4.907892e+18</td>\n",
       "      <td>5.000000e+17</td>\n",
       "      <td>-22665.0</td>\n",
       "      <td>8.608185e+19</td>\n",
       "    </tr>\n",
       "  </tbody>\n",
       "</table>\n",
       "</div>"
      ],
      "text/plain": [
       "  event  logIndex  blockNumber  transactionIndex  \\\n",
       "0  Swap        55     12518312                 9   \n",
       "\n",
       "                                     transactionHash  \\\n",
       "0  0x5cbbaac966f33c4c41709e7aea7fe94115fb322cf699...   \n",
       "\n",
       "                                       sender  \\\n",
       "0  0xE592427A0AEce92De3Edee1F18E0157C05861564   \n",
       "\n",
       "                                    recipient       amount0       amount1  \\\n",
       "0  0xfD9ffc51175278Dd0Bc1de8AA8Fe8065b0CB90C0 -4.907892e+18  5.000000e+17   \n",
       "\n",
       "      tick     liquidity  \n",
       "0 -22665.0  8.608185e+19  "
      ]
     },
     "execution_count": 382,
     "metadata": {},
     "output_type": "execute_result"
    }
   ],
   "source": [
    "swap_df"
   ]
  },
  {
   "cell_type": "code",
   "execution_count": 367,
   "metadata": {},
   "outputs": [],
   "source": [
    "#for mints to check correct"
   ]
  },
  {
   "cell_type": "code",
   "execution_count": 368,
   "metadata": {},
   "outputs": [],
   "source": [
    "def calcLiquidityFromAmount0(amount, sqrtPrice_lower, sqrtPrice_upper):\n",
    "    if sqrtPrice_lower > sqrtPrice_upper:\n",
    "        sqrtPrice_lower, sqrtPrice_upper = sqrtPrice_upper, sqrtPrice_lower\n",
    "    return (amount * (sqrtPrice_lower * sqrtPrice_upper)/Q96 ) / (sqrtPrice_upper - sqrtPrice_lower)"
   ]
  },
  {
   "cell_type": "code",
   "execution_count": 369,
   "metadata": {},
   "outputs": [],
   "source": [
    "def calcLiquidityFromAmount1(amount, sqrtPrice_lower, sqrtPrice_upper):\n",
    "    if sqrtPrice_upper > sqrtPrice_lower:\n",
    "        sqrtPrice_upper, sqrtPrice_lower = sqrtPrice_lower, sqrtPrice_upper\n",
    "    return amount * Q96 / (sqrtPrice_lower - sqrtPrice_upper)"
   ]
  },
  {
   "cell_type": "code",
   "execution_count": 164,
   "metadata": {},
   "outputs": [],
   "source": [
    "def calc_liquidity_from_amounts(amount0, amount1, sqrtPrice):\n",
    "    current_tick, current_tick_lower, current_tick_upper = clm.get_tick_range(clm.sqrtPrice_to_tick(sqrtPrice))\n",
    "    sqrtPrice_lower = clm.tick_to_sqrtPrice(current_tick_lower)\n",
    "    sqrtPrice_upper = clm.tick_to_sqrtPrice(current_tick_upper)\n",
    "\n",
    "    liquidity0 = calcLiquidityFromAmount0(amount0, sqrtPrice, sqrtPrice_upper)\n",
    "    liquidity1 = calcLiquidityFromAmount1(amount1, sqrtPrice, sqrtPrice_lower)\n",
    "\n",
    "    L = math.floor(min(liquidity0, liquidity1)) \n",
    "\n",
    "    return L"
   ]
  },
  {
   "cell_type": "code",
   "execution_count": null,
   "metadata": {},
   "outputs": [],
   "source": []
  },
  {
   "cell_type": "code",
   "execution_count": null,
   "metadata": {},
   "outputs": [],
   "source": []
  },
  {
   "cell_type": "code",
   "execution_count": null,
   "metadata": {},
   "outputs": [],
   "source": []
  },
  {
   "cell_type": "code",
   "execution_count": 26,
   "metadata": {},
   "outputs": [],
   "source": [
    "pos = clm.active_positions\n",
    "current_tick, current_tick_lower, current_tick_upper = clm.get_tick_range(clm.tick)\n",
    "\n",
    "if amount0_nf > 0:\n",
    "    sqrtPrice_current = clm.sqrtPrice\n",
    "    sqrtPrice_lower = clm.tick_to_sqrtPrice(current_tick_lower)\n",
    "\n",
    "    amount0_a = amount0_nf\n",
    "    amount1_a = amount1_nf\n",
    "\n",
    "    while amount0_a > 0:\n",
    "        apos = pos.loc[(pos['tickLower'] < current_tick)&(pos['tickUpper'] >= current_tick)]\n",
    "        L_tick = apos['L'].sum()\n",
    "\n",
    "        #check if there is enough reserves in the tick\n",
    "        if L_tick*(1/sqrtPrice_lower - 1/sqrtPrice_current) > amount0_a:\n",
    "            sqrtPrice_new = 1/((amount0_a/L_tick)+(1/sqrtPrice_current))\n",
    "            tick_new = clm.sqrtPrice_to_tick(sqrtPrice_new)\n",
    "            break\n",
    "            #TODO Add fee to apos\n",
    "\n",
    "        else:\n",
    "            amount0_a -= L_tick *(1/sqrtPrice_lower - 1/sqrtPrice_current)\n",
    "            amount1_a -= L_tick *(sqrtPrice_lower - sqrtPrice_current)\n",
    "            current_tick = current_tick_lower\n",
    "            current_tick_lower = current_tick - clm.tickSpacing\n",
    "            sqrtPrice_current = clm.tick_to_sqrtPrice(current_tick)\n",
    "            sqrtPrice_lower = clm.tick_to_sqrtPrice(current_tick_lower)\n",
    "            #TODO Add fee to apos"
   ]
  },
  {
   "cell_type": "code",
   "execution_count": 27,
   "metadata": {},
   "outputs": [
    {
     "ename": "NameError",
     "evalue": "name 'sqrtPrice_new' is not defined",
     "output_type": "error",
     "traceback": [
      "\u001b[0;31m---------------------------------------------------------------------------\u001b[0m",
      "\u001b[0;31mNameError\u001b[0m                                 Traceback (most recent call last)",
      "Cell \u001b[0;32mIn[27], line 1\u001b[0m\n\u001b[0;32m----> 1\u001b[0m \u001b[43msqrtPrice_new\u001b[49m\n",
      "\u001b[0;31mNameError\u001b[0m: name 'sqrtPrice_new' is not defined"
     ]
    }
   ],
   "source": [
    "sqrtPrice_new"
   ]
  },
  {
   "cell_type": "code",
   "execution_count": 28,
   "metadata": {},
   "outputs": [
    {
     "ename": "NameError",
     "evalue": "name 'tick_new' is not defined",
     "output_type": "error",
     "traceback": [
      "\u001b[0;31m---------------------------------------------------------------------------\u001b[0m",
      "\u001b[0;31mNameError\u001b[0m                                 Traceback (most recent call last)",
      "Cell \u001b[0;32mIn[28], line 1\u001b[0m\n\u001b[0;32m----> 1\u001b[0m \u001b[43mtick_new\u001b[49m\n",
      "\u001b[0;31mNameError\u001b[0m: name 'tick_new' is not defined"
     ]
    }
   ],
   "source": [
    "tick_new"
   ]
  },
  {
   "cell_type": "code",
   "execution_count": 29,
   "metadata": {},
   "outputs": [
    {
     "data": {
      "text/plain": [
       "7.531849207101876e+23"
      ]
     },
     "execution_count": 29,
     "metadata": {},
     "output_type": "execute_result"
    }
   ],
   "source": [
    "swap_df['liquidity'].values[0]"
   ]
  },
  {
   "cell_type": "code",
   "execution_count": 30,
   "metadata": {},
   "outputs": [
    {
     "ename": "NameError",
     "evalue": "name 'L_tick' is not defined",
     "output_type": "error",
     "traceback": [
      "\u001b[0;31m---------------------------------------------------------------------------\u001b[0m",
      "\u001b[0;31mNameError\u001b[0m                                 Traceback (most recent call last)",
      "Cell \u001b[0;32mIn[30], line 1\u001b[0m\n\u001b[0;32m----> 1\u001b[0m \u001b[43mL_tick\u001b[49m \u001b[38;5;241m-\u001b[39m swap_df[\u001b[38;5;124m'\u001b[39m\u001b[38;5;124mliquidity\u001b[39m\u001b[38;5;124m'\u001b[39m]\u001b[38;5;241m.\u001b[39mvalues[\u001b[38;5;241m0\u001b[39m] \u001b[38;5;66;03m#off by a few bips, Why? \u001b[39;00m\n",
      "\u001b[0;31mNameError\u001b[0m: name 'L_tick' is not defined"
     ]
    }
   ],
   "source": [
    "L_tick - swap_df['liquidity'].values[0] #off by a few bips, Why? "
   ]
  },
  {
   "cell_type": "code",
   "execution_count": 74,
   "metadata": {},
   "outputs": [
    {
     "data": {
      "text/plain": [
       "2.3788573596325747e+21"
      ]
     },
     "execution_count": 74,
     "metadata": {},
     "output_type": "execute_result"
    }
   ],
   "source": [
    "apos['L'].sum()"
   ]
  },
  {
   "cell_type": "code",
   "execution_count": null,
   "metadata": {},
   "outputs": [],
   "source": []
  },
  {
   "cell_type": "code",
   "execution_count": 23,
   "metadata": {},
   "outputs": [],
   "source": [
    "current_tick, current_tick_lower, current_tick_upper = clm.get_tick_range(clm.tick)\n",
    "\n",
    "#Pick the side up or down the range\n",
    "\n",
    "sqrtPrice_current = clm.sqrtPrice\n",
    "sqrtPrice_lower = clm.tick_to_sqrtPrice(current_tick_lower)\n",
    "\n",
    "amount0_a = amount0_nf\n",
    "amount1_a = amount1_nf"
   ]
  },
  {
   "cell_type": "code",
   "execution_count": 24,
   "metadata": {},
   "outputs": [
    {
     "data": {
      "text/plain": [
       "(8.81851364409421e+19, -6.479182651067172e+17)"
      ]
     },
     "execution_count": 24,
     "metadata": {},
     "output_type": "execute_result"
    }
   ],
   "source": [
    "amount0_a, amount1_a"
   ]
  },
  {
   "cell_type": "code",
   "execution_count": 25,
   "metadata": {},
   "outputs": [
    {
     "data": {
      "text/html": [
       "<div>\n",
       "<style scoped>\n",
       "    .dataframe tbody tr th:only-of-type {\n",
       "        vertical-align: middle;\n",
       "    }\n",
       "\n",
       "    .dataframe tbody tr th {\n",
       "        vertical-align: top;\n",
       "    }\n",
       "\n",
       "    .dataframe thead th {\n",
       "        text-align: right;\n",
       "    }\n",
       "</style>\n",
       "<table border=\"1\" class=\"dataframe\">\n",
       "  <thead>\n",
       "    <tr style=\"text-align: right;\">\n",
       "      <th></th>\n",
       "      <th>L</th>\n",
       "      <th>tickLower</th>\n",
       "      <th>tickUpper</th>\n",
       "      <th>owner</th>\n",
       "      <th>start_token0_holdings</th>\n",
       "      <th>start_token1_holdings</th>\n",
       "      <th>last_token0_holdings</th>\n",
       "      <th>last_token1_holdings</th>\n",
       "      <th>token0_fees_accrued</th>\n",
       "      <th>token1_fees_accrued</th>\n",
       "      <th>token0_fees_collected</th>\n",
       "      <th>token1_fees_collected</th>\n",
       "      <th>start_logIndex</th>\n",
       "      <th>start_blockNumber</th>\n",
       "      <th>start_transactionIndex</th>\n",
       "      <th>start_transactionHash</th>\n",
       "      <th>last_logIndex</th>\n",
       "      <th>last_blockNumber</th>\n",
       "      <th>last_transactionIndex</th>\n",
       "      <th>last_transactionHash</th>\n",
       "    </tr>\n",
       "  </thead>\n",
       "  <tbody>\n",
       "    <tr>\n",
       "      <th>0</th>\n",
       "      <td>1.836801e+21</td>\n",
       "      <td>-50520.0</td>\n",
       "      <td>-47160.0</td>\n",
       "      <td>0xC36442b4a4522E871399CD717aBDD847Ab11FE88</td>\n",
       "      <td>2.087676e+21</td>\n",
       "      <td>1.000000e+19</td>\n",
       "      <td>2.087676e+21</td>\n",
       "      <td>1.000000e+19</td>\n",
       "      <td>0</td>\n",
       "      <td>0</td>\n",
       "      <td>0</td>\n",
       "      <td>0</td>\n",
       "      <td>283</td>\n",
       "      <td>12376506</td>\n",
       "      <td>173</td>\n",
       "      <td>0x6deb67cb498010802d532dbe2b50cb70bf56c20b1937...</td>\n",
       "      <td>283</td>\n",
       "      <td>12376506</td>\n",
       "      <td>173</td>\n",
       "      <td>0x6deb67cb498010802d532dbe2b50cb70bf56c20b1937...</td>\n",
       "    </tr>\n",
       "    <tr>\n",
       "      <th>0</th>\n",
       "      <td>2.567967e+20</td>\n",
       "      <td>-51300.0</td>\n",
       "      <td>-47100.0</td>\n",
       "      <td>0xC36442b4a4522E871399CD717aBDD847Ab11FE88</td>\n",
       "      <td>3.000000e+20</td>\n",
       "      <td>2.183696e+18</td>\n",
       "      <td>3.000000e+20</td>\n",
       "      <td>2.183696e+18</td>\n",
       "      <td>0</td>\n",
       "      <td>0</td>\n",
       "      <td>0</td>\n",
       "      <td>0</td>\n",
       "      <td>184</td>\n",
       "      <td>12376622</td>\n",
       "      <td>69</td>\n",
       "      <td>0xa2a1c2540b51c685464188d8fbc8101cc41e803bf50c...</td>\n",
       "      <td>184</td>\n",
       "      <td>12376622</td>\n",
       "      <td>69</td>\n",
       "      <td>0xa2a1c2540b51c685464188d8fbc8101cc41e803bf50c...</td>\n",
       "    </tr>\n",
       "  </tbody>\n",
       "</table>\n",
       "</div>"
      ],
      "text/plain": [
       "              L  tickLower  tickUpper  \\\n",
       "0  1.836801e+21   -50520.0   -47160.0   \n",
       "0  2.567967e+20   -51300.0   -47100.0   \n",
       "\n",
       "                                        owner  start_token0_holdings  \\\n",
       "0  0xC36442b4a4522E871399CD717aBDD847Ab11FE88           2.087676e+21   \n",
       "0  0xC36442b4a4522E871399CD717aBDD847Ab11FE88           3.000000e+20   \n",
       "\n",
       "   start_token1_holdings  last_token0_holdings  last_token1_holdings  \\\n",
       "0           1.000000e+19          2.087676e+21          1.000000e+19   \n",
       "0           2.183696e+18          3.000000e+20          2.183696e+18   \n",
       "\n",
       "   token0_fees_accrued  token1_fees_accrued  token0_fees_collected  \\\n",
       "0                    0                    0                      0   \n",
       "0                    0                    0                      0   \n",
       "\n",
       "   token1_fees_collected  start_logIndex  start_blockNumber  \\\n",
       "0                      0             283           12376506   \n",
       "0                      0             184           12376622   \n",
       "\n",
       "   start_transactionIndex                              start_transactionHash  \\\n",
       "0                     173  0x6deb67cb498010802d532dbe2b50cb70bf56c20b1937...   \n",
       "0                      69  0xa2a1c2540b51c685464188d8fbc8101cc41e803bf50c...   \n",
       "\n",
       "   last_logIndex  last_blockNumber  last_transactionIndex  \\\n",
       "0            283          12376506                    173   \n",
       "0            184          12376622                     69   \n",
       "\n",
       "                                last_transactionHash  \n",
       "0  0x6deb67cb498010802d532dbe2b50cb70bf56c20b1937...  \n",
       "0  0xa2a1c2540b51c685464188d8fbc8101cc41e803bf50c...  "
      ]
     },
     "execution_count": 25,
     "metadata": {},
     "output_type": "execute_result"
    }
   ],
   "source": [
    "apos = pos.loc[(pos['tickLower'] < current_tick)&(pos['tickUpper'] >= current_tick)]\n",
    "L_tick = apos['L'].sum()\n",
    "apos"
   ]
  },
  {
   "cell_type": "code",
   "execution_count": 26,
   "metadata": {},
   "outputs": [
    {
     "data": {
      "text/plain": [
       "4.686759973719647e+19"
      ]
     },
     "execution_count": 26,
     "metadata": {},
     "output_type": "execute_result"
    }
   ],
   "source": [
    "L_tick *(1/sqrtPrice_lower - 1/sqrtPrice_current)"
   ]
  },
  {
   "cell_type": "code",
   "execution_count": 27,
   "metadata": {},
   "outputs": [
    {
     "data": {
      "text/plain": [
       "4.131753670374563e+19"
      ]
     },
     "execution_count": 27,
     "metadata": {},
     "output_type": "execute_result"
    }
   ],
   "source": [
    "amount0_a - L_tick *(1/sqrtPrice_lower - 1/sqrtPrice_current)"
   ]
  },
  {
   "cell_type": "code",
   "execution_count": 31,
   "metadata": {},
   "outputs": [],
   "source": [
    "current_tick, current_tick_lower, current_tick_upper = clm.get_tick_range(clm.tick)\n",
    "\n",
    "#Pick the side up or down the range\n",
    "\n",
    "sqrtPrice_current = clm.sqrtPrice\n",
    "sqrtPrice_lower = clm.tick_to_sqrtPrice(current_tick_lower)\n",
    "\n",
    "amount0_a = amount0_nf\n",
    "amount1_a = amount1_nf\n",
    "\n",
    "apos = pos.loc[(pos['tickLower'] < current_tick)&(pos['tickUpper'] >= current_tick)]\n",
    "L_tick = apos['L'].sum()\n",
    "\n",
    "while amount0_a > 0:\n",
    "    apos = pos.loc[(pos['tickLower'] < current_tick)&(pos['tickUpper'] >= current_tick)]\n",
    "    L_tick = apos['L'].sum()\n",
    "\n",
    "    #check if there is enough reserves in the tick\n",
    "    if L_tick*(1/sqrtPrice_lower - 1/sqrtPrice_current) > amount0_a:\n",
    "        sqrtPrice_new = 1/((amount0_a/L_tick)+(1/sqrtPrice_current))\n",
    "        tick_new = clm.sqrtPrice_to_tick(sqrtPrice_new)\n",
    "        break\n",
    "        #TODO Add fee to apos\n",
    "\n",
    "    else:\n",
    "        amount0_a -= L_tick *(1/sqrtPrice_lower - 1/sqrtPrice_current)\n",
    "        amount1_a -= L_tick *(sqrtPrice_lower - sqrtPrice_current)\n",
    "        current_tick = current_tick_lower\n",
    "        current_tick_lower = current_tick - clm.tickSpacing\n",
    "        sqrtPrice_current = clm.tick_to_sqrtPrice(current_tick)\n",
    "        sqrtPrice_lower = clm.tick_to_sqrtPrice(current_tick_lower)\n",
    "        #TODO Add fee to apos"
   ]
  },
  {
   "cell_type": "code",
   "execution_count": 34,
   "metadata": {},
   "outputs": [
    {
     "data": {
      "text/plain": [
       "(-1.7237222177362402e+20, 1.724685375e+21)"
      ]
     },
     "execution_count": 34,
     "metadata": {},
     "output_type": "execute_result"
    }
   ],
   "source": [
    "amount0_nf, amount1_nf "
   ]
  },
  {
   "cell_type": "code",
   "execution_count": null,
   "metadata": {},
   "outputs": [],
   "source": []
  },
  {
   "cell_type": "code",
   "execution_count": null,
   "metadata": {},
   "outputs": [],
   "source": []
  },
  {
   "cell_type": "code",
   "execution_count": 211,
   "metadata": {},
   "outputs": [
    {
     "data": {
      "text/plain": [
       "4.686759973719647e+19"
      ]
     },
     "execution_count": 211,
     "metadata": {},
     "output_type": "execute_result"
    }
   ],
   "source": [
    "L_tick*(1/sqrtPrice_lower - 1/sqrtPrice_current) "
   ]
  },
  {
   "cell_type": "code",
   "execution_count": 212,
   "metadata": {},
   "outputs": [
    {
     "data": {
      "text/plain": [
       "8.81851364409421e+19"
      ]
     },
     "execution_count": 212,
     "metadata": {},
     "output_type": "execute_result"
    }
   ],
   "source": [
    "amount0_a"
   ]
  },
  {
   "cell_type": "code",
   "execution_count": 205,
   "metadata": {},
   "outputs": [
    {
     "data": {
      "text/plain": [
       "False"
      ]
     },
     "execution_count": 205,
     "metadata": {},
     "output_type": "execute_result"
    }
   ],
   "source": [
    "#check if there is enough reserves in the tick\n",
    "if L_tick*(1/sqrtPrice_lower - 1/sqrtPrice_current) > amount0_a:\n",
    "    sqrtPrice_new = 1/((amount0_a/L_tick)+(1/sqrtPrice_current))\n",
    "    tick_new = clm.sqrtPrice_to_tick(sqrtPrice_new)\n",
    "else:\n",
    "    amount0_a -= L_tick *(1/sqrtPrice_lower - 1/sqrtPrice_current)\n",
    "    amount1_a -= L_tick *(sqrtPrice_lower - sqrtPrice_current)\n",
    "\n",
    "    current_tick = current_tick_lower\n",
    "    current_tick_lower = current_tick - clm.tickSpacing\n",
    "    sqrtPrice_current = clm.tick_to_sqrtPrice(current_tick)\n",
    "    sqrtPrice_upper = clm.tick_to_sqrtPrice(current_tick_upper)\n",
    "\n",
    "    \n",
    "\n"
   ]
  },
  {
   "cell_type": "code",
   "execution_count": 213,
   "metadata": {},
   "outputs": [],
   "source": [
    "amount0_a -= L_tick *(1/sqrtPrice_lower - 1/sqrtPrice_current)\n",
    "amount1_a -= L_tick *(sqrtPrice_lower - sqrtPrice_current)"
   ]
  },
  {
   "cell_type": "code",
   "execution_count": 214,
   "metadata": {},
   "outputs": [
    {
     "data": {
      "text/plain": [
       "(4.131753670374563e+19, -3.030205321024859e+17)"
      ]
     },
     "execution_count": 214,
     "metadata": {},
     "output_type": "execute_result"
    }
   ],
   "source": [
    "amount0_a, amount1_a"
   ]
  },
  {
   "cell_type": "code",
   "execution_count": 215,
   "metadata": {},
   "outputs": [],
   "source": [
    "current_tick = current_tick_lower\n",
    "current_tick_lower = current_tick - clm.tickSpacing\n",
    "sqrtPrice_current = clm.tick_to_sqrtPrice(current_tick)\n",
    "sqrtPrice_upper = clm.tick_to_sqrtPrice(current_tick_upper)"
   ]
  },
  {
   "cell_type": "code",
   "execution_count": 216,
   "metadata": {},
   "outputs": [
    {
     "data": {
      "text/plain": [
       "(0.08570216782513962, -49140)"
      ]
     },
     "execution_count": 216,
     "metadata": {},
     "output_type": "execute_result"
    }
   ],
   "source": [
    "sqrtPrice_current, current_tick"
   ]
  },
  {
   "cell_type": "code",
   "execution_count": 35,
   "metadata": {},
   "outputs": [],
   "source": [
    "current_tick, current_tick_lower, current_tick_upper = clm.get_tick_range(clm.tick)\n",
    "\n",
    "#Pick the side up or down the range\n",
    "\n",
    "sqrtPrice_current = clm.sqrtPrice\n",
    "sqrtPrice_upper = clm.tick_to_sqrtPrice(current_tick_upper)\n",
    "\n",
    "amount0_a = amount0_nf\n",
    "amount1_a = amount1_nf\n",
    "\n",
    "while amount1_a > 0:\n",
    "    apos = pos.loc[(pos['tickLower'] <= current_tick)&(pos['tickUpper'] > current_tick)]\n",
    "    L_tick = apos['L'].sum()\n",
    "\n",
    "    #check if there is enough reserves in the tick\n",
    "    if L_tick*(sqrtPrice_upper - sqrtPrice_current) > amount1_a:\n",
    "        sqrtPrice_new = sqrtPrice_current + (amount1_a/L_tick) #could be wrong \n",
    "        tick_new = clm.sqrtPrice_to_tick(sqrtPrice_new)\n",
    "        #TODO add fee to apos\n",
    "        #TODO save state\n",
    "        break\n",
    "\n",
    "    else:\n",
    "        amount0_a -= L_tick *(1/sqrtPrice_upper - 1/sqrtPrice_current)\n",
    "        amount1_a -= L_tick *(sqrtPrice_upper - sqrtPrice_current)\n",
    "\n",
    "        #TODO add fee to apos\n",
    "        current_tick = current_tick_upper\n",
    "        current_tick_upper = current_tick + clm.tickSpacing\n",
    "        sqrtPrice_current = clm.tick_to_sqrtPrice(current_tick)\n",
    "        sqrtPrice_upper = clm.tick_to_sqrtPrice(current_tick_upper)\n"
   ]
  },
  {
   "cell_type": "code",
   "execution_count": null,
   "metadata": {},
   "outputs": [],
   "source": []
  },
  {
   "cell_type": "code",
   "execution_count": 36,
   "metadata": {},
   "outputs": [
    {
     "data": {
      "text/plain": [
       "1.7451709863160457e+21"
      ]
     },
     "execution_count": 36,
     "metadata": {},
     "output_type": "execute_result"
    }
   ],
   "source": [
    "L_tick*(sqrtPrice_upper - sqrtPrice_current)"
   ]
  },
  {
   "cell_type": "code",
   "execution_count": 37,
   "metadata": {},
   "outputs": [
    {
     "data": {
      "text/plain": [
       "1.724685375e+21"
      ]
     },
     "execution_count": 37,
     "metadata": {},
     "output_type": "execute_result"
    }
   ],
   "source": [
    "amount1_a "
   ]
  },
  {
   "cell_type": "code",
   "execution_count": 38,
   "metadata": {},
   "outputs": [
    {
     "name": "stdout",
     "output_type": "stream",
     "text": [
      "liq in tick\n"
     ]
    }
   ],
   "source": [
    "if L_tick*(sqrtPrice_upper - sqrtPrice_current) > amount1_a:\n",
    "    print('liq in tick')"
   ]
  },
  {
   "cell_type": "code",
   "execution_count": 39,
   "metadata": {},
   "outputs": [],
   "source": [
    "damount_0 = L_tick *(1/sqrtPrice_upper - 1/sqrtPrice_current)\n",
    "damount_1 = L_tick *(sqrtPrice_upper - sqrtPrice_current)"
   ]
  },
  {
   "cell_type": "code",
   "execution_count": 40,
   "metadata": {},
   "outputs": [
    {
     "data": {
      "text/plain": [
       "(-1.7441813967523722e+20, 1.7451709863160457e+21)"
      ]
     },
     "execution_count": 40,
     "metadata": {},
     "output_type": "execute_result"
    }
   ],
   "source": [
    "damount_0, damount_1"
   ]
  },
  {
   "cell_type": "code",
   "execution_count": 41,
   "metadata": {},
   "outputs": [
    {
     "data": {
      "text/plain": [
       "(-1.7237222177362402e+20, 1.724685375e+21)"
      ]
     },
     "execution_count": 41,
     "metadata": {},
     "output_type": "execute_result"
    }
   ],
   "source": [
    "amount0_a, amount1_a"
   ]
  },
  {
   "cell_type": "code",
   "execution_count": 42,
   "metadata": {},
   "outputs": [
    {
     "data": {
      "text/plain": [
       "0.002317055132583512"
      ]
     },
     "execution_count": 42,
     "metadata": {},
     "output_type": "execute_result"
    }
   ],
   "source": [
    "(sqrtPrice_upper - sqrtPrice_current)"
   ]
  },
  {
   "cell_type": "code",
   "execution_count": null,
   "metadata": {},
   "outputs": [],
   "source": []
  },
  {
   "cell_type": "code",
   "execution_count": 43,
   "metadata": {},
   "outputs": [],
   "source": [
    "current_tick, current_tick_lower, current_tick_upper = clm.get_tick_range(clm.tick)\n",
    "\n",
    "#Pick the side up or down the range\n",
    "\n",
    "sqrtPrice_current = clm.sqrtPrice\n",
    "sqrtPrice_upper = clm.tick_to_sqrtPrice(current_tick_upper)\n",
    "\n",
    "amount0_a = amount0_nf\n",
    "amount1_a = amount1_nf"
   ]
  },
  {
   "cell_type": "code",
   "execution_count": 44,
   "metadata": {},
   "outputs": [
    {
     "data": {
      "text/plain": [
       "(-1.7237222177362402e+20, 1.724685375e+21)"
      ]
     },
     "execution_count": 44,
     "metadata": {},
     "output_type": "execute_result"
    }
   ],
   "source": [
    "amount0_a, amount1_a"
   ]
  },
  {
   "cell_type": "code",
   "execution_count": 45,
   "metadata": {},
   "outputs": [
    {
     "name": "stdout",
     "output_type": "stream",
     "text": [
      "1\n"
     ]
    }
   ],
   "source": [
    "apos = pos.loc[(pos['tickLower'] < current_tick)&(pos['tickUpper'] >= current_tick)]\n",
    "print(len(apos))\n",
    "L_tick = apos['L'].sum()"
   ]
  },
  {
   "cell_type": "code",
   "execution_count": 46,
   "metadata": {},
   "outputs": [
    {
     "data": {
      "text/plain": [
       "-1.7451709863160457e+21"
      ]
     },
     "execution_count": 46,
     "metadata": {},
     "output_type": "execute_result"
    }
   ],
   "source": [
    "(L_tick*(sqrtPrice_current - sqrtPrice_upper))\n"
   ]
  },
  {
   "cell_type": "code",
   "execution_count": null,
   "metadata": {},
   "outputs": [],
   "source": []
  },
  {
   "cell_type": "code",
   "execution_count": 47,
   "metadata": {},
   "outputs": [
    {
     "data": {
      "text/plain": [
       "7.531849207101876e+23"
      ]
     },
     "execution_count": 47,
     "metadata": {},
     "output_type": "execute_result"
    }
   ],
   "source": [
    "L_tick"
   ]
  },
  {
   "cell_type": "code",
   "execution_count": 48,
   "metadata": {},
   "outputs": [
    {
     "data": {
      "text/plain": [
       "(3.164306158759981, 23040)"
      ]
     },
     "execution_count": 48,
     "metadata": {},
     "output_type": "execute_result"
    }
   ],
   "source": [
    "sqrtPrice_new, clm.sqrtPrice_to_tick(sqrtPrice_new)"
   ]
  },
  {
   "cell_type": "code",
   "execution_count": 49,
   "metadata": {},
   "outputs": [
    {
     "name": "stdout",
     "output_type": "stream",
     "text": [
      "1\n",
      "3.159726445790226 23011\n"
     ]
    }
   ],
   "source": [
    "current_tick, current_tick_lower, current_tick_upper = clm.get_tick_range(clm.tick)\n",
    "\n",
    "#Pick the side up or down the range\n",
    "\n",
    "sqrtPrice_current = clm.sqrtPrice\n",
    "sqrtPrice_lower = clm.tick_to_sqrtPrice(current_tick_lower)\n",
    "\n",
    "amount0_a = amount0_nf\n",
    "amount1_a = amount1_nf\n",
    "\n",
    "while amount1_a > 0:\n",
    "    apos = pos.loc[(pos['tickLower'] < current_tick)&(pos['tickUpper'] >= current_tick)]\n",
    "    print(len(apos))\n",
    "    L_tick = apos['L'].sum()\n",
    "\n",
    "    #check if there is enough reserves in the tick\n",
    "    if ((L_tick*(sqrtPrice_current - sqrtPrice_lower)) - amount1_a) > 0:\n",
    "        sqrtPrice_new = sqrtPrice_current - (amount1_nf/L_tick) \n",
    "        tick_new = clm.sqrtPrice_to_tick(sqrtPrice_new)\n",
    "        print(sqrtPrice_new, tick_new)\n",
    "        #TODO add fee to apos\n",
    "        break\n",
    "    else:\n",
    "        amount0_a -= L_tick *(1/sqrtPrice_current - 1/sqrtPrice_lower)\n",
    "        amount1_a -= L_tick *(sqrtPrice_current - sqrtPrice_lower)\n",
    "        print(amount0_a, amount1_a)\n",
    "        #TODO add fee to apos\n",
    "        current_tick = current_tick_lower\n",
    "        current_tick_lower = current_tick -  clm.tickSpacing\n",
    "        sqrtPrice_current = clm.tick_to_sqrtPrice(current_tick)\n",
    "        sqrtPrice_lower = clm.tick_to_sqrtPrice(current_tick_lower)\n",
    "        print(sqrtPrice_current, current_tick)\n",
    "        "
   ]
  },
  {
   "cell_type": "code",
   "execution_count": null,
   "metadata": {},
   "outputs": [],
   "source": []
  },
  {
   "cell_type": "code",
   "execution_count": 667,
   "metadata": {},
   "outputs": [],
   "source": [
    "#loop from here"
   ]
  },
  {
   "cell_type": "code",
   "execution_count": null,
   "metadata": {},
   "outputs": [],
   "source": []
  },
  {
   "cell_type": "code",
   "execution_count": null,
   "metadata": {},
   "outputs": [],
   "source": []
  },
  {
   "cell_type": "code",
   "execution_count": null,
   "metadata": {},
   "outputs": [],
   "source": []
  },
  {
   "cell_type": "code",
   "execution_count": 609,
   "metadata": {},
   "outputs": [],
   "source": [
    "sqrtPrice_current = clm.sqrtPrice\n",
    "sqrtPrice_lower = clm.tick_to_sqrtPrice(current_tick_lower)"
   ]
  },
  {
   "cell_type": "code",
   "execution_count": 610,
   "metadata": {},
   "outputs": [],
   "source": [
    "amount1_a -= apos['L'].sum()*(sqrtPrice_current - sqrtPrice_lower)"
   ]
  },
  {
   "cell_type": "code",
   "execution_count": 611,
   "metadata": {},
   "outputs": [],
   "source": [
    "amount0_a -= apos['L'].sum()*(1/sqrtPrice_current - 1/sqrtPrice_lower)"
   ]
  },
  {
   "cell_type": "code",
   "execution_count": 612,
   "metadata": {},
   "outputs": [
    {
     "data": {
      "text/plain": [
       "(-2.794087835187154e+19, 2.110177210959484e+17)"
      ]
     },
     "execution_count": 612,
     "metadata": {},
     "output_type": "execute_result"
    }
   ],
   "source": [
    "amount0_a, amount1_a"
   ]
  },
  {
   "cell_type": "code",
   "execution_count": 613,
   "metadata": {},
   "outputs": [],
   "source": [
    "#new i"
   ]
  },
  {
   "cell_type": "code",
   "execution_count": 614,
   "metadata": {},
   "outputs": [],
   "source": [
    "current_tick = current_tick_lower\n",
    "current_tick_lower = current_tick -  clm.tickSpacing"
   ]
  },
  {
   "cell_type": "code",
   "execution_count": 615,
   "metadata": {},
   "outputs": [],
   "source": [
    "sqrtPrice_current = clm.tick_to_sqrtPrice(current_tick)\n",
    "sqrtPrice_lower = clm.tick_to_sqrtPrice(current_tick_lower)"
   ]
  },
  {
   "cell_type": "code",
   "execution_count": 616,
   "metadata": {},
   "outputs": [
    {
     "data": {
      "text/plain": [
       "(-49260.0, -49320.0)"
      ]
     },
     "execution_count": 616,
     "metadata": {},
     "output_type": "execute_result"
    }
   ],
   "source": [
    "current_tick, current_tick_lower"
   ]
  },
  {
   "cell_type": "code",
   "execution_count": 617,
   "metadata": {},
   "outputs": [
    {
     "data": {
      "text/plain": [
       "(0.0851895199317025, 0.08493434708098344)"
      ]
     },
     "execution_count": 617,
     "metadata": {},
     "output_type": "execute_result"
    }
   ],
   "source": [
    "sqrtPrice_current, sqrtPrice_lower"
   ]
  },
  {
   "cell_type": "code",
   "execution_count": 618,
   "metadata": {},
   "outputs": [
    {
     "data": {
      "text/html": [
       "<div>\n",
       "<style scoped>\n",
       "    .dataframe tbody tr th:only-of-type {\n",
       "        vertical-align: middle;\n",
       "    }\n",
       "\n",
       "    .dataframe tbody tr th {\n",
       "        vertical-align: top;\n",
       "    }\n",
       "\n",
       "    .dataframe thead th {\n",
       "        text-align: right;\n",
       "    }\n",
       "</style>\n",
       "<table border=\"1\" class=\"dataframe\">\n",
       "  <thead>\n",
       "    <tr style=\"text-align: right;\">\n",
       "      <th></th>\n",
       "      <th>L</th>\n",
       "      <th>tickLower</th>\n",
       "      <th>tickUpper</th>\n",
       "      <th>owner</th>\n",
       "      <th>start_token0_holdings</th>\n",
       "      <th>start_token1_holdings</th>\n",
       "      <th>last_token0_holdings</th>\n",
       "      <th>last_token1_holdings</th>\n",
       "      <th>token0_fees_accrued</th>\n",
       "      <th>token1_fees_accrued</th>\n",
       "      <th>token0_fees_collected</th>\n",
       "      <th>token1_fees_collected</th>\n",
       "      <th>start_logIndex</th>\n",
       "      <th>start_blockNumber</th>\n",
       "      <th>start_transactionIndex</th>\n",
       "      <th>start_transactionHash</th>\n",
       "      <th>last_logIndex</th>\n",
       "      <th>last_blockNumber</th>\n",
       "      <th>last_transactionIndex</th>\n",
       "      <th>last_transactionHash</th>\n",
       "    </tr>\n",
       "  </thead>\n",
       "  <tbody>\n",
       "    <tr>\n",
       "      <th>0</th>\n",
       "      <td>1.836801e+21</td>\n",
       "      <td>-50520.0</td>\n",
       "      <td>-47160.0</td>\n",
       "      <td>0xC36442b4a4522E871399CD717aBDD847Ab11FE88</td>\n",
       "      <td>2.087676e+21</td>\n",
       "      <td>1.000000e+19</td>\n",
       "      <td>2.087676e+21</td>\n",
       "      <td>1.000000e+19</td>\n",
       "      <td>0</td>\n",
       "      <td>0</td>\n",
       "      <td>0</td>\n",
       "      <td>0</td>\n",
       "      <td>283</td>\n",
       "      <td>12376506</td>\n",
       "      <td>173</td>\n",
       "      <td>0x6deb67cb498010802d532dbe2b50cb70bf56c20b1937...</td>\n",
       "      <td>283</td>\n",
       "      <td>12376506</td>\n",
       "      <td>173</td>\n",
       "      <td>0x6deb67cb498010802d532dbe2b50cb70bf56c20b1937...</td>\n",
       "    </tr>\n",
       "    <tr>\n",
       "      <th>0</th>\n",
       "      <td>2.567967e+20</td>\n",
       "      <td>-51300.0</td>\n",
       "      <td>-47100.0</td>\n",
       "      <td>0xC36442b4a4522E871399CD717aBDD847Ab11FE88</td>\n",
       "      <td>3.000000e+20</td>\n",
       "      <td>2.183696e+18</td>\n",
       "      <td>3.000000e+20</td>\n",
       "      <td>2.183696e+18</td>\n",
       "      <td>0</td>\n",
       "      <td>0</td>\n",
       "      <td>0</td>\n",
       "      <td>0</td>\n",
       "      <td>184</td>\n",
       "      <td>12376622</td>\n",
       "      <td>69</td>\n",
       "      <td>0xa2a1c2540b51c685464188d8fbc8101cc41e803bf50c...</td>\n",
       "      <td>184</td>\n",
       "      <td>12376622</td>\n",
       "      <td>69</td>\n",
       "      <td>0xa2a1c2540b51c685464188d8fbc8101cc41e803bf50c...</td>\n",
       "    </tr>\n",
       "  </tbody>\n",
       "</table>\n",
       "</div>"
      ],
      "text/plain": [
       "              L  tickLower  tickUpper  \\\n",
       "0  1.836801e+21   -50520.0   -47160.0   \n",
       "0  2.567967e+20   -51300.0   -47100.0   \n",
       "\n",
       "                                        owner  start_token0_holdings  \\\n",
       "0  0xC36442b4a4522E871399CD717aBDD847Ab11FE88           2.087676e+21   \n",
       "0  0xC36442b4a4522E871399CD717aBDD847Ab11FE88           3.000000e+20   \n",
       "\n",
       "   start_token1_holdings  last_token0_holdings  last_token1_holdings  \\\n",
       "0           1.000000e+19          2.087676e+21          1.000000e+19   \n",
       "0           2.183696e+18          3.000000e+20          2.183696e+18   \n",
       "\n",
       "   token0_fees_accrued  token1_fees_accrued  token0_fees_collected  \\\n",
       "0                    0                    0                      0   \n",
       "0                    0                    0                      0   \n",
       "\n",
       "   token1_fees_collected  start_logIndex  start_blockNumber  \\\n",
       "0                      0             283           12376506   \n",
       "0                      0             184           12376622   \n",
       "\n",
       "   start_transactionIndex                              start_transactionHash  \\\n",
       "0                     173  0x6deb67cb498010802d532dbe2b50cb70bf56c20b1937...   \n",
       "0                      69  0xa2a1c2540b51c685464188d8fbc8101cc41e803bf50c...   \n",
       "\n",
       "   last_logIndex  last_blockNumber  last_transactionIndex  \\\n",
       "0            283          12376506                    173   \n",
       "0            184          12376622                     69   \n",
       "\n",
       "                                last_transactionHash  \n",
       "0  0x6deb67cb498010802d532dbe2b50cb70bf56c20b1937...  \n",
       "0  0xa2a1c2540b51c685464188d8fbc8101cc41e803bf50c...  "
      ]
     },
     "execution_count": 618,
     "metadata": {},
     "output_type": "execute_result"
    }
   ],
   "source": [
    "apos = pos.loc[(pos['tickLower'] < current_tick)&(pos['tickUpper'] >= current_tick)]\n",
    "apos"
   ]
  },
  {
   "cell_type": "code",
   "execution_count": 622,
   "metadata": {},
   "outputs": [],
   "source": [
    "tick_L = apos['L'].sum()"
   ]
  },
  {
   "cell_type": "code",
   "execution_count": 624,
   "metadata": {},
   "outputs": [
    {
     "data": {
      "text/plain": [
       "True"
      ]
     },
     "execution_count": 624,
     "metadata": {},
     "output_type": "execute_result"
    }
   ],
   "source": [
    "if tick_L*(sqrtPrice_current - sqrtPrice_lower) > amount0_nf:\n",
    "    "
   ]
  },
  {
   "cell_type": "code",
   "execution_count": 619,
   "metadata": {},
   "outputs": [],
   "source": [
    "amount1_a -= apos['L'].sum()*(sqrtPrice_current - sqrtPrice_lower)"
   ]
  },
  {
   "cell_type": "code",
   "execution_count": 620,
   "metadata": {},
   "outputs": [],
   "source": [
    "amount0_a -= apos['L'].sum()*(1/sqrtPrice_current - 1/sqrtPrice_lower)"
   ]
  },
  {
   "cell_type": "code",
   "execution_count": 621,
   "metadata": {},
   "outputs": [
    {
     "data": {
      "text/plain": [
       "(4.589341605296516e+19, -3.232115161390132e+17)"
      ]
     },
     "execution_count": 621,
     "metadata": {},
     "output_type": "execute_result"
    }
   ],
   "source": [
    "amount0_a, amount1_a # sign has fliped, gone to far"
   ]
  },
  {
   "cell_type": "code",
   "execution_count": null,
   "metadata": {},
   "outputs": [],
   "source": [
    "#first check there is enough in range \n",
    "#then calc the new sqrtP\n",
    "#check the sqrtP with the log and also the liquidity"
   ]
  },
  {
   "cell_type": "code",
   "execution_count": null,
   "metadata": {},
   "outputs": [],
   "source": [
    "tick_L*(((tick_L*sqrtPrice_current)/((dxf*sqrtPrice_current) + tick_L))-sqrtPrice_current)"
   ]
  },
  {
   "cell_type": "code",
   "execution_count": null,
   "metadata": {},
   "outputs": [],
   "source": []
  },
  {
   "cell_type": "code",
   "execution_count": null,
   "metadata": {},
   "outputs": [
    {
     "ename": "NameError",
     "evalue": "name 'dy' is not defined",
     "output_type": "error",
     "traceback": [
      "\u001b[0;31m---------------------------------------------------------------------------\u001b[0m\n",
      "\u001b[0;31mNameError\u001b[0m                                 Traceback (most recent call last)\n",
      "Cell \u001b[0;32mIn[625], line 1\u001b[0m\n",
      "\u001b[0;32m----> 1\u001b[0m \u001b[43mdy\u001b[49m \u001b[38;5;241m+\u001b[39m\u001b[38;5;241m=\u001b[39m L\u001b[38;5;241m*\u001b[39m(((L\u001b[38;5;241m*\u001b[39msqrtP)\u001b[38;5;241m/\u001b[39m((dx\u001b[38;5;241m*\u001b[39msqrtP) \u001b[38;5;241m+\u001b[39m L))\u001b[38;5;241m-\u001b[39msqrtP)\n",
      "\n",
      "\u001b[0;31mNameError\u001b[0m: name 'dy' is not defined"
     ]
    }
   ],
   "source": [
    "dy += L*(((L*sqrtP)/((dx*sqrtP) + L))-sqrtP)"
   ]
  },
  {
   "cell_type": "code",
   "execution_count": null,
   "metadata": {},
   "outputs": [],
   "source": [
    "#fee is proportion in bound of total in by L weight "
   ]
  },
  {
   "cell_type": "code",
   "execution_count": 486,
   "metadata": {},
   "outputs": [
    {
     "data": {
      "text/plain": [
       "0.20554488914502483"
      ]
     },
     "execution_count": 486,
     "metadata": {},
     "output_type": "execute_result"
    }
   ],
   "source": [
    "amount0_a/amount0_nf"
   ]
  },
  {
   "cell_type": "code",
   "execution_count": null,
   "metadata": {},
   "outputs": [],
   "source": []
  },
  {
   "cell_type": "code",
   "execution_count": null,
   "metadata": {},
   "outputs": [],
   "source": []
  },
  {
   "cell_type": "code",
   "execution_count": 393,
   "metadata": {},
   "outputs": [
    {
     "data": {
      "text/html": [
       "<div>\n",
       "<style scoped>\n",
       "    .dataframe tbody tr th:only-of-type {\n",
       "        vertical-align: middle;\n",
       "    }\n",
       "\n",
       "    .dataframe tbody tr th {\n",
       "        vertical-align: top;\n",
       "    }\n",
       "\n",
       "    .dataframe thead th {\n",
       "        text-align: right;\n",
       "    }\n",
       "</style>\n",
       "<table border=\"1\" class=\"dataframe\">\n",
       "  <thead>\n",
       "    <tr style=\"text-align: right;\">\n",
       "      <th></th>\n",
       "      <th>L</th>\n",
       "      <th>tickLower</th>\n",
       "      <th>tickUpper</th>\n",
       "      <th>owner</th>\n",
       "      <th>start_token0_holdings</th>\n",
       "      <th>start_token1_holdings</th>\n",
       "      <th>last_token0_holdings</th>\n",
       "      <th>last_token1_holdings</th>\n",
       "      <th>token0_fees_accrued</th>\n",
       "      <th>token1_fees_accrued</th>\n",
       "      <th>token0_fees_collected</th>\n",
       "      <th>token1_fees_collected</th>\n",
       "      <th>start_logIndex</th>\n",
       "      <th>start_blockNumber</th>\n",
       "      <th>start_transactionIndex</th>\n",
       "      <th>start_transactionHash</th>\n",
       "      <th>last_logIndex</th>\n",
       "      <th>last_blockNumber</th>\n",
       "      <th>last_transactionIndex</th>\n",
       "      <th>last_transactionHash</th>\n",
       "    </tr>\n",
       "  </thead>\n",
       "  <tbody>\n",
       "    <tr>\n",
       "      <th>0</th>\n",
       "      <td>1.139244e+21</td>\n",
       "      <td>-49260.0</td>\n",
       "      <td>-49200.0</td>\n",
       "      <td>0xC36442b4a4522E871399CD717aBDD847Ab11FE88</td>\n",
       "      <td>2.000000e+18</td>\n",
       "      <td>2.769779e+17</td>\n",
       "      <td>2.000000e+18</td>\n",
       "      <td>2.769779e+17</td>\n",
       "      <td>0</td>\n",
       "      <td>0</td>\n",
       "      <td>0</td>\n",
       "      <td>0</td>\n",
       "      <td>209</td>\n",
       "      <td>12376332</td>\n",
       "      <td>84</td>\n",
       "      <td>0xa3a37265f2f428b110d89a0df297a47b537f77b9cceb...</td>\n",
       "      <td>209</td>\n",
       "      <td>12376332</td>\n",
       "      <td>84</td>\n",
       "      <td>0xa3a37265f2f428b110d89a0df297a47b537f77b9cceb...</td>\n",
       "    </tr>\n",
       "    <tr>\n",
       "      <th>0</th>\n",
       "      <td>1.836801e+21</td>\n",
       "      <td>-50520.0</td>\n",
       "      <td>-47160.0</td>\n",
       "      <td>0xC36442b4a4522E871399CD717aBDD847Ab11FE88</td>\n",
       "      <td>2.087676e+21</td>\n",
       "      <td>1.000000e+19</td>\n",
       "      <td>2.087676e+21</td>\n",
       "      <td>1.000000e+19</td>\n",
       "      <td>0</td>\n",
       "      <td>0</td>\n",
       "      <td>0</td>\n",
       "      <td>0</td>\n",
       "      <td>283</td>\n",
       "      <td>12376506</td>\n",
       "      <td>173</td>\n",
       "      <td>0x6deb67cb498010802d532dbe2b50cb70bf56c20b1937...</td>\n",
       "      <td>283</td>\n",
       "      <td>12376506</td>\n",
       "      <td>173</td>\n",
       "      <td>0x6deb67cb498010802d532dbe2b50cb70bf56c20b1937...</td>\n",
       "    </tr>\n",
       "    <tr>\n",
       "      <th>0</th>\n",
       "      <td>2.567967e+20</td>\n",
       "      <td>-51300.0</td>\n",
       "      <td>-47100.0</td>\n",
       "      <td>0xC36442b4a4522E871399CD717aBDD847Ab11FE88</td>\n",
       "      <td>3.000000e+20</td>\n",
       "      <td>2.183696e+18</td>\n",
       "      <td>3.000000e+20</td>\n",
       "      <td>2.183696e+18</td>\n",
       "      <td>0</td>\n",
       "      <td>0</td>\n",
       "      <td>0</td>\n",
       "      <td>0</td>\n",
       "      <td>184</td>\n",
       "      <td>12376622</td>\n",
       "      <td>69</td>\n",
       "      <td>0xa2a1c2540b51c685464188d8fbc8101cc41e803bf50c...</td>\n",
       "      <td>184</td>\n",
       "      <td>12376622</td>\n",
       "      <td>69</td>\n",
       "      <td>0xa2a1c2540b51c685464188d8fbc8101cc41e803bf50c...</td>\n",
       "    </tr>\n",
       "  </tbody>\n",
       "</table>\n",
       "</div>"
      ],
      "text/plain": [
       "              L  tickLower  tickUpper  \\\n",
       "0  1.139244e+21   -49260.0   -49200.0   \n",
       "0  1.836801e+21   -50520.0   -47160.0   \n",
       "0  2.567967e+20   -51300.0   -47100.0   \n",
       "\n",
       "                                        owner  start_token0_holdings  \\\n",
       "0  0xC36442b4a4522E871399CD717aBDD847Ab11FE88           2.000000e+18   \n",
       "0  0xC36442b4a4522E871399CD717aBDD847Ab11FE88           2.087676e+21   \n",
       "0  0xC36442b4a4522E871399CD717aBDD847Ab11FE88           3.000000e+20   \n",
       "\n",
       "   start_token1_holdings  last_token0_holdings  last_token1_holdings  \\\n",
       "0           2.769779e+17          2.000000e+18          2.769779e+17   \n",
       "0           1.000000e+19          2.087676e+21          1.000000e+19   \n",
       "0           2.183696e+18          3.000000e+20          2.183696e+18   \n",
       "\n",
       "   token0_fees_accrued  token1_fees_accrued  token0_fees_collected  \\\n",
       "0                    0                    0                      0   \n",
       "0                    0                    0                      0   \n",
       "0                    0                    0                      0   \n",
       "\n",
       "   token1_fees_collected  start_logIndex  start_blockNumber  \\\n",
       "0                      0             209           12376332   \n",
       "0                      0             283           12376506   \n",
       "0                      0             184           12376622   \n",
       "\n",
       "   start_transactionIndex                              start_transactionHash  \\\n",
       "0                      84  0xa3a37265f2f428b110d89a0df297a47b537f77b9cceb...   \n",
       "0                     173  0x6deb67cb498010802d532dbe2b50cb70bf56c20b1937...   \n",
       "0                      69  0xa2a1c2540b51c685464188d8fbc8101cc41e803bf50c...   \n",
       "\n",
       "   last_logIndex  last_blockNumber  last_transactionIndex  \\\n",
       "0            209          12376332                     84   \n",
       "0            283          12376506                    173   \n",
       "0            184          12376622                     69   \n",
       "\n",
       "                                last_transactionHash  \n",
       "0  0xa3a37265f2f428b110d89a0df297a47b537f77b9cceb...  \n",
       "0  0x6deb67cb498010802d532dbe2b50cb70bf56c20b1937...  \n",
       "0  0xa2a1c2540b51c685464188d8fbc8101cc41e803bf50c...  "
      ]
     },
     "execution_count": 393,
     "metadata": {},
     "output_type": "execute_result"
    }
   ],
   "source": [
    "pos.loc[(pos['tickLower']  < current_tick)&(pos['tickUpper'] > current_tick)]"
   ]
  },
  {
   "cell_type": "code",
   "execution_count": 394,
   "metadata": {},
   "outputs": [
    {
     "data": {
      "text/plain": [
       "-3.0"
      ]
     },
     "execution_count": 394,
     "metadata": {},
     "output_type": "execute_result"
    }
   ],
   "source": [
    "current_tick - -49200"
   ]
  },
  {
   "cell_type": "code",
   "execution_count": null,
   "metadata": {},
   "outputs": [],
   "source": []
  },
  {
   "cell_type": "code",
   "execution_count": null,
   "metadata": {},
   "outputs": [],
   "source": []
  },
  {
   "cell_type": "code",
   "execution_count": null,
   "metadata": {},
   "outputs": [],
   "source": [
    "swap_df = pd.DataFrame([['Burn', logIndex, blockNumber, transactionIndex, transactionHash, sender, amount, tickLower, tickUpper, amount0, amount1]], \n",
    "                       columns=['event', 'logIndex', 'blockNumber', 'transactionIndex', 'transactionHash', 'sender', 'amount', 'tickLower', 'tickUpper', 'amount0', 'amount1'])\n",
    "        "
   ]
  },
  {
   "cell_type": "code",
   "execution_count": 231,
   "metadata": {},
   "outputs": [
    {
     "data": {
      "text/html": [
       "<div>\n",
       "<style scoped>\n",
       "    .dataframe tbody tr th:only-of-type {\n",
       "        vertical-align: middle;\n",
       "    }\n",
       "\n",
       "    .dataframe tbody tr th {\n",
       "        vertical-align: top;\n",
       "    }\n",
       "\n",
       "    .dataframe thead th {\n",
       "        text-align: right;\n",
       "    }\n",
       "</style>\n",
       "<table border=\"1\" class=\"dataframe\">\n",
       "  <thead>\n",
       "    <tr style=\"text-align: right;\">\n",
       "      <th></th>\n",
       "      <th>logIndex</th>\n",
       "      <th>blockNumber</th>\n",
       "      <th>transactionIndex</th>\n",
       "      <th>transactionHash</th>\n",
       "      <th>sender</th>\n",
       "      <th>amount</th>\n",
       "      <th>tickLower</th>\n",
       "      <th>tickUpper</th>\n",
       "      <th>amount0</th>\n",
       "      <th>amount1</th>\n",
       "    </tr>\n",
       "  </thead>\n",
       "  <tbody>\n",
       "    <tr>\n",
       "      <th>0</th>\n",
       "      <td>209</td>\n",
       "      <td>12376332</td>\n",
       "      <td>84</td>\n",
       "      <td>0xa3a37265f2f428b110d89a0df297a47b537f77b9cceb...</td>\n",
       "      <td>0xC36442b4a4522E871399CD717aBDD847Ab11FE88</td>\n",
       "      <td>1.139244e+21</td>\n",
       "      <td>-49260.0</td>\n",
       "      <td>-49200.0</td>\n",
       "      <td>2.000000e+18</td>\n",
       "      <td>2.769779e+17</td>\n",
       "    </tr>\n",
       "  </tbody>\n",
       "</table>\n",
       "</div>"
      ],
      "text/plain": [
       "   logIndex  blockNumber  transactionIndex  \\\n",
       "0       209     12376332                84   \n",
       "\n",
       "                                     transactionHash  \\\n",
       "0  0xa3a37265f2f428b110d89a0df297a47b537f77b9cceb...   \n",
       "\n",
       "                                       sender        amount  tickLower  \\\n",
       "0  0xC36442b4a4522E871399CD717aBDD847Ab11FE88  1.139244e+21   -49260.0   \n",
       "\n",
       "   tickUpper       amount0       amount1  \n",
       "0   -49200.0  2.000000e+18  2.769779e+17  "
      ]
     },
     "execution_count": 231,
     "metadata": {},
     "output_type": "execute_result"
    }
   ],
   "source": [
    "clm.mints"
   ]
  },
  {
   "cell_type": "code",
   "execution_count": 232,
   "metadata": {},
   "outputs": [
    {
     "data": {
      "text/html": [
       "<div>\n",
       "<style scoped>\n",
       "    .dataframe tbody tr th:only-of-type {\n",
       "        vertical-align: middle;\n",
       "    }\n",
       "\n",
       "    .dataframe tbody tr th {\n",
       "        vertical-align: top;\n",
       "    }\n",
       "\n",
       "    .dataframe thead th {\n",
       "        text-align: right;\n",
       "    }\n",
       "</style>\n",
       "<table border=\"1\" class=\"dataframe\">\n",
       "  <thead>\n",
       "    <tr style=\"text-align: right;\">\n",
       "      <th></th>\n",
       "      <th>logIndex</th>\n",
       "      <th>blockNumber</th>\n",
       "      <th>transactionIndex</th>\n",
       "      <th>transactionHash</th>\n",
       "      <th>sender</th>\n",
       "      <th>amount</th>\n",
       "      <th>tickLower</th>\n",
       "      <th>tickUpper</th>\n",
       "      <th>amount0</th>\n",
       "      <th>amount1</th>\n",
       "    </tr>\n",
       "  </thead>\n",
       "  <tbody>\n",
       "    <tr>\n",
       "      <th>0</th>\n",
       "      <td>209</td>\n",
       "      <td>12376332</td>\n",
       "      <td>84</td>\n",
       "      <td>0xa3a37265f2f428b110d89a0df297a47b537f77b9cceb...</td>\n",
       "      <td>0xC36442b4a4522E871399CD717aBDD847Ab11FE88</td>\n",
       "      <td>1.139244e+21</td>\n",
       "      <td>-49260.0</td>\n",
       "      <td>-49200.0</td>\n",
       "      <td>2.000000e+18</td>\n",
       "      <td>2.769779e+17</td>\n",
       "    </tr>\n",
       "  </tbody>\n",
       "</table>\n",
       "</div>"
      ],
      "text/plain": [
       "   logIndex  blockNumber  transactionIndex  \\\n",
       "0       209     12376332                84   \n",
       "\n",
       "                                     transactionHash  \\\n",
       "0  0xa3a37265f2f428b110d89a0df297a47b537f77b9cceb...   \n",
       "\n",
       "                                       sender        amount  tickLower  \\\n",
       "0  0xC36442b4a4522E871399CD717aBDD847Ab11FE88  1.139244e+21   -49260.0   \n",
       "\n",
       "   tickUpper       amount0       amount1  \n",
       "0   -49200.0  2.000000e+18  2.769779e+17  "
      ]
     },
     "execution_count": 232,
     "metadata": {},
     "output_type": "execute_result"
    }
   ],
   "source": [
    "clm.view_all_pool_events()"
   ]
  },
  {
   "cell_type": "code",
   "execution_count": 233,
   "metadata": {},
   "outputs": [
    {
     "data": {
      "text/html": [
       "<div>\n",
       "<style scoped>\n",
       "    .dataframe tbody tr th:only-of-type {\n",
       "        vertical-align: middle;\n",
       "    }\n",
       "\n",
       "    .dataframe tbody tr th {\n",
       "        vertical-align: top;\n",
       "    }\n",
       "\n",
       "    .dataframe thead th {\n",
       "        text-align: right;\n",
       "    }\n",
       "</style>\n",
       "<table border=\"1\" class=\"dataframe\">\n",
       "  <thead>\n",
       "    <tr style=\"text-align: right;\">\n",
       "      <th></th>\n",
       "      <th>L</th>\n",
       "      <th>tickLower</th>\n",
       "      <th>tickUpper</th>\n",
       "      <th>owner</th>\n",
       "      <th>start_token0_holdings</th>\n",
       "      <th>start_token1_holdings</th>\n",
       "      <th>last_token0_holdings</th>\n",
       "      <th>last_token1_holdings</th>\n",
       "      <th>token0_fees_accrued</th>\n",
       "      <th>token1_fees_accrued</th>\n",
       "      <th>token0_fees_collected</th>\n",
       "      <th>token1_fees_collected</th>\n",
       "      <th>start_logIndex</th>\n",
       "      <th>start_blockNumber</th>\n",
       "      <th>start_transactionIndex</th>\n",
       "      <th>start_transactionHash</th>\n",
       "      <th>last_logIndex</th>\n",
       "      <th>last_blockNumber</th>\n",
       "      <th>last_transactionIndex</th>\n",
       "      <th>last_transactionHash</th>\n",
       "    </tr>\n",
       "  </thead>\n",
       "  <tbody>\n",
       "    <tr>\n",
       "      <th>0</th>\n",
       "      <td>1.139244e+21</td>\n",
       "      <td>-49260.0</td>\n",
       "      <td>-49200.0</td>\n",
       "      <td>0xC36442b4a4522E871399CD717aBDD847Ab11FE88</td>\n",
       "      <td>2.000000e+18</td>\n",
       "      <td>2.769779e+17</td>\n",
       "      <td>2.000000e+18</td>\n",
       "      <td>2.769779e+17</td>\n",
       "      <td>0</td>\n",
       "      <td>0</td>\n",
       "      <td>0</td>\n",
       "      <td>0</td>\n",
       "      <td>209</td>\n",
       "      <td>12376332</td>\n",
       "      <td>84</td>\n",
       "      <td>0xa3a37265f2f428b110d89a0df297a47b537f77b9cceb...</td>\n",
       "      <td>209</td>\n",
       "      <td>12376332</td>\n",
       "      <td>84</td>\n",
       "      <td>0xa3a37265f2f428b110d89a0df297a47b537f77b9cceb...</td>\n",
       "    </tr>\n",
       "  </tbody>\n",
       "</table>\n",
       "</div>"
      ],
      "text/plain": [
       "              L  tickLower  tickUpper  \\\n",
       "0  1.139244e+21   -49260.0   -49200.0   \n",
       "\n",
       "                                        owner  start_token0_holdings  \\\n",
       "0  0xC36442b4a4522E871399CD717aBDD847Ab11FE88           2.000000e+18   \n",
       "\n",
       "   start_token1_holdings  last_token0_holdings  last_token1_holdings  \\\n",
       "0           2.769779e+17          2.000000e+18          2.769779e+17   \n",
       "\n",
       "   token0_fees_accrued  token1_fees_accrued  token0_fees_collected  \\\n",
       "0                    0                    0                      0   \n",
       "\n",
       "   token1_fees_collected  start_logIndex  start_blockNumber  \\\n",
       "0                      0             209           12376332   \n",
       "\n",
       "   start_transactionIndex                              start_transactionHash  \\\n",
       "0                      84  0xa3a37265f2f428b110d89a0df297a47b537f77b9cceb...   \n",
       "\n",
       "   last_logIndex  last_blockNumber  last_transactionIndex  \\\n",
       "0            209          12376332                     84   \n",
       "\n",
       "                                last_transactionHash  \n",
       "0  0xa3a37265f2f428b110d89a0df297a47b537f77b9cceb...  "
      ]
     },
     "execution_count": 233,
     "metadata": {},
     "output_type": "execute_result"
    }
   ],
   "source": [
    "clm.active_positions"
   ]
  },
  {
   "cell_type": "code",
   "execution_count": 6,
   "metadata": {},
   "outputs": [],
   "source": []
  },
  {
   "cell_type": "code",
   "execution_count": 3,
   "metadata": {},
   "outputs": [],
   "source": [
    "df = pd.read_parquet(\"/Volumes/luke-uni/data/uniswap-v3/raw/0x157dfa656fdf0d18e1ba94075a53600d81cb3a97/0x157dfa656fdf0d18e1ba94075a53600d81cb3a97_12000000_13000000.parquet\")"
   ]
  },
  {
   "cell_type": "code",
   "execution_count": 5,
   "metadata": {},
   "outputs": [
    {
     "data": {
      "text/html": [
       "<div>\n",
       "<style scoped>\n",
       "    .dataframe tbody tr th:only-of-type {\n",
       "        vertical-align: middle;\n",
       "    }\n",
       "\n",
       "    .dataframe tbody tr th {\n",
       "        vertical-align: top;\n",
       "    }\n",
       "\n",
       "    .dataframe thead th {\n",
       "        text-align: right;\n",
       "    }\n",
       "</style>\n",
       "<table border=\"1\" class=\"dataframe\">\n",
       "  <thead>\n",
       "    <tr style=\"text-align: right;\">\n",
       "      <th></th>\n",
       "      <th>event</th>\n",
       "      <th>logIndex</th>\n",
       "      <th>transactionIndex</th>\n",
       "      <th>transactionHash</th>\n",
       "      <th>address</th>\n",
       "      <th>blockHash</th>\n",
       "      <th>blockNumber</th>\n",
       "      <th>args.sqrtPriceX96</th>\n",
       "      <th>args.tick</th>\n",
       "      <th>args.owner</th>\n",
       "      <th>args.tickLower</th>\n",
       "      <th>args.tickUpper</th>\n",
       "      <th>args.sender</th>\n",
       "      <th>args.amount</th>\n",
       "      <th>args.amount0</th>\n",
       "      <th>args.amount1</th>\n",
       "      <th>args.recipient</th>\n",
       "      <th>args.liquidity</th>\n",
       "      <th>args.observationCardinalityNextOld</th>\n",
       "      <th>args.observationCardinalityNextNew</th>\n",
       "    </tr>\n",
       "  </thead>\n",
       "  <tbody>\n",
       "    <tr>\n",
       "      <th>0</th>\n",
       "      <td>Initialize</td>\n",
       "      <td>204</td>\n",
       "      <td>84</td>\n",
       "      <td>0xa3a37265f2f428b110d89a0df297a47b537f77b9cceb...</td>\n",
       "      <td>0x157Dfa656Fdf0D18E1bA94075a53600D81cB3a97</td>\n",
       "      <td>0xa6f91c98be020ba125040ac0a9e4b7c4cc8bc2888d76...</td>\n",
       "      <td>12376332</td>\n",
       "      <td>6.768671e+27</td>\n",
       "      <td>-49203.0</td>\n",
       "      <td>None</td>\n",
       "      <td>NaN</td>\n",
       "      <td>NaN</td>\n",
       "      <td>None</td>\n",
       "      <td>NaN</td>\n",
       "      <td>NaN</td>\n",
       "      <td>NaN</td>\n",
       "      <td>None</td>\n",
       "      <td>NaN</td>\n",
       "      <td>NaN</td>\n",
       "      <td>NaN</td>\n",
       "    </tr>\n",
       "    <tr>\n",
       "      <th>1</th>\n",
       "      <td>Mint</td>\n",
       "      <td>209</td>\n",
       "      <td>84</td>\n",
       "      <td>0xa3a37265f2f428b110d89a0df297a47b537f77b9cceb...</td>\n",
       "      <td>0x157Dfa656Fdf0D18E1bA94075a53600D81cB3a97</td>\n",
       "      <td>0xa6f91c98be020ba125040ac0a9e4b7c4cc8bc2888d76...</td>\n",
       "      <td>12376332</td>\n",
       "      <td>NaN</td>\n",
       "      <td>NaN</td>\n",
       "      <td>0xC36442b4a4522E871399CD717aBDD847Ab11FE88</td>\n",
       "      <td>-49260.0</td>\n",
       "      <td>-49200.0</td>\n",
       "      <td>0xC36442b4a4522E871399CD717aBDD847Ab11FE88</td>\n",
       "      <td>1.139244e+21</td>\n",
       "      <td>2.000000e+18</td>\n",
       "      <td>2.769779e+17</td>\n",
       "      <td>None</td>\n",
       "      <td>NaN</td>\n",
       "      <td>NaN</td>\n",
       "      <td>NaN</td>\n",
       "    </tr>\n",
       "    <tr>\n",
       "      <th>2</th>\n",
       "      <td>Mint</td>\n",
       "      <td>227</td>\n",
       "      <td>155</td>\n",
       "      <td>0x863f5e65702bc42bbbb1cf35c4ad304157f35db193eb...</td>\n",
       "      <td>0x157Dfa656Fdf0D18E1bA94075a53600D81cB3a97</td>\n",
       "      <td>0xfb834e338e4231ba632e0bbacaf338978323568bba04...</td>\n",
       "      <td>12376372</td>\n",
       "      <td>NaN</td>\n",
       "      <td>NaN</td>\n",
       "      <td>0xC36442b4a4522E871399CD717aBDD847Ab11FE88</td>\n",
       "      <td>-48300.0</td>\n",
       "      <td>-39120.0</td>\n",
       "      <td>0xC36442b4a4522E871399CD717aBDD847Ab11FE88</td>\n",
       "      <td>7.284870e+18</td>\n",
       "      <td>3.000000e+19</td>\n",
       "      <td>0.000000e+00</td>\n",
       "      <td>None</td>\n",
       "      <td>NaN</td>\n",
       "      <td>NaN</td>\n",
       "      <td>NaN</td>\n",
       "    </tr>\n",
       "    <tr>\n",
       "      <th>3</th>\n",
       "      <td>Mint</td>\n",
       "      <td>128</td>\n",
       "      <td>102</td>\n",
       "      <td>0x05e81227d86a62ea8612c26c50b334af1035b6de686e...</td>\n",
       "      <td>0x157Dfa656Fdf0D18E1bA94075a53600D81cB3a97</td>\n",
       "      <td>0x2c67a5586170f12849237c04dd1b5ae388b9d015c099...</td>\n",
       "      <td>12376379</td>\n",
       "      <td>NaN</td>\n",
       "      <td>NaN</td>\n",
       "      <td>0xC36442b4a4522E871399CD717aBDD847Ab11FE88</td>\n",
       "      <td>-49200.0</td>\n",
       "      <td>-49140.0</td>\n",
       "      <td>0xC36442b4a4522E871399CD717aBDD847Ab11FE88</td>\n",
       "      <td>2.852599e+20</td>\n",
       "      <td>1.000000e+19</td>\n",
       "      <td>0.000000e+00</td>\n",
       "      <td>None</td>\n",
       "      <td>NaN</td>\n",
       "      <td>NaN</td>\n",
       "      <td>NaN</td>\n",
       "    </tr>\n",
       "    <tr>\n",
       "      <th>4</th>\n",
       "      <td>Mint</td>\n",
       "      <td>283</td>\n",
       "      <td>173</td>\n",
       "      <td>0x6deb67cb498010802d532dbe2b50cb70bf56c20b1937...</td>\n",
       "      <td>0x157Dfa656Fdf0D18E1bA94075a53600D81cB3a97</td>\n",
       "      <td>0xf88bf563561b6d12f620941d987a852860c6faa45880...</td>\n",
       "      <td>12376506</td>\n",
       "      <td>NaN</td>\n",
       "      <td>NaN</td>\n",
       "      <td>0xC36442b4a4522E871399CD717aBDD847Ab11FE88</td>\n",
       "      <td>-50520.0</td>\n",
       "      <td>-47160.0</td>\n",
       "      <td>0xC36442b4a4522E871399CD717aBDD847Ab11FE88</td>\n",
       "      <td>1.836801e+21</td>\n",
       "      <td>2.087676e+21</td>\n",
       "      <td>1.000000e+19</td>\n",
       "      <td>None</td>\n",
       "      <td>NaN</td>\n",
       "      <td>NaN</td>\n",
       "      <td>NaN</td>\n",
       "    </tr>\n",
       "    <tr>\n",
       "      <th>...</th>\n",
       "      <td>...</td>\n",
       "      <td>...</td>\n",
       "      <td>...</td>\n",
       "      <td>...</td>\n",
       "      <td>...</td>\n",
       "      <td>...</td>\n",
       "      <td>...</td>\n",
       "      <td>...</td>\n",
       "      <td>...</td>\n",
       "      <td>...</td>\n",
       "      <td>...</td>\n",
       "      <td>...</td>\n",
       "      <td>...</td>\n",
       "      <td>...</td>\n",
       "      <td>...</td>\n",
       "      <td>...</td>\n",
       "      <td>...</td>\n",
       "      <td>...</td>\n",
       "      <td>...</td>\n",
       "      <td>...</td>\n",
       "    </tr>\n",
       "    <tr>\n",
       "      <th>2283</th>\n",
       "      <td>Swap</td>\n",
       "      <td>27</td>\n",
       "      <td>57</td>\n",
       "      <td>0x9e654e87735851fa4dad4dc4c6f5c8a3a5f20dce80b8...</td>\n",
       "      <td>0x157Dfa656Fdf0D18E1bA94075a53600D81cB3a97</td>\n",
       "      <td>0x5b6366f3c613999523537199b078db15b091f7acb602...</td>\n",
       "      <td>12997586</td>\n",
       "      <td>4.743888e+27</td>\n",
       "      <td>-56313.0</td>\n",
       "      <td>None</td>\n",
       "      <td>NaN</td>\n",
       "      <td>NaN</td>\n",
       "      <td>0x0000008CF69d25162321FEd9f6789f2A5caDE6bC</td>\n",
       "      <td>NaN</td>\n",
       "      <td>-6.568876e+20</td>\n",
       "      <td>2.356900e+18</td>\n",
       "      <td>0x0000006daea1723962647b7e189d311d757Fb793</td>\n",
       "      <td>1.769061e+22</td>\n",
       "      <td>NaN</td>\n",
       "      <td>NaN</td>\n",
       "    </tr>\n",
       "    <tr>\n",
       "      <th>2284</th>\n",
       "      <td>Swap</td>\n",
       "      <td>20</td>\n",
       "      <td>2</td>\n",
       "      <td>0xe3189011db80787152e561f8ef0303215d030a10dc33...</td>\n",
       "      <td>0x157Dfa656Fdf0D18E1bA94075a53600D81cB3a97</td>\n",
       "      <td>0x74e747717d56ed65795b069374b95e614c562d2f4215...</td>\n",
       "      <td>12997731</td>\n",
       "      <td>4.715904e+27</td>\n",
       "      <td>-56431.0</td>\n",
       "      <td>None</td>\n",
       "      <td>NaN</td>\n",
       "      <td>NaN</td>\n",
       "      <td>0xE592427A0AEce92De3Edee1F18E0157C05861564</td>\n",
       "      <td>NaN</td>\n",
       "      <td>1.758530e+21</td>\n",
       "      <td>-6.248635e+18</td>\n",
       "      <td>0x4d246bE90C2f36730bb853aD41d0a189061192d3</td>\n",
       "      <td>1.769061e+22</td>\n",
       "      <td>NaN</td>\n",
       "      <td>NaN</td>\n",
       "    </tr>\n",
       "    <tr>\n",
       "      <th>2285</th>\n",
       "      <td>Swap</td>\n",
       "      <td>36</td>\n",
       "      <td>2</td>\n",
       "      <td>0xc1158d9d97e93a47483b144fdeafd4fd16916390d4a3...</td>\n",
       "      <td>0x157Dfa656Fdf0D18E1bA94075a53600D81cB3a97</td>\n",
       "      <td>0x3b329f60cf401398e32d5008bf588e2b676bf866632c...</td>\n",
       "      <td>12997793</td>\n",
       "      <td>4.723655e+27</td>\n",
       "      <td>-56398.0</td>\n",
       "      <td>None</td>\n",
       "      <td>NaN</td>\n",
       "      <td>NaN</td>\n",
       "      <td>0x911605012f87A3017322c81fCB4C90ADA7C09116</td>\n",
       "      <td>NaN</td>\n",
       "      <td>-4.877121e+20</td>\n",
       "      <td>1.736010e+18</td>\n",
       "      <td>0x911605012f87A3017322c81fCB4C90ADA7C09116</td>\n",
       "      <td>1.769061e+22</td>\n",
       "      <td>NaN</td>\n",
       "      <td>NaN</td>\n",
       "    </tr>\n",
       "    <tr>\n",
       "      <th>2286</th>\n",
       "      <td>Swap</td>\n",
       "      <td>111</td>\n",
       "      <td>90</td>\n",
       "      <td>0xe1876a9af128fe12c6e1bc0e07518cc721eaf31d61cc...</td>\n",
       "      <td>0x157Dfa656Fdf0D18E1bA94075a53600D81cB3a97</td>\n",
       "      <td>0x7eea24b22be33251175255623a878af1977ee79ccebf...</td>\n",
       "      <td>12998524</td>\n",
       "      <td>4.701978e+27</td>\n",
       "      <td>-56490.0</td>\n",
       "      <td>None</td>\n",
       "      <td>NaN</td>\n",
       "      <td>NaN</td>\n",
       "      <td>0xE592427A0AEce92De3Edee1F18E0157C05861564</td>\n",
       "      <td>NaN</td>\n",
       "      <td>1.372071e+21</td>\n",
       "      <td>-4.840290e+18</td>\n",
       "      <td>0x4A137FD5e7a256eF08A7De531A17D0BE0cc7B6b6</td>\n",
       "      <td>1.769061e+22</td>\n",
       "      <td>NaN</td>\n",
       "      <td>NaN</td>\n",
       "    </tr>\n",
       "    <tr>\n",
       "      <th>2287</th>\n",
       "      <td>Swap</td>\n",
       "      <td>62</td>\n",
       "      <td>78</td>\n",
       "      <td>0x3d98d6d792679c7ca52c4f44a572ef09f3ad59723057...</td>\n",
       "      <td>0x157Dfa656Fdf0D18E1bA94075a53600D81cB3a97</td>\n",
       "      <td>0xe45e07ea294aea62ee569348bc321d2ed91434769025...</td>\n",
       "      <td>12998913</td>\n",
       "      <td>4.724303e+27</td>\n",
       "      <td>-56396.0</td>\n",
       "      <td>None</td>\n",
       "      <td>NaN</td>\n",
       "      <td>NaN</td>\n",
       "      <td>0xE592427A0AEce92De3Edee1F18E0157C05861564</td>\n",
       "      <td>NaN</td>\n",
       "      <td>-1.408659e+21</td>\n",
       "      <td>5.000000e+18</td>\n",
       "      <td>0x0CE34F2d35B9553499A75bb5100f72326201747A</td>\n",
       "      <td>1.769061e+22</td>\n",
       "      <td>NaN</td>\n",
       "      <td>NaN</td>\n",
       "    </tr>\n",
       "  </tbody>\n",
       "</table>\n",
       "<p>2288 rows × 20 columns</p>\n",
       "</div>"
      ],
      "text/plain": [
       "           event  logIndex  transactionIndex  \\\n",
       "0     Initialize       204                84   \n",
       "1           Mint       209                84   \n",
       "2           Mint       227               155   \n",
       "3           Mint       128               102   \n",
       "4           Mint       283               173   \n",
       "...          ...       ...               ...   \n",
       "2283        Swap        27                57   \n",
       "2284        Swap        20                 2   \n",
       "2285        Swap        36                 2   \n",
       "2286        Swap       111                90   \n",
       "2287        Swap        62                78   \n",
       "\n",
       "                                        transactionHash  \\\n",
       "0     0xa3a37265f2f428b110d89a0df297a47b537f77b9cceb...   \n",
       "1     0xa3a37265f2f428b110d89a0df297a47b537f77b9cceb...   \n",
       "2     0x863f5e65702bc42bbbb1cf35c4ad304157f35db193eb...   \n",
       "3     0x05e81227d86a62ea8612c26c50b334af1035b6de686e...   \n",
       "4     0x6deb67cb498010802d532dbe2b50cb70bf56c20b1937...   \n",
       "...                                                 ...   \n",
       "2283  0x9e654e87735851fa4dad4dc4c6f5c8a3a5f20dce80b8...   \n",
       "2284  0xe3189011db80787152e561f8ef0303215d030a10dc33...   \n",
       "2285  0xc1158d9d97e93a47483b144fdeafd4fd16916390d4a3...   \n",
       "2286  0xe1876a9af128fe12c6e1bc0e07518cc721eaf31d61cc...   \n",
       "2287  0x3d98d6d792679c7ca52c4f44a572ef09f3ad59723057...   \n",
       "\n",
       "                                         address  \\\n",
       "0     0x157Dfa656Fdf0D18E1bA94075a53600D81cB3a97   \n",
       "1     0x157Dfa656Fdf0D18E1bA94075a53600D81cB3a97   \n",
       "2     0x157Dfa656Fdf0D18E1bA94075a53600D81cB3a97   \n",
       "3     0x157Dfa656Fdf0D18E1bA94075a53600D81cB3a97   \n",
       "4     0x157Dfa656Fdf0D18E1bA94075a53600D81cB3a97   \n",
       "...                                          ...   \n",
       "2283  0x157Dfa656Fdf0D18E1bA94075a53600D81cB3a97   \n",
       "2284  0x157Dfa656Fdf0D18E1bA94075a53600D81cB3a97   \n",
       "2285  0x157Dfa656Fdf0D18E1bA94075a53600D81cB3a97   \n",
       "2286  0x157Dfa656Fdf0D18E1bA94075a53600D81cB3a97   \n",
       "2287  0x157Dfa656Fdf0D18E1bA94075a53600D81cB3a97   \n",
       "\n",
       "                                              blockHash  blockNumber  \\\n",
       "0     0xa6f91c98be020ba125040ac0a9e4b7c4cc8bc2888d76...     12376332   \n",
       "1     0xa6f91c98be020ba125040ac0a9e4b7c4cc8bc2888d76...     12376332   \n",
       "2     0xfb834e338e4231ba632e0bbacaf338978323568bba04...     12376372   \n",
       "3     0x2c67a5586170f12849237c04dd1b5ae388b9d015c099...     12376379   \n",
       "4     0xf88bf563561b6d12f620941d987a852860c6faa45880...     12376506   \n",
       "...                                                 ...          ...   \n",
       "2283  0x5b6366f3c613999523537199b078db15b091f7acb602...     12997586   \n",
       "2284  0x74e747717d56ed65795b069374b95e614c562d2f4215...     12997731   \n",
       "2285  0x3b329f60cf401398e32d5008bf588e2b676bf866632c...     12997793   \n",
       "2286  0x7eea24b22be33251175255623a878af1977ee79ccebf...     12998524   \n",
       "2287  0xe45e07ea294aea62ee569348bc321d2ed91434769025...     12998913   \n",
       "\n",
       "      args.sqrtPriceX96  args.tick  \\\n",
       "0          6.768671e+27   -49203.0   \n",
       "1                   NaN        NaN   \n",
       "2                   NaN        NaN   \n",
       "3                   NaN        NaN   \n",
       "4                   NaN        NaN   \n",
       "...                 ...        ...   \n",
       "2283       4.743888e+27   -56313.0   \n",
       "2284       4.715904e+27   -56431.0   \n",
       "2285       4.723655e+27   -56398.0   \n",
       "2286       4.701978e+27   -56490.0   \n",
       "2287       4.724303e+27   -56396.0   \n",
       "\n",
       "                                      args.owner  args.tickLower  \\\n",
       "0                                           None             NaN   \n",
       "1     0xC36442b4a4522E871399CD717aBDD847Ab11FE88        -49260.0   \n",
       "2     0xC36442b4a4522E871399CD717aBDD847Ab11FE88        -48300.0   \n",
       "3     0xC36442b4a4522E871399CD717aBDD847Ab11FE88        -49200.0   \n",
       "4     0xC36442b4a4522E871399CD717aBDD847Ab11FE88        -50520.0   \n",
       "...                                          ...             ...   \n",
       "2283                                        None             NaN   \n",
       "2284                                        None             NaN   \n",
       "2285                                        None             NaN   \n",
       "2286                                        None             NaN   \n",
       "2287                                        None             NaN   \n",
       "\n",
       "      args.tickUpper                                 args.sender  \\\n",
       "0                NaN                                        None   \n",
       "1           -49200.0  0xC36442b4a4522E871399CD717aBDD847Ab11FE88   \n",
       "2           -39120.0  0xC36442b4a4522E871399CD717aBDD847Ab11FE88   \n",
       "3           -49140.0  0xC36442b4a4522E871399CD717aBDD847Ab11FE88   \n",
       "4           -47160.0  0xC36442b4a4522E871399CD717aBDD847Ab11FE88   \n",
       "...              ...                                         ...   \n",
       "2283             NaN  0x0000008CF69d25162321FEd9f6789f2A5caDE6bC   \n",
       "2284             NaN  0xE592427A0AEce92De3Edee1F18E0157C05861564   \n",
       "2285             NaN  0x911605012f87A3017322c81fCB4C90ADA7C09116   \n",
       "2286             NaN  0xE592427A0AEce92De3Edee1F18E0157C05861564   \n",
       "2287             NaN  0xE592427A0AEce92De3Edee1F18E0157C05861564   \n",
       "\n",
       "       args.amount  args.amount0  args.amount1  \\\n",
       "0              NaN           NaN           NaN   \n",
       "1     1.139244e+21  2.000000e+18  2.769779e+17   \n",
       "2     7.284870e+18  3.000000e+19  0.000000e+00   \n",
       "3     2.852599e+20  1.000000e+19  0.000000e+00   \n",
       "4     1.836801e+21  2.087676e+21  1.000000e+19   \n",
       "...            ...           ...           ...   \n",
       "2283           NaN -6.568876e+20  2.356900e+18   \n",
       "2284           NaN  1.758530e+21 -6.248635e+18   \n",
       "2285           NaN -4.877121e+20  1.736010e+18   \n",
       "2286           NaN  1.372071e+21 -4.840290e+18   \n",
       "2287           NaN -1.408659e+21  5.000000e+18   \n",
       "\n",
       "                                  args.recipient  args.liquidity  \\\n",
       "0                                           None             NaN   \n",
       "1                                           None             NaN   \n",
       "2                                           None             NaN   \n",
       "3                                           None             NaN   \n",
       "4                                           None             NaN   \n",
       "...                                          ...             ...   \n",
       "2283  0x0000006daea1723962647b7e189d311d757Fb793    1.769061e+22   \n",
       "2284  0x4d246bE90C2f36730bb853aD41d0a189061192d3    1.769061e+22   \n",
       "2285  0x911605012f87A3017322c81fCB4C90ADA7C09116    1.769061e+22   \n",
       "2286  0x4A137FD5e7a256eF08A7De531A17D0BE0cc7B6b6    1.769061e+22   \n",
       "2287  0x0CE34F2d35B9553499A75bb5100f72326201747A    1.769061e+22   \n",
       "\n",
       "      args.observationCardinalityNextOld  args.observationCardinalityNextNew  \n",
       "0                                    NaN                                 NaN  \n",
       "1                                    NaN                                 NaN  \n",
       "2                                    NaN                                 NaN  \n",
       "3                                    NaN                                 NaN  \n",
       "4                                    NaN                                 NaN  \n",
       "...                                  ...                                 ...  \n",
       "2283                                 NaN                                 NaN  \n",
       "2284                                 NaN                                 NaN  \n",
       "2285                                 NaN                                 NaN  \n",
       "2286                                 NaN                                 NaN  \n",
       "2287                                 NaN                                 NaN  \n",
       "\n",
       "[2288 rows x 20 columns]"
      ]
     },
     "execution_count": 5,
     "metadata": {},
     "output_type": "execute_result"
    }
   ],
   "source": [
    "df"
   ]
  },
  {
   "cell_type": "code",
   "execution_count": 114,
   "metadata": {},
   "outputs": [],
   "source": [
    "for i in range(len(df)):\n",
    "    tdf = df.iloc[i]\n",
    "    if tdf['event'] == 'Mint':\n",
    "        break"
   ]
  },
  {
   "cell_type": "code",
   "execution_count": 115,
   "metadata": {},
   "outputs": [
    {
     "data": {
      "text/plain": [
       "event                                                            Mint\n",
       "logIndex                                                          209\n",
       "transactionIndex                                                   84\n",
       "transactionHash     0xa3a37265f2f428b110d89a0df297a47b537f77b9cceb...\n",
       "address                    0x157Dfa656Fdf0D18E1bA94075a53600D81cB3a97\n",
       "blockHash           0xa6f91c98be020ba125040ac0a9e4b7c4cc8bc2888d76...\n",
       "blockNumber                                                  12376332\n",
       "args.owner                 0xC36442b4a4522E871399CD717aBDD847Ab11FE88\n",
       "args.tickLower                                               -49260.0\n",
       "args.tickUpper                                               -49200.0\n",
       "args.sender                0xC36442b4a4522E871399CD717aBDD847Ab11FE88\n",
       "args.amount                                  1139244311526734823424.0\n",
       "args.amount0                                    2000000000000000000.0\n",
       "args.amount1                                     276977933973975808.0\n",
       "Name: 1, dtype: object"
      ]
     },
     "execution_count": 115,
     "metadata": {},
     "output_type": "execute_result"
    }
   ],
   "source": [
    "tdf.dropna()"
   ]
  },
  {
   "cell_type": "code",
   "execution_count": 154,
   "metadata": {},
   "outputs": [],
   "source": [
    "logIndex = tdf['logIndex']\n",
    "transactionIndex = tdf['transactionIndex']\n",
    "transactionHash = tdf['transactionHash']\n",
    "blockNumber = tdf['blockNumber']\n",
    "sender = tdf['args.sender']\n",
    "tickLower = tdf['args.tickLower']\n",
    "tickUpper = tdf['args.tickUpper']\n",
    "amount = tdf['args.amount']\n",
    "amount0 = tdf['args.amount0']\n",
    "amount1 = tdf['args.amount1']"
   ]
  },
  {
   "cell_type": "code",
   "execution_count": 126,
   "metadata": {},
   "outputs": [],
   "source": [
    "#data frame of current active positions\n",
    "active_positions = pd.DataFrame()"
   ]
  },
  {
   "cell_type": "code",
   "execution_count": 158,
   "metadata": {},
   "outputs": [],
   "source": [
    "mint_df = pd.DataFrame([[logIndex, blockNumber, transactionIndex, transactionHash, sender, amount, tickLower, tickUpper, amount0, amount1]], \n",
    "                       columns=['logIndex', 'blockNumber', 'transactionIndex', 'transactionHash', 'sender', 'amount', 'tickLower', 'tickUpper', 'amount0', 'amount1'])"
   ]
  },
  {
   "cell_type": "code",
   "execution_count": 161,
   "metadata": {},
   "outputs": [],
   "source": [
    "add_active_df = pd.DataFrame([[logIndex, blockNumber, transactionIndex, transactionHash, sender, amount, tickLower, tickUpper, amount0, amount1]], \n",
    "                       columns=['logIndex', 'blockNumber', 'transactionIndex', 'transactionHash', 'sender', 'amount', 'tickLower', 'tickUpper', 'amount0', 'amount1'])"
   ]
  },
  {
   "cell_type": "code",
   "execution_count": null,
   "metadata": {},
   "outputs": [],
   "source": [
    "#ticklower, tickupper, amount of liquidity, owner, token0 portfolio holdings, token1 portfolio holdings (start and last), fees0, fees1 total accrued, fees0, fee1 collected, last updated meta started meta  "
   ]
  },
  {
   "cell_type": "code",
   "execution_count": null,
   "metadata": {},
   "outputs": [],
   "source": [
    "#factory contains to relant pool data, \n",
    "#pool init sets the price and tick\n",
    "#"
   ]
  },
  {
   "cell_type": "code",
   "execution_count": 164,
   "metadata": {},
   "outputs": [],
   "source": [
    "Camount0 = amount0\n",
    "Camount1 = amount1"
   ]
  },
  {
   "cell_type": "code",
   "execution_count": 165,
   "metadata": {},
   "outputs": [],
   "source": [
    "add_active_df = pd.DataFrame([[amount, tickLower, tickUpper, sender,\n",
    "                               amount0, amount1, Camount0, Camount1,\n",
    "                               0,0,0,0,\n",
    "                               logIndex, blockNumber, transactionIndex, transactionHash,\n",
    "                               logIndex, blockNumber, transactionIndex, transactionHash]],\n",
    "                               columns = ['L', 'tickLower', 'tickUpper', 'owner', 'start_token0_holdings', 'start_token1_holdings',\n",
    "                                            'last_token0_holdings', 'last_token1_holdings',\n",
    "                                            'token0_fees_accrued', 'token1_fees_accrued',\n",
    "                                            'token0_fees_collected', 'token1_fees_collected',\n",
    "                                            'start_logIndex', 'start_blockNumber', 'start_transactionIndex', 'start_transactionHash', \n",
    "                                            'last_logIndex', 'last_blockNumber', 'last_transactionIndex', 'last_transactionHash'])"
   ]
  },
  {
   "cell_type": "code",
   "execution_count": 166,
   "metadata": {},
   "outputs": [
    {
     "data": {
      "text/html": [
       "<div>\n",
       "<style scoped>\n",
       "    .dataframe tbody tr th:only-of-type {\n",
       "        vertical-align: middle;\n",
       "    }\n",
       "\n",
       "    .dataframe tbody tr th {\n",
       "        vertical-align: top;\n",
       "    }\n",
       "\n",
       "    .dataframe thead th {\n",
       "        text-align: right;\n",
       "    }\n",
       "</style>\n",
       "<table border=\"1\" class=\"dataframe\">\n",
       "  <thead>\n",
       "    <tr style=\"text-align: right;\">\n",
       "      <th></th>\n",
       "      <th>L</th>\n",
       "      <th>tickLower</th>\n",
       "      <th>tickUpper</th>\n",
       "      <th>owner</th>\n",
       "      <th>start_token0_holdings</th>\n",
       "      <th>start_token1_holdings</th>\n",
       "      <th>last_token0_holdings</th>\n",
       "      <th>last_token1_holdings</th>\n",
       "      <th>token0_fees_accrued</th>\n",
       "      <th>token1_fees_accrued</th>\n",
       "      <th>token0_fees_collected</th>\n",
       "      <th>token1_fees_collected</th>\n",
       "      <th>start_logIndex</th>\n",
       "      <th>start_blockNumber</th>\n",
       "      <th>start_transactionIndex</th>\n",
       "      <th>start_transactionHash</th>\n",
       "      <th>last_logIndex</th>\n",
       "      <th>last_blockNumber</th>\n",
       "      <th>last_transactionIndex</th>\n",
       "      <th>last_transactionHash</th>\n",
       "    </tr>\n",
       "  </thead>\n",
       "  <tbody>\n",
       "    <tr>\n",
       "      <th>0</th>\n",
       "      <td>1.139244e+21</td>\n",
       "      <td>-49260.0</td>\n",
       "      <td>-49200.0</td>\n",
       "      <td>0xC36442b4a4522E871399CD717aBDD847Ab11FE88</td>\n",
       "      <td>2.000000e+18</td>\n",
       "      <td>2.769779e+17</td>\n",
       "      <td>2.000000e+18</td>\n",
       "      <td>2.769779e+17</td>\n",
       "      <td>0</td>\n",
       "      <td>0</td>\n",
       "      <td>0</td>\n",
       "      <td>0</td>\n",
       "      <td>209</td>\n",
       "      <td>12376332</td>\n",
       "      <td>84</td>\n",
       "      <td>0xa3a37265f2f428b110d89a0df297a47b537f77b9cceb...</td>\n",
       "      <td>209</td>\n",
       "      <td>12376332</td>\n",
       "      <td>84</td>\n",
       "      <td>0xa3a37265f2f428b110d89a0df297a47b537f77b9cceb...</td>\n",
       "    </tr>\n",
       "  </tbody>\n",
       "</table>\n",
       "</div>"
      ],
      "text/plain": [
       "              L  tickLower  tickUpper  \\\n",
       "0  1.139244e+21   -49260.0   -49200.0   \n",
       "\n",
       "                                        owner  start_token0_holdings  \\\n",
       "0  0xC36442b4a4522E871399CD717aBDD847Ab11FE88           2.000000e+18   \n",
       "\n",
       "   start_token1_holdings  last_token0_holdings  last_token1_holdings  \\\n",
       "0           2.769779e+17          2.000000e+18          2.769779e+17   \n",
       "\n",
       "   token0_fees_accrued  token1_fees_accrued  token0_fees_collected  \\\n",
       "0                    0                    0                      0   \n",
       "\n",
       "   token1_fees_collected  start_logIndex  start_blockNumber  \\\n",
       "0                      0             209           12376332   \n",
       "\n",
       "   start_transactionIndex                              start_transactionHash  \\\n",
       "0                      84  0xa3a37265f2f428b110d89a0df297a47b537f77b9cceb...   \n",
       "\n",
       "   last_logIndex  last_blockNumber  last_transactionIndex  \\\n",
       "0            209          12376332                     84   \n",
       "\n",
       "                                last_transactionHash  \n",
       "0  0xa3a37265f2f428b110d89a0df297a47b537f77b9cceb...  "
      ]
     },
     "execution_count": 166,
     "metadata": {},
     "output_type": "execute_result"
    }
   ],
   "source": [
    "add_active_df"
   ]
  },
  {
   "cell_type": "code",
   "execution_count": null,
   "metadata": {},
   "outputs": [],
   "source": [
    "columns=['L', 'tickLower', 'tickUpper', 'owner', \n",
    "         'start_token0_holdings', 'start_token1_holdings',\n",
    "         'last_token0_holdings', 'last_token1_holdings',\n",
    "         'token0_fees_accrued', 'token1_fees_accrued',\n",
    "         'token0_fees_collected', 'token1_fees_collected',\n",
    "         'start_logIndex', 'start_blockNumber', 'start_transactionIndex', 'start_transactionHash', \n",
    "         'last_logIndex', 'last_blockNumber', 'last_transactionIndex', 'last_transactionHash']"
   ]
  }
 ],
 "metadata": {
  "kernelspec": {
   "display_name": ".venv",
   "language": "python",
   "name": "python3"
  },
  "language_info": {
   "codemirror_mode": {
    "name": "ipython",
    "version": 3
   },
   "file_extension": ".py",
   "mimetype": "text/x-python",
   "name": "python",
   "nbconvert_exporter": "python",
   "pygments_lexer": "ipython3",
   "version": "3.11.4"
  }
 },
 "nbformat": 4,
 "nbformat_minor": 2
}
