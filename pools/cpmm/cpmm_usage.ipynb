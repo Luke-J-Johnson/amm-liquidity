{
 "cells": [
  {
   "cell_type": "code",
   "execution_count": 1,
   "metadata": {},
   "outputs": [],
   "source": [
    "#xy = k"
   ]
  },
  {
   "cell_type": "code",
   "execution_count": null,
   "metadata": {},
   "outputs": [],
   "source": [
    "class CPMMPool():\n",
    "    \"\"\"\n",
    "    Basic stableswap implementation in Python.\n",
    "    \"\"\"\n",
    "\n",
    "    __slots__ = (\n",
    "        \"A\",\n",
    "        \"n\",\n",
    "        \"fee\",\n",
    "        \"rates\",\n",
    "        \"balances\",\n",
    "        \"tokens\",\n",
    "        \"fee_mul\",\n",
    "        \"admin_fee\",\n",
    "        \"r\",\n",
    "        \"n_total\",\n",
    "        \"admin_balances\",\n",
    "    )\n",
    "\n",
    "        def __init__(  # pylint: disable=too-many-arguments\n",
    "        self,\n",
    "        t0,\n",
    "        t1,\n",
    "        decimals=None,\n",
    "        fee=4 * 10**6,\n",
    "    ):\n",
    "        \"\"\"\n",
    "        Parameters\n",
    "        ----------\n",
    "        A : int\n",
    "            Amplification coefficient; this is :math:`A n^{n-1}` in the whitepaper.\n",
    "        D : int or list of int\n",
    "            virtual total balance or pool coin balances in native token units\n",
    "        n: int\n",
    "            number of coins\n",
    "        rates: list of int\n",
    "            precision and rate adjustments\n",
    "        tokens: int\n",
    "            LP token supply\n",
    "        fee: int, optional\n",
    "            fee with 10**10 precision (default = .004%)\n",
    "        fee_mul: optional\n",
    "            fee multiplier for dynamic fee pools\n",
    "        admin_fee: int, optional\n",
    "            percentage of `fee` with 10**10 precision (default = 50%)\n",
    "        virtual_price: int, optional\n",
    "            amount of D invariant per LP token; can be used when\n",
    "            missing `tokens` value.\n",
    "        \"\"\"\n",
    "\n",
    "        rates = rates or [10**18] * n\n",
    "\n",
    "        self.A = A\n",
    "        self.n = n\n",
    "        self.fee = fee\n",
    "        self.rates = rates\n",
    "\n",
    "        if isinstance(D, list):\n",
    "            self.balances = D.copy()\n",
    "        else:\n",
    "            self.balances = self._convert_D_to_balances(D)\n",
    "\n",
    "        if tokens and virtual_price:\n",
    "            raise ValueError(\n",
    "                \"Should not set both `tokens` and `virtual_price`.\"\n",
    "            )\n",
    "\n",
    "        # By now, should have set everything needed for D.\n",
    "        D = self.D()\n",
    "        if tokens:\n",
    "            self.tokens = tokens\n",
    "        elif virtual_price:\n",
    "            self.tokens = D * 10**18 // virtual_price\n",
    "        else:\n",
    "            self.tokens = D\n",
    "\n",
    "        self.fee_mul = fee_mul\n",
    "        self.admin_fee = admin_fee\n",
    "        self.r = False\n",
    "        self.n_total = n\n",
    "        self.admin_balances = [0] * n"
   ]
  },
  {
   "cell_type": "markdown",
   "metadata": {},
   "source": [
    "Track L, k, x and y, \n",
    "\n",
    "get price of a swap, adding/removing liquidity, quoting price \n"
   ]
  },
  {
   "cell_type": "markdown",
   "metadata": {},
   "source": []
  }
 ],
 "metadata": {
  "kernelspec": {
   "display_name": ".venv",
   "language": "python",
   "name": "python3"
  },
  "language_info": {
   "codemirror_mode": {
    "name": "ipython",
    "version": 3
   },
   "file_extension": ".py",
   "mimetype": "text/x-python",
   "name": "python",
   "nbconvert_exporter": "python",
   "pygments_lexer": "ipython3",
   "version": "3.11.4"
  },
  "orig_nbformat": 4
 },
 "nbformat": 4,
 "nbformat_minor": 2
}
