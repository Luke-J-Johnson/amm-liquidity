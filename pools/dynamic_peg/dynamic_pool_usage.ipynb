{
 "cells": [
  {
   "cell_type": "code",
   "execution_count": 5,
   "metadata": {},
   "outputs": [],
   "source": [
    "from dynamic_peg_pool import DynmaicPeg"
   ]
  },
  {
   "cell_type": "code",
   "execution_count": 7,
   "metadata": {},
   "outputs": [
    {
     "ename": "TypeError",
     "evalue": "DynmaicPeg.__init__() missing 11 required positional arguments: 'A', 'gamma', 'n', 'precisions', 'mid_fee', 'out_fee', 'allowed_extra_profit', 'fee_gamma', 'adjustment_step', 'ma_half_time', and 'price_scale'",
     "output_type": "error",
     "traceback": [
      "\u001b[0;31m---------------------------------------------------------------------------\u001b[0m",
      "\u001b[0;31mTypeError\u001b[0m                                 Traceback (most recent call last)",
      "\u001b[1;32m/Users/lukejohnson/Desktop/AMM Liquidity Analysis/amm-liquidity/pools/dynamic_peg/dynamic_pool_usage.ipynb Cell 2\u001b[0m line \u001b[0;36m1\n\u001b[0;32m----> <a href='vscode-notebook-cell:/Users/lukejohnson/Desktop/AMM%20Liquidity%20Analysis/amm-liquidity/pools/dynamic_peg/dynamic_pool_usage.ipynb#W1sZmlsZQ%3D%3D?line=0'>1</a>\u001b[0m DynmaicPeg()\n",
      "\u001b[0;31mTypeError\u001b[0m: DynmaicPeg.__init__() missing 11 required positional arguments: 'A', 'gamma', 'n', 'precisions', 'mid_fee', 'out_fee', 'allowed_extra_profit', 'fee_gamma', 'adjustment_step', 'ma_half_time', and 'price_scale'"
     ]
    }
   ],
   "source": [
    "DynmaicPeg()\n"
   ]
  },
  {
   "cell_type": "code",
   "execution_count": null,
   "metadata": {},
   "outputs": [],
   "source": []
  }
 ],
 "metadata": {
  "kernelspec": {
   "display_name": ".venv",
   "language": "python",
   "name": "python3"
  },
  "language_info": {
   "codemirror_mode": {
    "name": "ipython",
    "version": 3
   },
   "file_extension": ".py",
   "mimetype": "text/x-python",
   "name": "python",
   "nbconvert_exporter": "python",
   "pygments_lexer": "ipython3",
   "version": "3.11.4"
  },
  "orig_nbformat": 4
 },
 "nbformat": 4,
 "nbformat_minor": 2
}
